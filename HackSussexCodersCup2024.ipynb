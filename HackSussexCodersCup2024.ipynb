{
 "cells": [
  {
   "cell_type": "markdown",
   "metadata": {},
   "source": [
    "# <u>Number Of Rectangles that Can Form The Largest Square</u>\n",
    "\n",
    "You are given an array rectangles where `rectangles[i] = [li, wi]` represents the ithrectangle of length li and width wi.\n",
    "\n",
    "You can cut the ith rectangle to forma a square with a side length of k if both k <= li and k <= wi. For example, if you have a recangle [4, 6], you can cut it to het a square with a side length of at most 4.\n",
    "\n",
    "Let maxLen be the side length of the largest square you can obtain from any of the given rectangles.\n",
    "\n",
    "Return the number of rectangle that can make a square with a side length of maxLen.\n",
    "\n",
    "Example1\n",
    "```\n",
    "Input: rectangles = [[5,8],[3,9],[5,12],[16,5]]\n",
    "Output: 3\n",
    "\n",
    "Explanation: The largest squares you can get from each rectangle are of lengths [5,3,5,5].\n",
    "The largest possible square is of length 5, and you can get it out of 3 rectangles.\n",
    "```"
   ]
  },
  {
   "cell_type": "code",
   "execution_count": 4,
   "metadata": {},
   "outputs": [
    {
     "name": "stdout",
     "output_type": "stream",
     "text": [
      "3\n"
     ]
    }
   ],
   "source": [
    "def Solution(rectangles):\n",
    "    square_side = []\n",
    "    # Loop through all the rectangles.\n",
    "    for i, rect in enumerate(rectangles):\n",
    "        # Find the smaller side of the rectangle, which will correspond to the maxLen of the current square that can be extracted from the rectangle.\n",
    "        square_side.append(min(rect))\n",
    "\n",
    "    # Now that we have the collection of all the maximum length that each square can have, find the overall maxLen.\n",
    "    maxLen = max(square_side)\n",
    "    # Now loop thorugh all the square_side and check how many squares have the same length of the maxLen.\n",
    "    maxLen_count = 0\n",
    "    for el in square_side:\n",
    "        if el == maxLen:\n",
    "            maxLen_count += 1\n",
    "    # Return the maximum length.\n",
    "    return maxLen_count\n",
    "\n",
    "\n",
    "rectangles = [[5, 8], [3, 9], [5, 12], [16, 5]]\n",
    "print(Solution(rectangles))"
   ]
  },
  {
   "cell_type": "markdown",
   "metadata": {},
   "source": [
    "# <u>Check if Every Row and Column Contains All Numbers</u>\n",
    "\n",
    "An *n x n* matrix is valid if every row and every column contains all the integers from 1 to n (inclusive).\n",
    "\n",
    "Given an *n x n* integer matrix, return true if the matrix is valid. Otherwise return false.\n",
    "\n",
    "Example 1:\n",
    "```\n",
    "Input: matrix = [[1, 2, 3], [3, 1, 2], [2, 3, 1]]\n",
    "Output: true\n",
    "\n",
    "Explanation: In this case, n = 3, and every row and column contains the numbers 1, 2, and 3. Hence we return true.\n",
    "```"
   ]
  },
  {
   "cell_type": "code",
   "execution_count": 5,
   "metadata": {},
   "outputs": [
    {
     "name": "stdout",
     "output_type": "stream",
     "text": [
      "True\n"
     ]
    }
   ],
   "source": [
    "def Solution(matrix):\n",
    "    # First find the value of n\n",
    "    n = len(matrix)\n",
    "\n",
    "    # Build a collection of columns. Basically transposing the matrix (swapping rows and columns), in order to then loop easily through all the columns.\n",
    "    matrix_T = [[None for row in matrix] for col in matrix[0]]\n",
    "    for row_idx, row in enumerate(matrix):\n",
    "        for col_idx, el in enumerate(row):\n",
    "            matrix_T[col_idx][row_idx] = el\n",
    "\n",
    "    # Loop through all the values (from 1 to n(inclusive))\n",
    "    for val in range(n):\n",
    "        # Loop through all the rows and check if for each row there are all the vales from 1 to n (included)\n",
    "        for row in matrix:\n",
    "            # Check if the val is present in the row. If not, return False.\n",
    "            if val + 1 not in row:\n",
    "                return False\n",
    "        # Loop through all the columns and check if for each column ther all the values from 1 to n (included)\n",
    "        for col in matrix_T:\n",
    "            # Check if the val is present in the col. If not, return False.\n",
    "            if val + 1 not in col:\n",
    "                return False\n",
    "\n",
    "    return True\n",
    "\n",
    "\n",
    "\n",
    "matrix = [[1, 2, 3], [3, 1, 2], [2, 3, 1]]  # [[1, 2, 3], [1, 2, 3], [2, 3, 1]]\n",
    "print(Solution(matrix))"
   ]
  },
  {
   "cell_type": "markdown",
   "metadata": {},
   "source": [
    "# <u>Check if One String Swap Can Make Strings Equal</u>\n",
    "\n",
    "You are given two strings *s1* and *s2* of equal length. A string swap is an operation where you choose two indices in a string (not necessarily differe) and swap the characters at these indexes. \n",
    "\n",
    "Return True if it is possible to make both strings equal by performing at most one string swap on exactly one of the strings. Otherwise return False.\n",
    "\n",
    "Example 1:\n",
    "```\n",
    "Input s1: = \"bank\", s2 = \"kanb\"\n",
    "Output: true\n",
    "\n",
    "Explanation: For example, swap the first character with the last character of s2 to make \"bank\"\n",
    "```"
   ]
  },
  {
   "cell_type": "code",
   "execution_count": 6,
   "metadata": {},
   "outputs": [
    {
     "name": "stdout",
     "output_type": "stream",
     "text": [
      "True\n"
     ]
    }
   ],
   "source": [
    "def Solution(s1, s2):\n",
    "    # First check if the two strings have the same set of character. If not, already return False. Check the it with the use of Sets. \n",
    "    # A Set in Python programming is an unordered collection data type that is iterable, mutable and has no duplicate elements. \n",
    "    set_s1 = set()\n",
    "    set_s2 = set()\n",
    "    for i in range(len(s1)):\n",
    "        set_s1.add(s1[i])\n",
    "        set_s2.add(s2[i])\n",
    "    # Check if the two sets have different characters. \n",
    "    if (set_s1 != set_s2):\n",
    "        return False\n",
    "    \n",
    "    # At this point check how many different character positions there are comparing the two strings. If there are 2 different positions, means that with one swap you could make the two strings equal\n",
    "    count = 0\n",
    "    for i in range(len(s1)):\n",
    "        if s1[i] != s2[i]:\n",
    "            count += 1\n",
    "    if count == 0 or count == 2:\n",
    "        return True\n",
    "    \n",
    "    return False\n",
    "\n",
    "\n",
    "s1 = \"bank\"\n",
    "s2 = \"kanb\"\n",
    "\n",
    "print(Solution(s1, s2))\n"
   ]
  },
  {
   "cell_type": "markdown",
   "metadata": {},
   "source": [
    "# <u>Destination City</u>\n",
    "\n",
    "You are given the array paths, where `paths[i] = [cityA, cityB]` means there exists a direct path going from `cityAi` to `cityBi`. Return the destination city, that is, the city without any path outgoing to another city. \n",
    "\n",
    "It is guaranteed that the fraph of paths froms a line without any loop, therefore there will be exactly one destination city. \n",
    "\n",
    "Example 1\n",
    "```\n",
    "Input: paths = [['London', 'New York'], ['New York', 'Lima'], ['Lima', 'Sao Paulo']]\n",
    "Output: 'Sao Paulo'\n",
    "\n",
    "Explanation: Starting at 'London' city you will reach 'Sao Paolo' city which is the destination city. Your trip consists of 'London' -> 'New York' -> 'Lima' -> 'Sao Paolo'\n",
    "```"
   ]
  },
  {
   "cell_type": "code",
   "execution_count": 7,
   "metadata": {},
   "outputs": [
    {
     "name": "stdout",
     "output_type": "stream",
     "text": [
      "Sao Paulo\n"
     ]
    }
   ],
   "source": [
    "def Solution(paths):\n",
    "    # Loop through all the second cities of the direct paths, and check if they are present as first city of another direct path.\n",
    "    # If it is not present it means that it is the final destination. \n",
    "    # Create a set of starting cities.\n",
    "    start_cities = set()\n",
    "    # Create a set of destination cities.\n",
    "    dest_cities = set()\n",
    "    for direct_path in paths:\n",
    "        start_cities.add(direct_path[0])\n",
    "        dest_cities.add(direct_path[1])\n",
    "\n",
    "    # Check for each destination city if it is present in the set of the starting cities. If there is not, then return it as the final destination.\n",
    "    for destination in dest_cities:\n",
    "        if destination not in start_cities:\n",
    "            return destination\n",
    "\n",
    "\n",
    "paths = [['London', 'New York'], ['New York', 'Lima'], ['Lima', 'Sao Paulo']]\n",
    "print(Solution(paths))"
   ]
  },
  {
   "cell_type": "markdown",
   "metadata": {},
   "source": [
    "# <u>Maximum Score From Removing Stones</u>\n",
    "\n",
    "You are playing a solitaire game with three piles of stones of sizes a, b and c respectively. Each turn you choose two different non-empty piles, take one stone from each, and add 1 point to your score. The game stops when there are fewer than two non-empty piles (meaning there are no more available moves).    \n",
    "\n",
    "Given three integers a, b, and c, return the maximum score you can get. \n",
    "\n",
    "Example 1:\n",
    "```\n",
    "Input: a = 2, b = 4, c = 6\n",
    "Output: 6\n",
    "\n",
    "Explanation: The starting state is (2, 4, 6). One optimal set of moves is:\n",
    "- Take from 1st and 3rd piles, state is now (1, 4, 5)\n",
    "- Take from 1st and 3rd piles, state is now (0, 4, 4)\n",
    "- Take from 2nd and 3rd piles, state is now (0, 3, 3)\n",
    "- Take from 2nd and 3rd piles, state is now (0, 2, 2)\n",
    "- Take from 2nd and 3rd piles, state is now (0, 1, 1)\n",
    "- Take from 2nd and 3rd piles, state is now (0, 0, 0)\n",
    "There are fewer than two non-empty piles, so the game ends. \n",
    "Total: 6 points.\n",
    "```"
   ]
  },
  {
   "cell_type": "code",
   "execution_count": 8,
   "metadata": {},
   "outputs": [
    {
     "name": "stdout",
     "output_type": "stream",
     "text": [
      "7\n"
     ]
    }
   ],
   "source": [
    "def Solution(a, b, c):\n",
    "    # Check which is the higher piles.\n",
    "    piles = [a, b, c]\n",
    "    highest_pile = max(piles)\n",
    "    index_highest_pile = piles.index(highest_pile)\n",
    "    \n",
    "    maximum_point = 0\n",
    "    # loop through the range of the highest value\n",
    "    for i in range(highest_pile):\n",
    "        # Check that at least two piles still have some values. \n",
    "        count_empty_piles = piles.count(0)\n",
    "        #return count if more than 1 piles is empty\n",
    "        if count_empty_piles > 1:\n",
    "            return maximum_point\n",
    "\n",
    "        # Subtract each time one point to the highest pile and one of the other two piles if it is not empty.\n",
    "        piles[index_highest_pile] -= 1\n",
    "        for i, pile in enumerate(piles):\n",
    "            if (pile != 0 and i != index_highest_pile):\n",
    "                piles[i] -= 1\n",
    "                maximum_point += 1\n",
    "                break\n",
    "    return maximum_point\n",
    "\n",
    "a = 1\n",
    "b = 6\n",
    "c = 7\n",
    "\n",
    "print(Solution(a, b, c))"
   ]
  },
  {
   "cell_type": "code",
   "execution_count": 9,
   "metadata": {},
   "outputs": [
    {
     "name": "stdout",
     "output_type": "stream",
     "text": [
      "6\n"
     ]
    }
   ],
   "source": [
    "def Solution(a, b, c):\n",
    "    # Check which is the higher piles.\n",
    "    piles = sorted([a, b, c])\n",
    "    \n",
    "    maximum_points = piles[0] + piles[1]\n",
    "\n",
    "    # if the result is higher than the highest pile, than return the highest pile as the maximum value. \n",
    "    if maximum_points > piles[2]:\n",
    "        return piles[2]\n",
    "    return maximum_points\n",
    "\n",
    "a = 2\n",
    "b = 4\n",
    "c = 6\n",
    "\n",
    "print(Solution(a, b, c))"
   ]
  },
  {
   "cell_type": "code",
   "execution_count": 10,
   "metadata": {},
   "outputs": [
    {
     "name": "stdout",
     "output_type": "stream",
     "text": [
      "7\n"
     ]
    }
   ],
   "source": [
    "def Solution(a, b, c):\n",
    "    # Check which is the higher piles.\n",
    "    piles = [a, b, c]\n",
    "    highest_pile = max(piles)\n",
    "    index_highest_pile = piles.index(highest_pile)\n",
    "    \n",
    "    maximum_point = 0\n",
    "    # Compute the sum of the other two smaller piles. \n",
    "    maximum_point = 0\n",
    "    for i, pile in enumerate(piles):\n",
    "        if i != index_highest_pile:\n",
    "            maximum_point += pile\n",
    "        if i != index_highest_pile and pile == highest_pile:\n",
    "            maximum_point -= 1\n",
    "    return maximum_point\n",
    "\n",
    "a = 1\n",
    "b = 7\n",
    "c = 7\n",
    "\n",
    "print(Solution(a, b, c))\n",
    "    "
   ]
  },
  {
   "cell_type": "markdown",
   "metadata": {},
   "source": [
    "# <u>Maximum Bags With Full Capacity of Rocks</u>\n",
    "\n",
    "You have n bags numberd from 0 to n - 1. You are given two 0-indexed integer arrays capacity and rocks. The ith bag can hold a maximum of capacity[i] rocks and currently contains rocks[i] rocks. You are also given an integer additionalrocks, the number of additional tocks you can place in any of the bags.     \n",
    "Return the maximum number of bags that could have full capacity after placing the additional rocks in some bags. \n",
    "\n",
    "Example 1:\n",
    "```\n",
    "Input: capacity = [2, 3, 4, 5], rocks = [1, 2, 4, 4], additionalRocks = 2\n",
    "Output: 3\n",
    "\n",
    "Explanation: \n",
    "Place 1 rock in bag 0 and 1 rock in bag 1. \n",
    "The number of rocks in each bag are now [2, 3, 4, 4].\n",
    "There are 3 bags at full capacity, so we return 2. \n",
    "It can be shown that it is not possible to have more than 3 bags at full capacity. \n",
    "Note that there may be other ways of placing the rocks that result in an answer of 3. \n",
    "```"
   ]
  },
  {
   "cell_type": "code",
   "execution_count": 11,
   "metadata": {},
   "outputs": [
    {
     "name": "stdout",
     "output_type": "stream",
     "text": [
      "3\n"
     ]
    }
   ],
   "source": [
    "def Solution(capacity, rocks, additional_rocks):\n",
    "    full_bags = 0\n",
    "    rocks_to_add_for_full_capacity = []\n",
    "    # compute for each of the bags the number of rocks that are needed to reach its full capacity. \n",
    "    for i in range(len(capacity)):\n",
    "        rocks_to_add_for_full_capacity.append(capacity[i] - rocks[i])\n",
    "    \n",
    "    # sort the rocks to add\n",
    "    rocks_to_add_for_full_capacity.sort()\n",
    "    # check is some of the bags is already full\n",
    "    for rocks_to_add in rocks_to_add_for_full_capacity:\n",
    "        if rocks_to_add == 0:\n",
    "            full_bags += 1\n",
    "        else:\n",
    "            if rocks_to_add <= additional_rocks:\n",
    "                additional_rocks -= rocks_to_add\n",
    "                full_bags += 1\n",
    "    return full_bags\n",
    "\n",
    "capacity = [2, 3, 4, 5]\n",
    "rocks = [1, 1, 4, 4]\n",
    "additional_rocks = 2\n",
    "print(Solution(capacity, rocks, additional_rocks))"
   ]
  },
  {
   "cell_type": "markdown",
   "metadata": {},
   "source": [
    "# <u>Word Pattern</u>\n",
    "\n",
    "Given a pattern and a string `s`, find if `s` follows the same pattern.   \n",
    "Here follow means a full match. such that there is a bijection (one-to-one correspondacen) between a letter in pattern and a non-empty word in `s`.\n",
    "\n",
    "Example 1:\n",
    "```\n",
    "Input: pattern = \"abba\", s = \"dog cat cat dog\"\n",
    "Output: true\n",
    "```"
   ]
  },
  {
   "cell_type": "code",
   "execution_count": 15,
   "metadata": {},
   "outputs": [
    {
     "name": "stdout",
     "output_type": "stream",
     "text": [
      "False\n"
     ]
    }
   ],
   "source": [
    "def Solution(pattern, s):\n",
    "    corr_dict = {}\n",
    "    s_split = s.split(\" \")\n",
    "\n",
    "    for i, word in enumerate(s_split):\n",
    "        if word not in corr_dict.keys():\n",
    "            # Check if the letter pattern is already as value in the dictionary. If yes, the word is different, then return False.\n",
    "            if pattern[i] in corr_dict.values():\n",
    "                return False\n",
    "            # otherwise just add the pattern character to the dictionary.\n",
    "            corr_dict[word] = pattern[i]\n",
    "        else:\n",
    "            # Get the patter char that correpond to this word and check if it is in the pattern.\n",
    "            chart_pattern = corr_dict[word]\n",
    "            if chart_pattern != pattern[i]:\n",
    "                return False    \n",
    "    return True\n",
    "\n",
    "pattern = \"abbaaa\"\n",
    "s = \"dog cat cat dog dog mouse\"\n",
    "print(Solution(pattern, s))"
   ]
  },
  {
   "cell_type": "markdown",
   "metadata": {},
   "source": [
    "# <u>Make Array Zero by Subtracting Equal amounts</u>\n",
    "\n",
    "You are given a non-negative integer array nums. In one operation, you must:       \n",
    "Choose a positive integer x such that x is less than or equal to the smallest non-zero element in nums.     \n",
    "Subtract x from every positive element in nums. Return the minimum number of operations to make avery element in nums equal to 0.\n",
    "\n",
    "Example 1:\n",
    "```\n",
    "Input: [1, 5, 0, 3, 5]\n",
    "Output: 3\n",
    "\n",
    "Explanation:\n",
    "In the first operation, choose x = 1. Now, nums = [0, 4, 0, 2, 4].\n",
    "In the second operation, choose x = 2. Now, nums = [0, 2, 0, 0, 2].\n",
    "In the third operation, choose x = 2. Now, nums = [0, 0, 0, 0, 0].\n",
    "```"
   ]
  },
  {
   "cell_type": "code",
   "execution_count": 24,
   "metadata": {},
   "outputs": [
    {
     "name": "stdout",
     "output_type": "stream",
     "text": [
      "3\n"
     ]
    }
   ],
   "source": [
    "def Solution(nums):\n",
    "    # Loop until all the values in the nums array are all 0s. \n",
    "    operatio_count = 0\n",
    "    while nums.count(0) != len(nums):\n",
    "        # Select the smallest element of the nums list and subtract it to all the elements in the array.\n",
    "        min_num = min([num for num in nums if num != 0]) \n",
    "        # subtract the min_num to all the elements in the nums list.\n",
    "        for i in range(len(nums)):\n",
    "            if nums[i] != 0:\n",
    "                nums[i] -= min_num\n",
    "        operatio_count += 1\n",
    "    return operatio_count\n",
    "\n",
    "\n",
    "nums = [1, 5, 0, 3, 5]\n",
    "print(Solution(nums))"
   ]
  },
  {
   "cell_type": "code",
   "execution_count": 26,
   "metadata": {},
   "outputs": [
    {
     "name": "stdout",
     "output_type": "stream",
     "text": [
      "3\n"
     ]
    }
   ],
   "source": [
    "def Solution(nums):\n",
    "    # Check how many different values there are in the nums. In this way you can retrieve the number of operations (subtractions) that you have to do in order to reset to 0 all the elements in the nums. \n",
    "    # Build a set from the nums list. \n",
    "    nums_unique = set(nums)\n",
    "    #count the number of nums_unique that are different from 0.\n",
    "    return len([num for num in nums_unique if num != 0])\n",
    "\n",
    "\n",
    "nums = [1, 5, 0, 3, 5]\n",
    "print(Solution(nums))"
   ]
  },
  {
   "cell_type": "markdown",
   "metadata": {},
   "source": [
    "# <u>Maximum Number of Words You Can Type</u>\n",
    "\n",
    "There is a malfunctioning keyboard where some letter keys do not work. All other keys on the keyboeard work properly.   \n",
    "\n",
    "Given a string text of words separated by a single space (no leading or trailing spaces) and a string brokenLetters of all distinct letter keys, that are broken, return the number of words in text you can fully type using this keyboard.\n",
    "\n",
    "Example 1:\n",
    "```\n",
    "Input: text = \"hello world\", brokenLetters = \"ad\"\n",
    "Output: 1\n",
    "\n",
    "Explanation: We cannot type \"world\" because the 'd' key is broken. \n",
    "```\n"
   ]
  },
  {
   "cell_type": "code",
   "execution_count": 37,
   "metadata": {},
   "outputs": [
    {
     "name": "stdout",
     "output_type": "stream",
     "text": [
      "2\n"
     ]
    }
   ],
   "source": [
    "def Solution(text, broken_letters):\n",
    "    text_split = text.split(\" \")\n",
    "    count_removed_words = 0\n",
    "    # Loop through the broken letters and check whether they are present in the text.\n",
    "    for word in text_split:\n",
    "        for char in broken_letters:\n",
    "            if char in word:\n",
    "                count_removed_words += 1\n",
    "                break\n",
    "    return len(text_split) - count_removed_words\n",
    "\n",
    "\n",
    "text = \"any hello world work\"\n",
    "broken_letters = \"ad\"\n",
    "print(Solution(text, broken_letters))"
   ]
  },
  {
   "cell_type": "markdown",
   "metadata": {},
   "source": [
    "# <u>Sort Even and Odd Indices Independetly</u>\n",
    "\n",
    "You are given a 0-indexed integer array nums. Rearrange the values of nums according to the following rules:\n",
    "\n",
    "Sort the values at odd indeces of nums in non-increasing (decreasing) order.     \n",
    "For example, if nums = [4, 1, 2, 3] before this step, it becomes [4, 3, 2, 1] after. The values at odd indeces 1 and 3 are sorted in non-increasing order.   \n",
    "Sort the values at even indices of nums in non-decreasing (increasing) order.\n",
    "For example, if nums = [4, 1, 2, 3] before this step, it becomes [2, 1, 4, 3] after. The values at even indeces 0 and 2 are sorted in non-decreasing order.  \n",
    "Return the array formed after rearranging the values of nums."
   ]
  },
  {
   "cell_type": "code",
   "execution_count": 7,
   "metadata": {},
   "outputs": [
    {
     "name": "stdout",
     "output_type": "stream",
     "text": [
      "[1, 8, 3, 6, 5, 4, 7, 2, 9]\n"
     ]
    }
   ],
   "source": [
    "def Solution(array):\n",
    "    odd_values = [array[i] for i in range(len(array)) if i % 2 != 0]\n",
    "    even_values = [array[i] for i in range(len(array)) if i % 2 == 0]\n",
    "    # sort in decreasing order the odd values\n",
    "    odd_values.sort(reverse=True)\n",
    "    # sort in increasing order the even values\n",
    "    even_values.sort()\n",
    "\n",
    "    odd_counter = 0\n",
    "    even_counter = 0\n",
    "    for i in range(len(array)):\n",
    "        if i % 2 == 0:\n",
    "            array[i] = even_values[even_counter]\n",
    "            even_counter += 1\n",
    "        else:\n",
    "            array[i] = odd_values[odd_counter]\n",
    "            odd_counter += 1\n",
    "\n",
    "    return array\n",
    "\n",
    "\n",
    "array = [9, 2, 7, 4, 5, 6, 3, 8, 1]\n",
    "print(Solution(array))"
   ]
  },
  {
   "cell_type": "markdown",
   "metadata": {},
   "source": [
    "# <u>Find Players With Zero or One Losses</u>\n",
    "\n",
    "You are given an integer array matches where `matches[i] = [winneri, loseri]` indicates that the player winneri defeated player loseri in a match.  \n",
    "\n",
    "Return a list of answer of size 2 where:\n",
    "\n",
    "answer[0] is a list of all players that have not lost any matches. \n",
    "answer[1] is a list of all players that have lost exactly one match. \n",
    "Tha values in the two listst should be returned in increasing order. \n",
    "\n",
    "Example 1:\n",
    "```\n",
    "Input: matches = [[1, 3], [2, 3], [3, 6], [5, 6], [5, 7], [4, 5], [4, 8], [4, 9], [10, 4], [10, 9]]  \n",
    "Output: [[1, 2, 10], [4, 5, 7, 8]]\n",
    "\n",
    "Explanation:\n",
    "Player 1, 2 and 10 have not lost any matches. \n",
    "Player 4, 5, 7, and 8 each have lost one match. \n",
    "Player 3, 6 and 9 each have lost two matches. \n",
    "Thus, answer[0] = [1, 2, 10] and answer[1] = [4, 5, 7, 8]\n",
    "```"
   ]
  },
  {
   "cell_type": "code",
   "execution_count": 22,
   "metadata": {},
   "outputs": [
    {
     "name": "stdout",
     "output_type": "stream",
     "text": [
      "[[1, 2, 10], [4, 5, 7, 8]]\n"
     ]
    }
   ],
   "source": [
    "def Solution(matches):\n",
    "    player_losts = {}\n",
    "    total_players = set()\n",
    "    # Loop through all matches\n",
    "    for match in matches:\n",
    "        loser = match[1]\n",
    "        winner = match[0]\n",
    "        # store both the loser and winner with a count of 0 losses.\n",
    "        if loser not in player_losts.keys():\n",
    "            player_losts[loser] = 0\n",
    "        if winner not in player_losts.keys():\n",
    "            player_losts[winner] = 0\n",
    "        # Increase the losses counter for the loser player\n",
    "        player_losts[loser] += 1    \n",
    "    \n",
    "    #sort the players \n",
    "    player_losts_sort = {key : player_losts[key] for key in sorted(player_losts.keys())}\n",
    "\n",
    "    #extract the players that have not lot any matches. Their values in the dictionary is equal to 0. \n",
    "    not_losing_players = [player for player in player_losts_sort.keys() if player_losts_sort[player] == 0]\n",
    "    player_lost_one_time = [player for player in player_losts_sort.keys() if player_losts_sort[player] == 1]\n",
    "    \n",
    "    return [not_losing_players, player_lost_one_time]\n",
    "\n",
    "\n",
    "matches = [[1, 3], [2, 3], [3, 6], [5, 6], [5, 7], [4, 5], [4, 8], [4, 9], [10, 4], [10, 9]]\n",
    "print(Solution(matches))"
   ]
  },
  {
   "cell_type": "markdown",
   "metadata": {},
   "source": [
    "# <u>Reduce Array Size of The Half</u>\n",
    "\n",
    "You are given an integer array arr. You can choose a set of integers and remove all the occurrences of these integers in the array.\n",
    "\n",
    "Return the minimum size of the set so that at least half of the integers of the array are removed. \n",
    "\n",
    "Example1:\n",
    "```\n",
    "Input: arr = [3, 3, 3, 3, 5, 5, 5, 2, 2, 7]\n",
    "Output: 2\n",
    "\n",
    "Explanation: Choosing {3, 7} will make the new array [5, 5, 5, 2, 2] which has size 5 (i.e. equal to half of the size of the old array).\n",
    "Possible sets of size 2 ar {3, 5}, {3, 2}, {5, 2}\n",
    "Choosing {2, 7} is not possible as it will make the new array [3, 3, 3, 3, 5, 5, 5] which as a size greater than the old array.\n",
    "```"
   ]
  },
  {
   "cell_type": "code",
   "execution_count": 34,
   "metadata": {},
   "outputs": [
    {
     "name": "stdout",
     "output_type": "stream",
     "text": [
      "2\n"
     ]
    }
   ],
   "source": [
    "def Solution(arr):\n",
    "    #count how many occurances of each elements are present in the array\n",
    "    dict_occurrencies = {}\n",
    "    for el in arr:\n",
    "        if el not in dict_occurrencies.keys():\n",
    "            dict_occurrencies[el] = 1\n",
    "        else: dict_occurrencies[el] += 1\n",
    "    #sort the values by their count occurrences. \n",
    "    dict_occurrencies = dict(sorted(dict_occurrencies.items(), key = lambda x:x[1], reverse=True)) # sorted(iterable, key)  => key: optional. A function to execute to decide the order. Default is None.   \n",
    "\n",
    "    #loop through the values in the sorted dictionary. If by removing the occurences of that value from the arr we don't obtain an array which is at leas half the size of arr, we remove also the occurrences of the second most present value, and so on. \n",
    "    occur_removed = 0\n",
    "    values_removed = 0\n",
    "    for val, occur in dict_occurrencies.items():\n",
    "        occur_removed += occur\n",
    "        values_removed += 1\n",
    "        if (len(arr) - occur_removed) <= len(arr) / 2:\n",
    "            return values_removed\n",
    "    return len(arr)\n",
    "\n",
    "arr = [3, 3, 3, 3, 5, 5, 5, 2, 2, 7]\n",
    "print(Solution(arr))"
   ]
  },
  {
   "cell_type": "markdown",
   "metadata": {},
   "source": [
    "# <u>Sum To 100</u>\n",
    "\n",
    "You have the numbers from 1 to 10 in order, and the symbols +,-,/ and *. By inserting the symbols, return 100.\n",
    "\n",
    "You may also concatenate digits, however they must remain in the original order, you can only use each digit once and you cannot use backets.\n",
    "\n",
    "Example1:\n",
    "`1+2+3+4+5+6+7+8+9+10 = 55`\n",
    "\n",
    "Example2:\n",
    "`123*45-67+89+1*0 = 5057`\n"
   ]
  },
  {
   "cell_type": "code",
   "execution_count": 3,
   "metadata": {},
   "outputs": [
    {
     "name": "stdout",
     "output_type": "stream",
     "text": [
      "100\n"
     ]
    }
   ],
   "source": [
    "def Solution():\n",
    "    sol = 1 + 2 + 3 + 4 + 9 * 10 \n",
    "    return sol\n",
    "    \n",
    "print(Solution())"
   ]
  },
  {
   "cell_type": "code",
   "execution_count": null,
   "metadata": {},
   "outputs": [],
   "source": [
    "# A Solution given by ChatGPT\n",
    "\n",
    "def evaluate_expression(expression):\n",
    "    try:\n",
    "        return eval(expression)\n",
    "    except ZeroDivisionError:\n",
    "        return None\n",
    "\n",
    "def find_expression(digits, target, operators):\n",
    "    def helper(path, pos):\n",
    "        if pos == len(digits):\n",
    "            if evaluate_expression(path) == target:\n",
    "                results.append(path)\n",
    "            return\n",
    "        \n",
    "        for op in operators:\n",
    "            if pos > 0:  # Prevents leading operator\n",
    "                helper(path + op + digits[pos], pos + 1)\n",
    "            # Concatenate digits\n",
    "            if pos < len(digits) - 1:\n",
    "                helper(path + digits[pos], pos + 1)\n",
    "    \n",
    "    results = []\n",
    "    helper(digits[0], 1)\n",
    "    return results\n",
    "\n",
    "digits = \"12345678910\"\n",
    "target = 100\n",
    "operators = [\"+\", \"-\", \"*\", \"/\"]\n",
    "solutions = find_expression(digits, target, operators)\n",
    "\n",
    "for solution in solutions:\n",
    "    print(solution)\n",
    "\n",
    "###### Seems like it does NOT work"
   ]
  },
  {
   "cell_type": "code",
   "execution_count": null,
   "metadata": {},
   "outputs": [],
   "source": []
  }
 ],
 "metadata": {
  "kernelspec": {
   "display_name": "Python 3",
   "language": "python",
   "name": "python3"
  },
  "language_info": {
   "codemirror_mode": {
    "name": "ipython",
    "version": 3
   },
   "file_extension": ".py",
   "mimetype": "text/x-python",
   "name": "python",
   "nbconvert_exporter": "python",
   "pygments_lexer": "ipython3",
   "version": "3.9.13"
  }
 },
 "nbformat": 4,
 "nbformat_minor": 2
}
