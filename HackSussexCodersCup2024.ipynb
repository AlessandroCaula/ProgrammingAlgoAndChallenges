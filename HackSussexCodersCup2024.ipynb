{
 "cells": [
  {
   "cell_type": "markdown",
   "metadata": {},
   "source": [
    "# <u>Number Of Rectangles that Can Form The Largest Square</u>\n",
    "\n",
    "You are given an array rectangles where `rectangles[i] = [li, wi]` represents the ithrectangle of length li and width wi.\n",
    "\n",
    "You can cut the ith rectangle to forma a square with a side length of k if both k <= li and k <= wi. For example, if you have a recangle [4, 6], you can cut it to het a square with a side length of at most 4.\n",
    "\n",
    "Let maxLen be the side length of the largest square you can obtain from any of the given rectangles.\n",
    "\n",
    "Return the number of rectangle that can make a square with a side length of maxLen.\n",
    "\n",
    "Example1\n",
    "```\n",
    "Input: rectangles = [[5,8],[3,9],[5,12],[16,5]]\n",
    "Output: 3\n",
    "\n",
    "Explanation: The largest squares you can get from each rectangle are of lengths [5,3,5,5].\n",
    "The largest possible square is of length 5, and you can get it out of 3 rectangles.\n",
    "```"
   ]
  },
  {
   "cell_type": "code",
   "execution_count": 25,
   "metadata": {},
   "outputs": [
    {
     "name": "stdout",
     "output_type": "stream",
     "text": [
      "3\n"
     ]
    }
   ],
   "source": [
    "def Solution(rectangles):\n",
    "    square_side = []\n",
    "    # Loop through all the rectangles.\n",
    "    for i, rect in enumerate(rectangles):\n",
    "        # Find the smaller side of the rectangle, which will correspond to the maxLen of the current square that can be extracted from the rectangle.\n",
    "        square_side.append(min(rect))\n",
    "\n",
    "    # Now that we have the collection of all the maximum length that each square can have, find the overall maxLen.\n",
    "    maxLen = max(square_side)\n",
    "    # Now loop thorugh all the square_side and check how many squares have the same length of the maxLen.\n",
    "    maxLen_count = 0\n",
    "    for el in square_side:\n",
    "        if el == maxLen:\n",
    "            maxLen_count += 1\n",
    "    # Return the maximum length.\n",
    "    return maxLen_count\n",
    "\n",
    "\n",
    "rectangles = [[5, 8], [3, 9], [5, 12], [16, 5]]\n",
    "print(Solution(rectangles))"
   ]
  },
  {
   "cell_type": "markdown",
   "metadata": {},
   "source": [
    "# <u>Check if Every Row and Column Contains All Numbers</u>\n",
    "\n",
    "An *n x n* matrix is valid if every row and every column contains all the integers from 1 to n (inclusive).\n",
    "\n",
    "Given an *n x n* integer matrix, return true if the matrix is valid. Otherwise return false.\n",
    "\n",
    "Example 1:\n",
    "```\n",
    "Input: matrix = [[1, 2, 3], [3, 1, 2], [2, 3, 1]]\n",
    "Output: true\n",
    "\n",
    "Explanation: In this case, n = 3, and every row and column contains the numbers 1, 2, and 3. Hence we return true.\n",
    "```"
   ]
  },
  {
   "cell_type": "code",
   "execution_count": 26,
   "metadata": {},
   "outputs": [
    {
     "name": "stdout",
     "output_type": "stream",
     "text": [
      "True\n"
     ]
    }
   ],
   "source": [
    "\n",
    "def Solution(matrix):\n",
    "    # First find the value of n\n",
    "    n = len(matrix)\n",
    "\n",
    "    # Build a collection of columns. Basically transposing the matrix (swapping rows and columns), in order to then loop easily through all the columns.\n",
    "    matrix_T = [[None for row in matrix] for col in matrix[0]]\n",
    "    for row_idx, row in enumerate(matrix):\n",
    "        for col_idx, el in enumerate(row):\n",
    "            matrix_T[col_idx][row_idx] = el\n",
    "\n",
    "    # Loop through all the values (from 1 to n(inclusive))\n",
    "    for val in range(n):\n",
    "        # Loop through all the rows and check if for each row there are all the vales from 1 to n (included)\n",
    "        for row in matrix:\n",
    "            # Check if the val is present in the row. If not, return False.\n",
    "            if val + 1 not in row:\n",
    "                return False\n",
    "        # Loop through all the columns and check if for each column ther all the values from 1 to n (included)\n",
    "        for col in matrix_T:\n",
    "            # Check if the val is present in the col. If not, return False.\n",
    "            if val + 1 not in col:\n",
    "                return False\n",
    "\n",
    "    return True\n",
    "\n",
    "\n",
    "\n",
    "matrix = [[1, 2, 3], [3, 1, 2], [2, 3, 1]]  # [[1, 2, 3], [1, 2, 3], [2, 3, 1]]\n",
    "print(Solution(matrix))"
   ]
  },
  {
   "cell_type": "code",
   "execution_count": null,
   "metadata": {},
   "outputs": [],
   "source": []
  }
 ],
 "metadata": {
  "kernelspec": {
   "display_name": "Python 3",
   "language": "python",
   "name": "python3"
  },
  "language_info": {
   "codemirror_mode": {
    "name": "ipython",
    "version": 3
   },
   "file_extension": ".py",
   "mimetype": "text/x-python",
   "name": "python",
   "nbconvert_exporter": "python",
   "pygments_lexer": "ipython3",
   "version": "3.9.13"
  }
 },
 "nbformat": 4,
 "nbformat_minor": 2
}
