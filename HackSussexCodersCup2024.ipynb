{
 "cells": [
  {
   "cell_type": "markdown",
   "metadata": {},
   "source": [
    "# <u>Number Of Rectangles that Can Form The Largest Square</u>\n",
    "\n",
    "You are given an array rectangles where `rectangles[i] = [li, wi]` represents the ithrectangle of length li and width wi.\n",
    "\n",
    "You can cut the ith rectangle to forma a square with a side length of k if both k <= li and k <= wi. For example, if you have a recangle [4, 6], you can cut it to het a square with a side length of at most 4.\n",
    "\n",
    "Let maxLen be the side length of the largest square you can obtain from any of the given rectangles.\n",
    "\n",
    "Return the number of rectangle that can make a square with a side length of maxLen.\n",
    "\n",
    "Example1\n",
    "```\n",
    "Input: rectangles = [[5,8],[3,9],[5,12],[16,5]]\n",
    "Output: 3\n",
    "\n",
    "Explanation: The largest squares you can get from each rectangle are of lengths [5,3,5,5].\n",
    "The largest possible square is of length 5, and you can get it out of 3 rectangles.\n",
    "```"
   ]
  },
  {
   "cell_type": "code",
   "execution_count": 25,
   "metadata": {},
   "outputs": [
    {
     "name": "stdout",
     "output_type": "stream",
     "text": [
      "3\n"
     ]
    }
   ],
   "source": [
    "def Solution(rectangles):\n",
    "    square_side = []\n",
    "    # Loop through all the rectangles.\n",
    "    for i, rect in enumerate(rectangles):\n",
    "        # Find the smaller side of the rectangle, which will correspond to the maxLen of the current square that can be extracted from the rectangle.\n",
    "        square_side.append(min(rect))\n",
    "\n",
    "    # Now that we have the collection of all the maximum length that each square can have, find the overall maxLen.\n",
    "    maxLen = max(square_side)\n",
    "    # Now loop thorugh all the square_side and check how many squares have the same length of the maxLen.\n",
    "    maxLen_count = 0\n",
    "    for el in square_side:\n",
    "        if el == maxLen:\n",
    "            maxLen_count += 1\n",
    "    # Return the maximum length.\n",
    "    return maxLen_count\n",
    "\n",
    "\n",
    "rectangles = [[5, 8], [3, 9], [5, 12], [16, 5]]\n",
    "print(Solution(rectangles))"
   ]
  },
  {
   "cell_type": "markdown",
   "metadata": {},
   "source": [
    "# <u>Check if Every Row and Column Contains All Numbers</u>\n",
    "\n",
    "An *n x n* matrix is valid if every row and every column contains all the integers from 1 to n (inclusive).\n",
    "\n",
    "Given an *n x n* integer matrix, return true if the matrix is valid. Otherwise return false.\n",
    "\n",
    "Example 1:\n",
    "```\n",
    "Input: matrix = [[1, 2, 3], [3, 1, 2], [2, 3, 1]]\n",
    "Output: true\n",
    "\n",
    "Explanation: In this case, n = 3, and every row and column contains the numbers 1, 2, and 3. Hence we return true.\n",
    "```"
   ]
  },
  {
   "cell_type": "code",
   "execution_count": 26,
   "metadata": {},
   "outputs": [
    {
     "name": "stdout",
     "output_type": "stream",
     "text": [
      "True\n"
     ]
    }
   ],
   "source": [
    "def Solution(matrix):\n",
    "    # First find the value of n\n",
    "    n = len(matrix)\n",
    "\n",
    "    # Build a collection of columns. Basically transposing the matrix (swapping rows and columns), in order to then loop easily through all the columns.\n",
    "    matrix_T = [[None for row in matrix] for col in matrix[0]]\n",
    "    for row_idx, row in enumerate(matrix):\n",
    "        for col_idx, el in enumerate(row):\n",
    "            matrix_T[col_idx][row_idx] = el\n",
    "\n",
    "    # Loop through all the values (from 1 to n(inclusive))\n",
    "    for val in range(n):\n",
    "        # Loop through all the rows and check if for each row there are all the vales from 1 to n (included)\n",
    "        for row in matrix:\n",
    "            # Check if the val is present in the row. If not, return False.\n",
    "            if val + 1 not in row:\n",
    "                return False\n",
    "        # Loop through all the columns and check if for each column ther all the values from 1 to n (included)\n",
    "        for col in matrix_T:\n",
    "            # Check if the val is present in the col. If not, return False.\n",
    "            if val + 1 not in col:\n",
    "                return False\n",
    "\n",
    "    return True\n",
    "\n",
    "\n",
    "\n",
    "matrix = [[1, 2, 3], [3, 1, 2], [2, 3, 1]]  # [[1, 2, 3], [1, 2, 3], [2, 3, 1]]\n",
    "print(Solution(matrix))"
   ]
  },
  {
   "cell_type": "markdown",
   "metadata": {},
   "source": [
    "# <u>Check if One String Swap Can Make Strings Equal</u>\n",
    "\n",
    "You are given two strings *s1* and *s2* of equal length. A string swap is an operation where you choose two indices in a string (not necessarily differe) and swap the characters at these indexes. \n",
    "\n",
    "Return True if it is possible to make both strings equal by performing at most one string swap on exactly one of the strings. Otherwise return False.\n",
    "\n",
    "Example 1:\n",
    "```\n",
    "Input s1: = \"bank\", s2 = \"kanb\"\n",
    "Output: true\n",
    "\n",
    "Explanation: For example, swap the first character with the last character of s2 to make \"bank\"\n",
    "```"
   ]
  },
  {
   "cell_type": "code",
   "execution_count": 3,
   "metadata": {},
   "outputs": [
    {
     "name": "stdout",
     "output_type": "stream",
     "text": [
      "True\n"
     ]
    }
   ],
   "source": [
    "def Solution(s1, s2):\n",
    "    # First check if the two strings have the same set of character. If not, already return False. Check the it with the use of Sets. \n",
    "    # A Set in Python programming is an unordered collection data type that is iterable, mutable and has no duplicate elements. \n",
    "    set_s1 = set()\n",
    "    set_s2 = set()\n",
    "    for i in range(len(s1)):\n",
    "        set_s1.add(s1[i])\n",
    "        set_s2.add(s2[i])\n",
    "    # Check if the two sets have different characters. \n",
    "    if (set_s1 != set_s2):\n",
    "        return False\n",
    "    \n",
    "    # At this point check how many different character positions there are comparing the two strings. If there are 2 different positions, means that with one swap you could make the two strings equal\n",
    "    count = 0\n",
    "    for i in range(len(s1)):\n",
    "        if s1[i] != s2[i]:\n",
    "            count += 1\n",
    "    if count == 0 or count == 2:\n",
    "        return True\n",
    "    \n",
    "    return False\n",
    "\n",
    "\n",
    "s1 = \"bank\"\n",
    "s2 = \"kanb\"\n",
    "\n",
    "print(Solution(s1, s2))\n"
   ]
  },
  {
   "cell_type": "markdown",
   "metadata": {},
   "source": [
    "# <u>Destination City</u>\n",
    "\n",
    "You are given the array paths, where `paths[i] = [cityA, cityB]` means there exists a direct path going from `cityAi` to `cityBi`. Return the destination city, that is, the city without any path outgoing to another city. \n",
    "\n",
    "It is guaranteed that the fraph of paths froms a line without any loop, therefore there will be exactly one destination city. \n",
    "\n",
    "Example 1\n",
    "```\n",
    "Input: paths = [['London', 'New York'], ['New York', 'Lima'], ['Lima', 'Sao Paulo']]\n",
    "Output: 'Sao Paulo'\n",
    "\n",
    "Explanation: Starting at 'London' city you will reach 'Sao Paolo' city which is the destination city. Your trip consists of 'London' -> 'New York' -> 'Lima' -> 'Sao Paolo'\n",
    "```"
   ]
  },
  {
   "cell_type": "code",
   "execution_count": 4,
   "metadata": {},
   "outputs": [
    {
     "name": "stdout",
     "output_type": "stream",
     "text": [
      "Sao Paulo\n"
     ]
    }
   ],
   "source": [
    "def Solution(paths):\n",
    "    # Loop through all the second cities of the direct paths, and check if they are present as first city of another direct path.\n",
    "    # If it is not present it means that it is the final destination. \n",
    "    # Create a set of starting cities.\n",
    "    start_cities = set()\n",
    "    # Create a set of destination cities.\n",
    "    dest_cities = set()\n",
    "    for direct_path in paths:\n",
    "        start_cities.add(direct_path[0])\n",
    "        dest_cities.add(direct_path[1])\n",
    "\n",
    "    # Check for each destination city if it is present in the set of the starting cities. If there is not, then return it as the final destination.\n",
    "    for destination in dest_cities:\n",
    "        if destination not in start_cities:\n",
    "            return destination\n",
    "\n",
    "\n",
    "paths = [['London', 'New York'], ['New York', 'Lima'], ['Lima', 'Sao Paulo']]\n",
    "print(Solution(paths))"
   ]
  },
  {
   "cell_type": "markdown",
   "metadata": {},
   "source": [
    "# <u>Maximum Score From Removing Stones</u>\n",
    "\n",
    "You are playing a solitaire game with three piles of stones of sizes a, b and c respectively. Each turn you choose two different non-empty piles, take one stone from each, and add 1 point to your score. The game stops when there are fewer than two non-empty piles (meaning there are no more available moves).\n",
    "\n",
    "Given three integers a, b, and c, return the maximum score you can get. \n",
    "\n",
    "Example 1:\n",
    "```\n",
    "Input: a = 2, b = 4, c = 6\n",
    "Output: 6\n",
    "\n",
    "Explanation: The starting state is (2, 4, 6). One optimal set of moves is:\n",
    "- Take from 1st and 3rd piles, state is now (1, 4, 5)\n",
    "- Take from 1st and 3rd piles, state is now (0, 4, 4)\n",
    "- Take from 2nd and 3rd piles, state is now (0, 3, 3)\n",
    "- Take from 2nd and 3rd piles, state is now (0, 2, 2)\n",
    "- Take from 2nd and 3rd piles, state is now (0, 1, 1)\n",
    "- Take from 2nd and 3rd piles, state is now (0, 0, 0)\n",
    "There are fewer than two non-empty piles, so the game ends. \n",
    "Total: 6 points.\n",
    "```"
   ]
  },
  {
   "cell_type": "code",
   "execution_count": 32,
   "metadata": {},
   "outputs": [
    {
     "name": "stdout",
     "output_type": "stream",
     "text": [
      "1\n"
     ]
    }
   ],
   "source": [
    "def Solution(a, b, c):\n",
    "    # Check which is the higher piles.\n",
    "    piles = [a, b, c]\n",
    "    highest_pile = max(piles)\n",
    "    index_highest_pile = piles.index(highest_pile)\n",
    "    \n",
    "    maximum_point = 0\n",
    "    # loop through the range of the highest value\n",
    "    for i in range(highest_pile):\n",
    "        # Check that at least two piles still have some values. \n",
    "        count_empty_piles = piles.count(0)\n",
    "        #return count if more than 1 piles is empty\n",
    "        if count_empty_piles > 1:\n",
    "            return maximum_point\n",
    "\n",
    "        # Subtract each time one point to the highest pile and one of the other two piles if it is not empty.\n",
    "        piles[index_highest_pile] -= 1\n",
    "        for i, pile in enumerate(piles):\n",
    "            if (pile != 0 and i != index_highest_pile):\n",
    "                piles[i] -= 1\n",
    "                maximum_point += 1\n",
    "                break\n",
    "    return maximum_point\n",
    "\n",
    "a = 1\n",
    "b = 6\n",
    "c = 7\n",
    "\n",
    "print(Solution(a, b, c))"
   ]
  },
  {
   "cell_type": "code",
   "execution_count": 31,
   "metadata": {},
   "outputs": [
    {
     "name": "stdout",
     "output_type": "stream",
     "text": [
      "6\n"
     ]
    }
   ],
   "source": [
    "def Solution(a, b, c):\n",
    "    # Check which is the higher piles.\n",
    "    piles = sorted([a, b, c])\n",
    "    \n",
    "    maximum_points = piles[0] + piles[1]\n",
    "\n",
    "    # if the result is higher than the highest pile, than return the highest pile as the maximum value. \n",
    "    if maximum_points > piles[2]:\n",
    "        return piles[2]\n",
    "    return maximum_points\n",
    "\n",
    "a = 2\n",
    "b = 4\n",
    "c = 6\n",
    "\n",
    "print(Solution(a, b, c))"
   ]
  },
  {
   "cell_type": "code",
   "execution_count": 24,
   "metadata": {},
   "outputs": [
    {
     "name": "stdout",
     "output_type": "stream",
     "text": [
      "7\n"
     ]
    }
   ],
   "source": [
    "def Solution(a, b, c):\n",
    "    # Check which is the higher piles.\n",
    "    piles = [a, b, c]\n",
    "    highest_pile = max(piles)\n",
    "    index_highest_pile = piles.index(highest_pile)\n",
    "    \n",
    "    maximum_point = 0\n",
    "    # Compute the sum of the other two smaller piles. \n",
    "    maximum_point = 0\n",
    "    for i, pile in enumerate(piles):\n",
    "        if i != index_highest_pile:\n",
    "            maximum_point += pile\n",
    "        if i != index_highest_pile and pile == highest_pile:\n",
    "            maximum_point -= 1\n",
    "    return maximum_point\n",
    "\n",
    "a = 1\n",
    "b = 7\n",
    "c = 7\n",
    "\n",
    "print(Solution(a, b, c))\n",
    "    "
   ]
  },
  {
   "cell_type": "markdown",
   "metadata": {},
   "source": [
    "# <u>Maximum Bags With Full Capacity of Rocks</u>\n",
    "\n",
    "You have n bags numberd from 0 to n - 1. You are given two 0-indexed integer arrays capacity and rocks. The ith bag can hold a maximum of capacity[i] rocks and currently contains rocks[i] rocks. You are also given an integer additionalrocks, the number of additional tocks you can place in any of the bags. \n",
    "Return the maximum number of bags that could have full capacity after placing the additional rocks in some bags. \n",
    "\n",
    "Example 1:\n",
    "```\n",
    "Input: capacity = [2, 3, 4, 5], rocks = [1, 2, 4, 4], additionalRocks = 2\n",
    "Output: 3\n",
    "\n",
    "Explanation: \n",
    "Place 1 rock in bag 0 and 1 rock in bag 1. \n",
    "The number of rocks in each bag are now [2, 3, 4, 4].\n",
    "There are 3 bags at full capacity, so we return 2. \n",
    "It can be shown that it is not possible to have more than 3 bags at full capacity. \n",
    "Note that there may be other ways of placing the rocks that result in an answer of 3. \n",
    "```"
   ]
  },
  {
   "cell_type": "code",
   "execution_count": 40,
   "metadata": {},
   "outputs": [
    {
     "name": "stdout",
     "output_type": "stream",
     "text": [
      "3\n"
     ]
    }
   ],
   "source": [
    "def Solution(capacity, rocks, additional_rocks):\n",
    "    full_bags = 0\n",
    "    rocks_to_add_for_full_capacity = []\n",
    "    # compute for each of the bags the number of rocks that are needed to reach its full capacity. \n",
    "    for i in range(len(capacity)):\n",
    "        rocks_to_add_for_full_capacity.append(capacity[i] - rocks[i])\n",
    "    \n",
    "    # sort the rocks to add\n",
    "    rocks_to_add_for_full_capacity.sort()\n",
    "    # check is some of the bags is already full\n",
    "    for rocks_to_add in rocks_to_add_for_full_capacity:\n",
    "        if rocks_to_add == 0:\n",
    "            full_bags += 1\n",
    "        else:\n",
    "            if rocks_to_add <= additional_rocks:\n",
    "                additional_rocks -= rocks_to_add\n",
    "                full_bags += 1\n",
    "    return full_bags\n",
    "\n",
    "capacity = [2, 3, 4, 5]\n",
    "rocks = [1, 1, 4, 4]\n",
    "additional_rocks = 2\n",
    "print(Solution(capacity, rocks, additional_rocks))"
   ]
  },
  {
   "cell_type": "markdown",
   "metadata": {},
   "source": [
    "# <u>Word Pattern</u>\n",
    "\n",
    "Given a pattern and a string `s`, find if `s` follows the same pattern.\n",
    "Here follow means a full match. such that there is a bijection (one-to-one correspondacen) between a letter in pattern and a non-empty word in `s`.\n",
    "\n",
    "Example 1:\n",
    "```\n",
    "Input: pattern = \"abba\", s = \"dog cat cat dog\"\n",
    "Output: true\n",
    "```"
   ]
  },
  {
   "cell_type": "code",
   "execution_count": 50,
   "metadata": {},
   "outputs": [
    {
     "name": "stdout",
     "output_type": "stream",
     "text": [
      "True\n"
     ]
    }
   ],
   "source": [
    "def Solution(pattern, s):\n",
    "    corr_dict = {}\n",
    "    s_split = s.split(\" \")\n",
    "\n",
    "    for i, word in enumerate(s_split):\n",
    "        if word not in corr_dict.keys():\n",
    "            corr_dict[word] = pattern[i]\n",
    "        else:\n",
    "            # Get the patter char that correpond to this word and check if it is in the pattern.\n",
    "            chart_pattern = corr_dict[word]\n",
    "            if chart_pattern != pattern[i]:\n",
    "                return False    \n",
    "    return True\n",
    "\n",
    "pattern = \"abbaaa\"\n",
    "s = \"dog cat cat dog dog dog\"\n",
    "print(Solution(pattern, s))"
   ]
  },
  {
   "cell_type": "code",
   "execution_count": null,
   "metadata": {},
   "outputs": [],
   "source": []
  }
 ],
 "metadata": {
  "kernelspec": {
   "display_name": "Python 3",
   "language": "python",
   "name": "python3"
  },
  "language_info": {
   "codemirror_mode": {
    "name": "ipython",
    "version": 3
   },
   "file_extension": ".py",
   "mimetype": "text/x-python",
   "name": "python",
   "nbconvert_exporter": "python",
   "pygments_lexer": "ipython3",
   "version": "3.9.13"
  }
 },
 "nbformat": 4,
 "nbformat_minor": 2
}
