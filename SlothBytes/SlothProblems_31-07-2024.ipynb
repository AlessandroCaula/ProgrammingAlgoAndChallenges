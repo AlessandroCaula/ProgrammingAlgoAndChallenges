{
 "cells": [
  {
   "cell_type": "markdown",
   "metadata": {},
   "source": [
    "### Write a function that sorts each string in a list by the letter in alphabetic ascending order (a-z) ###\n",
    "\n",
    "Examples:\n",
    "\n",
    "```\n",
    "sort_by_letter([\"932c\", \"832u32\", \"2344b\"])\n",
    "output = [\"2344b\", \"932c\", \"832u32\"] \n",
    "\n",
    "sort_by_letter([\"99a\", \"78b\", \"c2345\", \"11d\"])\n",
    "output = [\"99a\", \"78b\", \"c2345\", \"11d\"] \n",
    "\n",
    "sort_by_letter([\"572z\", \"5y5\", \"304q2\"])\n",
    "output = [\"304q2\", \"5y5\", \"572z\"]\n",
    "\n",
    "sort_by_letter([])\n",
    "output = []\n",
    "\n",
    "def sort_by_letter(arr):\n",
    "```\n",
    "\n",
    "Each string will only have one (lowercase) letter.      \n",
    "If given an empty list, return an empty list. "
   ]
  },
  {
   "cell_type": "code",
   "execution_count": 1,
   "metadata": {},
   "outputs": [
    {
     "name": "stdout",
     "output_type": "stream",
     "text": [
      "['2344b', '932c', '832u32']\n"
     ]
    }
   ],
   "source": [
    "def sort_by_letter(arr):\n",
    "    #define the list with the letter of the alphabet:\n",
    "    alphabet = ['a', 'b', 'c', 'd', 'e', 'f', 'g', 'h', 'i', 'j', 'k', 'l', 'm', 'n', 'o', 'p', 'q', 'r', 's', 't', 'u', 'v', 'w', 'x', 'y', 'z']\n",
    "\n",
    "    char_in_strings = []\n",
    "    #loop through the string elements of the array.\n",
    "    for i, string in enumerate(arr):\n",
    "        #loop through the single character of the string in order to identify the letter. \n",
    "        for c in string:\n",
    "            #check if the character in the string is a letter.\n",
    "            if c.isalpha():\n",
    "                char_in_strings.append(c)\n",
    "    #sort the letters found in the strings\n",
    "    char_in_strings_sorted = sorted(char_in_strings)\n",
    "\n",
    "    arr_sorted = []\n",
    "    #loop thorough the sorted letters\n",
    "    for let in char_in_strings_sorted:\n",
    "        #loop through the not sorted letters and find their position in that not sorted array\n",
    "        for i in range(len(char_in_strings)):\n",
    "            if let == char_in_strings[i]:\n",
    "                arr_sorted.append(arr[i])        \n",
    "    return arr_sorted\n",
    "\n",
    "arr = [\"932c\", \"832u32\", \"2344b\"] #[\"572z\", \"5y5\", \"304q2\"]\n",
    "print(sort_by_letter(arr))"
   ]
  },
  {
   "cell_type": "markdown",
   "metadata": {},
   "source": [
    "#### Another solution given by a reader of the Sloth Bytes. "
   ]
  },
  {
   "cell_type": "code",
   "execution_count": 1,
   "metadata": {},
   "outputs": [
    {
     "name": "stdout",
     "output_type": "stream",
     "text": [
      "['2344b', '932c', '832u32']\n"
     ]
    }
   ],
   "source": [
    "##Solutino given from a reader of the Sloth Bytes\n",
    "def sort_by_letter1(arr):\n",
    "    return sorted(arr, key=lambda x: [char for char in x if char.isalpha()])\n",
    "\n",
    "arr = [\"932c\", \"832u32\", \"2344b\"] #[\"572z\", \"5y5\", \"304q2\"]\n",
    "print(sort_by_letter1(arr))"
   ]
  },
  {
   "cell_type": "markdown",
   "metadata": {},
   "source": [
    "### Explanation   \n",
    "\n",
    "`sorted(arr, key=lambda x: [char for char in x if char.isalpha()])`   \n",
    "\n",
    "#### Components Breakdown:\n",
    "1. `sorted(arr, key=...)`:\n",
    "    - The `sorted()` function is used to sort elements of `arr`.\n",
    "    - The `key` parameter specifies a function to be called on each list element before making comparisons. \n",
    "\n",
    "2. `'lambda x: [char for char in x id char.isalpha()]`\n",
    "    - This is an anonymous function lambda function that takes one argument `x`.\n",
    "    - `x` represents each element of the list `arr` during the sorting process.\n",
    "\n",
    "3. `[char for char in x if char.isalpha()]`:\n",
    "    - This is a list comprehension within the lambda function. \n",
    "    - It iterates over each character `char` in the string `x`. \n",
    "    - `char.isalpha()` checks if `char` is an alphabetic character (i.e. a letter).\n",
    "    - The list comprehension constructs a list of all aphabetic characters from `x`.\n",
    "\n",
    "#### What the Code Does:\n",
    "- The lambda function extracta all alphabetic characters from each element `x` in `arr`.  \n",
    "- The `sorted()` function then uses these lists of alphabetic characters as the sorting key. \n",
    "\n",
    "### *Example:*\n",
    "\n",
    "Suppose `arr` is a list of strings:\n",
    "\n",
    "`arr = [\"a1b2\", \"abc\", \"123a\", \"b1c2a\"]`\n",
    "\n",
    "Let's see what happens when we apply the code:\n",
    "\n",
    "1. For \"a1b2\", the lambda function produces ['a', 'b'].\n",
    "2. For \"abc\", the lambda function produces ['a', 'b', 'c'].\n",
    "3. For \"123a\", the lambda function produces ['a'].\n",
    "4. For \"b1c2a\", the lambda function produces ['b', 'c', 'a'].\n",
    "\n",
    "Now, these lists are used for sorting:\n",
    "\n",
    "- \"123a\" (['a'])\n",
    "- \"a1b2\" (['a', 'b'])\n",
    "- \"b1c2a\" (['b', 'c', 'a'])\n",
    "- \"abc\" (['a', 'b', 'c'])\n",
    "\n",
    "The sorted order of the original strings, based on the alphabetic characters, would be:   \n",
    "\n",
    "`['123a', 'a1b2', 'abc', 'b1c2a']`  \n",
    "\n",
    "\n",
    "So, the code `sorted(arr, key=lambda x: [char for char in x if char.isalpha()])` sorts the list `arr` based on the sequence of alphabetic characters in each string.\n"
   ]
  }
 ],
 "metadata": {
  "kernelspec": {
   "display_name": "Python 3",
   "language": "python",
   "name": "python3"
  },
  "language_info": {
   "codemirror_mode": {
    "name": "ipython",
    "version": 3
   },
   "file_extension": ".py",
   "mimetype": "text/x-python",
   "name": "python",
   "nbconvert_exporter": "python",
   "pygments_lexer": "ipython3",
   "version": "3.9.13"
  }
 },
 "nbformat": 4,
 "nbformat_minor": 2
}
