{
 "cells": [
  {
   "cell_type": "markdown",
   "id": "9d69c20f",
   "metadata": {},
   "source": [
    "# Sloth's Meal Time \n",
    "\n",
    "### 15-05-2025\n",
    "\n",
    "Sloth is a very habitual person. He eats breakfast at 7:00 a.m. each morning, lunch at 12:00 p.m. and dinner at 7:00 p.m. in the evening. \n",
    "\n",
    "Create a function that takes in the current time as a string and determines the duration of time before Sloth's next meal. \n",
    "\n",
    "Represent this as an array with the first and second elements representing hours and minutes, respectively. \n",
    "\n",
    "#### Examples\n",
    "\n",
    "```py\n",
    "timeToEat(\"2:00 p.m.\")\n",
    "#5 hours until the next meal, dinner\n",
    "output = [5, 0]\n",
    "\n",
    "timeToEat(\"5:50 a.m.\")\n",
    "# 1 hour and 10 minutes until the next meal, breakfast\n",
    "output = [1, 10]\n",
    "```"
   ]
  },
  {
   "cell_type": "code",
   "execution_count": 11,
   "id": "af28c69e",
   "metadata": {},
   "outputs": [
    {
     "name": "stdout",
     "output_type": "stream",
     "text": [
      "[1, 50]\n",
      "[9, 0]\n"
     ]
    }
   ],
   "source": [
    "def timeToEat(time: str) -> list:\n",
    "    eating_minutes = compute_eating_minuter()\n",
    "    time_minute = convert_time_to_minutes(time)\n",
    "    # print(eating_minutes)\n",
    "    # print(time_minute)\n",
    "    \n",
    "    # Check between which eating_minutes the time_minute sits\n",
    "    time_missing = []\n",
    "    # Before breakfast\n",
    "    if time_minute < eating_minutes[0]:\n",
    "        time_missing = computing_missing_time(time_minute, eating_minutes[0])\n",
    "    elif time_minute < eating_minutes[1]:\n",
    "        time_missing = computing_missing_time(time_minute, eating_minutes[1])\n",
    "    elif time_minute < eating_minutes[2]:\n",
    "        time_missing = computing_missing_time(time_minute, eating_minutes[2])\n",
    "    elif time_minute > eating_minutes[2]:\n",
    "        # compute the minutes of the 24. Midnight\n",
    "        midnight = 24 * 60\n",
    "        # compute the missing time between the current hour and midnight\n",
    "        time_missing = computing_missing_time(time_minute, midnight)\n",
    "        # compute the missing time between midnight and the breakfast and add it tu the current time\n",
    "        time_from_breakfast = computing_missing_time(0, eating_minutes[0])\n",
    "        # Summing the two times\n",
    "        time_missing[0] += time_from_breakfast[0]\n",
    "        time_missing[1] += time_from_breakfast[1]\n",
    "\n",
    "    return time_missing\n",
    "\n",
    "def compute_eating_minuter():\n",
    "    eating_hours = [\"7:00 a.m.\", \"12:00 p.m.\", \"7:00 p.m.\"]\n",
    "    eating_minutes = []\n",
    "    for time in eating_hours:\n",
    "        eating_minutes.append(convert_time_to_minutes(time))\n",
    "    return eating_minutes\n",
    "\n",
    "def convert_time_to_minutes(time: str) -> int:\n",
    "    time_split = time.split(\" \")\n",
    "    hour_split = time_split[0].split(\":\")\n",
    "    # Check if it is a.m. or p.m.\n",
    "    is_pm = True if time_split[1] == 'p.m.' else False\n",
    "    # Extract the hours and minutes as int\n",
    "    hour_int = int(hour_split[0])\n",
    "    minute_int = int(hour_split[1])\n",
    "    if hour_int == 12:\n",
    "        if not is_pm:\n",
    "            hour_int = hour_int + 12\n",
    "    else:\n",
    "        # If the time is p.m. add 12 to the hours\n",
    "        hour_int = hour_int + 12 if is_pm else hour_int\n",
    "    # Convert it to minutes\n",
    "    total_minutes = hour_int * 60 + minute_int\n",
    "    return total_minutes\n",
    "\n",
    "def computing_missing_time(current: int, eating: int):\n",
    "    time_missing = [0, 0]\n",
    "    # Compute the difference in minutes\n",
    "    missing_minutes = eating - current\n",
    "    # Convert the minutes back to hours\n",
    "    hours = missing_minutes // 60\n",
    "    time_missing[0] = hours\n",
    "    # Compute the minutes \n",
    "    minutes = missing_minutes - (hours * 60)\n",
    "    time_missing[1] = minutes\n",
    "    return time_missing\n",
    "\n",
    "print(timeToEat(\"5:10 a.m.\"))\n",
    "print(timeToEat(\"10:00 p.m.\"))"
   ]
  },
  {
   "cell_type": "code",
   "execution_count": null,
   "id": "fc51f3aa",
   "metadata": {},
   "outputs": [],
   "source": []
  }
 ],
 "metadata": {
  "kernelspec": {
   "display_name": "Python 3",
   "language": "python",
   "name": "python3"
  },
  "language_info": {
   "codemirror_mode": {
    "name": "ipython",
    "version": 3
   },
   "file_extension": ".py",
   "mimetype": "text/x-python",
   "name": "python",
   "nbconvert_exporter": "python",
   "pygments_lexer": "ipython3",
   "version": "3.13.0"
  }
 },
 "nbformat": 4,
 "nbformat_minor": 5
}
