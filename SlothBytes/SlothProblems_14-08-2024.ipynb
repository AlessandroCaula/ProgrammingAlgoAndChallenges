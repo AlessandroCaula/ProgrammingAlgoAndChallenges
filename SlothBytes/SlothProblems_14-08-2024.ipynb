{
 "cells": [
  {
   "cell_type": "markdown",
   "metadata": {},
   "source": [
    "## Why Inheritance Matters  \n",
    "\n",
    "- Code reuasability\n",
    "- Establishes a clear hierarchy\n",
    "- Allows polumorphism \n",
    "- Reduces reduntant code\n",
    "\n",
    "#### Key Concepts:  \n",
    "\n",
    "1. **Superclass (Parent class):** The class being inherited from\n",
    "2. **Subclass (Child class):** The class that inherits\n",
    "3. **Override:** Redefining a method in a subclass\n",
    "4. **Extend:** Adding new methods or properties in a subclass"
   ]
  },
  {
   "cell_type": "code",
   "execution_count": 2,
   "metadata": {
    "dotnet_interactive": {
     "language": "csharp"
    },
    "polyglot_notebook": {
     "kernelName": "csharp"
    }
   },
   "outputs": [
    {
     "name": "stdout",
     "output_type": "stream",
     "text": [
      "Buddy is a dog.\n",
      "Whiskers is a cat.\n",
      "Buddy is an animal.\n",
      "Whiskers is an animal.\n"
     ]
    }
   ],
   "source": [
    "class Animal:\n",
    "    def __init__(self, name, age):\n",
    "        self.name = name\n",
    "        self.age = age\n",
    "\n",
    "    def speak(self):\n",
    "        return f\"{self.name} is an animal.\"\n",
    "\n",
    "class Dog(Animal):\n",
    "    def speak_dog(self):\n",
    "        return f\"{self.name} is a dog.\"\n",
    "        # inherited the self.name from the Animal class\n",
    "\n",
    "class Cat(Animal):\n",
    "    def speak_cat(self):\n",
    "        return f\"{self.name} is a cat.\"\n",
    "        # inherited the self.name from the Animal class\n",
    "\n",
    "# Usage \n",
    "dog = Dog(\"Buddy\", 10)\n",
    "cat = Cat(\"Whiskers\", 5)\n",
    "print(dog.speak_dog())\n",
    "print(cat.speak_cat())\n",
    "print(dog.speak())\n",
    "print(cat.speak())"
   ]
  },
  {
   "cell_type": "markdown",
   "metadata": {},
   "source": [
    "# <u>Where is Waldo</u>\n",
    "\n",
    "Return the coordinates ([row, col]) of the element that differs from the rest. \n",
    "\n",
    "### Examples\n",
    "\n",
    "```\n",
    "whereIsWaldo([\n",
    "  [\"A\", \"A\", \"A\"],\n",
    "  [\"A\", \"A\", \"A\"],\n",
    "  [\"A\", \"B\", \"A\"]\n",
    "]) \n",
    "output = [3, 2] #B is different from the rest.\n",
    "```"
   ]
  },
  {
   "cell_type": "code",
   "execution_count": 1,
   "metadata": {
    "dotnet_interactive": {
     "language": "csharp"
    },
    "polyglot_notebook": {
     "kernelName": "csharp"
    }
   },
   "outputs": [
    {
     "name": "stdout",
     "output_type": "stream",
     "text": [
      "(3, 2)\n"
     ]
    }
   ],
   "source": [
    "def where_is_waldo(matrix):\n",
    "    dict_values = {}\n",
    "    position_values = []\n",
    "    for row in range(len(matrix)):\n",
    "        for col in range(len(matrix[row])):\n",
    "            if matrix[row][col] not in dict_values.keys():\n",
    "                dict_values[matrix[row][col]] = 1\n",
    "                position_values.append((row + 1, col + 1))\n",
    "            else:\n",
    "                dict_values[matrix[row][col]] += 1\n",
    "            if len(position_values) > 1 and sum(dict_values.values()) > 2:\n",
    "                index_different_value = list(dict_values.values()).index(min(dict_values.values()))\n",
    "                return position_values[index_different_value]\n",
    "    return \"All the elements are equal\"\n",
    "\n",
    "\n",
    "def where_is_waldo1(matrix):\n",
    "    # First flattening the array:\n",
    "    flat_matrix = [item for sublist in matrix for item in sublist]\n",
    "    # Find the unique element:\n",
    "    for el in flat_matrix:\n",
    "        if flat_matrix.count(el) == 1:\n",
    "            unique_element = el\n",
    "            break\n",
    "    # Find the coordinates of the unique element\n",
    "    for row in range(len(matrix)):\n",
    "        for col in range(len(matrix[row])):\n",
    "            if matrix[row][col] == el:\n",
    "                return (row + 1, col + 1)\n",
    "\n",
    "\n",
    "matrix = [\n",
    "  [\"A\", \"A\", \"A\"],\n",
    "  [\"A\", \"A\", \"A\"],\n",
    "  [\"A\", \"B\", \"A\"]\n",
    "]\n",
    "\n",
    "#matrix = [\n",
    "#  [\"A\", \"A\"],\n",
    "#  [\"A\", \"B\"]\n",
    "#]\n",
    "\n",
    "print(where_is_waldo(matrix))"
   ]
  },
  {
   "cell_type": "code",
   "execution_count": null,
   "metadata": {},
   "outputs": [],
   "source": []
  }
 ],
 "metadata": {
  "kernelspec": {
   "display_name": "Python 3",
   "language": "python",
   "name": "python3"
  },
  "language_info": {
   "codemirror_mode": {
    "name": "ipython",
    "version": 3
   },
   "file_extension": ".py",
   "mimetype": "text/x-python",
   "name": "python",
   "nbconvert_exporter": "python",
   "pygments_lexer": "ipython3",
   "version": "3.13.0"
  },
  "polyglot_notebook": {
   "kernelInfo": {
    "defaultKernelName": "csharp",
    "items": [
     {
      "aliases": [],
      "name": "csharp"
     }
    ]
   }
  }
 },
 "nbformat": 4,
 "nbformat_minor": 2
}
