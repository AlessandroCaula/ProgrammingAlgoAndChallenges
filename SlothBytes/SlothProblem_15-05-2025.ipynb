{
 "cells": [
  {
   "cell_type": "markdown",
   "id": "9d69c20f",
   "metadata": {},
   "source": [
    "# Sloth's Meal Time \n",
    "\n",
    "Sloth is a very habitual person. He eats breakfast at 7:00 a.m. each morning, lunch at 12:00 p.m. and dinner at 7:00 p.m. in the evening. \n",
    "\n",
    "Create a function that takes in the current time as a string and determines the duration of time before Sloth's next meal. \n",
    "\n",
    "Represent this as an array with the first and second elements representing hours and minutes, respectively. \n",
    "\n",
    "#### Examples\n",
    "\n",
    "```py\n",
    "timeToEat(\"2:00 p.m.\")\n",
    "#5 hours until the next meal, dinner\n",
    "output = [5, 0]\n",
    "\n",
    "timeToEat(\"5:50 a.m.\")\n",
    "# 1 hour and 10 minutes until the next meal, breakfast\n",
    "output = [1, 10]\n",
    "```"
   ]
  },
  {
   "cell_type": "code",
   "execution_count": null,
   "id": "af28c69e",
   "metadata": {},
   "outputs": [],
   "source": [
    "def timeToEat(time: str) -> str:\n",
    "    eating_minutes = compute_eating_minuter()\n",
    "    time_minute = convert_time_to_minutes(time)\n",
    "    print(eating_minutes)\n",
    "    print(time_minute)\n",
    "\n",
    "    return 'pp'\n",
    "\n",
    "def compute_eating_minuter():\n",
    "    eating_hours = [\"7:00 a.m.\", \"12:00 p.m.\", \"7:00 p.m.\"]\n",
    "    eating_minutes = []\n",
    "    for time in eating_hours:\n",
    "        eating_minutes.append(convert_time_to_minutes(time))\n",
    "    return \n",
    "\n",
    "def convert_time_to_minutes(time: str) -> int:\n",
    "    time_split = time.split(\" \")\n",
    "    hour_split = time_split[0].split(\":\")\n",
    "    # Check if it is a.m. or p.m.\n",
    "    is_pm = True if time_split[1] == 'p.m.' else False\n",
    "    # Extract the hours and minutes as int\n",
    "    hour_int = int(hour_split[0])\n",
    "    minute_int = int(hour_split[1])\n",
    "    if hour_int == 12:\n",
    "        if is_am:\n",
    "            hour_int = hour_int + 12\n",
    "    else:\n",
    "        # If the time is p.m. add 12 to the hours\n",
    "        hour_int = hour_int + 12 if is_pm else hour_int\n",
    "    # Convert it to minutes\n",
    "    total_minutes = hour_int * 60 + minute_int\n",
    "    return total_minutes\n",
    "\n",
    "print(timeToEat(\"2:00 p.m.\"))"
   ]
  },
  {
   "cell_type": "code",
   "execution_count": null,
   "id": "672b51f7",
   "metadata": {},
   "outputs": [],
   "source": []
  }
 ],
 "metadata": {
  "kernelspec": {
   "display_name": "Python 3",
   "language": "python",
   "name": "python3"
  },
  "language_info": {
   "codemirror_mode": {
    "name": "ipython",
    "version": 3
   },
   "file_extension": ".py",
   "mimetype": "text/x-python",
   "name": "python",
   "nbconvert_exporter": "python",
   "pygments_lexer": "ipython3",
   "version": "3.13.0"
  }
 },
 "nbformat": 4,
 "nbformat_minor": 5
}
