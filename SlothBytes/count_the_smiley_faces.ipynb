{
 "cells": [
  {
   "cell_type": "markdown",
   "metadata": {},
   "source": [
    "# Count the Smiley Faces :)\n",
    "\n",
    "### 07-08-2024\n",
    "\n",
    "Create a function that takes **an array of strings** and **return the number of smiley faces contained within it**. These are the components that make up a valid smiley:\n",
    "\n",
    "- A smiley has **eyes**. Eyes can be : or ;\n",
    "- A smiley has a **nose** but it doesn't have to. A nose can be - or ~.\n",
    "- A smiley has a **mouth** which can be ) or D.   \n",
    "\n",
    "**No other characters are allowed except for those mentioned above.**\n",
    "\n",
    "### <u>Examples</u>\n",
    "\n",
    "```\n",
    "countSmileys([\":)\", \";(\", \";}\", \":-D\"])\n",
    "output = 2 # the two smileys are [\":)\" and \":-D\"\n",
    "\n",
    "countSmileys([\";D\", \":-(\", \":-)\", \";~)\"])\n",
    "output = 3 #The three smileys are \";D\", \":-)\", and \";~)\"\n",
    "\n",
    "countSmileys([\";]\", \":[\", \";*\", \":$\", \";-D\"])\n",
    "output = 1 #The smiley is \";-D\"\n",
    "```\n",
    "\n",
    "<u>Notes</u>\n",
    "\n",
    "- You will always be given an array as input. \n",
    "- An empty array should return 0\n",
    "- The order of each facial element will always be the same. \n",
    "- Noses are optional (e.g. :) and :-) are both valid)."
   ]
  },
  {
   "cell_type": "code",
   "execution_count": 13,
   "metadata": {},
   "outputs": [
    {
     "name": "stdout",
     "output_type": "stream",
     "text": [
      "3\n"
     ]
    }
   ],
   "source": [
    "def count_smileys(arr):\n",
    "    count = 0\n",
    "    for smiley in arr:\n",
    "        is_smiley = True\n",
    "        #check if there are no valid eyes:\n",
    "        if smiley[0] != \":\" and smiley[0] != \";\" :\n",
    "            is_smiley = False\n",
    "            continue\n",
    "        if smiley[1] != \"-\" and smiley[1] != \"~\" and smiley[1] != \")\" and smiley[1] != \"D\":\n",
    "            is_smiley = False\n",
    "            continue\n",
    "        if len(smiley) == 3:\n",
    "            if smiley[2] != \")\" and smiley[2] != \"D\": \n",
    "                is_smiley = False\n",
    "                continue\n",
    "        if is_smiley:\n",
    "            count += 1\n",
    "\n",
    "    return count\n",
    "\n",
    "arr = [\";D\", \":-(\", \":-)\", \";~)\"]\n",
    "print(count_smileys(arr))"
   ]
  }
 ],
 "metadata": {
  "kernelspec": {
   "display_name": "Python 3",
   "language": "python",
   "name": "python3"
  },
  "language_info": {
   "codemirror_mode": {
    "name": "ipython",
    "version": 3
   },
   "file_extension": ".py",
   "mimetype": "text/x-python",
   "name": "python",
   "nbconvert_exporter": "python",
   "pygments_lexer": "ipython3",
   "version": "3.9.13"
  }
 },
 "nbformat": 4,
 "nbformat_minor": 2
}
