{
 "cells": [
  {
   "cell_type": "markdown",
   "metadata": {},
   "source": [
    "# Day 50\n",
    "\n",
    "### Create a Flask App"
   ]
  },
  {
   "cell_type": "markdown",
   "metadata": {},
   "source": [
    "In this challenge, you will get to create an app using **Flask**. Flask is a Python web framework. Learning to build websites with Flask is a very important skill to have if you want to get into web development.   \n",
    "You will build an app using **Python, HTML** and **CSS**.   \n",
    "You are going to create an app with two pages, the **home page** and the **about page**.   \n",
    "Your website will have a **navigation bar**, so you can move between the home page and the about page. It will have a background image."
   ]
  },
  {
   "cell_type": "markdown",
   "metadata": {},
   "source": [
    "The first part of the challenge is to create the backend of the app. The backend of the backend of the app is powered by Python. With just a few lines of code, Flask will have the apprunning. When you install Flask you will have to import it into your file.      \n",
    "YOu will have to import **Flask** and **render_templates**.      \n",
    "The render_templates is used to render or generate HTML templates. Below is the script that runs the app. This file is saved as app.py."
   ]
  },
  {
   "cell_type": "code",
   "execution_count": null,
   "metadata": {},
   "outputs": [],
   "source": []
  }
 ],
 "metadata": {
  "kernelspec": {
   "display_name": "Python 3",
   "language": "python",
   "name": "python3"
  },
  "language_info": {
   "codemirror_mode": {
    "name": "ipython",
    "version": 3
   },
   "file_extension": ".py",
   "mimetype": "text/x-python",
   "name": "python",
   "nbconvert_exporter": "python",
   "pygments_lexer": "ipython3",
   "version": "3.9.13"
  }
 },
 "nbformat": 4,
 "nbformat_minor": 2
}
