{
 "cells": [
  {
   "cell_type": "markdown",
   "metadata": {},
   "source": [
    "# Day 50\n",
    "\n",
    "### Create a Flask App"
   ]
  },
  {
   "cell_type": "markdown",
   "metadata": {},
   "source": [
    "In this challenge, you will get to create an app using **Flask**. Flask is a Python web framework. Learning to build websites with Flask is a very important skill to have if you want to get into web development.   \n",
    "You will build an app using **Python, HTML** and **CSS**.   \n",
    "You are going to create an app with two pages, the **home page** and the **about page**.   \n",
    "Your website will have a **navigation bar**, so you can move between the home page and the about page. It will have a background image."
   ]
  },
  {
   "cell_type": "markdown",
   "metadata": {},
   "source": []
  },
  {
   "cell_type": "markdown",
   "metadata": {},
   "source": [
    "The first part of the challenge is to create the backend of the app. The backend of teh "
   ]
  }
 ],
 "metadata": {
  "language_info": {
   "name": "python"
  }
 },
 "nbformat": 4,
 "nbformat_minor": 2
}
