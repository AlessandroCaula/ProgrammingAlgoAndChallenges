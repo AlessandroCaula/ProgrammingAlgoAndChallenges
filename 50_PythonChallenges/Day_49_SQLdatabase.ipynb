{
 "cells": [
  {
   "cell_type": "markdown",
   "metadata": {},
   "source": [
    "# Day 49\n",
    "\n",
    "### Create a Database"
   ]
  },
  {
   "cell_type": "markdown",
   "metadata": {},
   "source": [
    "For this challenge, you are going to create a database using Python's SQLite. You will import SQLite into your script. Create a database called movies.db. \n",
    "In that database, you are going to create a table called movies. In that table, you are going to save the following movies: \n",
    "\n",
    "year        title           genre   \n",
    "2009        Brothers        Drama     \n",
    "2002        Spider Man      Sci-fi   \n",
    "2009        WatchMen        Drama   \n",
    "2010        Inception       Sci-fi     \n",
    "2009        Avatar          Fantasy   \n",
    " \n",
    "a) Once you create a table, run a SQL query to see all the movies in your table.    \n",
    "b) Run another SQL query to select only the movie Brothers from the list.    \n",
    "c) Run another SQL query to select all movies that were released in 2009 from your table.    \n",
    "d) Run another query to select movies in the fantasy and drama genre.    \n",
    "e) Run a query to delete all the contents of your table.    "
   ]
  },
  {
   "cell_type": "markdown",
   "metadata": {},
   "source": [
    "## Example"
   ]
  },
  {
   "cell_type": "code",
   "execution_count": 1,
   "metadata": {},
   "outputs": [],
   "source": [
    "import sqlite3"
   ]
  },
  {
   "cell_type": "markdown",
   "metadata": {},
   "source": [
    "#### 1) Create the database.    \n",
    "By using the \"connect()\" function. This will give you a connection object, from which you can connect to your database. To open connect and create a connection to the database \"test\", you will need the following. "
   ]
  },
  {
   "cell_type": "code",
   "execution_count": 2,
   "metadata": {},
   "outputs": [],
   "source": [
    "connection = sqlite3.connect(\"test.db\")"
   ]
  },
  {
   "cell_type": "markdown",
   "metadata": {},
   "source": [
    "#### 2) Check whether the database was successfully created.   \n",
    "At this point you can check whether your SQLite3 database has been succesfully created. To do so you can call up the \"total_changes\" function on the connection object you just cretaed.    \n",
    "It will show you how many table rows in your relational database have been changed since you connected to the database.    "
   ]
  },
  {
   "cell_type": "code",
   "execution_count": 3,
   "metadata": {},
   "outputs": [
    {
     "name": "stdout",
     "output_type": "stream",
     "text": [
      "0\n"
     ]
    }
   ],
   "source": [
    "print(connection.total_changes)"
   ]
  },
  {
   "cell_type": "markdown",
   "metadata": {},
   "source": [
    "In this case the value would be \"0\" since we've not yet used any SQL commands and, therefore, have an ampty database."
   ]
  },
  {
   "cell_type": "markdown",
   "metadata": {},
   "source": [
    "#### 3) Create the basic framework of your database.    \n",
    "To add data to your SQLlite3 database in Python, you will now need to create a table to store your data, as is the norm with relational databases.     \n",
    "To do this, you will first need to create a cursor object with the pre-defined \"cursor\" function using SQLite3 in Python. This will allow you to send SQL commands to your database. The code you need to do this looks as follows:    "
   ]
  },
  {
   "cell_type": "code",
   "execution_count": 4,
   "metadata": {},
   "outputs": [],
   "source": [
    "cursor = connection.cursor()"
   ]
  },
  {
   "cell_type": "markdown",
   "metadata": {},
   "source": [
    "You can then use the “execute” function from the SQLite3 module to send SQL commands to your database. The function takes your commands, which follow standard SQL syntax, as strings. So, if you want to create a database with the name “example” and the columns “ID”, “name”, and “age”, then the code you use in Python will look as follows:"
   ]
  },
  {
   "cell_type": "code",
   "execution_count": 6,
   "metadata": {},
   "outputs": [
    {
     "data": {
      "text/plain": [
       "<sqlite3.Cursor at 0x13ad9e37960>"
      ]
     },
     "execution_count": 6,
     "metadata": {},
     "output_type": "execute_result"
    }
   ],
   "source": [
    "cursor.execute(\"CREATE TABLE IF NOT EXISTS example (id INTEGER, name TEXT, age INTEGER)\")"
   ]
  },
  {
   "cell_type": "markdown",
   "metadata": {},
   "source": [
    "#### 4) Add Data  \n",
    "You will need the same syntax as you used to create a table to add data to a table:\n"
   ]
  },
  {
   "cell_type": "code",
   "execution_count": 8,
   "metadata": {},
   "outputs": [
    {
     "data": {
      "text/plain": [
       "<sqlite3.Cursor at 0x13ad9e37960>"
      ]
     },
     "execution_count": 8,
     "metadata": {},
     "output_type": "execute_result"
    }
   ],
   "source": [
    "cursor.execute(\"INSERT INTO example VALUES (1, 'alice', 20)\")\n",
    "cursor.execute(\"INSERT INTO example VALUES (2, 'bob', 30)\")\n",
    "cursor.execute(\"INSERT INTO example VALUES (3, 'eve', 40)\")"
   ]
  },
  {
   "cell_type": "markdown",
   "metadata": {},
   "source": [
    "Using the code above you will have added three entries to your database table \"example\".    \n",
    "To save the changes to your database you need to use the \"commit\" function."
   ]
  },
  {
   "cell_type": "code",
   "execution_count": 9,
   "metadata": {},
   "outputs": [],
   "source": [
    "connection.commit()"
   ]
  }
 ],
 "metadata": {
  "kernelspec": {
   "display_name": "Python 3",
   "language": "python",
   "name": "python3"
  },
  "language_info": {
   "codemirror_mode": {
    "name": "ipython",
    "version": 3
   },
   "file_extension": ".py",
   "mimetype": "text/x-python",
   "name": "python",
   "nbconvert_exporter": "python",
   "pygments_lexer": "ipython3",
   "version": "3.9.13"
  }
 },
 "nbformat": 4,
 "nbformat_minor": 2
}
