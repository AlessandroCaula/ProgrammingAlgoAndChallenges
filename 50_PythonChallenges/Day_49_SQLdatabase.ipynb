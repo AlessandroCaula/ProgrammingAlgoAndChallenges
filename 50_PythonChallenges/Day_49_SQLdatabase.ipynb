{
 "cells": [
  {
   "cell_type": "markdown",
   "metadata": {},
   "source": [
    "# Day 49\n",
    "\n",
    "### Create a Database"
   ]
  },
  {
   "cell_type": "markdown",
   "metadata": {},
   "source": [
    "## Example"
   ]
  },
  {
   "cell_type": "code",
   "execution_count": 1,
   "metadata": {},
   "outputs": [],
   "source": [
    "import sqlite3"
   ]
  },
  {
   "cell_type": "markdown",
   "metadata": {},
   "source": [
    "#### 1) Create the database.    \n",
    "By using the \"connect()\" function. This will give you a connection object, from which you can connect to your database. To open connect and create a connection to the database \"test\", you will need the following. "
   ]
  },
  {
   "cell_type": "code",
   "execution_count": 2,
   "metadata": {},
   "outputs": [],
   "source": [
    "connection = sqlite3.connect(\"test.db\")"
   ]
  },
  {
   "cell_type": "markdown",
   "metadata": {},
   "source": [
    "#### 2) Check whether the database was successfully created.   \n",
    "At this point you can check whether your SQLite3 database has been succesfully created. To do so you can call up the \"total_changes\" function on the connection object you just cretaed.    \n",
    "It will show you how many table rows in your relational database have been changed since you connected to the database.    "
   ]
  },
  {
   "cell_type": "code",
   "execution_count": 3,
   "metadata": {},
   "outputs": [
    {
     "name": "stdout",
     "output_type": "stream",
     "text": [
      "0\n"
     ]
    }
   ],
   "source": [
    "print(connection.total_changes)"
   ]
  },
  {
   "cell_type": "markdown",
   "metadata": {},
   "source": [
    "In this case the value would be \"0\" since we've not yet used any SQL commands and, therefore, have an ampty database."
   ]
  },
  {
   "cell_type": "markdown",
   "metadata": {},
   "source": [
    "#### 3) Create the basic framework of your database.    \n",
    "To add data to your SQLlite3 database in Python, you will now need to create a table to store your data, as is the norm with relational databases.     \n",
    "To do this, you will first need to create a cursor object with the pre-defined \"cursor\" function using SQLite3 in Python. This will allow you to send SQL commands to your database. The code you need to do this looks as follows:    "
   ]
  },
  {
   "cell_type": "code",
   "execution_count": 4,
   "metadata": {},
   "outputs": [],
   "source": [
    "cursor = connection.cursor()"
   ]
  },
  {
   "cell_type": "markdown",
   "metadata": {},
   "source": [
    "You can then use the “execute” function from the SQLite3 module to send SQL commands to your database. The function takes your commands, which follow standard SQL syntax, as strings. So, if you want to create a database with the name “example” and the columns “ID”, “name”, and “age”, then the code you use in Python will look as follows:"
   ]
  },
  {
   "cell_type": "code",
   "execution_count": 6,
   "metadata": {},
   "outputs": [
    {
     "data": {
      "text/plain": [
       "<sqlite3.Cursor at 0x13ad9e37960>"
      ]
     },
     "execution_count": 6,
     "metadata": {},
     "output_type": "execute_result"
    }
   ],
   "source": [
    "cursor.execute(\"CREATE TABLE IF NOT EXISTS example (id INTEGER, name TEXT, age INTEGER)\")"
   ]
  },
  {
   "cell_type": "markdown",
   "metadata": {},
   "source": [
    "#### 4) Add Data  \n",
    "You will need the same syntax as you used to create a table to add data to a table:\n"
   ]
  },
  {
   "cell_type": "code",
   "execution_count": 8,
   "metadata": {},
   "outputs": [
    {
     "data": {
      "text/plain": [
       "<sqlite3.Cursor at 0x13ad9e37960>"
      ]
     },
     "execution_count": 8,
     "metadata": {},
     "output_type": "execute_result"
    }
   ],
   "source": [
    "cursor.execute(\"INSERT INTO example VALUES (1, 'alice', 20)\")\n",
    "cursor.execute(\"INSERT INTO example VALUES (2, 'bob', 30)\")\n",
    "cursor.execute(\"INSERT INTO example VALUES (3, 'eve', 40)\")"
   ]
  },
  {
   "cell_type": "markdown",
   "metadata": {},
   "source": [
    "Using the code above you will have added three entries to your database table \"example\".    \n",
    "To save the changes to your database you need to use the \"commit\" function."
   ]
  },
  {
   "cell_type": "code",
   "execution_count": 9,
   "metadata": {},
   "outputs": [],
   "source": [
    "connection.commit()"
   ]
  },
  {
   "cell_type": "markdown",
   "metadata": {},
   "source": [
    "## Read the data "
   ]
  },
  {
   "cell_type": "markdown",
   "metadata": {},
   "source": [
    "Of course, you can also read and output data from your databases instead of just using SQLite3 in Python to create them.   \n",
    "To do this, you need to first connect to the database. From there you can create a connection and cursor object as explained in the step-by-step guide above. Finally you can formulate your SQL request, send it to the database using the “execute” function and use the “fetch_all” function to display the results:"
   ]
  },
  {
   "cell_type": "code",
   "execution_count": 13,
   "metadata": {},
   "outputs": [
    {
     "name": "stdout",
     "output_type": "stream",
     "text": [
      "(1, 'alice', 20)\n",
      "(2, 'bob', 30)\n",
      "(3, 'eve', 40)\n"
     ]
    }
   ],
   "source": [
    "cursor.execute(\"SELECT * FROM example\")\n",
    "rows = cursor.fetchall()\n",
    "for row in rows:\n",
    "    print(row)"
   ]
  },
  {
   "cell_type": "markdown",
   "metadata": {},
   "source": [
    "The \"fetch_all\" function will give you a list of rows which correspond to your request. To output these rows on the console, you can use a Python for loop alongside a print statement. "
   ]
  },
  {
   "cell_type": "markdown",
   "metadata": {},
   "source": [
    "## Modify existing data\n",
    "\n",
    "Since SQLite3 supports SQL commands, you can also modify or delete data within your database. To do so you just need to use the corresopnding SQL command in your database. To start, this tep also requires you to create a connection to your database followed by a connection and cursor object. "
   ]
  },
  {
   "cell_type": "markdown",
   "metadata": {},
   "source": [
    "### Delete data\n",
    "\n",
    "To delete the row with the ID 1, you can use the following code:"
   ]
  },
  {
   "cell_type": "code",
   "execution_count": 14,
   "metadata": {},
   "outputs": [
    {
     "data": {
      "text/plain": [
       "<sqlite3.Cursor at 0x13ad9e37960>"
      ]
     },
     "execution_count": 14,
     "metadata": {},
     "output_type": "execute_result"
    }
   ],
   "source": [
    "cursor.execute(\"DELETE FROM example WHERE id = 1\")"
   ]
  },
  {
   "cell_type": "markdown",
   "metadata": {},
   "source": [
    "### Change data\n",
    "\n",
    "You can use the following command to change the age in the row with ID 2:"
   ]
  },
  {
   "cell_type": "code",
   "execution_count": 15,
   "metadata": {},
   "outputs": [
    {
     "data": {
      "text/plain": [
       "<sqlite3.Cursor at 0x13ad9e37960>"
      ]
     },
     "execution_count": 15,
     "metadata": {},
     "output_type": "execute_result"
    }
   ],
   "source": [
    "cursor.execute(\"UPDATE example SET age = 31 WHERE id = 2\")"
   ]
  },
  {
   "cell_type": "code",
   "execution_count": 17,
   "metadata": {},
   "outputs": [
    {
     "name": "stdout",
     "output_type": "stream",
     "text": [
      "(2, 'bob', 31)\n",
      "(3, 'eve', 40)\n"
     ]
    }
   ],
   "source": [
    "cursor.execute(\"SELECT * FROM example\")\n",
    "rows = cursor.fetchall()\n",
    "for row in rows:\n",
    "    print(row)"
   ]
  },
  {
   "cell_type": "markdown",
   "metadata": {},
   "source": [
    "### End the connection to your database\n",
    "\n",
    "After you have carried out all your tasks in your database, you will now need to end your connection. You can again use the SQLite3 module in Python to do so by opening in your connection object:"
   ]
  },
  {
   "cell_type": "code",
   "execution_count": 18,
   "metadata": {},
   "outputs": [],
   "source": [
    "connection.close()"
   ]
  },
  {
   "cell_type": "markdown",
   "metadata": {},
   "source": [
    "## Challenge"
   ]
  },
  {
   "cell_type": "markdown",
   "metadata": {},
   "source": [
    "For this challenge, you are going to create a database using Python's SQLite. You will import SQLite into your script. Create a database called movies.db. \n",
    "In that database, you are going to create a table called movies. In that table, you are going to save the following movies: \n",
    "\n",
    "year        title           genre   \n",
    "2009        Brothers        Drama     \n",
    "2002        Spider Man      Sci-fi   \n",
    "2009        WatchMen        Drama   \n",
    "2010        Inception       Sci-fi     \n",
    "2009        Avatar          Fantasy   \n",
    " \n",
    "a) Once you create a table, run a SQL query to see all the movies in your table.    \n",
    "b) Run another SQL query to select only the movie Brothers from the list.    \n",
    "c) Run another SQL query to select all movies that were released in 2009 from your table.    \n",
    "d) Run another query to select movies in the fantasy and drama genre.    \n",
    "e) Run a query to delete all the contents of your table.    "
   ]
  },
  {
   "cell_type": "code",
   "execution_count": 19,
   "metadata": {},
   "outputs": [],
   "source": [
    "'''\n",
    "Creating and saving the movies to the database. The first step is to import SQLite and create a database(movies.db). Then we create a table called movies with all the columns that we need (year, title, and genre). \n",
    "There are two ways to upload data to our database. The first one is using the command cur.execute. This method only uploads one item at a time. Since we want to upload many items at once, we use cur.executemany. \n",
    "To do this we create a list with all the movies that we want to upload (movies variable). Once we upload, we need to commit and close to make those changes permanent.\n",
    "'''\n",
    "\n",
    "import sqlite3\n",
    "\n",
    "con = sqlite3.connect('Day_49_movies.bd')\n",
    "cur = con.cursor()\n",
    "\n",
    "# Creating a table in the database\n",
    "cur.execute('CREATE TABLE movies (year, title, genre)')\n",
    "\n",
    "# Creating a variable of all the movies\n",
    "movies = [(2009, 'Brothers', 'Drama'),\n",
    "          (2002, 'Spider-Man', 'Sci-fi'),\n",
    "          (2009, 'WatchMen', 'Drama'),\n",
    "          (2010, 'Inception', 'Sci-Fi'),\n",
    "          (2009, 'Avatar', 'Fantasy')]\n",
    "\n",
    "cur.executemany('''INSERT INTO movies VALUES(?, ?, ?);''', movies)\n",
    "\n",
    "# Commit and close\n",
    "con.commit()\n",
    "con.close()"
   ]
  },
  {
   "cell_type": "markdown",
   "metadata": {},
   "source": [
    "#### a) Creating a query to see all the movies in the table. First, we connect back to the database and then we run the query below."
   ]
  },
  {
   "cell_type": "code",
   "execution_count": 22,
   "metadata": {},
   "outputs": [
    {
     "name": "stdout",
     "output_type": "stream",
     "text": [
      "(2009, 'Brothers', 'Drama')\n",
      "(2002, 'Spider-Man', 'Sci-fi')\n",
      "(2009, 'WatchMen', 'Drama')\n",
      "(2010, 'Inception', 'Sci-Fi')\n",
      "(2009, 'Avatar', 'Fantasy')\n"
     ]
    }
   ],
   "source": [
    "con = sqlite3.connect('Day_49_movies.bd')\n",
    "cur = con.cursor()\n",
    "\n",
    "row = cur.fetchall()\n",
    "for row in cur.execute('SELECT * FROM Movies;'):\n",
    "    print(row)"
   ]
  },
  {
   "cell_type": "markdown",
   "metadata": {},
   "source": [
    "#### b) Creating a query to see all the movies in the table. First, we connect back to the database and then we run the query below."
   ]
  },
  {
   "cell_type": "code",
   "execution_count": 23,
   "metadata": {},
   "outputs": [
    {
     "name": "stdout",
     "output_type": "stream",
     "text": [
      "(2009, 'Brothers', 'Drama')\n"
     ]
    }
   ],
   "source": [
    "con = sqlite3.connect('Day_49_movies.bd')\n",
    "cur = con.cursor()\n",
    "\n",
    "row = cur.fetchall()\n",
    "for row in cur.execute('SELECT * FROM Movies WHERE title = \"Brothers\";'):\n",
    "    print(row)"
   ]
  },
  {
   "cell_type": "markdown",
   "metadata": {},
   "source": [
    "#### c) For this query, we want to see movies released in 2009. Here is that SQL query to make it happen."
   ]
  },
  {
   "cell_type": "code",
   "execution_count": 24,
   "metadata": {},
   "outputs": [
    {
     "name": "stdout",
     "output_type": "stream",
     "text": [
      "(2009, 'Brothers', 'Drama')\n",
      "(2009, 'WatchMen', 'Drama')\n",
      "(2009, 'Avatar', 'Fantasy')\n"
     ]
    }
   ],
   "source": [
    "con = sqlite3.connect('Day_49_movies.bd')\n",
    "cur = con.cursor()\n",
    "\n",
    "row = cur.fetchall()\n",
    "for row in cur.execute('SELECT * FROM Movies WHERE year = 2009'):\n",
    "    print(row)"
   ]
  },
  {
   "cell_type": "markdown",
   "metadata": {},
   "source": [
    "#### d) This question requires that we put multiple conditions in our query. We need movies that are in the *'Drama'* and *'Fantasy'* genres. Here is the query below:"
   ]
  },
  {
   "cell_type": "code",
   "execution_count": 25,
   "metadata": {},
   "outputs": [
    {
     "name": "stdout",
     "output_type": "stream",
     "text": [
      "(2009, 'Brothers', 'Drama')\n",
      "(2009, 'WatchMen', 'Drama')\n",
      "(2009, 'Avatar', 'Fantasy')\n"
     ]
    }
   ],
   "source": [
    "con = sqlite3.connect('Day_49_movies.bd')\n",
    "cur = con.cursor()\n",
    "\n",
    "row = cur.fetchall()\n",
    "for row in cur.execute('SELECT * FROM Movies WHERE genre = \"Fantasy\" OR genre = \"Drama\";'):\n",
    "    print(row)"
   ]
  },
  {
   "cell_type": "markdown",
   "metadata": {},
   "source": [
    "#### e) To delete the contents of our table we can run this query:"
   ]
  },
  {
   "cell_type": "code",
   "execution_count": 26,
   "metadata": {},
   "outputs": [],
   "source": [
    "con = sqlite3.connect('Day_49_movies.bd')\n",
    "cur = con.cursor()\n",
    "cur.execute('DELETE FROM movies;')\n",
    "con.commit()"
   ]
  }
 ],
 "metadata": {
  "kernelspec": {
   "display_name": "Python 3",
   "language": "python",
   "name": "python3"
  },
  "language_info": {
   "codemirror_mode": {
    "name": "ipython",
    "version": 3
   },
   "file_extension": ".py",
   "mimetype": "text/x-python",
   "name": "python",
   "nbconvert_exporter": "python",
   "pygments_lexer": "ipython3",
   "version": "3.9.13"
  }
 },
 "nbformat": 4,
 "nbformat_minor": 2
}
