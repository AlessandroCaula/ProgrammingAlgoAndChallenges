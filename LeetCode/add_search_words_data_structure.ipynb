{
 "cells": [
  {
   "cell_type": "markdown",
   "id": "5e581e3a",
   "metadata": {},
   "source": [
    "# Design Add and Search Words Data Structure\n",
    "\n",
    "Design a data structure that supports adding new words and finding if a string matches any previously added string. \n",
    "\n",
    "Implement the `WordDictionary` class:\n",
    "\n",
    "- `WordDictionary()` Initializes the object\n",
    "\n",
    "- `void addWord(word)` Adds word to the data structure, it can be matched later.\n",
    "\n",
    "- `bool search(word)` Returns `true` if there is any string in the data structure that matches word or `false` otherwise. Word may contains dots `\".\"` where dots can be matched with any letter. \n",
    "\n",
    "### Example:\n",
    "\n",
    "```\n",
    "Input\n",
    "[\"WordDictionary\",\"addWord\",\"addWord\",\"addWord\",\"search\",\"search\",\"search\",\"search\"]\n",
    "[[],[\"bad\"],[\"dad\"],[\"mad\"],[\"pad\"],[\"bad\"],[\".ad\"],[\"b..\"]]\n",
    "\n",
    "Output\n",
    "[null,null,null,null,false,true,true,true]\n",
    "\n",
    "Explanation\n",
    "WordDictionary wordDictionary = new WordDictionary();\n",
    "wordDictionary.addWord(\"bad\");\n",
    "wordDictionary.addWord(\"dad\");\n",
    "wordDictionary.addWord(\"mad\");\n",
    "wordDictionary.search(\"pad\"); // return False\n",
    "wordDictionary.search(\"bad\"); // return True\n",
    "wordDictionary.search(\".ad\"); // return True\n",
    "wordDictionary.search(\"b..\"); // return True\n",
    "```"
   ]
  },
  {
   "cell_type": "code",
   "execution_count": null,
   "id": "91b020be",
   "metadata": {},
   "outputs": [
    {
     "name": "stdout",
     "output_type": "stream",
     "text": [
      "['bad', 'dad', 'mad']\n",
      "False\n",
      "True\n",
      "True\n",
      "True\n"
     ]
    }
   ],
   "source": [
    "class WordDictionary:\n",
    "    # Constructor\n",
    "    def __init__(self):\n",
    "        # Initialize the collection that will contain all the words\n",
    "        self.words_collection = []\n",
    "\n",
    "    def add_word(self, word_to_add):\n",
    "        self.words_collection.append(str(word_to_add))\n",
    "\n",
    "    def search(self, word_to_search):\n",
    "        # Loop through the collection of words and check if the word to search is within the collection\n",
    "        for w in self.words_collection:\n",
    "            # Check the length of the words, if they are the same, start comparing them\n",
    "            if len(w) == len(word_to_search):\n",
    "                # Loop through all the letters and check if they are equal\n",
    "                for i, l in enumerate(word_to_search):\n",
    "                    # Check if the letters are equal\n",
    "                    if l != '.' and l != w[i]:\n",
    "                        break\n",
    "                    # If all the letters are the same and we have reached the end of the word, return True\n",
    "                    if i == len(w) - 1:\n",
    "                        return True\n",
    "        return False\n",
    "        \n",
    "\n",
    "wordDictionary = WordDictionary()\n",
    "\n",
    "wordDictionary.add_word(\"bad\")\n",
    "wordDictionary.add_word(\"dad\")\n",
    "wordDictionary.add_word(\"mad\")\n",
    "# print(wordDictionary.words_collection)\n",
    "print(wordDictionary.search(\"pad\")) # return False\n",
    "print(wordDictionary.search(\"bad\")) # return True\n",
    "print(wordDictionary.search(\".ad\")) # return True\n",
    "print(wordDictionary.search(\"b..\")) # return True\n",
    "\n"
   ]
  },
  {
   "cell_type": "markdown",
   "id": "313a05d1",
   "metadata": {},
   "source": [
    "## Solution\n",
    "\n",
    "To solve this problem efficiently, we'll use a _Trie (prefix tree)_ data structure. This allows us to efficiently add words and search for patterns, especially with wildcard character. The Trie will help us handle both exact word matches and pattern search with dors. We'll implement a recursive search method to handle the dot wildcard matching. \n",
    "\n",
    "Here's the implementation:\n",
    "\n",
    "1. We use a `TrieNode` class to represent each node in the Trie.\n",
    "\n",
    "2. `addWord` method adds words to the Trie character by character. \n",
    "\n",
    "3. `search` method uses depth-first search (DFS) to handle wildcard matching. \n",
    "\n",
    "4. For dot (`\".\"`) characters, we try all possible child nodes recursively.\n",
    "\n",
    "5. The search is efficient for exact matches and provides flexibility for wildcard searches. \n",
    "\n",
    "#### Time complexity\n",
    "\n",
    "- `addWord`: $O(m)$, where $m$ is the length of the word\n",
    "\n",
    "- `search`: $O(26^m)$ in the worst case with many dot wildcards\n",
    "\n",
    "#### Space complexity:\n",
    "\n",
    "$O(n*m)$, where $n$ is the number of words and $m$ is the average word length."
   ]
  },
  {
   "cell_type": "code",
   "execution_count": null,
   "id": "19e431b6",
   "metadata": {},
   "outputs": [],
   "source": [
    "class TrieNode:\n",
    "    def __init__(self):\n",
    "        # Dictionary to store child nodes"
   ]
  }
 ],
 "metadata": {
  "kernelspec": {
   "display_name": "Python 3",
   "language": "python",
   "name": "python3"
  },
  "language_info": {
   "codemirror_mode": {
    "name": "ipython",
    "version": 3
   },
   "file_extension": ".py",
   "mimetype": "text/x-python",
   "name": "python",
   "nbconvert_exporter": "python",
   "pygments_lexer": "ipython3",
   "version": "3.13.0"
  }
 },
 "nbformat": 4,
 "nbformat_minor": 5
}
