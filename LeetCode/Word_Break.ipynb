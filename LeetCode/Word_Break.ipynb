{
 "cells": [
  {
   "cell_type": "markdown",
   "id": "edc6f0ea",
   "metadata": {},
   "source": [
    "# Word Break\n",
    "\n",
    "Given a string `s` and a dictionary of strings `wordDict`, return `true` if `s` can be segmented into a space-separated sequence of one or more dictionary words. \n",
    "\n",
    "__Note__ that the same word in the dictionary may be reused multiple times in the segmentation."
   ]
  },
  {
   "cell_type": "markdown",
   "id": "3d0b2cba",
   "metadata": {},
   "source": [
    "## Solution\n",
    "\n",
    "To solve this problem, we'll use dynamic programming. We'll create a boolean array `dp` where `dp[i]` represents whether the substring `s[0:i]` can be segmented into words from the dictionary. \n",
    "\n",
    "We start with `dp[0] = true` because any empty string can always be segmented. Then for each position in the string, we look backwards to see if we can make a valid word. If we find that the previous part was already valid (`dp[j] = true`) and the current piece `s[j:i]` is in our dictionary, then we mark the current position as valid too.\n",
    "\n",
    "We keep doing this until we reach the end. The answer is whether `dp[n]` is true, meaning the whole string can be broken into dictionary words. \n",
    "\n",
    "The time complexity is  `O(n^2 * m)` where `n` is the length of the string and `m` is the length of the longest word in the dictionary."
   ]
  },
  {
   "cell_type": "code",
   "execution_count": null,
   "id": "b0cc5bc5",
   "metadata": {},
   "outputs": [
    {
     "name": "stdout",
     "output_type": "stream",
     "text": [
      "------\n",
      "------\n",
      "1\n",
      "------\n",
      "2\n",
      "1\n",
      "------\n",
      "3\n",
      "2\n",
      "1\n",
      "------\n",
      "4\n",
      "3\n",
      "2\n",
      "1\n",
      "------\n",
      "5\n",
      "4\n",
      "3\n",
      "2\n",
      "1\n",
      "------\n",
      "6\n",
      "5\n",
      "4\n",
      "3\n",
      "2\n",
      "1\n",
      "------\n",
      "7\n",
      "6\n",
      "5\n",
      "4\n",
      "3\n",
      "2\n",
      "1\n",
      "None\n"
     ]
    }
   ],
   "source": [
    "def word_break(s, word_dict):\n",
    "    # boolean array of len(s)\n",
    "    dp = [False for i in range(len(s))]\n",
    "    # Set dp[0] = True, because any empty string can always be segmented\n",
    "    dp[0] = True\n",
    "\n",
    "    # Then for each position in the string we look backwards to see if we can make a valid word\n",
    "    for i in range(len(s)):\n",
    "        # Look backwards, and check if we can make a valid word\n",
    "        for j in range(i, 0, -1):\n",
    "\n",
    "    return\n",
    "\n",
    "\n",
    "print(word_break('leetcode', ['leet', 'code']))\n",
    "# print(word_break('catsandog', [\"cats\",\"dog\",\"sand\",\"and\",\"cat\"]))"
   ]
  },
  {
   "cell_type": "code",
   "execution_count": null,
   "id": "1910d309",
   "metadata": {},
   "outputs": [],
   "source": []
  }
 ],
 "metadata": {
  "kernelspec": {
   "display_name": "Python 3",
   "language": "python",
   "name": "python3"
  },
  "language_info": {
   "codemirror_mode": {
    "name": "ipython",
    "version": 3
   },
   "file_extension": ".py",
   "mimetype": "text/x-python",
   "name": "python",
   "nbconvert_exporter": "python",
   "pygments_lexer": "ipython3",
   "version": "3.13.1"
  }
 },
 "nbformat": 4,
 "nbformat_minor": 5
}
