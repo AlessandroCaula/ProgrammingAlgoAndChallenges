{
 "cells": [
  {
   "cell_type": "markdown",
   "id": "edc6f0ea",
   "metadata": {},
   "source": [
    "# Word Break\n",
    "\n",
    "Given a string `s` and a dictionary of strings `wordDict`, return `true` if `s` can be segmented into a space-separated sequence of one or more dictionary words. \n",
    "\n",
    "__Note__ that the same word in the dictionary may be reused multiple times in the segmentation."
   ]
  },
  {
   "cell_type": "markdown",
   "id": "3d0b2cba",
   "metadata": {},
   "source": [
    "## Solution\n",
    "\n",
    "To solve this problem, we'll use dynamic programming. We'll create a boolean array `dp` where `dp[i]` represents whether the substring `s[0:i]` can be segmented into words from the dictionary. \n",
    "\n",
    "We start with `dp[0] = true` because any empty string can always be segmented. Then for each position in the string, we look backwards to see if we can make a valid word. If we find that the previous part was already valid (`dp[j] = true`) and the current piece `s[j:i]` is in our dictionary, then we mark the current position as valid too.\n",
    "\n",
    "We keep doing this until we reach the end. The answer is whether `dp[n]` is true, meaning the whole string can be broken into dictionary words. \n",
    "\n",
    "The time complexity is  `O(n^2 * m)` where `n` is the length of the string and `m` is the length of the longest word in the dictionary."
   ]
  },
  {
   "cell_type": "code",
   "execution_count": 6,
   "id": "b0cc5bc5",
   "metadata": {},
   "outputs": [
    {
     "name": "stdout",
     "output_type": "stream",
     "text": [
      "True\n",
      "False\n"
     ]
    }
   ],
   "source": [
    "def word_break(s, word_dict):\n",
    "    # Convert word_dict to a set for faster lookup\n",
    "    word_set = set(word_dict)\n",
    "\n",
    "    # DP array to track valid segments\n",
    "    dp = [False for i in range(len(s) + 1)]\n",
    "    # Empty string is always valid \n",
    "    dp[0] = True\n",
    "\n",
    "    # Iterate through all possible and positions\n",
    "    for i in range(1, len(s) + 1):\n",
    "        # Check all the possible start positions for current segment\n",
    "        for j in range(i):\n",
    "            # If previous segment is valid and current substring is in dictionary\n",
    "            if dp[j] and s[j:i] in word_set:\n",
    "                dp[i] = True\n",
    "                break\n",
    "    \n",
    "    # Return whether entire string can be segmented\n",
    "    return dp[len(s)]\n",
    "\n",
    "print(word_break('leetcode', ['leet', 'code']))\n",
    "print(word_break('catsandog', [\"cats\",\"dog\",\"sand\",\"and\",\"cat\"]))"
   ]
  }
 ],
 "metadata": {
  "kernelspec": {
   "display_name": "Python 3",
   "language": "python",
   "name": "python3"
  },
  "language_info": {
   "codemirror_mode": {
    "name": "ipython",
    "version": 3
   },
   "file_extension": ".py",
   "mimetype": "text/x-python",
   "name": "python",
   "nbconvert_exporter": "python",
   "pygments_lexer": "ipython3",
   "version": "3.13.1"
  }
 },
 "nbformat": 4,
 "nbformat_minor": 5
}
