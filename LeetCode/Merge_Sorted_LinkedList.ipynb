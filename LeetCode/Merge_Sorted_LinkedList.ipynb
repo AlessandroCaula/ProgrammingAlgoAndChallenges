{
 "cells": [
  {
   "cell_type": "markdown",
   "metadata": {},
   "source": [
    "## Merge Two Sorted Linked Lists"
   ]
  },
  {
   "cell_type": "markdown",
   "metadata": {},
   "source": [
    "You are given the heads of two sorted linked lists `list1` and `list2`.   \n",
    "\n",
    "Merge the two lists into one **sorted** linked list and return the head of the new sorted list. \n",
    "\n",
    "The new list should be made up of nodes from `list1` and `list2`  \n",
    "\n",
    "**Example 1**:\n",
    "\n",
    "```python \n",
    "Input: list1 = [1,2,4], list2 = [1,3,5]\n",
    "\n",
    "Output: [1,1,2,3,4,5]\n",
    "\n",
    "```"
   ]
  },
  {
   "cell_type": "code",
   "execution_count": 26,
   "metadata": {},
   "outputs": [],
   "source": [
    "class ListNode:\n",
    "    def __init__(self, val = 0, next = None):\n",
    "        self.val = val\n",
    "        self.next = next\n",
    "\n",
    "def create_LL_from_array(ll: list[int]) -> ListNode:\n",
    "    if len(ll) == 0:\n",
    "        return None\n",
    "    \n",
    "    head = ListNode(ll[0])\n",
    "    node = head\n",
    "    for el in ll[1:]:\n",
    "        node.next = ListNode(el)\n",
    "        node = node.next\n",
    "    \n",
    "    return head"
   ]
  },
  {
   "cell_type": "markdown",
   "metadata": {},
   "source": [
    "### Best Solution"
   ]
  },
  {
   "cell_type": "code",
   "execution_count": 27,
   "metadata": {},
   "outputs": [
    {
     "name": "stdout",
     "output_type": "stream",
     "text": [
      "0\n",
      "1\n",
      "1\n",
      "2\n",
      "3\n",
      "4\n",
      "5\n"
     ]
    }
   ],
   "source": [
    "def mergeTwoLists(list1: ListNode, list2: ListNode) -> ListNode:\n",
    "    dummy = node = ListNode()\n",
    "\n",
    "    while list1 and list2:\n",
    "        if list1.val < list2.val:\n",
    "            node.next = list1\n",
    "            list1 = list1.next\n",
    "        else:\n",
    "            node.next = list2\n",
    "            list2 = list2.next\n",
    "        node = node.next\n",
    "\n",
    "    node.next = list1 or list2\n",
    "\n",
    "    return dummy\n",
    "\n",
    "ll1 = create_LL_from_array([1,2,4])\n",
    "ll2 = create_LL_from_array([1,3,5])\n",
    "\n",
    "merged_ll = mergeTwoLists(ll1, ll2)\n",
    "\n",
    "while merged_ll:\n",
    "    print(merged_ll.val)\n",
    "    merged_ll = merged_ll.next"
   ]
  },
  {
   "cell_type": "markdown",
   "metadata": {},
   "source": [
    "### Brute Solution"
   ]
  },
  {
   "cell_type": "code",
   "execution_count": 19,
   "metadata": {},
   "outputs": [
    {
     "name": "stdout",
     "output_type": "stream",
     "text": [
      "0\n"
     ]
    }
   ],
   "source": [
    "# ll1 = create_LL_from_array([1,2,4])\n",
    "# ll2 = create_LL_from_array([1,3,5])\n",
    "ll1 = create_LL_from_array([])\n",
    "ll2 = create_LL_from_array([0])\n",
    "\n",
    "def mergeTwoLists(list1: ListNode, list2: ListNode) -> ListNode:\n",
    "    sortedLL = None\n",
    "    if list1 == None and list2 == None:\n",
    "        return None\n",
    "    if list1 == None:\n",
    "        sortedLL = ListNode(list2.val)\n",
    "        list2 = list2.next\n",
    "    elif list2 == None:\n",
    "        sortedLL = ListNode(list1.val)\n",
    "        list1 = list1.next\n",
    "    elif list1.val <= list2.val:\n",
    "        sortedLL = ListNode(list1.val)\n",
    "        list1 = list1.next\n",
    "    else:\n",
    "        sortedLL = ListNode(list2.val)\n",
    "        list2 = list2.next\n",
    "    head_sortedLL = sortedLL\n",
    "    while True:         # list1 != None and list2 != None\n",
    "        # Check the condition to exit the while loop. When both the list1 and list2 are None\n",
    "        if not list1 and not list2:\n",
    "            break\n",
    "        if not list1 or not list2:\n",
    "            if not list1:\n",
    "                sortedLL.next = ListNode(list2.val)\n",
    "                list2 = list2.next\n",
    "                sortedLL = sortedLL.next\n",
    "            elif not list2:\n",
    "                sortedLL.next = ListNode(list1.val)\n",
    "                list1 = list1.next\n",
    "                sortedLL = sortedLL.next\n",
    "        else:\n",
    "            if list1.val <= list2.val:\n",
    "                sortedLL.next = ListNode(list1.val)\n",
    "                list1 = list1.next\n",
    "                sortedLL = sortedLL.next\n",
    "            else:\n",
    "                sortedLL.next = ListNode(list2.val)\n",
    "                list2 = list2.next\n",
    "                sortedLL = sortedLL.next\n",
    "\n",
    "    return head_sortedLL\n",
    "\n",
    "merged_ll = mergeTwoLists(ll1, ll2)\n",
    "\n",
    "while merged_ll:\n",
    "    print(merged_ll.val)\n",
    "    merged_ll = merged_ll.next"
   ]
  },
  {
   "cell_type": "code",
   "execution_count": null,
   "metadata": {},
   "outputs": [],
   "source": []
  }
 ],
 "metadata": {
  "kernelspec": {
   "display_name": "Python 3",
   "language": "python",
   "name": "python3"
  },
  "language_info": {
   "codemirror_mode": {
    "name": "ipython",
    "version": 3
   },
   "file_extension": ".py",
   "mimetype": "text/x-python",
   "name": "python",
   "nbconvert_exporter": "python",
   "pygments_lexer": "ipython3",
   "version": "3.13.0"
  }
 },
 "nbformat": 4,
 "nbformat_minor": 2
}
