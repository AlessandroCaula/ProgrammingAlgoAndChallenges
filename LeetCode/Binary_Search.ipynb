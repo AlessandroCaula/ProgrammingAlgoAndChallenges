{
 "cells": [
  {
   "cell_type": "markdown",
   "metadata": {},
   "source": [
    "## Binary Search"
   ]
  },
  {
   "cell_type": "markdown",
   "metadata": {},
   "source": [
    "You are given an array of **distinct** integers `nums`, sorted in ascending order, and an integer `target`.  \n",
    "\n",
    "Implement a function to search for `target` within `nums`. If it exists, returns its index, otherwise, return `-1`.  \n",
    "\n",
    "The solution must run in *O(log )* time.\n",
    "\n",
    "**Example 1**:\n",
    "```python \n",
    "Input: nums = [-1,0,2,4,6,8], target = 4\n",
    "Output: 3\n",
    "```"
   ]
  },
  {
   "cell_type": "code",
   "execution_count": 11,
   "metadata": {},
   "outputs": [
    {
     "name": "stdout",
     "output_type": "stream",
     "text": [
      "5\n"
     ]
    }
   ],
   "source": [
    "def search(nums: list[int], target: int):\n",
    "    l = 0\n",
    "    r = len(nums) - 1\n",
    "\n",
    "    while l <= r:\n",
    "        # Compute the middle of the array\n",
    "        # m = (l + r) // 2  # -> Can lead to overflow\n",
    "        m = l + ((r - l) // 2)\n",
    "        # Check if the middle element is equal to the target\n",
    "        if nums[m] == target:\n",
    "            return m\n",
    "        else:\n",
    "            if target < nums[m]:\n",
    "                r = m - 1\n",
    "            else:\n",
    "                l = m + 1\n",
    "    return -1\n",
    "\n",
    "print(search([-1,0,2,4,6,8], 8))"
   ]
  },
  {
   "cell_type": "markdown",
   "metadata": {},
   "source": [
    "### Recursive Binary Search"
   ]
  },
  {
   "cell_type": "code",
   "execution_count": 12,
   "metadata": {},
   "outputs": [
    {
     "name": "stdout",
     "output_type": "stream",
     "text": [
      "1\n"
     ]
    }
   ],
   "source": [
    "# Recursive\n",
    "\n",
    "def search(nums: list[int], target: int):\n",
    "    l = 0\n",
    "    r = len(nums)\n",
    "    index = -1\n",
    "    index = binarySearch(l, r, nums, target)\n",
    "    return index\n",
    "\n",
    "def binarySearch(l: int, r: int, nums: list[int], target: int):\n",
    "    if l > r:\n",
    "        return -1\n",
    "\n",
    "    # Compute the middle of the list\n",
    "    m = l + ((r - l) // 2)\n",
    "\n",
    "    if nums[m] == target:\n",
    "        return m\n",
    "    if nums[m] < target:\n",
    "        return binarySearch(m + 1, r, nums, target)\n",
    "    return binarySearch(l, m - 1, nums, target)\n",
    "    \n",
    "\n",
    "print(search([-1,0,2,4,6,8], 0))\n"
   ]
  }
 ],
 "metadata": {
  "kernelspec": {
   "display_name": "Python 3",
   "language": "python",
   "name": "python3"
  },
  "language_info": {
   "codemirror_mode": {
    "name": "ipython",
    "version": 3
   },
   "file_extension": ".py",
   "mimetype": "text/x-python",
   "name": "python",
   "nbconvert_exporter": "python",
   "pygments_lexer": "ipython3",
   "version": "3.13.0"
  }
 },
 "nbformat": 4,
 "nbformat_minor": 2
}
