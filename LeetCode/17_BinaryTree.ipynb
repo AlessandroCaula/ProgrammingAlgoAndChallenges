{
 "cells": [
  {
   "cell_type": "markdown",
   "metadata": {},
   "source": [
    "# Binary Tree"
   ]
  },
  {
   "cell_type": "markdown",
   "metadata": {},
   "source": [
    "Tree represents the nodes connected by edges. It is a non-linear data structure. It has the following properties:  \n",
    "- One node is marked as Root node.\n",
    "- Every node other than the root is associated with one parent node. \n",
    "- Each node can have an arbitrary number of child node.   "
   ]
  },
  {
   "cell_type": "markdown",
   "metadata": {},
   "source": [
    "### Create a Root \n",
    "\n",
    "We just create a Node class and assign a value to the node. This becomes tree with only a root node. "
   ]
  },
  {
   "cell_type": "code",
   "execution_count": 3,
   "metadata": {},
   "outputs": [
    {
     "name": "stdout",
     "output_type": "stream",
     "text": [
      "10\n"
     ]
    }
   ],
   "source": [
    "class Node:\n",
    "    def __init__(self, data):\n",
    "        self.left = None\n",
    "        self.right = None\n",
    "        self.data = data\n",
    "    def __repr__(self) -> str:\n",
    "        return str(self.data)\n",
    "\n",
    "root = Node(10)\n",
    "print(root)"
   ]
  },
  {
   "cell_type": "markdown",
   "metadata": {},
   "source": [
    "### Inserting into a Tree\n",
    "\n",
    "To insert into a tree we use the same node class created above and add a insert method to it. The insert class compares the value of the node to the parent node and decides to add it as a left node or rigth node. Finally the PrintTree class is used to print the tree."
   ]
  },
  {
   "cell_type": "code",
   "execution_count": 17,
   "metadata": {},
   "outputs": [
    {
     "name": "stdout",
     "output_type": "stream",
     "text": [
      "3 6 12 14 "
     ]
    }
   ],
   "source": [
    "class Node:\n",
    "    def __init__(self, data):\n",
    "        self.left = None\n",
    "        self.right = None\n",
    "        self.data = data\n",
    "    \n",
    "    def insert(self, data):\n",
    "        # Compare the new value with the parent node\n",
    "        if self.data:\n",
    "            if data < self.data:\n",
    "                if self.left is None:\n",
    "                    self.left = Node(data)\n",
    "                else:\n",
    "                    self.left.insert(data)\n",
    "            elif data > self.data:\n",
    "                if self.right is None:\n",
    "                    self.right = Node(data)\n",
    "                else:\n",
    "                    self.right.insert(data)\n",
    "        else:\n",
    "            self.data = data\n",
    "    \n",
    "    # Print the Tree\n",
    "    def PrintTree(self):\n",
    "        if self.left:\n",
    "            self.left.PrintTree()\n",
    "        print(self.data, end=' ')\n",
    "        if self.right:\n",
    "            self.right.PrintTree()\n",
    "\n",
    "# Use the insert method to add nodes\n",
    "root = Node(12)\n",
    "root.insert(6)\n",
    "root.insert(14)\n",
    "root.insert(3)\n",
    "root.PrintTree()"
   ]
  },
  {
   "cell_type": "markdown",
   "metadata": {},
   "source": [
    "## Traversing a Tree\n",
    "\n",
    "The tree can be traversed by deciding on a sequence to visit each node. As we can clearly see we can start at a node then visit the left sub-tree first and right sub-tree next. Or we can also visit the right sub-tree first and left sub-tree next.    \n",
    "Accordingly there are different names for these tree traversal methods. "
   ]
  },
  {
   "cell_type": "markdown",
   "metadata": {},
   "source": [
    "### Tree Traversal Algorithms\n",
    "\n",
    "Traversal is a process to visit all the nodes of a tree and may print their values too. Because, all nodes are connected via edges (links) we start from the root (head) node.   \n",
    "That is, we cannot randomly access a node in a tree. There are three ways which we use to traverse a tree.  \n",
    "- In-order Traversal\n",
    "- Pre-order Traversal\n",
    "- Post-order Traversal"
   ]
  },
  {
   "cell_type": "markdown",
   "metadata": {},
   "source": [
    "### In-order Traversal\n",
    "\n",
    "In this traversal method, the left subtree is visited first, then the root and later the right sub-tree. We should always remember that every node may represent a subtree itself.  \n",
    "\n",
    "In the below python program, we use the Node class to create place holders for the root node as well as the left and right nodes. Then, we create an insert function to add date to the tree. Finally, the In-order Traversal logic is implemented by creating an empty list and adding the left node first followed by the root or parent node.   \n",
    "\n",
    "At last the left node is added to complete the In-order traversal. Please note that this process is repeated for each sub-tree until all the nodes are traversed."
   ]
  },
  {
   "cell_type": "markdown",
   "metadata": {},
   "source": [
    "<img src=\"https://media.geeksforgeeks.org/wp-content/uploads/20230222114844/post2.png\" alt=\"image description\" width=\"300\"/>\n",
    "<img src=\"https://media.geeksforgeeks.org/wp-content/uploads/20230222114912/post3.png\" alt=\"image description\" width=\"300\"/>\n",
    "<img src=\"https://media.geeksforgeeks.org/wp-content/uploads/20230222114941/post4.png\" alt=\"image description\" width=\"300\"/>\n",
    "<img src=\"https://media.geeksforgeeks.org/wp-content/uploads/20230222115010/post5.png\" alt=\"image description\" width=\"300\"/>\n",
    "<img src=\"https://media.geeksforgeeks.org/wp-content/uploads/20230222115034/post6.png\" alt=\"image description\" width=\"300\"/>\n",
    "<img src=\"https://media.geeksforgeeks.org/wp-content/uploads/20230222115101/post7.png\" alt=\"image description\" width=\"300\"/>  \n",
    "\n",
    "**4 -> 2 -> 5 -> 1 -> 3 -> 6**"
   ]
  },
  {
   "cell_type": "code",
   "execution_count": 4,
   "metadata": {},
   "outputs": [
    {
     "name": "stdout",
     "output_type": "stream",
     "text": [
      "[10, 14, 19, 27, 31, 35, 42]\n"
     ]
    }
   ],
   "source": [
    "class Node:\n",
    "    def __init__(self, data):\n",
    "        self.left = None\n",
    "        self.right = None\n",
    "        self.data = data\n",
    "    \n",
    "    # Insert Node\n",
    "    def insert(self, data):\n",
    "        # Compare the new value with the parent node\n",
    "        if self.data:\n",
    "            if data < self.data:\n",
    "                if self.left is None:\n",
    "                    self.left = Node(data)\n",
    "                else:\n",
    "                    self.left.insert(data)\n",
    "            elif data > self.data:\n",
    "                if self.right is None:\n",
    "                    self.right = Node(data)\n",
    "                else:\n",
    "                    self.right.insert(data)\n",
    "        else:\n",
    "            self.data = data\n",
    "    \n",
    "    # Print the Tree\n",
    "    def PrintTree(self):\n",
    "        if self.left:\n",
    "            self.left.PrintTree()\n",
    "        print(self.data, end=' ')\n",
    "        if self.right:\n",
    "            self.right.PrintTree()\n",
    "\n",
    "    # In-order Traversal\n",
    "    # Left -> Root -> Right\n",
    "    def inOrderTraversal(self, root):\n",
    "        res = []\n",
    "        if root:\n",
    "            res = self.inOrderTraversal(root.left)\n",
    "            res.append(root.data)\n",
    "            res = res + self.inOrderTraversal(root.right)\n",
    "        return res\n",
    "    \n",
    "\n",
    "root = Node(27)\n",
    "root.insert(14)\n",
    "root.insert(35)\n",
    "root.insert(10)\n",
    "root.insert(19)\n",
    "root.insert(31)\n",
    "root.insert(42)\n",
    "print(root.inOrderTraversal(root))    "
   ]
  },
  {
   "cell_type": "markdown",
   "metadata": {},
   "source": [
    "### Pre-order Traversal  \n",
    "\n",
    "In this traversal method, the root node is visited first, then the left subtree and finally the right subtree.   \n",
    "\n",
    "In the below python program, we use the Node class to create place holders for the root node as well as the left and right nodes. Then, we create an insert function to add data to the tree. Finally, the Pre-order traversal logic is implemented by creating and empty list and adding the root node first followed by the left node.   \n",
    "\n",
    "At last, the right node is added to complete the Pre-order traversal. Please note that, this process is repeated for each sub-tree until all the nodes are traversed."
   ]
  },
  {
   "cell_type": "markdown",
   "metadata": {},
   "source": [
    "<img src=\"https://media.geeksforgeeks.org/wp-content/uploads/20230222124847/post2.png\" alt=\"image description\" width=\"300\"/>\n",
    "<img src=\"https://media.geeksforgeeks.org/wp-content/uploads/20230222124920/post3.png\" alt=\"image description\" width=\"300\"/>\n",
    "<img src=\"https://media.geeksforgeeks.org/wp-content/uploads/20230222124948/post4drawio.png\" alt=\"image description\" width=\"300\"/>\n",
    "<img src=\"https://media.geeksforgeeks.org/wp-content/uploads/20230222125140/post5-.png\" alt=\"image description\" width=\"300\"/>\n",
    "<img src=\"https://media.geeksforgeeks.org/wp-content/uploads/20230222125345/post6.png\" alt=\"image description\" width=\"300\"/>\n",
    "<img src=\"https://media.geeksforgeeks.org/wp-content/uploads/20230222125507/post7.png\" alt=\"image description\" width=\"300\"/>\n",
    "\n",
    "**1 -> 2 -> 4 -> 5 -> 3 -> 6**"
   ]
  },
  {
   "cell_type": "code",
   "execution_count": 6,
   "metadata": {},
   "outputs": [
    {
     "name": "stdout",
     "output_type": "stream",
     "text": [
      "[1, 2, 4, 5, 3, 6]\n"
     ]
    }
   ],
   "source": [
    "class Node:\n",
    "    def __init__(self, data):\n",
    "        self.left = None\n",
    "        self.right = None\n",
    "        self.data = data\n",
    "    \n",
    "    # Insert Node\n",
    "    def insert(self, data):\n",
    "        if self.data:\n",
    "            if data < self.data:\n",
    "                if self.left is None:\n",
    "                    self.left = Node(data)\n",
    "                else:\n",
    "                    self.left.insert(data)\n",
    "            elif data > self.data:\n",
    "                if self.right is None:\n",
    "                    self.right = Node(data)\n",
    "                else:\n",
    "                    self.right.insert(data)\n",
    "    \n",
    "    # Root -> Left -> Right\n",
    "    def preorderTraversal(self, root):\n",
    "        res = []\n",
    "        if root:\n",
    "            res.append(root.data)\n",
    "            res = res + self.preorderTraversal(root.left)\n",
    "            res = res + self.preorderTraversal(root.right)\n",
    "        return res\n",
    "    \n",
    "root = Node(1)\n",
    "root.left = Node(2)\n",
    "root.right = Node(3)\n",
    "root.left.left = Node(4)\n",
    "root.left.right = Node(5)\n",
    "root.right.right = Node(6)\n",
    "print(root.preorderTraversal(root))"
   ]
  },
  {
   "cell_type": "markdown",
   "metadata": {},
   "source": [
    "### Post-order Traversal  \n",
    "\n",
    "In this traversal method, the root node is visited last, hence the name. First we traverse the left subtree, then the right subtree and finally the root node.   \n",
    "\n",
    "In the below python program, we use the Node class to create place holders for the root node as well as the left and right nodes. Then, we create an insert function to add data to the tree. Finally, the Post-order traversal logic is implemented by creating an empty list and adding the left node first followed by the right node.    \n",
    "\n",
    "At last the root or parent node is added to complete the Post-order traversal. Please note that, this process is repeated for each sub-tree until all the nodes are traversed. "
   ]
  },
  {
   "cell_type": "markdown",
   "metadata": {},
   "source": [
    "<img src=\"https://media.geeksforgeeks.org/wp-content/uploads/20230222140207/post2.png\" alt=\"image description\" width=\"300\"/>\n",
    "<img src=\"https://media.geeksforgeeks.org/wp-content/uploads/20230222140248/post3_.png\" alt=\"image description\" width=\"300\"/>\n",
    "<img src=\"https://media.geeksforgeeks.org/wp-content/uploads/20230222140318/post4.png\" alt=\"image description\" width=\"300\"/>\n",
    "<img src=\"https://media.geeksforgeeks.org/wp-content/uploads/20230222140402/post5.png\" alt=\"image description\" width=\"300\"/>\n",
    "<img src=\"https://media.geeksforgeeks.org/wp-content/uploads/20230222140435/pos6.png\" alt=\"image description\" width=\"300\"/>\n",
    "<img src=\"https://media.geeksforgeeks.org/wp-content/uploads/20230222140522/post7.png\" alt=\"image description\" width=\"300\"/>\n",
    "\n",
    "**4 -> 5 -> 2 -> 6 -> 3 -> 1**"
   ]
  },
  {
   "cell_type": "code",
   "execution_count": 8,
   "metadata": {},
   "outputs": [
    {
     "name": "stdout",
     "output_type": "stream",
     "text": [
      "[4, 5, 2, 6, 3, 1]\n"
     ]
    }
   ],
   "source": [
    "class Node:\n",
    "    def __init__(self, data):\n",
    "        self.left = None\n",
    "        self.right = None\n",
    "        self.data = data\n",
    "    \n",
    "    # Insert Node\n",
    "    def insert(self, data):\n",
    "        if self.data:\n",
    "            if data < self.data:\n",
    "                if self.left is None:\n",
    "                    self.left = Node(data)\n",
    "                else:\n",
    "                    self.left.insert(data)\n",
    "            elif data > self.data:\n",
    "                if self.right is None:\n",
    "                    self.right = Node(data)\n",
    "                else:\n",
    "                    self.right.insert(data)\n",
    "            else:\n",
    "                self.data = data\n",
    "    \n",
    "    # Print the Tree\n",
    "    def postOrderTraversal(self, root):\n",
    "        res = []\n",
    "        if root:\n",
    "            res = self.postOrderTraversal(root.left)\n",
    "            res = res + self.postOrderTraversal(root.right)\n",
    "            res.append(root.data)\n",
    "        return res\n",
    "            \n",
    "    \n",
    "root = Node(1)\n",
    "root.left = Node(2)\n",
    "root.right = Node(3)\n",
    "root.left.left = Node(4)\n",
    "root.left.right = Node(5)\n",
    "root.right.right = Node(6)\n",
    "print(root.postOrderTraversal(root))"
   ]
  },
  {
   "cell_type": "markdown",
   "metadata": {},
   "source": [
    "### Another way of building a Binary tree"
   ]
  },
  {
   "cell_type": "code",
   "execution_count": 3,
   "metadata": {},
   "outputs": [
    {
     "data": {
      "text/plain": [
       "<__main__.BinaryTree at 0x230ac60ef70>"
      ]
     },
     "execution_count": 3,
     "metadata": {},
     "output_type": "execute_result"
    }
   ],
   "source": [
    "class Node:\n",
    "    def __init__(self, val):\n",
    "        self.left = None\n",
    "        self.right = None\n",
    "        self.val = val\n",
    "\n",
    "class BinaryTree:\n",
    "    def __init__(self):\n",
    "        self.root = None \n",
    "    \n",
    "    def get_root(self):\n",
    "        return self.root\n",
    "    \n",
    "    def add(self, val):\n",
    "        if not self.root:\n",
    "            self.root = Node(val)\n",
    "        else:\n",
    "            self._add(val, self.root)\n",
    "    \n",
    "    def _add(self, val, node):\n",
    "        if val < node.val:\n",
    "            if node.left:\n",
    "                self._add(val, node.left)\n",
    "            else:\n",
    "                node.left = Node(val)\n",
    "        else:\n",
    "            if node.right:\n",
    "                self._add(val, node.right)\n",
    "            else:\n",
    "                node.right = Node(val)\n",
    "\n",
    "\n",
    "def tree_builder(tree_node_values: list[int]):\n",
    "    tree = BinaryTree()\n",
    "    for val in tree_node_values:\n",
    "        if val == None:\n",
    "            continue\n",
    "        tree.add(val)\n",
    "    return tree\n",
    "\n",
    "input = [1, None, 2, 3]\n",
    "tree_builder(input)"
   ]
  },
  {
   "cell_type": "markdown",
   "metadata": {},
   "source": [
    "## Conscrut a complete binary tree from given array in level order fashion "
   ]
  },
  {
   "cell_type": "markdown",
   "metadata": {},
   "source": [
    "Given an array of elements, our task is to construct a complete binary tree from this array ni a level order fashion. That is, elements from the left in the array will be filled in the tree level-wise starting from level 0. \n",
    "\n",
    "```\n",
    "Input  :  arr[] = {1, 2, 3, 4, 5, 6}\n",
    "Output : Root of the following tree\n",
    "                  1\n",
    "                 / \\\n",
    "                2   3\n",
    "               / \\ /\n",
    "              4  5 6\n",
    "Input: arr[] = {1, 2, 3, 4, 5, 6, 6, 6, 6, 6}\n",
    "Output: Root of the following tree\n",
    "                   1\n",
    "                  / \\\n",
    "                 2   3\n",
    "                / \\ / \\\n",
    "               4  5 6  6\n",
    "              / \\ /\n",
    "             6  6 6\n",
    "```"
   ]
  },
  {
   "cell_type": "markdown",
   "metadata": {},
   "source": [
    "If we observe caregully we can see that if the parent node is at index `i` in the array then the left child of that node is ar index `(2 * i + 1)` and the right child is ar index `(2 * i + 2)` in the array.   \n",
    "Using this concept, we can easily insert the left and right nodes by choosing their parent node. We will insert the first element present in the array as the root node at level 0 in the tree and start traversing the array and for every node, we will insert both children left and right in the tree.    "
   ]
  },
  {
   "cell_type": "code",
   "execution_count": 9,
   "metadata": {},
   "outputs": [
    {
     "name": "stdout",
     "output_type": "stream",
     "text": [
      "1 2 3 4 5 "
     ]
    }
   ],
   "source": [
    "# Define a class for the tree node\n",
    "class Node:\n",
    "    def __init__(self, val):\n",
    "        self.left = None\n",
    "        self.right = None\n",
    "        self.val = val\n",
    "    \n",
    "# Function to insert nodes in level order\n",
    "def insertLevelOrder(arr, root, i, n):  # arr: array, i: current index, n: size of array\n",
    "        # Base case for recursion\n",
    "        if i < n:\n",
    "            temp = Node(arr[i])\n",
    "            root = temp\n",
    "\n",
    "            # Insert left child\n",
    "            root.left = insertLevelOrder(arr, root.left, 2 * i + 1, n)\n",
    "\n",
    "            # Insert right child\n",
    "            root.right = insertLevelOrder(arr, root.right, 2 * i + 2, n)\n",
    "\n",
    "        return root\n",
    "\n",
    "# Function to print tree in level order fashion\n",
    "def printLevelOrder(root):\n",
    "    if not root:\n",
    "        return \n",
    "    queue = []\n",
    "    queue.append(root)\n",
    "\n",
    "    while(len(queue) > 0):\n",
    "        node = queue.pop(0)\n",
    "        print(node.val, end = \" \")\n",
    "\n",
    "        # Enqueue left child\n",
    "        if node.left:\n",
    "            queue.append(node.left)\n",
    "        \n",
    "        # Enqueue right child\n",
    "        if node.right:\n",
    "            queue.append(node.right)\n",
    "\n",
    "     \n",
    "\n",
    "arr = [1, 2, 3, 4, 5]\n",
    "n = len(arr)\n",
    "root = None\n",
    "root = insertLevelOrder(arr, root, 0, n)\n",
    "printLevelOrder(root)"
   ]
  },
  {
   "cell_type": "markdown",
   "metadata": {},
   "source": [
    "# Problem\n",
    "## Binary Tree Inorder Traversal "
   ]
  },
  {
   "cell_type": "markdown",
   "metadata": {},
   "source": [
    "Given the `root` of a binary tree, return the *inorder traversal of nodes' values*."
   ]
  },
  {
   "cell_type": "markdown",
   "metadata": {},
   "source": [
    "**Example 1**:\n",
    "```\n",
    "Input root = [1, null, 2, 3]\n",
    "Output: [1, 3, 2]\n",
    "```\n",
    "<img src=\"https://assets.leetcode.com/uploads/2024/08/29/screenshot-2024-08-29-202743.png\" alt=\"image description\" height=\"200\"/>"
   ]
  },
  {
   "cell_type": "markdown",
   "metadata": {},
   "source": [
    "**Example 2**:\n",
    "\n",
    "```\n",
    "Input root = [1, 2, 3, 4, 5, null, 8, null, null, 6, 7, 9]\n",
    "Output: [4, 2, 6, 5, 7, 1, 3, 9, 8]\n",
    "```\n",
    "\n",
    "<img src=\"https://assets.leetcode.com/uploads/2024/08/29/tree_2.png\" alt=\"image description\" height=\"200\"/>"
   ]
  },
  {
   "cell_type": "code",
   "execution_count": null,
   "metadata": {},
   "outputs": [],
   "source": [
    "# Define a class for the tree node\n",
    "class Node:\n",
    "    def __init__(self, val):\n",
    "        self.left = None\n",
    "        self.right = None\n",
    "        self.val = val\n",
    "    \n",
    "# Function to insert nodes in level order\n",
    "def insertLevelOrder(arr, root, i, n):  # arr: array, i: current index, n: size of array\n",
    "        # Base case for recursion\n",
    "        if i < n:\n",
    "            temp = Node(arr[i])\n",
    "            root = temp\n",
    "\n",
    "            # Insert left child\n",
    "            root.left = insertLevelOrder(arr, root.left, 2 * i + 1, n)\n",
    "\n",
    "            # Insert right child\n",
    "            root.right = insertLevelOrder(arr, root.right, 2 * i + 2, n)\n",
    "\n",
    "        return root"
   ]
  }
 ],
 "metadata": {
  "kernelspec": {
   "display_name": "Python 3",
   "language": "python",
   "name": "python3"
  },
  "language_info": {
   "codemirror_mode": {
    "name": "ipython",
    "version": 3
   },
   "file_extension": ".py",
   "mimetype": "text/x-python",
   "name": "python",
   "nbconvert_exporter": "python",
   "pygments_lexer": "ipython3",
   "version": "3.9.13"
  }
 },
 "nbformat": 4,
 "nbformat_minor": 2
}
