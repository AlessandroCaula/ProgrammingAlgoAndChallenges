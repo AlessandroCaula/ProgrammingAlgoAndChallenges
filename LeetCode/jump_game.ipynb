{
 "cells": [
  {
   "cell_type": "markdown",
   "id": "9676fd71",
   "metadata": {},
   "source": [
    "# 55. Jump Game\n",
    "\n",
    "You are given an integer array `nums`. You are initially positioned at the array's __first index__, and each element in the array represents your maximum jump length at that position.\n",
    "\n",
    "Return `true` _if you can reach the last index_, or `false` _otherwise_.\n",
    "\n",
    "### Example 1:\n",
    "\n",
    "```\n",
    "Input: nums = [2,3,1,1,4]\n",
    "Output: true\n",
    "Explanation: Jump 1 step from index 0 to 1, then 3 steps to the last index\n",
    "```\n",
    "\n",
    "### Example 2:\n",
    "\n",
    "```\n",
    "Input: nums = [3,2,1,0,4]\n",
    "Output: false\n",
    "Explanation: You will always arrive at index 3 no matter what. Its maximum jump length is 0 which makes it impossible to reach the last index\n",
    "```"
   ]
  },
  {
   "cell_type": "code",
   "execution_count": 13,
   "id": "60390489",
   "metadata": {},
   "outputs": [
    {
     "name": "stdout",
     "output_type": "stream",
     "text": [
      "True\n",
      "False\n"
     ]
    }
   ],
   "source": [
    "def jump_game(jumps: list[int]) -> bool:\n",
    "    stack_val = []\n",
    "    stack_idx = []\n",
    "    visited_idx = []\n",
    "\n",
    "    stack_val.append(jumps[0])\n",
    "    stack_idx.append(0)\n",
    "    visited_idx.append(0)\n",
    "    while len(stack_val) != 0:\n",
    "        # pop the element from the stack\n",
    "        jump_len = stack_val.pop()\n",
    "        jump_start = stack_idx.pop()\n",
    "\n",
    "        # Check where the jump can end\n",
    "        for cur_jump in range(1, jump_len + 1):\n",
    "            end_idx = jump_start + cur_jump\n",
    "            end_val = jumps[end_idx]\n",
    "            \n",
    "            # If the end_idx is equal to the len of the jumps array, return true\n",
    "            if end_idx == len(jumps) - 1:\n",
    "                return True\n",
    "\n",
    "            # Otherwise check whether the cell in which you end with the jump has not been visited yet. If not, add it.\n",
    "            if end_idx not in visited_idx:\n",
    "                stack_val.append(end_val)\n",
    "                stack_idx.append(end_idx)\n",
    "                visited_idx.append(end_idx)\n",
    "\n",
    "    return False\n",
    "\n",
    "print(jump_game([2,3,1,1,4]))\n",
    "print(jump_game([3,2,1,0,4]))"
   ]
  },
  {
   "cell_type": "markdown",
   "id": "0c41ffbe",
   "metadata": {},
   "source": [
    "## Other solution\n",
    "\n",
    "Imagine you have a car, and you have some distance to travel (the length of the array). This car has some amount of gasoline, and as long as it has gasoline, it can keep traveling on this road (the array). Every time we move up one element in the array, we subtract one unit of gasoline. However, every time we find an amount of gasoline that is greater than our current amount, we \"gas up\" our car by replacing our current amount of gasoline with this new amount. We keep repeating this process until we either run out of gasoline (and return false), or we reach the end with just enough gasoline (or more to spare), in which case we return true.\n",
    "\n",
    "__Note__: We can let our gas tank get to zero as long as we are able to gas up at that immediate location (element in the array) that our car is currently at. \n",
    "\n",
    "- __Time complexity__: $O(n)$\n",
    "\n",
    "- __Space complexity__: $O(1)$"
   ]
  },
  {
   "cell_type": "code",
   "execution_count": 12,
   "id": "ac3330c9",
   "metadata": {},
   "outputs": [
    {
     "name": "stdout",
     "output_type": "stream",
     "text": [
      "True\n",
      "False\n"
     ]
    }
   ],
   "source": [
    "def can_jump(nums: list[int]) -> bool:\n",
    "    gas = 0\n",
    "    for n in nums:\n",
    "        if gas < 0:\n",
    "            return False\n",
    "        elif n > gas:\n",
    "            gas = n\n",
    "        gas -= 1\n",
    "    return True\n",
    "\n",
    "print(can_jump([2,3,1,1,4]))\n",
    "print(can_jump([3,2,1,0,4]))"
   ]
  }
 ],
 "metadata": {
  "kernelspec": {
   "display_name": "Python 3",
   "language": "python",
   "name": "python3"
  },
  "language_info": {
   "codemirror_mode": {
    "name": "ipython",
    "version": 3
   },
   "file_extension": ".py",
   "mimetype": "text/x-python",
   "name": "python",
   "nbconvert_exporter": "python",
   "pygments_lexer": "ipython3",
   "version": "3.13.0"
  }
 },
 "nbformat": 4,
 "nbformat_minor": 5
}
