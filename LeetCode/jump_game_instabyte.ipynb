{
 "cells": [
  {
   "cell_type": "markdown",
   "id": "c72f83ab",
   "metadata": {},
   "source": [
    "# Jump Game\n",
    "\n",
    "You are given an integer array `nums`. You are initially positioned at the array's __first index__, and each element in the array represents your maximum jump length at that position.\n",
    "\n",
    "Return _`true` if you can reach the last index, or `false` otherwise_.\n",
    "\n",
    "#### Example 1:\n",
    "\n",
    "```\n",
    "Input: nums = [2,3,1,1,4]\n",
    "Output: true\n",
    "Explanation: Jump 1 step from index 0 to 1, then 3 steps to the last index.\n",
    "```\n",
    "\n",
    "#### Example 2:\n",
    "\n",
    "```\n",
    "Input: nums = [3,2,1,0,4]\n",
    "Output: false\n",
    "Explanation: You will always arrive at index 3 no matter what. Its maximum jump length is 0, which makes it impossible to reach the last index.\n",
    "```"
   ]
  },
  {
   "cell_type": "markdown",
   "id": "fcd8fc32",
   "metadata": {},
   "source": [
    "## Solution \n",
    "\n",
    "To solve this problem, we'll use a _greedy approach_. We'll start from the end of the array and work backwards. We'll maintain a `goal` position that represents the index we need to reach.\n",
    "\n",
    "Initially, the goal is set to the last index. Then we iterate through the array from right to left. If we can reach the `goal` from current index, we update the `goal` to current index. \n",
    "\n",
    "If we can eventually move the goal to the first index, it means we can reach the last index.    \n",
    "\n",
    "The time complexity of this solution is $O(n)$, where $n$ is the length of the `nums` array."
   ]
  },
  {
   "cell_type": "code",
   "execution_count": null,
   "id": "bbbba606",
   "metadata": {},
   "outputs": [
    {
     "data": {
      "text/plain": [
       "True"
      ]
     },
     "execution_count": 9,
     "metadata": {},
     "output_type": "execute_result"
    }
   ],
   "source": [
    "def jump_game(nums: list[int]) -> bool:\n",
    "    # Initialize goal to the last index\n",
    "    goal = len(nums) - 1\n",
    "\n",
    "    # Iterate from right to left\n",
    "    for i in range(len(nums) - 1, -1, -1):\n",
    "        # If we can reach the goal from current index\n",
    "        if i + nums[i] >= goal:\n",
    "            # Update goal to current index\n",
    "            goal = i\n",
    "    \n",
    "    # If goal reaches the first index, we can jump to the end \n",
    "    return goal == 0\n",
    "\n",
    "nums = [2,3,1,1,4]\n",
    "jump_game(nums)"
   ]
  },
  {
   "cell_type": "code",
   "execution_count": null,
   "id": "522d54bb",
   "metadata": {},
   "outputs": [],
   "source": [
    "\n"
   ]
  }
 ],
 "metadata": {
  "kernelspec": {
   "display_name": "3.13.1",
   "language": "python",
   "name": "python3"
  },
  "language_info": {
   "codemirror_mode": {
    "name": "ipython",
    "version": 3
   },
   "file_extension": ".py",
   "mimetype": "text/x-python",
   "name": "python",
   "nbconvert_exporter": "python",
   "pygments_lexer": "ipython3",
   "version": "3.13.1"
  }
 },
 "nbformat": 4,
 "nbformat_minor": 5
}
