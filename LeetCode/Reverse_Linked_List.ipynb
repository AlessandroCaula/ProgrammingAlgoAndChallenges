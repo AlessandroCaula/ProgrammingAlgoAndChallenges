{
 "cells": [
  {
   "cell_type": "markdown",
   "metadata": {},
   "source": [
    "## Reverse Linked List"
   ]
  },
  {
   "cell_type": "markdown",
   "metadata": {},
   "source": [
    "Given the beginning of a singly linked list `head`, reverse the list, and return the new beginning of the list. \n",
    "\n",
    "**Example 1**:\n",
    "```python\n",
    "Input: head = [0,1,2,3]\n",
    "Output: [3,2,1,0]\n",
    "```"
   ]
  },
  {
   "cell_type": "markdown",
   "metadata": {},
   "source": [
    "### Creating the singly linked list"
   ]
  },
  {
   "cell_type": "code",
   "execution_count": 1,
   "metadata": {},
   "outputs": [
    {
     "name": "stdout",
     "output_type": "stream",
     "text": [
      "0\n",
      "1\n",
      "2\n",
      "3\n"
     ]
    }
   ],
   "source": [
    "class ListNode:\n",
    "    def __init__(self, val, next = None):\n",
    "        self.val = val\n",
    "        self.next = next\n",
    "\n",
    "def create_LL_from_array(ll: list[int]) -> ListNode:\n",
    "    head = ListNode(ll[0])\n",
    "    node = head\n",
    "\n",
    "    for el in ll[1:]:\n",
    "        node.next = ListNode(el)\n",
    "        node = node.next\n",
    "    \n",
    "    return head\n",
    "    \n",
    "head = create_LL_from_array([0,1,2,3])\n",
    "\n",
    "node = head\n",
    "\n",
    "while node != None:\n",
    "    print(node.val)\n",
    "    node = node.next"
   ]
  },
  {
   "cell_type": "markdown",
   "metadata": {},
   "source": [
    "### Reverse the Linked List"
   ]
  },
  {
   "cell_type": "code",
   "execution_count": 13,
   "metadata": {},
   "outputs": [
    {
     "name": "stdout",
     "output_type": "stream",
     "text": [
      "3\n",
      "2\n",
      "1\n",
      "0\n"
     ]
    }
   ],
   "source": [
    "def reverseList(head: ListNode) -> ListNode:\n",
    "    prev = ListNode(head.val)\n",
    "    head = head.next\n",
    "    reverse = None\n",
    "    while head != None:\n",
    "        reverse = ListNode(head.val)\n",
    "        reverse.next = prev\n",
    "        prev = reverse\n",
    "        head = head.next\n",
    "    return reverse\n",
    "    \n",
    "reversed_ll_head = reverseList(create_LL_from_array([0,1,2,3]))\n",
    "\n",
    "while reversed_ll_head != None:\n",
    "    print(reversed_ll_head.val)\n",
    "    reversed_ll_head = reversed_ll_head.next"
   ]
  },
  {
   "cell_type": "code",
   "execution_count": 10,
   "metadata": {},
   "outputs": [
    {
     "name": "stdout",
     "output_type": "stream",
     "text": [
      "3\n",
      "2\n",
      "1\n",
      "0\n"
     ]
    }
   ],
   "source": [
    "def reverseList(head: ListNode) -> ListNode:\n",
    "    prev, curr = None, head\n",
    "\n",
    "    while curr:\n",
    "        temp = curr.next\n",
    "        curr.next = prev\n",
    "        prev = curr\n",
    "        curr = temp\n",
    "    return prev\n",
    "    \n",
    "reversed_ll_head = reverseList(create_LL_from_array([0,1,2,3]))\n",
    "\n",
    "while reversed_ll_head:\n",
    "    print(reversed_ll_head.val)\n",
    "    reversed_ll_head = reversed_ll_head.next"
   ]
  },
  {
   "cell_type": "code",
   "execution_count": 14,
   "metadata": {},
   "outputs": [
    {
     "name": "stdout",
     "output_type": "stream",
     "text": [
      "3\n",
      "2\n",
      "1\n",
      "0\n"
     ]
    }
   ],
   "source": [
    "##################\n",
    "## Bad Solution ##\n",
    "##################\n",
    "\n",
    "def reverseList(head: ListNode) -> ListNode:\n",
    "\n",
    "    if head == None:\n",
    "        return None\n",
    "\n",
    "    node = head\n",
    "    ll_list = []\n",
    "    while node != None:\n",
    "        ll_list.append(node.val)\n",
    "        node = node.next\n",
    "\n",
    "    reverse_list = ll_list[::-1]\n",
    "\n",
    "    head = ListNode(reverse_list[0])\n",
    "    node = head\n",
    "    for el in reverse_list[1::]:\n",
    "        node.next = ListNode(el)\n",
    "        node = node.next\n",
    "    return head\n",
    "\n",
    "\n",
    "reversed_ll_head = reverseList(create_LL_from_array([0,1,2,3]))\n",
    "# reversed_ll_head = reverseList(None)\n",
    "# reversed_ll_head = reverseList(create_LL_from_array([1]))\n",
    "\n",
    "node = reversed_ll_head\n",
    "\n",
    "while node != None:\n",
    "    print(node.val)\n",
    "    node = node.next"
   ]
  },
  {
   "cell_type": "markdown",
   "metadata": {},
   "source": [
    "------------------------------------------------------------------------------------------------------------"
   ]
  },
  {
   "cell_type": "code",
   "execution_count": null,
   "metadata": {},
   "outputs": [],
   "source": [
    "head = create_LL_from_array([1, 2, 3, 4, 5])\n",
    "\n",
    "def revert_LL(head: ListNode):\n",
    "    \n",
    "    \n",
    "    return False"
   ]
  },
  {
   "cell_type": "code",
   "execution_count": null,
   "metadata": {},
   "outputs": [],
   "source": []
  }
 ],
 "metadata": {
  "kernelspec": {
   "display_name": "Python 3",
   "language": "python",
   "name": "python3"
  },
  "language_info": {
   "codemirror_mode": {
    "name": "ipython",
    "version": 3
   },
   "file_extension": ".py",
   "mimetype": "text/x-python",
   "name": "python",
   "nbconvert_exporter": "python",
   "pygments_lexer": "ipython3",
   "version": "3.13.0"
  }
 },
 "nbformat": 4,
 "nbformat_minor": 2
}
