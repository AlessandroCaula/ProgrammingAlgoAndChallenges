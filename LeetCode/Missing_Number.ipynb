{
 "cells": [
  {
   "cell_type": "markdown",
   "metadata": {},
   "source": [
    "# Missing Number\n",
    "\n",
    "Given an array `nums` containing `n` distinct numbers in the rage `[0, n]`. Return the only number in the range that is missing form the array."
   ]
  },
  {
   "cell_type": "markdown",
   "metadata": {},
   "source": [
    "### Example 1:\n",
    "\n",
    "```\n",
    "Input: nums = [3,0,1]\n",
    "Output: 2\n",
    "Explanation:\n",
    "n = 3 since there are 3 numbers, so all numbers are in the range [0,3]. 2 is the missing number in the range since it does not appear in nums.\n",
    "```\n",
    "\n",
    "### Example 2:\n",
    "```\n",
    "Input: nums = [0,1]\n",
    "Output: 2\n",
    "Explanation: \n",
    "n = 2 since there are 2 numbers, so all numbers are in the range [0,2]. 2 is the missing number in the range since it does not appear in nums.\n",
    "```"
   ]
  },
  {
   "cell_type": "code",
   "execution_count": 13,
   "metadata": {},
   "outputs": [
    {
     "name": "stdout",
     "output_type": "stream",
     "text": [
      "2\n",
      "2\n"
     ]
    }
   ],
   "source": [
    "def missing_number(arr: list) -> int:\n",
    "    # Retrieve the length of the array \n",
    "    n = len(arr)\n",
    "    # Compute the sum of n\n",
    "    tot_sum = sum_of_n_numbers(n)\n",
    "    # Another way for computing the sum of all the number is: (n(n+1))/2\n",
    "    tot_sum = int((n * (n + 1)) / 2)\n",
    "\n",
    "    # Loop through all the numbers in the arr and subtract it to the tot_sum\n",
    "    # Now the tot_sum result will be equal to the missing number\n",
    "    for num in arr:\n",
    "        tot_sum -= num\n",
    "\n",
    "    return tot_sum\n",
    "\n",
    "# Used to calculate the sum of all the numbers between n and 0\n",
    "def sum_of_n_numbers(n):\n",
    "    if n == 1:\n",
    "        return 1\n",
    "    return n + sum_of_n_numbers(n-1)\n",
    "\n",
    "\n",
    "print(missing_number([3,0,1]))\n",
    "print(missing_number([0,1]))"
   ]
  }
 ],
 "metadata": {
  "kernelspec": {
   "display_name": "Python 3",
   "language": "python",
   "name": "python3"
  },
  "language_info": {
   "codemirror_mode": {
    "name": "ipython",
    "version": 3
   },
   "file_extension": ".py",
   "mimetype": "text/x-python",
   "name": "python",
   "nbconvert_exporter": "python",
   "pygments_lexer": "ipython3",
   "version": "3.13.1"
  }
 },
 "nbformat": 4,
 "nbformat_minor": 2
}
