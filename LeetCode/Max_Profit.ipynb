{
 "cells": [
  {
   "cell_type": "markdown",
   "metadata": {},
   "source": [
    "## Best Time to Buy and Sell Stock"
   ]
  },
  {
   "cell_type": "markdown",
   "metadata": {},
   "source": [
    "You are given an integer array prices where `prices[i]` is the price of NeetCoin on the `ith` day.  \n",
    "\n",
    "You may choose a single day to buy one NeetCoin and choose a different day in the future to sell it.  \n",
    "\n",
    "Return the maximum profit you can achieve. You may choose to not make any transactions, in which case the profit would be `0`.\n",
    "\n",
    "\n",
    "**Example 1**\n",
    "```python\n",
    "Input: prices = [10,1,5,6,7,1]\n",
    "Output: 6\n",
    "```\n",
    "\n",
    "Explanation: Buy `prices[1]` and sell `prices[4]`, `profit = 7 - 1 = 6`.\n",
    "\n",
    "\n",
    "**Example 2**\n",
    "```python\n",
    "Input: prices = [10,8,7,5,2]\n",
    "Output: 0\n",
    "```\n",
    "\n",
    "Explanation: No profitable transactions can be made, thus the max profit is 0"
   ]
  },
  {
   "cell_type": "code",
   "execution_count": 9,
   "metadata": {},
   "outputs": [
    {
     "name": "stdout",
     "output_type": "stream",
     "text": [
      "6\n",
      "0\n"
     ]
    }
   ],
   "source": [
    "# Brute force\n",
    "\n",
    "def maxProfit(prices: list[int]) -> int:\n",
    "    max_profit = 0\n",
    "    for i, buy in enumerate(prices):\n",
    "        # Loop through all the element on the right of the current value\n",
    "        for sell in prices[i+1:]:\n",
    "            # Compute the difference between the sell and buy price\n",
    "            diff = sell - buy\n",
    "            # Check if it is higher than the max_profit \n",
    "            if diff > max_profit:\n",
    "                max_profit = diff\n",
    "    return max_profit\n",
    "    \n",
    "print(maxProfit([10,1,5,6,7,1]))\n",
    "print(maxProfit([10,8,7,5,2]))"
   ]
  },
  {
   "cell_type": "code",
   "execution_count": 12,
   "metadata": {},
   "outputs": [
    {
     "name": "stdout",
     "output_type": "stream",
     "text": [
      "6\n"
     ]
    }
   ],
   "source": [
    "# Dynamic Programming\n",
    "\n",
    "def maxProfit(prices: list[int]) -> int:\n",
    "    l, r = 0, 1\n",
    "    maxP = 0\n",
    "\n",
    "    while r < len(prices):\n",
    "        if prices[l] < prices[r]:\n",
    "            profit = prices[r] - prices[l]\n",
    "            maxP = max(maxP, profit)\n",
    "        else:\n",
    "            l = r\n",
    "        r += 1\n",
    "    return maxP\n",
    "\n",
    "print(maxProfit([1,5,6,7,1]))\n",
    "# print(maxProfit([10,8,7,5,2]))"
   ]
  }
 ],
 "metadata": {
  "kernelspec": {
   "display_name": "Python 3",
   "language": "python",
   "name": "python3"
  },
  "language_info": {
   "codemirror_mode": {
    "name": "ipython",
    "version": 3
   },
   "file_extension": ".py",
   "mimetype": "text/x-python",
   "name": "python",
   "nbconvert_exporter": "python",
   "pygments_lexer": "ipython3",
   "version": "3.13.1"
  }
 },
 "nbformat": 4,
 "nbformat_minor": 2
}
