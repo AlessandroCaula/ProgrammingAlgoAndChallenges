{
 "cells": [
  {
   "cell_type": "markdown",
   "id": "693a61b9",
   "metadata": {},
   "source": [
    "# Two Sum II - Input Array Is Sorted\n",
    "\n",
    "Given a __1-indexed__ array of integers numbers that is already __sorted in non-decreasing order__, find two numbers such that they add up to a specific target number. Let these two numbers be `numbers[index1]` and `number[index2]` where `1 <= index1 < index2 <= numbers.length`.\n",
    "\n",
    "Return _the indices of the two numbers_, index1 _and_ index2, _**Added by one** as an integer array_ [index1, index2] _of length 2_.\n",
    "\n",
    "The testa re generate such that there is __exactly one solution__. You __may not__ use the same element twice. \n",
    "\n",
    "Your solution must use only constant extra space.\n",
    "\n",
    "#### Example 1:\n",
    "\n",
    "```\n",
    "Input: numbers = [2,7,11,15], target = 9\n",
    "Output: [1,2]\n",
    "Explanation: The sum of 2 and 7 is 9. Therefore, index1 = 1, index2 = 2. We return [1, 2].\n",
    "```\n",
    "\n",
    "#### Example 2:\n",
    "\n",
    "```\n",
    "Input: numbers = [2,3,4], target = 6\n",
    "Output: [1,3]\n",
    "Explanation: The sum of 2 and 4 is 6. Therefore index1 = 1, index2 = 3. We return [1, 3].\n",
    "```\n",
    "\n",
    "#### Example 3:\n",
    "\n",
    "```\n",
    "Input: numbers = [-1,0], target = -1\n",
    "Output: [1,2]\n",
    "Explanation: The sum of -1 and 0 is -1. Therefore index1 = 1, index2 = 2. We return [1, 2].\n",
    "```"
   ]
  },
  {
   "cell_type": "markdown",
   "id": "da475977",
   "metadata": {},
   "source": [
    "## Solution\n",
    "\n",
    "We can solve this problem efficiently using the two-pointer approach. Since the input array is already sorted in non-decreasing order, we can place one pointer at the beginning and another at the end of the array.\n",
    "\n",
    "We'll move the pointers based on the sum of the elements at those indices compared to the target. If the sum is less than the target, we'll move the left pointer to the right ot increase the sum. If the sum is greater than the target, we'll move the right pointer to the left to decrease the sum. \n",
    "\n",
    "This approach allows us to find the two numbers that add up to the target while using only constant extra space. \n",
    "\n",
    "The time complexity of this solution is $O(n)$, where $n$ is the length of the input array. We make a single pass through the array, and the two pointers converge towards each other. "
   ]
  },
  {
   "cell_type": "code",
   "execution_count": 8,
   "id": "2a0ea70b",
   "metadata": {},
   "outputs": [
    {
     "name": "stdout",
     "output_type": "stream",
     "text": [
      "[2, 3]\n"
     ]
    }
   ],
   "source": [
    "def twoSum(numbers, target):\n",
    "    i = 0\n",
    "    j = len(numbers) - 1\n",
    "    while i < j:    \n",
    "        # Check if the sum of the numbers at i and j position is higher or lower than the target\n",
    "        sum_el = numbers[i] + numbers[j]\n",
    "        if sum_el == target:\n",
    "            return [i+1, j+1]\n",
    "        elif sum_el < target:\n",
    "            # Increase the i index, in order to increase the sum\n",
    "            i += 1\n",
    "        else:\n",
    "            # Decrease the j index, in order to decrease the sum\n",
    "            j -= 1\n",
    "\n",
    "    return 'No element found'\n",
    "\n",
    "print(twoSum([2,7,11,15], 18))"
   ]
  }
 ],
 "metadata": {
  "kernelspec": {
   "display_name": "Python 3",
   "language": "python",
   "name": "python3"
  },
  "language_info": {
   "codemirror_mode": {
    "name": "ipython",
    "version": 3
   },
   "file_extension": ".py",
   "mimetype": "text/x-python",
   "name": "python",
   "nbconvert_exporter": "python",
   "pygments_lexer": "ipython3",
   "version": "3.13.1"
  }
 },
 "nbformat": 4,
 "nbformat_minor": 5
}
