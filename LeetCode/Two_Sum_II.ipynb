{
 "cells": [
  {
   "cell_type": "markdown",
   "id": "693a61b9",
   "metadata": {},
   "source": [
    "# Two Sum II - Input Array Is Sorted\n",
    "\n",
    "Given a __1-indexed__ array of integers numbers that is already __sorted in non-decreasing order__, find two numbers such that they add up to a specific target number. Let these two numbers be `numbers[index1]` and `number[index2]` where `1 <= index1 < index2 <= numbers.length`.\n",
    "\n",
    "Return _the indices of the two numbers_, index1 _and_ index2, _**Added by one** as an integer array_ [index1, index2] _of length 2_.\n",
    "\n",
    "The testa re generate such that there is __exactly one solution__. You __may not__ use the same element twice. \n",
    "\n",
    "Your solution must use only constant extra space.\n",
    "\n",
    "#### Example 1:\n",
    "\n",
    "```\n",
    "Input: numbers = [2,7,11,15], target = 9\n",
    "Output: [1,2]\n",
    "Explanation: The sum of 2 and 7 is 9. Therefore, index1 = 1, index2 = 2. We return [1, 2].\n",
    "```\n",
    "\n",
    "#### Example 2:"
   ]
  }
 ],
 "metadata": {
  "language_info": {
   "name": "python"
  }
 },
 "nbformat": 4,
 "nbformat_minor": 5
}
