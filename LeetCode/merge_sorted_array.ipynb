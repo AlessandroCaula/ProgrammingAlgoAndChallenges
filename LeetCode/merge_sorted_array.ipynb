{
 "cells": [
  {
   "cell_type": "markdown",
   "id": "16f668b1",
   "metadata": {},
   "source": [
    "# Merge Sorted Array\n",
    "\n",
    "You are given two integers arrays `nums1` and `nums2`, sorted in __non-decreasing order__, and two integers `m` and `n`, representing the number of elements in `nums1` and `nums2` respectively. \n",
    "\n",
    "__Merge__ `nums1` and `nums2` into a single array sorted in __non-decreasing order__.\n",
    "\n",
    "The final sorted array should not be returned by the function, but instead be _stored inside the array_ nums1. To accommodate  this, `nums1` has a length of $m + n$, where the first `m` elements denote the elements that should be merged, and the last n elements are set to `0` and should be ignored. `nums2` has a length of `n`.\n",
    "\n",
    "### Example 1:\n",
    "\n",
    "```\n",
    "Input: nums1 = [1,2,3,0,0,0], m = 3, nums2 = [2,5,6], n = 3\n",
    "Output: [1,2,2,3,5,6]\n",
    "Explanation: The arrays we are merging are [1,2,3] and [2,5,6]. The result of the merge is [1,2,2,3,5,6] with the underlined elements coming from nums1.\n",
    "```\n",
    "\n",
    "### Example 2:\n",
    "\n",
    "```\n",
    "Input: nums1 = [1], m = 1, nums2 = [], n = 0\n",
    "Output: [1]\n",
    "Explanation: The arrays we are merging are [1] and [].\n",
    "The result of the merge is [1].\n",
    "```"
   ]
  },
  {
   "cell_type": "code",
   "execution_count": 21,
   "id": "30624c20",
   "metadata": {},
   "outputs": [
    {
     "data": {
      "text/plain": [
       "[1, 2, 2, 3, 5, 6]"
      ]
     },
     "execution_count": 21,
     "metadata": {},
     "output_type": "execute_result"
    }
   ],
   "source": [
    "def merge_sorted_array(nums1, m, nums2, n):\n",
    "    # Number of values in the nums1\n",
    "    i = m - 1\n",
    "    j = n - 1\n",
    "\n",
    "    for z in range(len(nums1) - 1, -1, -1):\n",
    "        # Check if we have reached the beginning of one of the two list\n",
    "        if i < 0 or j < 0:\n",
    "            break\n",
    "        \n",
    "        # Check which one of the two value is greater\n",
    "        if nums1[i] > nums2[j]:\n",
    "            # Put the element to end of the nums1 list\n",
    "            nums1[z] = nums1[i] # tmp\n",
    "            # Decrease the i index\n",
    "            i -= 1\n",
    "        # If the num in the nums2 array is equal or greater\n",
    "        else:\n",
    "            # Put the element at the end of the nums1 list\n",
    "            nums1[z] = nums2[j]\n",
    "            # Decrease the j index \n",
    "            j -= 1\n",
    "    \n",
    "    # Check if there are still numbers in nums2 (j > -1). If there are copy them in the nums1 array\n",
    "    if j > -1:\n",
    "        for z in range(j, -1, -1):\n",
    "            nums1[z] = nums2[z]\n",
    "            \n",
    "    return nums1\n",
    "\n",
    "\n",
    "nums1 = [2,5,6,0,0,0] # [1,2,3,0,0,0]\n",
    "m = 3\n",
    "nums2 = [1,2,3] # [2,5,6]\n",
    "n = 3\n",
    "\n",
    "merge_sorted_array(nums1, m, nums2, n)"
   ]
  },
  {
   "cell_type": "markdown",
   "id": "e1b48596",
   "metadata": {},
   "source": [
    "## InstaByte Solution\n",
    "\n",
    "To solve this problem efficiently, we'll use a two-pointer approach starting from the end of the array. This allows us to merge the array in-place without using extra space.\n",
    "\n",
    "We'll compare elements from the end of both arrays and place them at the end of `nums1`. This approach works because `nums1` has enough space to accommodate all elements.\n",
    "\n",
    "We'll start with three pointers:\n",
    "\n",
    "- One at the last actual element in `nums1 (m-1)`\n",
    "\n",
    "- One at the last actual element in `nums2 (n-1)`\n",
    "\n",
    "- One at the last position of `nums1 (m+n-1)`\n",
    "\n",
    "We'll compare elements and place the larger one at the end of `nums1`, moving the pointers accordingly. \n",
    "\n",
    "Time complexity is `O(m+n)` as we traverse both arrays."
   ]
  },
  {
   "cell_type": "code",
   "execution_count": 20,
   "id": "00ea3751",
   "metadata": {},
   "outputs": [
    {
     "data": {
      "text/plain": [
       "[1, 2, 2, 3, 5, 6]"
      ]
     },
     "execution_count": 20,
     "metadata": {},
     "output_type": "execute_result"
    }
   ],
   "source": [
    "def merge(nums1, m, nums2, n):\n",
    "    # Pointers for nums1, nums2, and the last position\n",
    "    p1 = m - 1  # Last element in nums1\n",
    "    p2 = n - 1  # Last element in nums2\n",
    "    p = m + n - 1   # Last position in merged array\n",
    "\n",
    "    # Merge from the end\n",
    "    while p2 >= 0:\n",
    "        # If nums1  still has elements and its last element is larger\n",
    "        if p1 >= 0 and nums1[p1] > nums2[p2]:\n",
    "            nums1[p] = nums1[p1]\n",
    "            p1 -= 1\n",
    "        # Otherwise, use element from nums2\n",
    "        else:\n",
    "            nums1[p] = nums2[p2]\n",
    "            p2 -= 1\n",
    "        p -= 1\n",
    "    \n",
    "    return nums1\n",
    "\n",
    "nums1 = [2,5,6,0,0,0] # [1,2,3,0,0,0]\n",
    "m = 3\n",
    "nums2 = [1,2,3] # [2,5,6]\n",
    "n = 3\n",
    "\n",
    "merge(nums1, m, nums2, n)"
   ]
  }
 ],
 "metadata": {
  "kernelspec": {
   "display_name": "Python 3",
   "language": "python",
   "name": "python3"
  },
  "language_info": {
   "codemirror_mode": {
    "name": "ipython",
    "version": 3
   },
   "file_extension": ".py",
   "mimetype": "text/x-python",
   "name": "python",
   "nbconvert_exporter": "python",
   "pygments_lexer": "ipython3",
   "version": "3.13.0"
  }
 },
 "nbformat": 4,
 "nbformat_minor": 5
}
