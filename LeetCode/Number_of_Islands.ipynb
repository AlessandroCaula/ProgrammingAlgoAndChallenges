{
 "cells": [
  {
   "cell_type": "markdown",
   "metadata": {},
   "source": [
    "# Number of Islands"
   ]
  },
  {
   "cell_type": "markdown",
   "metadata": {},
   "source": [
    "Given an `m x n` 2D binary grid `grid` which represents a map of `'1'`s (land) and `'0'`s (water), return _the number of islands_.\n",
    "\n",
    "An __island__ is surrounded by water and is formed by connecting adjacent lands horizontally or vertically. You may assume all four edges of the grid are all surrounded by water."
   ]
  },
  {
   "cell_type": "markdown",
   "metadata": {},
   "source": [
    "### Example 1:\n",
    "\n",
    "```\n",
    "Input: grid = [\n",
    "  [\"1\",\"1\",\"1\",\"1\",\"0\"],\n",
    "  [\"1\",\"1\",\"0\",\"1\",\"0\"],\n",
    "  [\"1\",\"1\",\"0\",\"0\",\"0\"],\n",
    "  [\"0\",\"0\",\"0\",\"0\",\"0\"]\n",
    "]\n",
    "Output: 1\n",
    "```\n",
    "\n",
    "### Example 2:\n",
    "```\n",
    "Input: grid = [\n",
    "  [\"1\",\"1\",\"0\",\"0\",\"0\"],\n",
    "  [\"1\",\"1\",\"0\",\"0\",\"0\"],\n",
    "  [\"0\",\"0\",\"1\",\"0\",\"0\"],\n",
    "  [\"0\",\"0\",\"0\",\"1\",\"1\"]\n",
    "]\n",
    "Output: 3\n",
    "```"
   ]
  },
  {
   "cell_type": "markdown",
   "metadata": {},
   "source": [
    "#### Constraints:\n",
    "- `m == grid.length`\n",
    "- `n == grid[i].length`\n",
    "- `1 <= m, n <= 300`\n",
    "- `grid[i][j]` is `'0'` or `'1'`."
   ]
  },
  {
   "cell_type": "code",
   "execution_count": 13,
   "metadata": {},
   "outputs": [
    {
     "name": "stdout",
     "output_type": "stream",
     "text": [
      "3\n"
     ]
    }
   ],
   "source": [
    "def number_of_islands(grid):\n",
    "    visited_land = []\n",
    "    land_queue = []\n",
    "    total_number_of_lands = 0\n",
    "    for r in range(len(grid)):\n",
    "        for c in range(len(grid[r])):\n",
    "            curr_loc = grid[r][c]\n",
    "            # check if the current location is a land (1)\n",
    "            if curr_loc == \"1\":\n",
    "                # Check if it has not been visited yet\n",
    "                if [r, c] not in visited_land:\n",
    "                    total_number_of_lands += 1\n",
    "                    # Add the land in the queue\n",
    "                    land_queue.append([r,c])\n",
    "                    visited_land.append([r,c])\n",
    "                    while len(land_queue) > 0:\n",
    "                        curr = land_queue.pop(0)\n",
    "                        r = curr[0]\n",
    "                        c = curr[1]\n",
    "                        # left neighbor\n",
    "                        if c - 1 >= 0:\n",
    "                            new_c = c - 1\n",
    "                            left = grid[r][new_c]\n",
    "                            if left == \"1\" and [r, new_c] not in visited_land:\n",
    "                                land_queue.append([r][new_c])\n",
    "                                visited_land.append([r][new_c])\n",
    "                        # Right neighbor\n",
    "                        if c + 1 < len(grid[r]):\n",
    "                            new_c = c + 1\n",
    "                            right = grid[r][new_c]\n",
    "                            if right == \"1\" and [r, new_c] not in visited_land:\n",
    "                                land_queue.append([r,new_c])\n",
    "                                visited_land.append([r,new_c])\n",
    "                        # top neighbor\n",
    "                        if r - 1 >= 0:\n",
    "                            new_r = r - 1\n",
    "                            top = grid[new_r][c]\n",
    "                            if top == \"1\" and [new_r, c] not in visited_land:\n",
    "                                land_queue.append([new_r,c])\n",
    "                                visited_land.append([new_r,c])\n",
    "                        # Bottom neighbor\n",
    "                        if r + 1 < len(grid):\n",
    "                            new_r = r + 1\n",
    "                            bottom = grid[new_r][c]\n",
    "                            if bottom == \"1\" and [new_r, c] not in visited_land:\n",
    "                                land_queue.append([new_r,c])\n",
    "                                visited_land.append([new_r,c])\n",
    "                            \n",
    "    return total_number_of_lands\n",
    "\n",
    "# grid = [\n",
    "#   [\"1\",\"1\",\"1\",\"1\",\"0\"],\n",
    "#   [\"1\",\"1\",\"0\",\"1\",\"0\"],\n",
    "#   [\"1\",\"1\",\"0\",\"0\",\"0\"],\n",
    "#   [\"0\",\"0\",\"0\",\"0\",\"0\"]\n",
    "# ]\n",
    "\n",
    "grid = [\n",
    "  [\"1\",\"1\",\"0\",\"0\",\"0\"],\n",
    "  [\"1\",\"1\",\"0\",\"0\",\"0\"],\n",
    "  [\"0\",\"0\",\"1\",\"0\",\"0\"],\n",
    "  [\"0\",\"0\",\"0\",\"1\",\"1\"]\n",
    "]\n",
    "\n",
    "# grid = [\n",
    "#     [\"1\",\"1\",\"0\",\"0\"],\n",
    "#     [\"0\",\"0\",\"0\",\"0\"],\n",
    "#     [\"0\",\"0\",\"1\",\"1\"],\n",
    "# ]\n",
    "\n",
    "print(number_of_islands(grid))"
   ]
  },
  {
   "cell_type": "code",
   "execution_count": null,
   "metadata": {},
   "outputs": [],
   "source": []
  }
 ],
 "metadata": {
  "kernelspec": {
   "display_name": "Python 3",
   "language": "python",
   "name": "python3"
  },
  "language_info": {
   "codemirror_mode": {
    "name": "ipython",
    "version": 3
   },
   "file_extension": ".py",
   "mimetype": "text/x-python",
   "name": "python",
   "nbconvert_exporter": "python",
   "pygments_lexer": "ipython3",
   "version": "3.13.1"
  }
 },
 "nbformat": 4,
 "nbformat_minor": 2
}
