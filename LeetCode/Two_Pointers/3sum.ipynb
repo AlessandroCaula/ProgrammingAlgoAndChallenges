{
 "cells": [
  {
   "cell_type": "markdown",
   "id": "9906daae",
   "metadata": {},
   "source": [
    "# 3Sum\n",
    "\n",
    "Given an integer array `nums`, return all the triplets `[nums[i], nums[j], nums[k]]` where `nums[i] + nums[j] + nums[k] == 0`, and the indices `i`, `j` and `k` are all distinct.\n",
    "\n",
    "The output should _not_ contain any duplicate triplets. You may return the output and the triplets in __any order__.\n",
    "\n",
    "### Example 1:\n",
    "\n",
    "```py\n",
    "Input: nums = [-1,0,1,2,-1,-4]\n",
    "\n",
    "Output: [[-1,-1,2],[-1,0,1]]\n",
    "```\n",
    "\n",
    "Example:\n",
    "`nums[0] + nums[1] + nums[2] = (-1) + 0 + 1 = 0.`\n",
    "`nums[1] + nums[2] + nums[4] = 0 + 1 + (-1) = 0.`\n",
    "`nums[0] + nums[3] + nums[4] = (-1) + 2 + (-1) = 0.`\n",
    "The distinct triplets are `[-1,0,1]` and `[-1,-1,2]`\n",
    "\n",
    "### Example 2:\n",
    "\n",
    "```py\n",
    "Input: nums = [0,1,1]\n",
    "\n",
    "Output: []\n",
    "```\n",
    "\n",
    "Explanation: The only possible triplet does not sum up to 0.\n",
    "\n",
    "### Example 3:\n",
    "\n",
    "```py\n",
    "Input: nums = [0,0,0]\n",
    "\n",
    "Output: [[0,0,0]]\n",
    "```\n",
    "\n",
    "Explanation: The only possible triplet sums up to 0."
   ]
  },
  {
   "cell_type": "markdown",
   "id": "ffafcadc",
   "metadata": {},
   "source": []
  }
 ],
 "metadata": {
  "language_info": {
   "name": "python"
  }
 },
 "nbformat": 4,
 "nbformat_minor": 5
}
