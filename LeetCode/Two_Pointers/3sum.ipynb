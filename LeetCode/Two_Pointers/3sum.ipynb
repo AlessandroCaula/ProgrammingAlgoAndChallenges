{
 "cells": [
  {
   "cell_type": "markdown",
   "id": "9906daae",
   "metadata": {},
   "source": [
    "# 3Sum\n",
    "\n",
    "Given an integer array `nums`, return all the triplets `[nums[i], nums[j], nums[k]]` where `nums[i] + nums[j] + nums[k] == 0`, and the indices `i`, `j` and `k` are all distinct.\n",
    "\n",
    "The output should _not_ contain any duplicate triplets. You may return the output and the triplets in __any order__.\n",
    "\n",
    "### Example 1:\n",
    "\n",
    "```py\n",
    "Input: nums = [-1,0,1,2,-1,-4]\n",
    "\n",
    "Output: [[-1,-1,2],[-1,0,1]]\n",
    "```\n",
    "\n",
    "Example:\n",
    "`nums[0] + nums[1] + nums[2] = (-1) + 0 + 1 = 0.`\n",
    "`nums[1] + nums[2] + nums[4] = 0 + 1 + (-1) = 0.`\n",
    "`nums[0] + nums[3] + nums[4] = (-1) + 2 + (-1) = 0.`\n",
    "The distinct triplets are `[-1,0,1]` and `[-1,-1,2]`\n",
    "\n",
    "### Example 2:\n",
    "\n",
    "```py\n",
    "Input: nums = [0,1,1]\n",
    "\n",
    "Output: []\n",
    "```\n",
    "\n",
    "Explanation: The only possible triplet does not sum up to 0.\n",
    "\n",
    "### Example 3:\n",
    "\n",
    "```py\n",
    "Input: nums = [0,0,0]\n",
    "\n",
    "Output: [[0,0,0]]\n",
    "```\n",
    "\n",
    "Explanation: The only possible triplet sums up to 0."
   ]
  },
  {
   "cell_type": "markdown",
   "id": "99dd88ae",
   "metadata": {},
   "source": [
    "## Brute Force\n",
    "\n",
    "- Time complexity: $O(n^3)$\n",
    "\n",
    "- Time complexity: $O(m)$\n",
    "\n",
    "Where $m$ is the number of triplets and $n$ is the length of the given array"
   ]
  },
  {
   "cell_type": "code",
   "execution_count": 5,
   "id": "42ae45d5",
   "metadata": {},
   "outputs": [
    {
     "name": "stdout",
     "output_type": "stream",
     "text": [
      "[[-1, -1, 2], [-1, 0, 1]]\n"
     ]
    }
   ],
   "source": [
    "def three_sum(nums: list[int]):\n",
    "    res = []\n",
    "    nums.sort()\n",
    "    for i in range(len(nums)):\n",
    "        for j in range(i + 1, len(nums)):\n",
    "            for k in range(j + 1, len(nums)):\n",
    "                if nums[i] + nums[j] + nums[k] == 0:\n",
    "                    if [nums[i], nums[j], nums[k]] not in res:\n",
    "                        res.append([nums[i], nums[j], nums[k]])\n",
    "    return res\n",
    "\n",
    "print(three_sum([-1,0,1,2,-1,-4]))"
   ]
  },
  {
   "cell_type": "markdown",
   "id": "742551dc",
   "metadata": {},
   "source": [
    "## Hash Map \n",
    "\n",
    "- Time complexity $O(n^2)$\n",
    "\n",
    "- Space complexity $O(n)$"
   ]
  },
  {
   "cell_type": "code",
   "execution_count": 7,
   "id": "f501b369",
   "metadata": {},
   "outputs": [
    {
     "name": "stdout",
     "output_type": "stream",
     "text": [
      "[[-1, -1, 2], [-1, 0, 1]]\n"
     ]
    }
   ],
   "source": [
    "from collections import defaultdict\n",
    "\n",
    "def three_sum(nums: list[int]):\n",
    "    nums.sort()\n",
    "    count = defaultdict(int)\n",
    "\n",
    "    for num in nums:\n",
    "        count[num] += 1\n",
    "    \n",
    "    res = []\n",
    "    for i in range(len(nums)):\n",
    "        count[nums[i]] -= 1\n",
    "        if i and nums[i] == nums[i - 1]:\n",
    "            continue\n",
    "\n",
    "        for j in range(i + 1, len(nums)):\n",
    "            count[nums[j]] -= 1\n",
    "            if j - 1 > i and nums[j] == nums[j - 1]:\n",
    "                continue\n",
    "            target = -(nums[i] + nums[j])\n",
    "            if count[target] > 0:\n",
    "                res.append([nums[i], nums[j], target])\n",
    "\n",
    "        for j in range(i + 1, len(nums)):\n",
    "            count[nums[j]] += 1\n",
    "\n",
    "    return res\n",
    "\n",
    "\n",
    "print(three_sum([-1,0,1,2,-1,-4]))"
   ]
  },
  {
   "cell_type": "code",
   "execution_count": null,
   "id": "5c168788",
   "metadata": {},
   "outputs": [],
   "source": []
  }
 ],
 "metadata": {
  "kernelspec": {
   "display_name": "3.13.1",
   "language": "python",
   "name": "python3"
  },
  "language_info": {
   "codemirror_mode": {
    "name": "ipython",
    "version": 3
   },
   "file_extension": ".py",
   "mimetype": "text/x-python",
   "name": "python",
   "nbconvert_exporter": "python",
   "pygments_lexer": "ipython3",
   "version": "3.13.1"
  }
 },
 "nbformat": 4,
 "nbformat_minor": 5
}
