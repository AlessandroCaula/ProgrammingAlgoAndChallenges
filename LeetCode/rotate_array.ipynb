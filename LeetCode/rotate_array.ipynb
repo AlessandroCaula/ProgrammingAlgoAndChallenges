{
 "cells": [
  {
   "cell_type": "markdown",
   "id": "763dc6f7",
   "metadata": {},
   "source": [
    "# Rotate Array\n",
    "\n",
    "Given an integer array `nums`, rotate the array to the right by `k` steps, where negative.\n",
    "\n",
    "### Example 1\n",
    "\n",
    "```\n",
    "Input: nums = [1,2,3,4,5,6,7], k = 3\n",
    "Output: [5,6,7,1,2,3,4]\n",
    "Explanation:\n",
    "rotate 1 steps to the right: [7,1,2,3,4,5,6]\n",
    "rotate 2 steps to the right: [6,7,1,2,3,4,5]\n",
    "rotate 3 steps to the right: [5,6,7,1,2,3,4]\n",
    "```\n",
    "\n",
    "### Example 2\n",
    "\n",
    "```\n",
    "Input: nums = [-1,-100,3,99], k = 2\n",
    "Output: [3,99,-1,-100]\n",
    "Explanation: \n",
    "rotate 1 steps to the right: [99,-1,-100,3]\n",
    "rotate 2 steps to the right: [3,99,-1,-100]\n",
    "```"
   ]
  },
  {
   "cell_type": "markdown",
   "id": "05e589d9",
   "metadata": {},
   "source": [
    "## Solution"
   ]
  },
  {
   "cell_type": "code",
   "execution_count": 13,
   "id": "6c08c89e",
   "metadata": {},
   "outputs": [
    {
     "data": {
      "text/plain": [
       "[3, 99, -1, -100]"
      ]
     },
     "execution_count": 13,
     "metadata": {},
     "output_type": "execute_result"
    }
   ],
   "source": [
    "def rotate_array(arr: list[int], k: int) -> list[int]:\n",
    "    # # k must be smaller than the length of the array\n",
    "    # if k > len(arr) - 1:\n",
    "    #     return None\n",
    "    \n",
    "    # In order to handle cases in which k is larger than the length of the array, we can use the modulus operator \n",
    "    k %= len(arr)\n",
    "\n",
    "    for i in range(k):\n",
    "        # Store the last element that will be than placed at the head of the list\n",
    "        temp_last = arr[len(arr) - 1]\n",
    "\n",
    "        # Now shift by one all the others number in the array\n",
    "        i = len(arr) - 1\n",
    "        while i > 0:\n",
    "            arr[i] = arr[i - 1]\n",
    "            i -= 1\n",
    "\n",
    "        # Now place back the temporary last in the first position of the shifted array\n",
    "        arr[0] = temp_last\n",
    "\n",
    "    return arr\n",
    "\n",
    "arr = [1,2,3,4,5,6,7]\n",
    "k = 3\n",
    "rotate_array(arr, k)\n",
    "\n",
    "arr = [-1,-100,3,99]\n",
    "k = 2\n",
    "rotate_array(arr, k)"
   ]
  },
  {
   "cell_type": "markdown",
   "id": "8b694d90",
   "metadata": {},
   "source": [
    "## Solution InstaByte\n",
    "\n",
    "To solve this problem efficiently, we'll implement and in-place rotatino algorithm that minimizes extra space usage and handles cases where k might be larger than the array length.\n",
    "\n",
    "The algorithm works as follows:\n",
    "\n",
    "1. First, we use `k % len(nums)` to handle cases where `k` is larger than the array length.\n",
    "\n",
    "2. We define a reverse helper function that reverses elements in-place.\n",
    "\n",
    "3. Reverse the entire array.\n",
    "\n",
    "4. Reverse the first `k` elements.\n",
    "\n",
    "5. Reverse the remaining elements.\n",
    "\n",
    "Time complexity is `O(n)`, where `n` is the length of the array. We perform three reverse operations, each taking `O(n/2)` time. Space complexity is `O(1)` as we modify the array in-place."
   ]
  },
  {
   "cell_type": "code",
   "execution_count": 12,
   "id": "50984a32",
   "metadata": {},
   "outputs": [
    {
     "name": "stdout",
     "output_type": "stream",
     "text": [
      "1\n"
     ]
    }
   ],
   "source": [
    "print(5 % 2)"
   ]
  },
  {
   "cell_type": "code",
   "execution_count": null,
   "id": "2766d196",
   "metadata": {},
   "outputs": [],
   "source": [
    "def rotate(nums, k):\n",
    "    # Handle cases where k is larger than array length\n",
    "    k %= len(nums)\n",
    "\n",
    "    # Reverse the entire array function\n",
    "    def reverse(start, end):\n",
    "        while start < end:\n",
    "            nums[start], nums[end] = nums[end], nums[start]\n",
    "            start += 1\n",
    "            end -= 1\n",
    "\n",
    "    # Reverse the whole array\n",
    "    reverse(0, len(nums) - 1)\n",
    "\n",
    "    # Reverse first k elements\n",
    "    reverse(0, k - 1)\n",
    "\n",
    "    # Reverse remaining elements\n",
    "    reverse(k, len(nums) - 1)"
   ]
  }
 ],
 "metadata": {
  "kernelspec": {
   "display_name": "3.13.1",
   "language": "python",
   "name": "python3"
  },
  "language_info": {
   "codemirror_mode": {
    "name": "ipython",
    "version": 3
   },
   "file_extension": ".py",
   "mimetype": "text/x-python",
   "name": "python",
   "nbconvert_exporter": "python",
   "pygments_lexer": "ipython3",
   "version": "3.13.1"
  }
 },
 "nbformat": 4,
 "nbformat_minor": 5
}
