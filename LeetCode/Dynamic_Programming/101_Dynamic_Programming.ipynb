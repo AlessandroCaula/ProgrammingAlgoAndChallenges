{
 "cells": [
  {
   "cell_type": "markdown",
   "id": "3d375efa",
   "metadata": {},
   "source": [
    "# Dynamic Programming"
   ]
  },
  {
   "cell_type": "markdown",
   "id": "c6cbb99b",
   "metadata": {},
   "source": [
    "Dynamic programming is used when a problem can be __broken down into subproblems__, and:\n",
    "\n",
    "- The __same subproblem__ are solved __multiple times__.\n",
    "- The __Optimal solution to the problem__ can be __constructed from optimal solutions to its subproblems__.\n",
    "\n",
    "DP stores the result of already solved subproblems, __avoiding recomputation__, which leads to a big performance gain compared to naive recursion. "
   ]
  },
  {
   "cell_type": "markdown",
   "id": "8d01b2d5",
   "metadata": {},
   "source": [
    "## When to Use Dynamic Programming?\n",
    "\n",
    "You can use DP when:\n",
    "\n",
    "1. The problem has __overlapping subproblems__ (the same subproblems are solved repeatedly).\n",
    "2. The problem has __optimal substructure__ (the solution to the whole problem depends on the solution of smaller subproblems).\n",
    "3. Usually when recursion leads to __exponential time__, and you want to reduce it to __polynomial time__."
   ]
  },
  {
   "cell_type": "markdown",
   "id": "c3b8e628",
   "metadata": {},
   "source": [
    "### Core Ideas \n",
    "\n",
    "There are two main approaches to Dynamic Programming \n",
    "1. __Top-Down (Memoization)__: Recursive solution with caching of results. \n",
    "2. __Bottom-Up (Tabulation)__: Iterative solution that builds up results from base cases. "
   ]
  },
  {
   "cell_type": "markdown",
   "id": "61feb365",
   "metadata": {},
   "source": [
    "### 🧮 Classic Example 1: Fibonacci Sequence\n",
    "\n",
    "> Problem: Compute the `n`th Fibonacci number:    \n",
    "> F(0) = 0, F(1) = 1, F(n) = F(n-1) + F(n-2)"
   ]
  },
  {
   "cell_type": "markdown",
   "id": "2f7ce90f",
   "metadata": {},
   "source": [
    "#### ❌ Naive Recursive Solution (Exponential Time)"
   ]
  },
  {
   "cell_type": "code",
   "execution_count": 1,
   "id": "0a73f959",
   "metadata": {},
   "outputs": [],
   "source": [
    "def fib(n):\n",
    "    if n <= 1:\n",
    "        return n \n",
    "    return fib(n - 1) + fib(n - 2)"
   ]
  },
  {
   "cell_type": "markdown",
   "id": "fbbfd617",
   "metadata": {},
   "source": [
    "#### ✅ Top-Down DP (Memoization)"
   ]
  },
  {
   "cell_type": "code",
   "execution_count": 2,
   "id": "b9deec5b",
   "metadata": {},
   "outputs": [],
   "source": [
    "def fib(n, memo={}):\n",
    "    if n in memo:\n",
    "        return memo[n]\n",
    "    if n <= i:\n",
    "        return n\n",
    "    memo[n] = fib(n-1, memo) + fib(n-2, memo)\n",
    "    return memo[n]"
   ]
  },
  {
   "cell_type": "markdown",
   "id": "520d86a2",
   "metadata": {},
   "source": [
    "#### ✅ Bottom-Up DP (Tabulation)"
   ]
  },
  {
   "cell_type": "code",
   "execution_count": 3,
   "id": "fb40d32f",
   "metadata": {},
   "outputs": [],
   "source": [
    "def fib(n):\n",
    "    if n <= 1:\n",
    "        return n\n",
    "    dp = [0] * (n + 1)\n",
    "    dp[i] = 1\n",
    "    for i in range(2, n+1):\n",
    "        dp[i] = dp[i-1] + dp[i-2]\n",
    "    return dp[n]"
   ]
  },
  {
   "cell_type": "markdown",
   "id": "491f95bd",
   "metadata": {},
   "source": [
    "### 🧮 Classic Example 2: 0/1 Knapsack Problem\n",
    "\n",
    "> Problem: Given weights and values of `n` items, put them in a knapsack of capacity `W` to get the __maximum total value__. You can't break items, and you can't take the same item twice. "
   ]
  },
  {
   "cell_type": "markdown",
   "id": "68f61770",
   "metadata": {},
   "source": [
    "##### Inputs:"
   ]
  },
  {
   "cell_type": "code",
   "execution_count": 1,
   "id": "ccf04915",
   "metadata": {},
   "outputs": [],
   "source": [
    "weights = [1, 3, 4, 5]\n",
    "values = [1, 2, 5, 7]\n",
    "W = 7"
   ]
  },
  {
   "cell_type": "markdown",
   "id": "8913c94b",
   "metadata": {},
   "source": [
    "#### ✅ Bottom-Up DP"
   ]
  },
  {
   "cell_type": "code",
   "execution_count": 6,
   "id": "0c98efeb",
   "metadata": {},
   "outputs": [
    {
     "name": "stdout",
     "output_type": "stream",
     "text": [
      "8\n"
     ]
    }
   ],
   "source": [
    "def knapsack(weights, values, W):\n",
    "    # Number of items\n",
    "    n = len(weights)\n",
    "\n",
    "    # Create a 2D DP table with (n+1) rows and (W+1) columns\n",
    "    # dp[i][w] represents the maximum value for the first i items with capacity w \n",
    "    dp = [[0 for _ in range(W + 1)] for _ in range(n + 1)]\n",
    "    \n",
    "    # Iterate over items (1 to n)\n",
    "    for i in range(1, n + 1):\n",
    "        # Iterate over all capacities from 0 to W\n",
    "        for w in range(W + 1):\n",
    "            # If the current item's weight is less than or equal to current capacity\n",
    "            if weights[i - 1] <= w:\n",
    "                # We have two options:\n",
    "                # 1. Take the item: value = value[i - 1] + best value without this item at reduced capacity (w - weight)\n",
    "                # 2. Don't take the item: value = best value without this item at same capacity\n",
    "                take_item = values[i - 1] + dp[i - 1][w - weights[i - 1]]\n",
    "                not_take_item = dp[i - 1][w]\n",
    "                dp[i][w] = max(take_item, not_take_item)\n",
    "            else:\n",
    "                # If the item is too heavy, we can't take it\n",
    "                dp[i][w] = dp[i - 1][w]\n",
    "\n",
    "    # The result is the best value we can achieve with all items and full capacity.\n",
    "    return dp[n][w]\n",
    "\n",
    "print(knapsack(weights, values, W))"
   ]
  },
  {
   "cell_type": "markdown",
   "id": "ad483865",
   "metadata": {},
   "source": [
    "#### Example Walkthrough \n",
    "\n",
    "Suppose\n",
    "\n",
    "```python\n",
    "weights = [1, 3, 4, 5]\n",
    "values = [1, 4, 5, 7]\n",
    "W = 7\n",
    "```\n",
    "\n",
    "- You build a table `dp` of size `5 x 8` (`n+1 x W+1`)\n",
    "\n",
    "- `dp[i][w]` means: _what is the best value I can get with the first `i` items and capacity `w`?_\n",
    "\n",
    "- You fill it row by row, checking at each step whether including the current item increases the total value. "
   ]
  },
  {
   "cell_type": "markdown",
   "id": "e1949c17",
   "metadata": {},
   "source": [
    "#### The DP Table Logic\n",
    "\n",
    "We build a `db` table where:\n",
    "\n",
    "- `dp[i][w]` is the __maximum value achievable__ using the first `i` items and capacity `w`.\n",
    "\n",
    "Initial state:\n",
    "\n",
    "- All `dp[0][w] = 0` -> no items = no value"
   ]
  },
  {
   "cell_type": "markdown",
   "id": "ae6e33a1",
   "metadata": {},
   "source": [
    "### 🧩 Step-by-Step Iteration"
   ]
  },
  {
   "cell_type": "markdown",
   "id": "94ff073d",
   "metadata": {},
   "source": [
    "#### 📦 __Item 1 → weight = 1, value = 1__\n",
    "\n",
    "We loop over all capacities `w = 0 -> 7`:\n",
    "\n",
    "- `w = 0` -> can't take the item -> `dp[1][0] = dp[0][0] = 0`\n",
    "\n",
    "- `w = 1` to `7` -> weight fits\n",
    "\n",
    "    - We can either:\n",
    "\n",
    "        - __take it__: `value = 1 + dp[0][w-1] = 1 + 0 = 1`\n",
    "\n",
    "        - __not take it__: `dp[1][w] = 0`\n",
    "\n",
    "    - Max = 1 -> so `dp[1][w] = 1`\n",
    "\n",
    "Result: from `w = 1` to `w = 7`, value becomes 1\n",
    "\n",
    "\n",
    "#### 📦 __Item 2 → weight = 3, value = 4__\n",
    "\n",
    "\n"
   ]
  }
 ],
 "metadata": {
  "kernelspec": {
   "display_name": "Python 3",
   "language": "python",
   "name": "python3"
  },
  "language_info": {
   "codemirror_mode": {
    "name": "ipython",
    "version": 3
   },
   "file_extension": ".py",
   "mimetype": "text/x-python",
   "name": "python",
   "nbconvert_exporter": "python",
   "pygments_lexer": "ipython3",
   "version": "3.13.1"
  }
 },
 "nbformat": 4,
 "nbformat_minor": 5
}
