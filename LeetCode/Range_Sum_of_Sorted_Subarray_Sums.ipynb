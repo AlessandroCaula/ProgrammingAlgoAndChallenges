{
 "cells": [
  {
   "cell_type": "markdown",
   "id": "ed8b66a3",
   "metadata": {},
   "source": [
    "# 1508. Range Sum of Sorted Subarray Sums\n",
    "\n",
    "\n",
    "You are given the array `nums` consisting of `n` positive integers. You computed the sum of all non-empty continuous subarrays from the array and then sorted them in non-decreasing order, creating a new array of `n * (n+1) / 2` numbers.\n",
    "\n",
    "_Return the sum of the numbers from index `left` to index `right` __(indexed from 1)__, inclusive, in the new array._ Since the answer can be a huge number return it modulo $10^9 + 7$.\n",
    "\n",
    "#### Example 1:\n",
    "\n",
    "```\n",
    "Input: nums = [1,2,3,4], n = 4, left = 1, right = 5\n",
    "Output: 13 \n",
    "Explanation: All subarray sums are 1, 3, 6, 10, 2, 5, 9, 3, 7, 4. After sorting them in non-decreasing order we have the new array [1, 2, 3, 3, 4, 5, 6, 7, 9, 10]. The sum of the numbers from index le = 1 to ri = 5 is 1 + 2 + 3 + 3 + 4 = 13. \n",
    "```\n",
    "\n",
    "#### Example 2:\n",
    "\n",
    "```\n",
    "Input: nums = [1,2,3,4], n = 4, left = 3, right = 4\n",
    "Output: 6\n",
    "Explanation: The given array is the same as example 1. We have the new array [1, 2, 3, 3, 4, 5, 6, 7, 9, 10]. The sum of the numbers from index le = 3 to ri = 4 is 3 + 3 = 6.\n",
    "```"
   ]
  },
  {
   "cell_type": "code",
   "execution_count": null,
   "id": "7b59b731",
   "metadata": {},
   "outputs": [
    {
     "name": "stdout",
     "output_type": "stream",
     "text": [
      "None\n"
     ]
    }
   ],
   "source": [
    "def range_sum(nums, n, left, right):\n",
    "    # Computing the sum of all non empty subarray\n",
    "    subarray_sum = []\n",
    "    for i in range(len(nums)):\n",
    "        j = i + 1\n",
    "        while j <= len(nums):\n",
    "            curr_sum = sum(nums[i: j])\n",
    "            subarray_sum.append(curr_sum)\n",
    "            j += 1\n",
    "\n",
    "    # Sort the subarray\n",
    "    subarray_sum.sort()\n",
    "    \n",
    "    # Compute final sum\n",
    "    final_sum = sum(subarray_sum[left - 1: right])\n",
    "    return final_sum\n",
    "\n",
    "print(range_sum([1,2,3,4], 4, 1, 5))"
   ]
  },
  {
   "cell_type": "code",
   "execution_count": null,
   "id": "1482c56e",
   "metadata": {},
   "outputs": [],
   "source": []
  }
 ],
 "metadata": {
  "kernelspec": {
   "display_name": "Python 3",
   "language": "python",
   "name": "python3"
  },
  "language_info": {
   "codemirror_mode": {
    "name": "ipython",
    "version": 3
   },
   "file_extension": ".py",
   "mimetype": "text/x-python",
   "name": "python",
   "nbconvert_exporter": "python",
   "pygments_lexer": "ipython3",
   "version": "3.13.0"
  }
 },
 "nbformat": 4,
 "nbformat_minor": 5
}
