{
 "cells": [
  {
   "cell_type": "markdown",
   "metadata": {},
   "source": [
    "## Single number"
   ]
  },
  {
   "cell_type": "markdown",
   "metadata": {},
   "source": [
    "Given a **non-empty** array of integers `nums`, every element appears *twice* except for one. Find that single one. \n",
    "\n",
    "You must implement a solution with a linear runtime complexity and use only constant extra space.\n",
    "\n",
    "```\n",
    "Input: nums = [2,2,1]\n",
    "Output: 1\n",
    "```\n",
    "\n",
    "```\n",
    "Input: nums = [4,1,2,1,2]\n",
    "Output: 4\n",
    "```\n",
    "\n",
    "```\n",
    "Input: nums = [1]\n",
    "Output: 1\n",
    "```"
   ]
  },
  {
   "cell_type": "markdown",
   "metadata": {},
   "source": [
    "*The following solotion actually does not solve it in O(n), but O(nlogn) => Sorting*"
   ]
  },
  {
   "cell_type": "code",
   "execution_count": 6,
   "metadata": {},
   "outputs": [
    {
     "name": "stdout",
     "output_type": "stream",
     "text": [
      "4\n",
      "4\n",
      "1\n"
     ]
    }
   ],
   "source": [
    "def single_number(nums: list) -> int:\n",
    "    if len(nums) == 1:\n",
    "        return nums[0]\n",
    "    nums.sort()\n",
    "    sum = 0\n",
    "    for i, num in enumerate(nums):\n",
    "        if i % 2 == 0:\n",
    "            sum += num\n",
    "        else:\n",
    "            sum -= num\n",
    "            if sum != 0:\n",
    "                return nums[i - 1]\n",
    "    return nums[len(nums) - 1]\n",
    "\n",
    "print(single_number([4,1,2,1,2]))\n",
    "print(single_number([4,1,5,1,5]))\n",
    "print(single_number([2,2,1]))"
   ]
  },
  {
   "cell_type": "markdown",
   "metadata": {},
   "source": [
    "To solve this problem in O(n), we can use the `XOR` operation. When we `XOR` a number with itself, the result is 0. When we `XOR` a number with 0, the result is the number itself.   \n",
    "\n",
    "Since every number appears twice except for one number, if we `XOR` all numbers together, all the pairs will cancel out (become 0), and we'll be left with the single number. \n",
    "\n",
    "This approach has has linear time complexity `O(n)` and uses constant extra space `O(1)`"
   ]
  },
  {
   "cell_type": "code",
   "execution_count": 7,
   "metadata": {},
   "outputs": [
    {
     "name": "stdout",
     "output_type": "stream",
     "text": [
      "4\n",
      "1\n"
     ]
    }
   ],
   "source": [
    "def single_number(nums: list) -> int:\n",
    "    # Initialize result as 0\n",
    "    result = 0\n",
    "\n",
    "    # XOR all numbers together\n",
    "    for num in nums:\n",
    "        result ^= num\n",
    "\n",
    "    # Return the final result\n",
    "    return result\n",
    "\n",
    "print(single_number([1,4,2,1,2]))\n",
    "print(single_number([2,2,1]))"
   ]
  }
 ],
 "metadata": {
  "kernelspec": {
   "display_name": "Python 3",
   "language": "python",
   "name": "python3"
  },
  "language_info": {
   "codemirror_mode": {
    "name": "ipython",
    "version": 3
   },
   "file_extension": ".py",
   "mimetype": "text/x-python",
   "name": "python",
   "nbconvert_exporter": "python",
   "pygments_lexer": "ipython3",
   "version": "3.13.0"
  }
 },
 "nbformat": 4,
 "nbformat_minor": 2
}
