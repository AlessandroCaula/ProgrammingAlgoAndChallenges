{
 "cells": [
  {
   "cell_type": "markdown",
   "id": "8ed68c86",
   "metadata": {},
   "source": [
    "# Find Median from Data Stream\n",
    "\n",
    "The median is the middle value in an ordered integer list. If the size of the list is eve, there is no middle value, and the median is the mean of the two middle values. \n",
    "\n",
    "- For example, for `arr = [2,3,4]`, the median is 3\n",
    "\n",
    "- For example, for `arr = [2,3]`, the median is $(2 + 3) / 2 = 2.5$\n",
    "\n",
    "Implement the MedianFinder class:\n",
    "\n",
    "- `MedianFinder()` initializes the `MedianFinder` object. \n",
    "\n",
    "- `void addNum(int num)` adds the integer `num` from the data stream to the data structure. \n",
    "\n",
    "- `double findMedian()` returns the median of all elements so far. Answer within $10^{-5}$ of the actual answer will be accepted. \n",
    "\n",
    "### Example:\n",
    "\n",
    "```\n",
    "Input:\n",
    "[\"MedianFinder\", \"addNum\", \"addNum\", \"findMedian\", \"addNum\", \"findMedian\"]\n",
    "[[], [1], [2], [], [3], []]\n",
    "Output:\n",
    "[null, null, null, 1.5, null, 2.0]\n",
    "\n",
    "Explanation:\n",
    "MedianFinder medianFinder = new MedianFinder();\n",
    "medianFinder.addNum(1);    // arr = [1]\n",
    "medianFinder.addNum(2);    // arr = [1, 2]\n",
    "medianFinder.findMedian(); // return 1.5 (i.e., (1 + 2) / 2)\n",
    "medianFinder.addNum(3);    // arr[1, 2, 3]\n",
    "medianFinder.findMedian(); // return 2.0\n",
    "```"
   ]
  },
  {
   "cell_type": "code",
   "execution_count": 17,
   "id": "95e25dc4",
   "metadata": {},
   "outputs": [
    {
     "name": "stdout",
     "output_type": "stream",
     "text": [
      "[1]\n",
      "[1, 5]\n",
      "3.0\n",
      "[1, 5, 2]\n",
      "2\n"
     ]
    }
   ],
   "source": [
    "class MedianFinder():\n",
    "    # Constructor\n",
    "    def __init__(self):\n",
    "        self.number_list = []\n",
    "\n",
    "    def add_num(self, num_to_add):\n",
    "        self.number_list.append(num_to_add)\n",
    "    \n",
    "    def find_median(self):\n",
    "        # Sort the list in ascending order\n",
    "        self.number_list.sort()\n",
    "\n",
    "        if len(self.number_list) % 2 == 0:\n",
    "            # Compute the average between the two values in between the list\n",
    "            median = ((self.number_list[(len(self.number_list) // 2) - 1]) + (self.number_list[len(self.number_list) // 2])) / 2\n",
    "            return median\n",
    "        else:\n",
    "            # Return the median value inside the list\n",
    "            median = self.number_list[len(self.number_list) // 2]\n",
    "            return median\n",
    "\n",
    "MedianFinder = MedianFinder()\n",
    "MedianFinder.add_num(1)\n",
    "print(MedianFinder.number_list)\n",
    "MedianFinder.add_num(5)\n",
    "print(MedianFinder.number_list)\n",
    "\n",
    "print(MedianFinder.find_median())\n",
    "\n",
    "MedianFinder.add_num(2)\n",
    "print(MedianFinder.number_list)\n",
    "\n",
    "print(MedianFinder.find_median())"
   ]
  },
  {
   "cell_type": "markdown",
   "id": "546a3f75",
   "metadata": {},
   "source": [
    "## Solution\n",
    "\n",
    "To solve this problem efficiently, we'll use _two heaps_: a max heap and a min heap. The max heap contains the smaller half of the numbers. The min heap contains the larger half of the number.\n",
    "\n",
    "We make sure sizes of these heaps differ by at most 1. This makes the median lookup really fast. If the count of total numbers is odd, the median would be the top of larger heap. Otherwise, the median would be the average of tops. \n",
    "\n",
    "This approach allows us to quickly find the median in $O(1)$ time and add numbers in $O(log n)$ time.\n",
    "\n",
    "One thing to node is that Python does not support a max heap. We use negative values to simulate a max with Python's min heap. "
   ]
  },
  {
   "cell_type": "code",
   "execution_count": 16,
   "id": "c8c09cfc",
   "metadata": {},
   "outputs": [
    {
     "name": "stdout",
     "output_type": "stream",
     "text": [
      "3.0\n",
      "2\n"
     ]
    }
   ],
   "source": [
    "import heapq\n",
    "\n",
    "class MedianFinder:\n",
    "    def __init__(self):\n",
    "        # Max heap for the lower half of numbers\n",
    "        self.max_heap = []\n",
    "        # Min heap for the upper half of numbers\n",
    "        self.min_heap = []\n",
    "    \n",
    "    def add_num(self, num):\n",
    "        # First, add to max heap\n",
    "        heapq.heappush(self.max_heap, -num)\n",
    "\n",
    "        # Ensure every element in max heap\n",
    "        # is <= elements in min heap\n",
    "        if (self.max_heap and self.min_heap and -self.max_heap[0] > self.min_heap[0]):\n",
    "            max_top = -heapq.heappop(self.max_heap)\n",
    "            heapq.heappush(self.min_heap, max_top)\n",
    "\n",
    "        # Balance the heaps\n",
    "        if len(self.max_heap) > len(self.min_heap) + 1:\n",
    "            max_top = -heapq.heappop(self.max_heap)\n",
    "            heapq.heappush(self.min_heap, max_top)\n",
    "        \n",
    "        if len(self.min_heap) > len(self.max_heap) + 1:\n",
    "            min_top = heapq.heappop(self.min_heap)\n",
    "            heapq.heappush(self.max_heap, -min_top)\n",
    "    \n",
    "    def find_median(self):\n",
    "        # If heaps are equal in size,\n",
    "        # return average of tops\n",
    "        if len(self.max_heap) == len(self.min_heap):\n",
    "            return (-self.max_heap[0] + self.min_heap[0]) / 2.0\n",
    "        \n",
    "        # Otherwise, return to of larger heap\n",
    "        if len(self.max_heap) > len(self.min_heap):\n",
    "            return -self.max_heap[0]\n",
    "        else:\n",
    "            return -self.min_heap[0]\n",
    "\n",
    "\n",
    "MedianFinder = MedianFinder()\n",
    "MedianFinder.add_num(1)\n",
    "MedianFinder.add_num(5)\n",
    "print(MedianFinder.find_median())\n",
    "\n",
    "MedianFinder.add_num(2)\n",
    "print(MedianFinder.find_median())"
   ]
  },
  {
   "cell_type": "code",
   "execution_count": null,
   "id": "f5bb0276",
   "metadata": {},
   "outputs": [],
   "source": []
  }
 ],
 "metadata": {
  "kernelspec": {
   "display_name": "Python 3",
   "language": "python",
   "name": "python3"
  },
  "language_info": {
   "codemirror_mode": {
    "name": "ipython",
    "version": 3
   },
   "file_extension": ".py",
   "mimetype": "text/x-python",
   "name": "python",
   "nbconvert_exporter": "python",
   "pygments_lexer": "ipython3",
   "version": "3.13.0"
  }
 },
 "nbformat": 4,
 "nbformat_minor": 5
}
