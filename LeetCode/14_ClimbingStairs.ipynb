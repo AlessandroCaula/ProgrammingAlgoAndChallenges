{
 "cells": [
  {
   "cell_type": "markdown",
   "metadata": {},
   "source": [
    "# Climbing Stairs"
   ]
  },
  {
   "cell_type": "markdown",
   "metadata": {},
   "source": [
    "You are climbing a staircase. It takes `n` steps to reach the top.\n",
    "\n",
    "Each time you can either climb `1` or `2` steps. In how many distinct ways can you climb to the top?\n",
    "\n",
    "Example 1:\n",
    "```\n",
    "Input: n = 2\n",
    "Output: 2\n",
    "Explanation: There are two ways to climb to the top.\n",
    "1. 1 step + 1 step\n",
    "2. 2 steps\n",
    "```\n",
    "\n",
    "Example 2:\n",
    "```\n",
    "Input: n = 3\n",
    "Output: 3\n",
    "Explanation: There are three ways to climb to the top.\n",
    "1. 1 step + 1 step + 1 step\n",
    "2. 1 step + 2 steps\n",
    "3. 2 steps + 1 step\n",
    "```"
   ]
  },
  {
   "cell_type": "markdown",
   "metadata": {},
   "source": [
    "## Solutions "
   ]
  },
  {
   "cell_type": "markdown",
   "metadata": {},
   "source": [
    "### Intuition:\n",
    "To calculate the number of ways to climb the stairs, we can observe that hen we are on the nth stair, we have two options:\n",
    "\n",
    "1. either we climbed one stair from the (n-1)th stair or\n",
    "2. we climbed two stairs from the (n-2)th stair.\n",
    "\n",
    "By leveraging this observation, we can break down the problem into smaller subproblems and apply the concept of the Fibonacci series.  \n",
    "The base cases are when we are on the 1st stair (only one way to reach it) and the 2nd stair (two ways to reach it).   \n",
    "By summing up the number of ways to reach the (n-1) and (n-2)th stairs, we can compute the total number of ways to climb the stairs.   \n",
    "This allows us to solve the problem efficiently using various dynamic programming techniques such as recursion, memoriztion, tabulation, or space optimization. "
   ]
  },
  {
   "cell_type": "markdown",
   "metadata": {},
   "source": [
    "### Approach 1: Recursion \n",
    "\n",
    "**Exaplanation**: The recursive solution uses the concept of Fibonacci numbers to solbe the problem. It calculates the number of ways to climb the stairs by recursively calling the `climbStairs` unction for (n-1) and (n-2) steps.   \n",
    "However, this solution has exponential time complexity (O(2^n)) due to reduntatn calculations. "
   ]
  },
  {
   "cell_type": "code",
   "execution_count": 7,
   "metadata": {},
   "outputs": [
    {
     "name": "stdout",
     "output_type": "stream",
     "text": [
      "8\n"
     ]
    }
   ],
   "source": [
    "def climbStairs(n: int) -> int:\n",
    "    if n == 0 or n == 1:\n",
    "        return 1\n",
    "    return climbStairs(n - 1) + climbStairs (n - 2)\n",
    "\n",
    "n = 5\n",
    "print(climbStairs(n))"
   ]
  },
  {
   "cell_type": "markdown",
   "metadata": {},
   "source": [
    "### Approach 2: Memoization   \n",
    "**Explanation**: the memoization solution improves the recursive solution by introducing memoization, which avoids redundant calculations. We use and unordered map (`memo`) to store the already computed results for each step `n`.    \n",
    "Before making a recursive call, we check if the result for the given `n` exists in the memo. If it does, we return the stored value; otherwise, we compute the result recursively and store it in the memo for future reference."
   ]
  },
  {
   "cell_type": "code",
   "execution_count": 6,
   "metadata": {},
   "outputs": [
    {
     "name": "stdout",
     "output_type": "stream",
     "text": [
      "8\n"
     ]
    }
   ],
   "source": [
    "def climbStairs(n: int) -> int:\n",
    "    memo = {}\n",
    "    return helper(n, memo)\n",
    "\n",
    "def helper(n: int, memo: dict[int, int]) -> int:\n",
    "    if n == 0 or n == 1:\n",
    "        return 1\n",
    "    if n not in memo:\n",
    "        memo[n] = helper(n - 1, memo) + helper(n - 2, memo)\n",
    "    return memo[n]\n",
    "\n",
    "n = 5\n",
    "print(climbStairs(n))"
   ]
  },
  {
   "cell_type": "markdown",
   "metadata": {},
   "source": [
    "### Approach 3: Tabulation\n",
    "**Explanation**: the tabulation eliminates recursion and uses a bottom-up approach to solve the problem iteratibely. It creates a DP table (`dp`) of size n + 1 to store the number of ways to reach each step.  \n",
    "The base cases (0 and 1 steps) are initialized to 1 since there is only one way to reach them.    \n",
    "Then, it iterates from 2 to n, filling in the DP table by summing up the values for the previous twp steps. Finally, it returns the value in the last cell of the DP table, which represents the total number of ways to reach the top."
   ]
  },
  {
   "cell_type": "code",
   "execution_count": 9,
   "metadata": {},
   "outputs": [
    {
     "name": "stdout",
     "output_type": "stream",
     "text": [
      "8\n"
     ]
    }
   ],
   "source": [
    "def climbStairs(n: int) -> int:\n",
    "    if n == 0 or n == 1:\n",
    "        return 1\n",
    "    \n",
    "    dp = [0] * (n + 1)\n",
    "    dp[0] = dp[1] = 1\n",
    "\n",
    "    for i in range(2, n + 1):\n",
    "        dp[i] = dp[i-1] + dp[i-2]\n",
    "    \n",
    "    return dp[n]\n",
    "\n",
    "n = 5\n",
    "print(climbStairs(n))"
   ]
  },
  {
   "cell_type": "markdown",
   "metadata": {},
   "source": [
    "### Approach 4: Space Optimization\n",
    "**Explanation**: The space-optimized solution further reduces the space complexity by using only two vatiables (`prev` and `curr`) instead of an entire DP table. It initializes `prev` and `curr` to 1 since there is only one way to reach the base cases (0 and 1 steps). Then, in each iteration, it updates `prev` and `curr` by shifting their values.   \n",
    "`curr` becomes the sum of the previous two values, and `prev` stores the previous value of `curr`. "
   ]
  },
  {
   "cell_type": "code",
   "execution_count": 10,
   "metadata": {},
   "outputs": [
    {
     "name": "stdout",
     "output_type": "stream",
     "text": [
      "8\n"
     ]
    }
   ],
   "source": [
    "def climbStairs(n: int) -> int:\n",
    "    if n == 0 or n == 1:\n",
    "        return 1\n",
    "    prev, curr = 1, 1\n",
    "    for i in range(2, n+1):\n",
    "        temp = curr\n",
    "        curr = prev + curr\n",
    "        prev = temp \n",
    "    return curr\n",
    "\n",
    "n = 5\n",
    "print(climbStairs(n))"
   ]
  }
 ],
 "metadata": {
  "kernelspec": {
   "display_name": "Python 3",
   "language": "python",
   "name": "python3"
  },
  "language_info": {
   "codemirror_mode": {
    "name": "ipython",
    "version": 3
   },
   "file_extension": ".py",
   "mimetype": "text/x-python",
   "name": "python",
   "nbconvert_exporter": "python",
   "pygments_lexer": "ipython3",
   "version": "3.9.13"
  }
 },
 "nbformat": 4,
 "nbformat_minor": 2
}
