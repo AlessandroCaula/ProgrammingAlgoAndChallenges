{
 "cells": [
  {
   "cell_type": "markdown",
   "metadata": {},
   "source": [
    "# Linked List Cycle"
   ]
  },
  {
   "cell_type": "markdown",
   "metadata": {},
   "source": [
    "Given `head`, the head of a linked list, determine if the linked list has a cycle in it.   \n",
    "\n",
    "There is a cycle in a linked list if there is some node in the list that can be reached again by continuously following the `next` pointer. Internally, `pos` is used to denote the index of the node that tail's `next` pointer is connected to. Note that `pos` is not passed as a parameter. \n",
    "\n",
    "Return `true` if there is a cycle in the linked list. Otherwise, return `false`."
   ]
  },
  {
   "attachments": {
    "image-2.png": {
     "image/png": "[encoded data removed]"
    },
    "image.png": {
     "image/png": "[encoded data removed]"
    }
   },
   "cell_type": "markdown",
   "metadata": {},
   "source": [
    "![image.png](attachment:image.png)\n",
    "\n",
    "```\n",
    "Input: head = [3, 2, 0, -4], pos = 1\n",
    "Output: true\n",
    "Explanation: There is a cycle in the linked list, where the tail connects to the 1st node (0-indexed).   \n",
    "```     \n",
    "\n",
    "![image-2.png](attachment:image-2.png)\n",
    "\n",
    "```\n",
    "Input: head = [1, 2], pos = 0\n",
    "Output: true\n",
    "Explanation: there is a cycle in the linked list, where the tail connects to the 0th node.\n",
    "```"
   ]
  },
  {
   "cell_type": "code",
   "execution_count": 13,
   "metadata": {},
   "outputs": [
    {
     "name": "stdout",
     "output_type": "stream",
     "text": [
      "Non cycled Linked List\n",
      "3\n",
      "2\n",
      "0\n",
      "-4\n",
      "\n",
      "Cycle Linked List\n",
      "3\n",
      "2\n",
      "0\n",
      "-4\n",
      "2\n",
      "0\n",
      "-4\n",
      "2\n",
      "0\n",
      "-4\n"
     ]
    }
   ],
   "source": [
    "# Create a linked list. \n",
    "class LinkedNode():\n",
    "    def __init__(self, val, next=None):\n",
    "        self.val = val\n",
    "        self.next = next\n",
    "        \n",
    "def createLinkedListFromArray(arr:list):\n",
    "    # Define the head, the starting point of the linked list. \n",
    "    head = LinkedNode(arr[0])\n",
    "    curr = head\n",
    "    \n",
    "    # Loop through all the elements of the list and create a node for each element. \n",
    "    for el in arr[1:]:\n",
    "        curr.next = LinkedNode(el)\n",
    "        curr = curr.next\n",
    "    \n",
    "    # Returning the head of the linked list. \n",
    "    return head\n",
    "\n",
    "array1 = [3, 2, 0, -4]\n",
    "array2 = [1, 2]\n",
    "\n",
    "ll1 = createLinkedListFromArray(array1)\n",
    "ll2 = createLinkedListFromArray(array2)\n",
    "\n",
    "# Check if the linked list has been correctly created by looping through it.\n",
    "print('Non cycled Linked List')\n",
    "curr = ll1\n",
    "while curr != None:\n",
    "    print(curr.val)\n",
    "    curr = curr.next\n",
    "  \n",
    "#######################################################################\n",
    "# In order to create a loop into the linked list, at the pos position. \n",
    "\n",
    "def createCycleLinkedList(head: LinkedNode, pos:int):\n",
    "    # create a list containing all the nodes of the linked list and the \n",
    "    linked_node_list = []\n",
    "    \n",
    "    curr = head\n",
    "    \n",
    "    while curr.next != None:\n",
    "        linked_node_list.append(curr)\n",
    "        curr = curr.next\n",
    "    \n",
    "    # When reaching the last node of the link, set its next to point toward the node in the pos position. \n",
    "    curr.next = linked_node_list[pos]\n",
    "    \n",
    "    return head\n",
    "\n",
    "cycle_linked_list1 = createCycleLinkedList(ll1, 1)\n",
    "\n",
    "# Loop through the cycled linked list for 10 times. \n",
    "print()\n",
    "print('Cycle Linked List')\n",
    "i = 0\n",
    "curr = cycle_linked_list1\n",
    "while i < 10:\n",
    "    print(curr.val)\n",
    "    curr = curr.next\n",
    "    i += 1\n"
   ]
  },
  {
   "cell_type": "code",
   "execution_count": 26,
   "metadata": {},
   "outputs": [
    {
     "name": "stdout",
     "output_type": "stream",
     "text": [
      "3\n",
      "2\n",
      "0\n",
      "-4\n",
      "3\n",
      "2\n",
      "0\n",
      "-4\n",
      "3\n",
      "2\n"
     ]
    }
   ],
   "source": [
    "# Now we can create a single Function which will create a cycle linked list given the array with the values and the position in which the ll has to cycle\n",
    "class LinkedNode:\n",
    "    def __init__(self, val, next=None):\n",
    "        self.val = val\n",
    "        self.next = next\n",
    "\n",
    "def createCycleLinkedListFromArray(arr:list, pos:int):\n",
    "    # The head of the array will be the 1st (0-index) value of the array.\n",
    "    head = LinkedNode(arr[0])\n",
    "    curr = head\n",
    "    \n",
    "    linked_node_list = []\n",
    "    linked_node_list.append(curr)\n",
    "    \n",
    "    for i, el in enumerate(arr[1:]):\n",
    "        # The current next node will point toward the next element (that will be \"converted\" as a node) in the array.\n",
    "        curr.next = LinkedNode(el)\n",
    "        # Store the Linked nodes in a list, so that when we reach the last element of the list, we can connect (cycle) it to the element in the correct pos\n",
    "        linked_node_list.append(curr)        \n",
    "        # Move the current linked node. \n",
    "        curr = curr.next\n",
    "        # If we have reached the last element of the array, we connect it to the linked node in the pos position. \n",
    "        if i + 1 == len(arr) - 1:\n",
    "            curr.next = linked_node_list[pos]\n",
    "    \n",
    "    # Return the cycle linked list\n",
    "    return head\n",
    "\n",
    "cycle_linked_list1 = createCycleLinkedListFromArray([3, 2, 0, -4], 1)\n",
    "\n",
    "# Check if the linked list has been correctly created by looping 10 times in it. \n",
    "curr = cycle_linked_list1\n",
    "i = 0\n",
    "while i < 10:\n",
    "    print(curr.val)\n",
    "    curr = curr.next\n",
    "    i += 1"
   ]
  },
  {
   "cell_type": "markdown",
   "metadata": {},
   "source": [
    "## Solution \n",
    "\n",
    "To detect a cycle in a linked list, we'll use the *Floyd's Cycle Finding Algorithm*, also known as the \"Tortoise and hare\" algorithm. \n",
    "\n",
    "We'll use two pointers: a slow pointer and a fast pointer. The slow pointer moves one step at a time, while the fast pointer moves two steps. \n",
    "\n",
    "The main idea is that if there's a cycle, the fast pointer will catch up to the slow pointer. If there's no cycle, the fast pointer will reach the end of the list. \n",
    "\n",
    "The time complexity of this solution is **O(n)**, where `n` is the number of nodes in the linked list. "
   ]
  },
  {
   "cell_type": "code",
   "execution_count": 27,
   "metadata": {},
   "outputs": [],
   "source": [
    "def hasCycle(head):\n",
    "    # Handle empty list or single node\n",
    "    if not head or not head.next:\n",
    "        return False\n",
    "    \n",
    "    # Initialize slow and fast pointer\n",
    "    slow = head\n",
    "    fast = head.next\n",
    "    \n",
    "    # Move pointers until they meet or fast reaches the end.\n",
    "    while slow != fast:\n",
    "        # If the fast pointer reaches end, no cycle exists.\n",
    "        if not fast or not fast.next:\n",
    "            return False\n",
    "        \n",
    "        # Move slow one step and fast two steps\n",
    "        slow = slow.next\n",
    "        fast = fast.next.next\n",
    "        \n",
    "    # If we exit the loop, pointers have met\n",
    "    return True"
   ]
  },
  {
   "cell_type": "code",
   "execution_count": 28,
   "metadata": {},
   "outputs": [
    {
     "name": "stdout",
     "output_type": "stream",
     "text": [
      "Cycle LinkedList:  False\n",
      "Cycle LinkedList:  True\n"
     ]
    }
   ],
   "source": [
    "linked_list = createLinkedListFromArray([9, 8, 7, 6, 5, 4, 3, 2, 1, 0])\n",
    "cycle_linked_list = createCycleLinkedListFromArray([9, 8, 7, 6, 5, 4, 3, 2, 1, 0], 5)\n",
    "\n",
    "print(\"Cycle LinkedList: \", hasCycle(linked_list))\n",
    "print(\"Cycle LinkedList: \", hasCycle(cycle_linked_list))"
   ]
  }
 ],
 "metadata": {
  "kernelspec": {
   "display_name": "Python 3",
   "language": "python",
   "name": "python3"
  },
  "language_info": {
   "codemirror_mode": {
    "name": "ipython",
    "version": 3
   },
   "file_extension": ".py",
   "mimetype": "text/x-python",
   "name": "python",
   "nbconvert_exporter": "python",
   "pygments_lexer": "ipython3",
   "version": "3.9.4"
  }
 },
 "nbformat": 4,
 "nbformat_minor": 2
}
