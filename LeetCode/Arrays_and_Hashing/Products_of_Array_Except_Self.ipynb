{
 "cells": [
  {
   "cell_type": "markdown",
   "id": "47e084e3",
   "metadata": {},
   "source": [
    "# Products of Array Excepts Self"
   ]
  },
  {
   "cell_type": "markdown",
   "id": "95a4324f",
   "metadata": {},
   "source": [
    "Given an integer array `nums`, return an array `output` where `output[i]` is the product of all the elements of `nums` except `nums[i]`.\n",
    "\n",
    "Each product is __guaranteed__ to fit in a __32-bit__ integer.\n",
    "\n",
    "Follow-up: Could you solve it in $O(n)$ time without using the division operation?\n",
    "\n",
    "#### Example 1:\n",
    "```py\n",
    "Input: nums = [1,2,4,6]\n",
    "Output: [48,24,12,8]\n",
    "```\n",
    "\n",
    "#### Example 2:\n",
    "```py\n",
    "Input: nums = [-1,0,1,2,3]\n",
    "Output: [0,-6,0,0,0]\n",
    "```"
   ]
  },
  {
   "cell_type": "code",
   "execution_count": null,
   "id": "3645a5ea",
   "metadata": {},
   "outputs": [
    {
     "name": "stdout",
     "output_type": "stream",
     "text": [
      "[0, 0, 0, 0]\n"
     ]
    }
   ],
   "source": [
    "def productExceptSelf(nums: list[int]) -> list[int]:\n",
    "    product_list = []\n",
    "    for i, el in enumerate(nums):\n",
    "        product = 1\n",
    "        for j in range(len(nums)):\n",
    "            if i != j:\n",
    "                product *= nums[j]\n",
    "        product_list.append(product)\n",
    "    return product_list\n",
    "\n",
    "print(productExceptSelf([1,2,4,6]))"
   ]
  },
  {
   "cell_type": "code",
   "execution_count": null,
   "id": "59b80d87",
   "metadata": {},
   "outputs": [],
   "source": []
  }
 ],
 "metadata": {
  "kernelspec": {
   "display_name": "Python 3",
   "language": "python",
   "name": "python3"
  },
  "language_info": {
   "codemirror_mode": {
    "name": "ipython",
    "version": 3
   },
   "file_extension": ".py",
   "mimetype": "text/x-python",
   "name": "python",
   "nbconvert_exporter": "python",
   "pygments_lexer": "ipython3",
   "version": "3.13.0"
  }
 },
 "nbformat": 4,
 "nbformat_minor": 5
}
