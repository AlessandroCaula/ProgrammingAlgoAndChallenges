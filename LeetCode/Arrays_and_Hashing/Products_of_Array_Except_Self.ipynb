{
 "cells": [
  {
   "cell_type": "markdown",
   "id": "47e084e3",
   "metadata": {},
   "source": [
    "# Products of Array Excepts Self"
   ]
  },
  {
   "cell_type": "markdown",
   "id": "95a4324f",
   "metadata": {},
   "source": [
    "Given an integer array `nums`, return an array `output` where `output[i]` is the product of all the elements of `nums` except `nums[i]`.\n",
    "\n",
    "Each product is __guaranteed__ to fit in a __32-bit__ integer.\n",
    "\n",
    "Follow-up: Could you solve it in $O(n)$ time without using the division operation?\n",
    "\n",
    "#### Example 1:\n",
    "```py\n",
    "Input: nums = [1,2,4,6]\n",
    "Output: [48,24,12,8]\n",
    "```\n",
    "\n",
    "#### Example 2:\n",
    "```py\n",
    "Input: nums = [-1,0,1,2,3]\n",
    "Output: [0,-6,0,0,0]\n",
    "```"
   ]
  },
  {
   "cell_type": "markdown",
   "id": "bf33e78c",
   "metadata": {},
   "source": [
    "- Solution in $O(n^2)$"
   ]
  },
  {
   "cell_type": "code",
   "execution_count": 1,
   "id": "3645a5ea",
   "metadata": {},
   "outputs": [
    {
     "name": "stdout",
     "output_type": "stream",
     "text": [
      "[48, 24, 12, 8]\n",
      "[0, -6, 0, 0, 0]\n"
     ]
    }
   ],
   "source": [
    "def productExceptSelf(nums: list[int]) -> list[int]:\n",
    "    product_list = []\n",
    "    for i, el in enumerate(nums):\n",
    "        product = 1\n",
    "        for j in range(len(nums)):\n",
    "            if i != j:\n",
    "                product *= nums[j]\n",
    "        product_list.append(product)\n",
    "    return product_list\n",
    "\n",
    "print(productExceptSelf([1,2,4,6]))\n",
    "print(productExceptSelf([-1,0,1,2,3]))"
   ]
  },
  {
   "cell_type": "markdown",
   "id": "aedf8f80",
   "metadata": {},
   "source": [
    "- Solution $O(n)$ - _With division_"
   ]
  },
  {
   "cell_type": "code",
   "execution_count": 3,
   "id": "59b80d87",
   "metadata": {},
   "outputs": [
    {
     "name": "stdout",
     "output_type": "stream",
     "text": [
      "[48, 24, 12, 8]\n"
     ]
    }
   ],
   "source": [
    "def productExceptSelf(nums: list[int]) -> list[int]:\n",
    "    product_list = []\n",
    "    tot_product = 1\n",
    "    for n in nums:\n",
    "        tot_product *= n\n",
    "    for i in range(len(nums)):\n",
    "        res = tot_product // nums[i]\n",
    "        product_list.append(res)\n",
    "    return product_list\n",
    "\n",
    "print(productExceptSelf([1,2,4,6]))"
   ]
  },
  {
   "cell_type": "markdown",
   "id": "1e1a70f4",
   "metadata": {},
   "source": [
    "- _Prefix & Suffix_ $O(n^2)$"
   ]
  },
  {
   "cell_type": "code",
   "execution_count": 6,
   "id": "05d39360",
   "metadata": {},
   "outputs": [
    {
     "name": "stdout",
     "output_type": "stream",
     "text": [
      "[48, 24, 12, 8]\n"
     ]
    }
   ],
   "source": [
    "def productExceptSelf(nums: list[int]) -> list[int]:\n",
    "    n = len(nums)\n",
    "    res = [0] * n\n",
    "    pref = [0] * n\n",
    "    suff = [0] * n \n",
    "\n",
    "    pref[0] = suff[n - 1] = 1\n",
    "    for i in range(1, n):\n",
    "        pref[i] = nums[i - 1] * pref[i - 1]\n",
    "    for i in range(n - 2, -1, -1):\n",
    "        suff[i] = nums[i + 1] * suff[i + 1]\n",
    "    for i in range(n):\n",
    "        res[i] = pref[i] * suff[i] \n",
    "    return res\n",
    "\n",
    "    return res\n",
    "\n",
    "print(productExceptSelf([1,2,4,6]))"
   ]
  },
  {
   "cell_type": "code",
   "execution_count": null,
   "id": "637bba53",
   "metadata": {},
   "outputs": [],
   "source": []
  }
 ],
 "metadata": {
  "kernelspec": {
   "display_name": "Python 3",
   "language": "python",
   "name": "python3"
  },
  "language_info": {
   "codemirror_mode": {
    "name": "ipython",
    "version": 3
   },
   "file_extension": ".py",
   "mimetype": "text/x-python",
   "name": "python",
   "nbconvert_exporter": "python",
   "pygments_lexer": "ipython3",
   "version": "3.13.1"
  }
 },
 "nbformat": 4,
 "nbformat_minor": 5
}
