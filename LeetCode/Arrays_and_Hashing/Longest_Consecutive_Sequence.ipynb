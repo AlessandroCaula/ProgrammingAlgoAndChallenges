{
 "cells": [
  {
   "cell_type": "markdown",
   "id": "6fd857d3",
   "metadata": {},
   "source": [
    "# Longest Consecutive Sequence\n",
    "\n",
    "Given an array of integers `nums`, return _the length_ of the longest consecutive sequence of elements that can be formed.\n",
    "\n",
    "_A consecutive sequence_ is a sequence of elements in which element is exactly `1` greater than the previous element. The elements do _not_ have to be consecutive in the original array.\n",
    "\n",
    "You myst write an algorithms that runs in $O(n)$ time.\n",
    "\n",
    "#### Example 1:\n",
    "\n",
    "```py\n",
    "Input: nums = [2,20,4,10,3,4,5]\n",
    "Output: 4\n",
    "```\n",
    "\n",
    "__Explanation__: The longest consecutive sequence is `[2,3,4,5]`.\n",
    "\n",
    "#### Example 2:\n",
    "\n",
    "```py\n",
    "Input: nums = [0,3,2,5,4,6,1,1]\n",
    "Output: 7\n",
    "```"
   ]
  },
  {
   "cell_type": "markdown",
   "id": "fbd5be66",
   "metadata": {},
   "source": [
    "## Brute Force solution \n",
    "- Time complexity: $O(n^2)$\n",
    "- Space complexity: $O(n^2)$"
   ]
  },
  {
   "cell_type": "code",
   "execution_count": 1,
   "id": "f5508b0d",
   "metadata": {},
   "outputs": [
    {
     "name": "stdout",
     "output_type": "stream",
     "text": [
      "7\n"
     ]
    }
   ],
   "source": [
    "def longest_consecutive_sequence(nums):\n",
    "    res = 0\n",
    "    store = set(nums)\n",
    "\n",
    "    for num in nums:\n",
    "        streak, curr = 0, num\n",
    "        while curr in store:\n",
    "            streak += 1\n",
    "            curr += 1\n",
    "        res = max(res, streak)\n",
    "    return res     \n",
    "\n",
    "nums = [0,3,2,5,4,6,1,1]\n",
    "print(longest_consecutive_sequence(nums))"
   ]
  },
  {
   "cell_type": "markdown",
   "id": "35b9c207",
   "metadata": {},
   "source": [
    "## Sorting\n",
    "\n",
    "- Time complexity $O(n log n)$"
   ]
  },
  {
   "cell_type": "code",
   "execution_count": 10,
   "id": "4ee9ca24",
   "metadata": {},
   "outputs": [
    {
     "name": "stdout",
     "output_type": "stream",
     "text": [
      "6\n"
     ]
    }
   ],
   "source": [
    "def longest_consecutive_sequence(nums):\n",
    "    if len(nums) == 0:\n",
    "        return \n",
    "\n",
    "    nums.sort()\n",
    "    tot_streak = 0\n",
    "    curr_streak = 0\n",
    "    for i in range(len(nums)):\n",
    "        if i == 0:\n",
    "            curr_streak += 1\n",
    "        elif nums[i] != nums[i - 1] + 1:\n",
    "            tot_streak = max(tot_streak, curr_streak)\n",
    "            curr_streak = 1\n",
    "        else:\n",
    "            curr_streak += 1\n",
    "\n",
    "    return max(tot_streak, curr_streak)     \n",
    "\n",
    "nums = [0,3,2,5,4,6,1,1]\n",
    "print(longest_consecutive_sequence(nums))"
   ]
  },
  {
   "cell_type": "code",
   "execution_count": 12,
   "id": "8db025f9",
   "metadata": {},
   "outputs": [
    {
     "name": "stdout",
     "output_type": "stream",
     "text": [
      "7\n"
     ]
    }
   ],
   "source": [
    "def longest_consecutive_sequence(nums) -> bool:\n",
    "    if not nums:\n",
    "        return 0\n",
    "\n",
    "    res = 0\n",
    "    nums.sort()\n",
    "\n",
    "    curr, streak = nums[0], 0 \n",
    "    i = 0\n",
    "    while i < len(nums):\n",
    "        if curr != nums[i]:\n",
    "            curr = nums[i]\n",
    "            streak = 0\n",
    "        while i < len(nums) and nums[i] == curr:\n",
    "            i += 1\n",
    "        streak += 1\n",
    "        curr += 1\n",
    "        res = max(res, streak)\n",
    "    return res\n",
    "\n",
    "nums = [0,3,2,5,4,6,1,1]\n",
    "print(longest_consecutive_sequence(nums))"
   ]
  },
  {
   "cell_type": "markdown",
   "id": "8f9d7be5",
   "metadata": {},
   "source": [
    "## Hash Set\n",
    "- Time complexity $O(n)$\n",
    "- Space complexity $O(n)$"
   ]
  },
  {
   "cell_type": "code",
   "execution_count": 11,
   "id": "6de5ee16",
   "metadata": {},
   "outputs": [
    {
     "name": "stdout",
     "output_type": "stream",
     "text": [
      "7\n"
     ]
    }
   ],
   "source": [
    "def longest_consecutive_sequence(nums) -> bool:\n",
    "    numSet = set(nums)\n",
    "    longest = 0\n",
    "    \n",
    "    for num in numSet:\n",
    "        if (num - 1) not in numSet:\n",
    "            length = 1\n",
    "            while (num + length) in numSet:\n",
    "                length += 1\n",
    "            longest = max(length, longest)\n",
    "    return longest\n",
    "\n",
    "nums = [0,3,2,5,4,6,1,1]\n",
    "print(longest_consecutive_sequence(nums))"
   ]
  },
  {
   "cell_type": "markdown",
   "id": "a93cf492",
   "metadata": {},
   "source": [
    "## Hash Map \n",
    "\n",
    "- Time complexity $O(n)$\n",
    "- Space complexity $O(n)$"
   ]
  },
  {
   "cell_type": "code",
   "execution_count": null,
   "id": "ee64da00",
   "metadata": {},
   "outputs": [
    {
     "name": "stdout",
     "output_type": "stream",
     "text": [
      "0\n"
     ]
    }
   ],
   "source": [
    "from collections import defaultdict\n",
    "\n",
    "def longest_consecutive_sequence(nums) -> bool:\n",
    "    mp = defaultdict(int)\n",
    "    res = 0\n",
    "\n",
    "    for num in nums:\n",
    "        if not mp[num]:\n",
    "            mp[num] = mp[num - 1] + mp[num + 1] + 1\n",
    "            mp[num - mp[num - 1]] = mp[num]\n",
    "            mp[num + mp[num + 1]] = mp[num]\n",
    "            res = max(res, mp[num])\n",
    "    return res\n",
    "\n",
    "nums = [0,3,2,5,4,6,1,1]\n",
    "print(longest_consecutive_sequence(nums))"
   ]
  },
  {
   "cell_type": "code",
   "execution_count": null,
   "id": "65faf351",
   "metadata": {},
   "outputs": [],
   "source": []
  }
 ],
 "metadata": {
  "kernelspec": {
   "display_name": "Python 3",
   "language": "python",
   "name": "python3"
  },
  "language_info": {
   "codemirror_mode": {
    "name": "ipython",
    "version": 3
   },
   "file_extension": ".py",
   "mimetype": "text/x-python",
   "name": "python",
   "nbconvert_exporter": "python",
   "pygments_lexer": "ipython3",
   "version": "3.13.1"
  }
 },
 "nbformat": 4,
 "nbformat_minor": 5
}
