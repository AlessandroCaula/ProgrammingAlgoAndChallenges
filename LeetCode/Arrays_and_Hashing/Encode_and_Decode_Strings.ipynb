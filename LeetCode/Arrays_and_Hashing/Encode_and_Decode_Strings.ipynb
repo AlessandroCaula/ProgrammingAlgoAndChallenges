{
 "cells": [
  {
   "cell_type": "markdown",
   "id": "ba8bd515",
   "metadata": {},
   "source": [
    "# Encode and Decode String"
   ]
  },
  {
   "cell_type": "markdown",
   "id": "c7dea7e4",
   "metadata": {},
   "source": [
    "Design an algorithm to encode a list of strings to a single string. The encoded string is then decoded back to the original list of strings.\n",
    "\n",
    "Please implement `encode` and `decode`"
   ]
  },
  {
   "cell_type": "markdown",
   "id": "9026032b",
   "metadata": {},
   "source": [
    "#### Example 1:\n",
    "\n",
    "```py\n",
    "Input: [\"neet\",\"code\",\"love\",\"you\"]\n",
    "Output: [\"neet\",\"code\",\"love\",\"you\"]\n",
    "```\n",
    "\n",
    "#### Example 2:\n",
    "\n",
    "```py\n",
    "Input: [\"we\",\"say\",\":\",\"yes\"]\n",
    "Output: [\"we\",\"say\",\":\",\"yes\"]\n",
    "```"
   ]
  },
  {
   "cell_type": "markdown",
   "id": "702126c5",
   "metadata": {},
   "source": [
    "Nice article for explanation -> https://medium.com/@ozoniuss/leetcode-encode-and-decode-strings-a-different-approach-533fcd5b6888"
   ]
  },
  {
   "cell_type": "markdown",
   "id": "89ade120",
   "metadata": {},
   "source": [
    "#### Solution 1 - From NeetCode"
   ]
  },
  {
   "cell_type": "code",
   "execution_count": null,
   "id": "5626be41",
   "metadata": {},
   "outputs": [
    {
     "name": "stdout",
     "output_type": "stream",
     "text": [
      "4#neet4#code4#love3#you\n",
      "2#we3#say1#:3#yes\n",
      "10#neet#4code4#love3#you\n",
      "['neet', 'code', 'love', 'you']\n",
      "['we', 'say', ':', 'yes']\n",
      "['neet#4code', 'love', 'you']\n"
     ]
    }
   ],
   "source": [
    "# Function to encode a list of string words\n",
    "def encode(list_string: list[str]) -> str:\n",
    "    encoded_string = \"\"\n",
    "    for word in list_string:\n",
    "        # Count the length of the word and add it at the beginning of the word itself\n",
    "        encoded_string += str(len(word)) + \"#\" + word\n",
    "    print(encoded_string)\n",
    "    return encoded_string\n",
    "\n",
    "encoded_1 = encode([\"neet\",\"code\",\"love\",\"you\"])\n",
    "encoded_2 = encode([\"we\",\"say\",\":\",\"yes\"])\n",
    "encoded_3 = encode([\"neet#4code\",\"love\",\"you\"])\n",
    "\n",
    "\n",
    "# Function to decode the string into a list of strings\n",
    "def decode(single_string: str) -> list[str]:\n",
    "    is_word = False\n",
    "    prev = new_word = \"\"\n",
    "    decoded_string = []\n",
    "    word_length = curr_word_count = 0\n",
    "    for c in single_string:\n",
    "        if not is_word:\n",
    "            if c == \"#\":\n",
    "                word_length = int(prev)\n",
    "                is_word = True\n",
    "                prev = new_word = \"\"\n",
    "            else:\n",
    "                prev += c\n",
    "        else:\n",
    "            new_word += c\n",
    "            curr_word_count += 1\n",
    "            if word_length == curr_word_count:\n",
    "                if new_word != \"\":\n",
    "                    decoded_string.append(new_word)\n",
    "                is_word = False\n",
    "                curr_word_count = 0\n",
    "\n",
    "    return decoded_string\n",
    "\n",
    "print(decode(encoded_1))\n",
    "print(decode(encoded_2))\n",
    "print(decode(encoded_3))"
   ]
  },
  {
   "cell_type": "markdown",
   "id": "5af508ce",
   "metadata": {},
   "source": [
    "### Solution 2 - Medium\n",
    "\n",
    "Let's design an algorithm that removes the parsing code, and is also self-synchronizing. It is still based on separators. We want to come up with a way to detect a separator reliably in the output word, regardless of our starting point. To achieve that, we could _double every character in the original word_. \n",
    "\n",
    "How does that work? Let's consider this input:\n",
    "\n",
    "```py\n",
    "[\"neet\",\"code\",\"love\",\"you\"]\n",
    "```\n",
    "\n",
    "If we double every character, we get the following. \n",
    "\n",
    "```py\n",
    "[\"nneeeett\",\"ccooddee\",\"lloovvee\",\"yyoouu\"]\n",
    "```\n",
    "\n",
    "And we just need to merge this words somehow so that the separator would always stand out, irrespective of the word's characters.\n",
    "\n",
    "The idea is to use any separator with _two distinct characters_.\n",
    "\n",
    "```py\n",
    "\"nneeeett01ccooddee01lloovvee01yyoouu\"\n",
    "```\n",
    "\n",
    "In this case, we chose `01` as the separator. This way, any sequence of an _odd_ number of consecutive 0's is going to end with one belonging to the separator, and any sequence of an _odd_ number of consecutive 1's is going to start with one belonging to a separator, since every character is doubled. \n",
    "Consider the following lists:\n",
    "\n",
    "```py\n",
    "[\"0\",\"1\"] -> \"000111\" = \"(00)(01)(11)\"\n",
    "```\n",
    "\n",
    "Even if we have that sequence inside words, the digits would repeat an even number of times, except where the separator is. \n",
    "\n",
    "```py\n",
    "[\"ne01et\"] -> \"nnee0011eett\"\n",
    "```\n",
    "\n",
    "### Explanation     \n",
    "The parsing algorithm is very elegant. There's no need to do any number extraction or convertion, or playing with indices. You just loop every pair of two consecutive characters. If they're the same, add only one of them to your word. If they're different, they must be 0 and 1 (or whatever separator floats your boat), in which case just end the current word, add it to the list and start a new one."
   ]
  },
  {
   "cell_type": "code",
   "execution_count": 24,
   "id": "af7dbf81",
   "metadata": {},
   "outputs": [
    {
     "name": "stdout",
     "output_type": "stream",
     "text": [
      "nneeeett01ccooddee01lloovvee01yyoouu\n",
      "wwee01ssaayy01::01yyeess\n",
      "nneeeett##44ccooddee01lloovvee01yyoouu\n",
      "['neet', 'code', 'love', 'you']\n",
      "['we', 'say', ':', 'yes']\n",
      "['neet#4code', 'love', 'you']\n",
      "['neet#4code', 'love', 'you']\n"
     ]
    }
   ],
   "source": [
    "def encode(list_string:list[str]) -> str:\n",
    "    final_string = \"\"\n",
    "    # loop through all the words in the collection\n",
    "    for i, word in enumerate(list_string):\n",
    "        # loop through all the characters of the word and duplicate each character\n",
    "        for c in word:\n",
    "            final_string += c + c\n",
    "        # Add the terminator of the word\n",
    "        if i != len(list_string) - 1: final_string += \"01\"\n",
    "    print(final_string)\n",
    "    return final_string\n",
    "\n",
    "encoded_1 = encode([\"neet\",\"code\",\"love\",\"you\"])\n",
    "encoded_2 = encode([\"we\",\"say\",\":\",\"yes\"])\n",
    "encoded_3 = encode([\"neet#4code\",\"love\",\"you\"])\n",
    "\n",
    "def decode(encoded_string: str) -> list[str]:\n",
    "    final_list = []\n",
    "    new_word = \"\"\n",
    "    i = 0\n",
    "    while i + 2 <= len(encoded_string):\n",
    "        # Extract the couple of characters\n",
    "        c_couple = encoded_string[i : i+2]\n",
    "        # If both the characters are the same, then it means that it is part of the word\n",
    "        if c_couple[0] == c_couple[1]:\n",
    "            new_word += c_couple[0]\n",
    "        # If they are different, means that we need to start a new word\n",
    "        else:\n",
    "            final_list.append(new_word)\n",
    "            new_word = \"\"\n",
    "        # If it is the last word, add it\n",
    "        if i + 2 == len(encoded_string):\n",
    "            final_list.append(new_word)\n",
    "        i += 2\n",
    "    return final_list\n",
    "\n",
    "def decode_1(encoded: str) -> list[str]:\n",
    "    decoded = []\n",
    "    current_word = \"\"\n",
    "    i = 0\n",
    "    for j in range(2, len(s), 2):\n",
    "        i = j - 2\n",
    "        if encoded[i] == encoded[j-1]:\n",
    "            current_word += encoded[i : i+1]\n",
    "        else:\n",
    "            decoded.append(current_word)\n",
    "            current_word = \"\"\n",
    "    \n",
    "    return decoded\n",
    "\n",
    "print(decode(encoded_1))\n",
    "print(decode(encoded_2))\n",
    "print(decode(encoded_3))\n",
    "print(decode(encoded_3))"
   ]
  },
  {
   "cell_type": "code",
   "execution_count": null,
   "id": "8bf7fc68",
   "metadata": {},
   "outputs": [],
   "source": []
  }
 ],
 "metadata": {
  "kernelspec": {
   "display_name": "Python 3",
   "language": "python",
   "name": "python3"
  },
  "language_info": {
   "codemirror_mode": {
    "name": "ipython",
    "version": 3
   },
   "file_extension": ".py",
   "mimetype": "text/x-python",
   "name": "python",
   "nbconvert_exporter": "python",
   "pygments_lexer": "ipython3",
   "version": "3.13.0"
  }
 },
 "nbformat": 4,
 "nbformat_minor": 5
}
