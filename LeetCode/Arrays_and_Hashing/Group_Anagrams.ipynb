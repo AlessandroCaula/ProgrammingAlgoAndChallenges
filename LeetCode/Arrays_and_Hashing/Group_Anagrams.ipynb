{
 "cells": [
  {
   "cell_type": "markdown",
   "id": "3b674fe0",
   "metadata": {},
   "source": [
    "## Group Anagrams\n",
    "\n",
    "Given an array of strings `strs`, group all _anagrams_ together into sublists. You may return the output in __any order__.\n",
    "\n",
    "An __anagram__ is a string that contains the exact same characters as another string, but the order of the characters can be different. "
   ]
  },
  {
   "cell_type": "markdown",
   "id": "080a70ff",
   "metadata": {},
   "source": [
    "#### Example 1:\n",
    "\n",
    "```py\n",
    "Input: strs = [\"act\",\"pots\",\"tops\",\"cat\",\"stop\",\"hat\"]\n",
    "\n",
    "Output: [[\"hat\"],[\"act\", \"cat\"],[\"stop\", \"pots\", \"tops\"]]\n",
    "```\n",
    "\n",
    "#### Example 2:\n",
    "\n",
    "```py\n",
    "Input: strs = [\"x\"]\n",
    "\n",
    "Output: [[\"x\"]]\n",
    "```"
   ]
  },
  {
   "cell_type": "code",
   "execution_count": 1,
   "id": "ba068e08",
   "metadata": {},
   "outputs": [
    {
     "name": "stdout",
     "output_type": "stream",
     "text": [
      "[['act', 'cat'], ['pots', 'tops', 'stop'], ['hat']]\n"
     ]
    }
   ],
   "source": [
    "def groupAnagrams(strs:list[str]) -> list[list[str]]:\n",
    "\n",
    "    final_result = []\n",
    "    sorted_words = []\n",
    "    position = {}\n",
    "\n",
    "    for word in strs:\n",
    "        sorted_words.append(''.join(sorted(word)))\n",
    "    for i in range(len(strs)):\n",
    "        if position.get(sorted_words[i]) is not None:\n",
    "            final_result[position[sorted_words[i]]].append(strs[i])\n",
    "        else:\n",
    "            final_result.append([strs[i]])\n",
    "            position[sorted_words[i]] = len(final_result) - 1\n",
    "\n",
    "    return final_result\n",
    "\n",
    "print(groupAnagrams([\"act\",\"pots\",\"tops\",\"cat\",\"stop\",\"hat\"]))"
   ]
  },
  {
   "cell_type": "markdown",
   "id": "b8f1ed65",
   "metadata": {},
   "source": [
    "#### Other Solutions"
   ]
  },
  {
   "cell_type": "markdown",
   "id": "a9de7a4a",
   "metadata": {},
   "source": [
    "In Python, `defaultdict` is a subclass of the built-in dict class from the collections module. It is used to provide a default value for a nonexistent key in the dictionary, eliminating the need for checking if the key exists before using it. \n",
    "\n",
    "#### Example"
   ]
  },
  {
   "cell_type": "code",
   "execution_count": null,
   "id": "8b3a440f",
   "metadata": {},
   "outputs": [
    {
     "name": "stdout",
     "output_type": "stream",
     "text": [
      "defaultdict(<class 'list'>, {'fruits': ['apple'], 'vegetables': ['carrot']})\n",
      "[]\n"
     ]
    }
   ],
   "source": [
    "from collections import defaultdict\n",
    "\n",
    "d = defaultdict(list)\n",
    "\n",
    "d['fruits'].append('apple')\n",
    "d['vegetables'].append('carrot')\n",
    "print(d)\n",
    "\n",
    "print(d['juice'])"
   ]
  },
  {
   "cell_type": "markdown",
   "id": "9e08025d",
   "metadata": {},
   "source": [
    "__Explanation__: This code creates a __defaultdict__ with a default value of an empty list. It adds elements to the __'fruits'__ and __'vegetables'__ keys. When trying to access the __'juices'__ key, no __KeyError__ is raised, and an empty list is returned since it doesn't exist in the dictionary. "
   ]
  },
  {
   "cell_type": "markdown",
   "id": "b60c8e46",
   "metadata": {},
   "source": [
    "## 1. Sorting"
   ]
  },
  {
   "cell_type": "code",
   "execution_count": 3,
   "id": "4bb50f6a",
   "metadata": {},
   "outputs": [
    {
     "name": "stdout",
     "output_type": "stream",
     "text": [
      "[['act', 'cat'], ['pots', 'tops', 'stop'], ['hat']]\n"
     ]
    }
   ],
   "source": [
    "def groupAnagrams(strs:list[str]) -> list[list[str]]:\n",
    "    res = defaultdict(list)\n",
    "    for s in strs:\n",
    "        sortedS = ''.join(sorted(s))\n",
    "        res[sortedS].append(s)\n",
    "    return list(res.values())\n",
    "\n",
    "print(groupAnagrams([\"act\",\"pots\",\"tops\",\"cat\",\"stop\",\"hat\"]))"
   ]
  },
  {
   "cell_type": "markdown",
   "id": "5f92d188",
   "metadata": {},
   "source": [
    "### Time & Space Complexity\n",
    "- Time complexity: $O(m * n log n)$\n",
    "- Space complexity: $O(m * n)$\n",
    "\n",
    "Where $m$ is the number of strings and $n$ is the length of the longest string. "
   ]
  },
  {
   "cell_type": "markdown",
   "id": "838f5a9e",
   "metadata": {},
   "source": [
    "## 2. Hash Table"
   ]
  },
  {
   "cell_type": "code",
   "execution_count": 4,
   "id": "9f2fb46a",
   "metadata": {},
   "outputs": [
    {
     "name": "stdout",
     "output_type": "stream",
     "text": [
      "[['act', 'cat'], ['pots', 'tops', 'stop'], ['hat']]\n"
     ]
    }
   ],
   "source": [
    "def groupAnagrams(strs:list[str]) -> list[list[str]]:\n",
    "    res = defaultdict(list)\n",
    "    for s in strs:\n",
    "        count = [0] * 26\n",
    "        for c in s:\n",
    "            count[ord(c) - ord('a')] += 1\n",
    "        res[tuple(count)].append(s)\n",
    "    return list(res.values())\n",
    "\n",
    "print(groupAnagrams([\"act\",\"pots\",\"tops\",\"cat\",\"stop\",\"hat\"]))"
   ]
  },
  {
   "cell_type": "markdown",
   "id": "518d0b35",
   "metadata": {},
   "source": [
    "The `ord()` function returns the number representing the unicode code of a specified character.\n",
    "\n",
    "```py\n",
    "x = ord('h')\n",
    "print(x)    # Output: 104\n",
    "```"
   ]
  },
  {
   "cell_type": "markdown",
   "id": "14c5ad6e",
   "metadata": {},
   "source": [
    "#### Time & Space Complexity\n",
    "- Time complexity: $O(m*n)$\n",
    "- Space complexityL\n",
    "    - $O(m)$ extra space\n",
    "    - $O(m*n)$ space for the output list"
   ]
  }
 ],
 "metadata": {
  "kernelspec": {
   "display_name": "Python 3",
   "language": "python",
   "name": "python3"
  },
  "language_info": {
   "codemirror_mode": {
    "name": "ipython",
    "version": 3
   },
   "file_extension": ".py",
   "mimetype": "text/x-python",
   "name": "python",
   "nbconvert_exporter": "python",
   "pygments_lexer": "ipython3",
   "version": "3.13.0"
  }
 },
 "nbformat": 4,
 "nbformat_minor": 5
}
