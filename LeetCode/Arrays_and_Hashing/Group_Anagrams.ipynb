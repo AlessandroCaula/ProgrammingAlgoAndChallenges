{
 "cells": [
  {
   "cell_type": "markdown",
   "id": "3b674fe0",
   "metadata": {},
   "source": [
    "## Group Anagrams\n",
    "\n",
    "Given an array of strings `strs`, group all _anagrams_ together into sublists. You may return the output in __any order__.\n",
    "\n",
    "An __anagram__ is a string that contains the exact same characters as another string, but the order of the characters can be different. "
   ]
  },
  {
   "cell_type": "markdown",
   "id": "080a70ff",
   "metadata": {},
   "source": [
    "#### Example 1:\n",
    "\n",
    "```py\n",
    "Input: strs = [\"act\",\"pots\",\"tops\",\"cat\",\"stop\",\"hat\"]\n",
    "\n",
    "Output: [[\"hat\"],[\"act\", \"cat\"],[\"stop\", \"pots\", \"tops\"]]\n",
    "```\n",
    "\n",
    "#### Example 2:\n",
    "\n",
    "```py\n",
    "Input: strs = [\"x\"]\n",
    "\n",
    "Output: [[\"x\"]]\n",
    "```"
   ]
  },
  {
   "cell_type": "code",
   "execution_count": 8,
   "id": "ba068e08",
   "metadata": {},
   "outputs": [
    {
     "name": "stdout",
     "output_type": "stream",
     "text": [
      "[['act', 'cat'], ['pots', 'tops', 'stop'], ['hat']]\n"
     ]
    }
   ],
   "source": [
    "def groupAnagrams(strs:list[str]) -> list[list[str]]:\n",
    "\n",
    "    final_result = []\n",
    "    sorted_words = []\n",
    "    position = {}\n",
    "\n",
    "    for word in strs:\n",
    "        sorted_words.append(''.join(sorted(word)))\n",
    "    for i in range(len(strs)):\n",
    "        if position.get(sorted_words[i]) is not None:\n",
    "            final_result[position[sorted_words[i]]].append(strs[i])\n",
    "        else:\n",
    "            final_result.append([strs[i]])\n",
    "            position[sorted_words[i]] = len(final_result) - 1\n",
    "\n",
    "    return final_result\n",
    "\n",
    "print(groupAnagrams([\"act\",\"pots\",\"tops\",\"cat\",\"stop\",\"hat\"]))"
   ]
  }
 ],
 "metadata": {
  "kernelspec": {
   "display_name": "Python 3",
   "language": "python",
   "name": "python3"
  },
  "language_info": {
   "codemirror_mode": {
    "name": "ipython",
    "version": 3
   },
   "file_extension": ".py",
   "mimetype": "text/x-python",
   "name": "python",
   "nbconvert_exporter": "python",
   "pygments_lexer": "ipython3",
   "version": "3.13.0"
  }
 },
 "nbformat": 4,
 "nbformat_minor": 5
}
