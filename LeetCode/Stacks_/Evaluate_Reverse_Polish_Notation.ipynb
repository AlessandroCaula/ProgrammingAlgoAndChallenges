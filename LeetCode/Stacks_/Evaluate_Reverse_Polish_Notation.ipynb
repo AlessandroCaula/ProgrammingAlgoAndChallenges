{
 "cells": [
  {
   "cell_type": "markdown",
   "id": "b1d791f8",
   "metadata": {},
   "source": [
    "# Evaluate Reverse Polish Notation\n",
    "\n",
    "You are given an array of strings `tokens` that represents a __valid__ arithmetic expression in [Reverse Polish Notation](https://en.wikipedia.org/wiki/Reverse_Polish_notation). \n",
    "\n",
    "Return the integer that represents the evaluation of the expression.\n",
    "\n",
    "- The operands may be integers or the results of other operations. \n",
    "\n",
    "- The operators include `+`, `-`, `*` and `/`.\n",
    "\n",
    "- Assume that division between integers always truncates toward zero.\n",
    "\n",
    "### Example 1:\n",
    "\n",
    "```py\n",
    "Input: tokens = [\"1\",\"2\",\"+\",\"3\",\"*\",\"4\",\"-\"]\n",
    "\n",
    "Output: 5\n",
    "\n",
    "Explanation: ((1 + 2) * 3) - 4 = 5\n",
    "```"
   ]
  },
  {
   "cell_type": "code",
   "execution_count": 1,
   "id": "7cd9cffa",
   "metadata": {},
   "outputs": [
    {
     "name": "stdout",
     "output_type": "stream",
     "text": [
      "[1, 2]\n",
      "[3]\n",
      "[4]\n",
      "None\n"
     ]
    }
   ],
   "source": [
    "def reverse_polish_notation(tokens):\n",
    "    operators = [\"+\", \"-\", \"*\", \"/\"]\n",
    "    stack_results = []\n",
    "    for el in tokens:\n",
    "        if el not in operators:\n",
    "            # Add the operators to the stack. These will then be popped to perform the operation.\n",
    "            stack_results.append(int(el))\n",
    "        else:\n",
    "            # pop the last two elements in the stack and perform the operation\n",
    "            # second_op = stack_results.pop()\n",
    "            # first_op = stack_results.pop()\n",
    "\n",
    "            # Create a copy array with all the elements places accordingly to what is needed for computing the operations on them.\n",
    "            list_with_values = []\n",
    "            for i in range(len(stack_results), 0, -1):\n",
    "                val = stack_results.pop()\n",
    "                list_with_values.insert(0, val)\n",
    "\n",
    "            print(list_with_values)\n",
    "\n",
    "print(reverse_polish_notation([\"1\",\"2\",\"+\",\"3\",\"*\",\"4\",\"-\"]))"
   ]
  },
  {
   "cell_type": "code",
   "execution_count": 11,
   "id": "0cddcb3f",
   "metadata": {},
   "outputs": [
    {
     "name": "stdout",
     "output_type": "stream",
     "text": [
      "12\n"
     ]
    }
   ],
   "source": [
    "import math\n",
    "\n",
    "# ==> [\"10\",\"6\",\"9\",\"3\",\"+\",\"-11\",\"*\",\"/\",\"*\",\"17\",\"+\",\"5\",\"+\"]\n",
    "\n",
    "def reverse_polish_notation(tokens: list[str]):\n",
    "    operators = [\"+\", \"-\", \"*\", \"/\"]\n",
    "    stack_results = []\n",
    "    for el in tokens:\n",
    "        if el not in operators:\n",
    "            # Add the operators to the stack. These will then be popped to perform the operation.\n",
    "            stack_results.append(int(el))\n",
    "        else:\n",
    "            # pop the last two elements in the stack and perform the operation\n",
    "            second_op = stack_results.pop()\n",
    "            first_op = stack_results.pop()\n",
    "\n",
    "            # Now compute the operation\n",
    "            local_res = 0\n",
    "            if el == \"+\":\n",
    "                local_res = first_op + second_op\n",
    "            elif el == \"-\":\n",
    "                local_res = first_op - second_op\n",
    "            elif el == \"*\":\n",
    "                local_res = first_op * second_op\n",
    "            elif el == \"/\":\n",
    "                if second_op == 0:\n",
    "                    print(\"Error: Division by 0\")\n",
    "                    return\n",
    "                else:\n",
    "                    local_res = math.floor(first_op / second_op)\n",
    "            # Add the result to the stack \n",
    "            stack_results.append(local_res)\n",
    "\n",
    "    # Return the element at position 0. Which should be the final result\n",
    "    return stack_results[0]\n",
    "\n",
    "# print(reverse_polish_notation([\"1\",\"2\",\"+\",\"3\",\"*\",\"4\",\"-\"]))\n",
    "print(reverse_polish_notation([\"10\",\"6\",\"9\",\"3\",\"+\",\"-11\",\"*\",\"/\",\"*\",\"17\",\"+\",\"5\",\"+\"]))\n"
   ]
  },
  {
   "cell_type": "code",
   "execution_count": null,
   "id": "b43bb7d3",
   "metadata": {},
   "outputs": [],
   "source": []
  }
 ],
 "metadata": {
  "kernelspec": {
   "display_name": "Python 3",
   "language": "python",
   "name": "python3"
  },
  "language_info": {
   "codemirror_mode": {
    "name": "ipython",
    "version": 3
   },
   "file_extension": ".py",
   "mimetype": "text/x-python",
   "name": "python",
   "nbconvert_exporter": "python",
   "pygments_lexer": "ipython3",
   "version": "3.13.1"
  }
 },
 "nbformat": 4,
 "nbformat_minor": 5
}
