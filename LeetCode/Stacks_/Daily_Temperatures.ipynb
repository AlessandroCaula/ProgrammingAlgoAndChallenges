{
 "cells": [
  {
   "cell_type": "markdown",
   "id": "5bbd4d76",
   "metadata": {},
   "source": [
    "# Daily Temperatures\n",
    "\n",
    "You are given an array of integers `temperatures` where `temperatures[i]` represents the daily temperatures on the `ith` day. \n",
    "\n",
    "Return an array `result` where `result[i]` is the number of days after the `ith` day before a warmer temperature appears on a future day. If there is no day in the future where a warmer temperature will appear for the `ith` day, set `result[i]` to `0` instead.\n",
    "\n",
    "### Example 1:\n",
    "\n",
    "```py\n",
    "Input: temperature = [30,38,30,36,35,40,28]\n",
    "Output: [1,4,1,2,1,0,0]\n",
    "```\n",
    "\n",
    "### Example 2:\n",
    "```py\n",
    "Input: temperatures = [22,21,20]\n",
    "```"
   ]
  },
  {
   "cell_type": "code",
   "execution_count": null,
   "id": "2bffb518",
   "metadata": {},
   "outputs": [],
   "source": [
    "def daily_temperature(temperatures: list[int]) -> list[int]:\n",
    "    days_to_next_max = []\n",
    "\n",
    "    # Loop through all the daily temperatures\n",
    "    for i, temp in enumerate(temperatures):\n",
    "        n_days = 0\n",
    "        curr_temp = temp\n",
    "        # loop through the remaining days and stop of the next highest temperature\n",
    "        for j in range(i + 1, len(temperatures)):\n",
    "            n_days += 1\n",
    "            if temperatures > curr_temp:\n",
    "                days_to_next_max.append(n_days)\n",
    "                break\n",
    "            \n",
    "    return False\n",
    "\n",
    "\n",
    "print(daily_temperature([30,38,30,36,35,40,28]))"
   ]
  }
 ],
 "metadata": {
  "language_info": {
   "name": "python"
  }
 },
 "nbformat": 4,
 "nbformat_minor": 5
}
