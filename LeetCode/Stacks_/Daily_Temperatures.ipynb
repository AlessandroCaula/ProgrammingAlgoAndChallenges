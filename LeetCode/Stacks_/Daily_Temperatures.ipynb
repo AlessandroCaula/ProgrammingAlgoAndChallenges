{
 "cells": [
  {
   "cell_type": "markdown",
   "id": "5bbd4d76",
   "metadata": {},
   "source": [
    "# Daily Temperatures\n",
    "\n",
    "You are given an array of integers `temperatures` where `temperatures[i]` represents the daily temperatures on the `ith` day. \n",
    "\n",
    "Return an array `result` where `result[i]` is the number of days after the `ith` day before a warmer temperature appears on a future day. If there is no day in the future where a warmer temperature will appear for the `ith` day, set `result[i]` to `0` instead.\n",
    "\n",
    "### Example 1:\n",
    "\n",
    "```py\n",
    "Input: temperature = [30,38,30,36,35,40,28]\n",
    "Output: [1,4,1,2,1,0,0]\n",
    "```\n",
    "\n",
    "### Example 2:\n",
    "```py\n",
    "Input: temperatures = [22,21,20]\n",
    "```"
   ]
  },
  {
   "cell_type": "code",
   "execution_count": 7,
   "id": "2bffb518",
   "metadata": {},
   "outputs": [
    {
     "name": "stdout",
     "output_type": "stream",
     "text": [
      "[1, 4, 1, 2, 1, 0, 0]\n",
      "[0, 0, 0]\n"
     ]
    }
   ],
   "source": [
    "def daily_temperature(temperatures: list[int]) -> list[int]:\n",
    "    days_to_next_max = []\n",
    "\n",
    "    # Loop through all the daily temperatures\n",
    "    for i, temp in enumerate(temperatures):\n",
    "        n_days = 0\n",
    "        curr_temp = temp\n",
    "        found_highest = False\n",
    "        # loop through the remaining days and stop of the next highest temperature\n",
    "        for j in range(i + 1, len(temperatures)):\n",
    "            n_days += 1\n",
    "            if temperatures[j] > curr_temp:\n",
    "                days_to_next_max.append(n_days)\n",
    "                found_highest = True\n",
    "                break\n",
    "\n",
    "        # If the highest has not been found\n",
    "        if not found_highest:\n",
    "            days_to_next_max.append(0)\n",
    "        \n",
    "    return days_to_next_max\n",
    "\n",
    "\n",
    "print(daily_temperature([30,38,30,36,35,40,28]))\n",
    "print(daily_temperature([22,21,20]))"
   ]
  },
  {
   "cell_type": "markdown",
   "id": "671ceac5",
   "metadata": {},
   "source": [
    "## Stack: solution"
   ]
  },
  {
   "cell_type": "code",
   "execution_count": 8,
   "id": "5b297098",
   "metadata": {},
   "outputs": [
    {
     "name": "stdout",
     "output_type": "stream",
     "text": [
      "[1, 4, 1, 2, 1, 0, 0]\n",
      "[0, 0, 0]\n"
     ]
    }
   ],
   "source": [
    "def daily_temperature(temperatures):\n",
    "    res = [0] * len(temperatures)\n",
    "    stack = [] # pair: [temp, index]\n",
    "\n",
    "    for i, t in enumerate(temperatures):\n",
    "        while stack and t > stack[-1][0]:\n",
    "            stackT, stackInd = stack.pop()\n",
    "            res[stackInd] = i - stackInd\n",
    "        stack.append((t, i))\n",
    "    return res\n",
    "\n",
    "print(daily_temperature([30,38,30,36,35,40,28]))\n",
    "print(daily_temperature([22,21,20]))"
   ]
  },
  {
   "cell_type": "code",
   "execution_count": null,
   "id": "d2cba195",
   "metadata": {},
   "outputs": [],
   "source": []
  }
 ],
 "metadata": {
  "kernelspec": {
   "display_name": "Python 3",
   "language": "python",
   "name": "python3"
  },
  "language_info": {
   "codemirror_mode": {
    "name": "ipython",
    "version": 3
   },
   "file_extension": ".py",
   "mimetype": "text/x-python",
   "name": "python",
   "nbconvert_exporter": "python",
   "pygments_lexer": "ipython3",
   "version": "3.13.0"
  }
 },
 "nbformat": 4,
 "nbformat_minor": 5
}
