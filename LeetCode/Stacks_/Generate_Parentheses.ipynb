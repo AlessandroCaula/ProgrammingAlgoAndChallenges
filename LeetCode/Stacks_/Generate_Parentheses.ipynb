{
 "cells": [
  {
   "cell_type": "markdown",
   "id": "0be350bc",
   "metadata": {},
   "source": [
    "# Generate Parentheses\n",
    "\n",
    "You are given an integer `n`. Return all well-formed parentheses strings that you can generate with `n` pairs of parentheses.\n",
    "\n",
    "### Example 1:\n",
    "\n",
    "```py\n",
    "Input: n = 1\n",
    "\n",
    "Output: [\"()\"]\n",
    "```\n",
    "\n",
    "### Example 2:\n",
    "\n",
    "```py\n",
    "Input: n = 3\n",
    "\n",
    "Output: [\"((()))\",\"(()())\",\"(())()\",\"()(())\",\"()()()\"]\n",
    "```"
   ]
  },
  {
   "cell_type": "code",
   "execution_count": null,
   "id": "abae4431",
   "metadata": {},
   "outputs": [],
   "source": [
    "def generate_parentheses(n:int):\n",
    "    \n",
    "    return\n",
    "\n",
    "generate_parentheses(1)"
   ]
  }
 ],
 "metadata": {
  "language_info": {
   "name": "python"
  }
 },
 "nbformat": 4,
 "nbformat_minor": 5
}
