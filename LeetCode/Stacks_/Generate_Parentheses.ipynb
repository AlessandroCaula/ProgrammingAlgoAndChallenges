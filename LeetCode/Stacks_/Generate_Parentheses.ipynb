{
 "cells": [
  {
   "cell_type": "markdown",
   "id": "0be350bc",
   "metadata": {},
   "source": [
    "# Generate Parentheses\n",
    "\n",
    "You are given an integer `n`. Return all well-formed parentheses strings that you can generate with `n` pairs of parentheses.\n",
    "\n",
    "### Example 1:\n",
    "\n",
    "```py\n",
    "Input: n = 1\n",
    "\n",
    "Output: [\"()\"]\n",
    "```\n",
    "\n",
    "### Example 2:\n",
    "\n",
    "```py\n",
    "Input: n = 3\n",
    "\n",
    "Output: [\"((()))\",\"(()())\",\"(())()\",\"()(())\",\"()()()\"]\n",
    "```"
   ]
  },
  {
   "cell_type": "markdown",
   "id": "b946bac3",
   "metadata": {},
   "source": [
    "# 1. Solution with Brute Force"
   ]
  },
  {
   "cell_type": "code",
   "execution_count": 3,
   "id": "abae4431",
   "metadata": {},
   "outputs": [
    {
     "data": {
      "text/plain": [
       "['((()))', '(()())', '(())()', '()(())', '()()()']"
      ]
     },
     "execution_count": 3,
     "metadata": {},
     "output_type": "execute_result"
    }
   ],
   "source": [
    "def generate_parentheses(n:int) -> list[str]:\n",
    "    res = []\n",
    "\n",
    "    def valid(s:str):\n",
    "        open = 0\n",
    "        for c in s:\n",
    "            open += 1 if c == '(' else -1\n",
    "            if open < 0:\n",
    "                return False\n",
    "        return not open \n",
    "\n",
    "    def dfs(s: str):\n",
    "        if n * 2 == len(s):\n",
    "            if valid(s):\n",
    "                res.append(s)\n",
    "            return\n",
    "        \n",
    "        dfs(s + \"(\")\n",
    "        dfs(s + \")\")\n",
    "    \n",
    "    dfs(\"\")\n",
    "    return res\n",
    "\n",
    "generate_parentheses(3)"
   ]
  },
  {
   "cell_type": "markdown",
   "id": "f2efba72",
   "metadata": {},
   "source": [
    "## Time & Space Complexity \n",
    "\n",
    "- Time complexity: $O(2^{2n} * n)$\n",
    "\n",
    "- Space complexity: $O(2^{2n} * n)$"
   ]
  },
  {
   "cell_type": "markdown",
   "id": "ba2eeb97",
   "metadata": {},
   "source": [
    "# 2. Backtracking"
   ]
  },
  {
   "cell_type": "code",
   "execution_count": 7,
   "id": "5e68c438",
   "metadata": {},
   "outputs": [
    {
     "data": {
      "text/plain": [
       "['((()))', '(()())', '(())()', '()(())', '()()()']"
      ]
     },
     "execution_count": 7,
     "metadata": {},
     "output_type": "execute_result"
    }
   ],
   "source": [
    "def generate_parentheses(n: int) -> list[str]:\n",
    "    stack = []\n",
    "    res = []\n",
    "\n",
    "    def backtrack(openN, closedN):\n",
    "        if openN == closedN == n:\n",
    "            res.append(\"\".join(stack))\n",
    "            return\n",
    "        \n",
    "        if openN < n:\n",
    "            stack.append(\"(\")\n",
    "            backtrack(openN + 1, closedN)\n",
    "            stack.pop()\n",
    "        if closedN < openN:\n",
    "            stack.append(\")\")\n",
    "            backtrack(openN, closedN + 1)\n",
    "            stack.pop()\n",
    "    backtrack(0, 0)\n",
    "    return res\n",
    "\n",
    "generate_parentheses(3)"
   ]
  },
  {
   "cell_type": "markdown",
   "id": "30ad7fb7",
   "metadata": {},
   "source": [
    "## Time & Space Complexity\n",
    "\n",
    "- Time complexity $O(\\frac{4^n}{\\sqrt{n}})$\n",
    "\n",
    "- Space complexity $O(n)$"
   ]
  },
  {
   "cell_type": "markdown",
   "id": "551a83f5",
   "metadata": {},
   "source": [
    "# 3. Dynamic Programming"
   ]
  },
  {
   "cell_type": "code",
   "execution_count": 9,
   "id": "f9efb532",
   "metadata": {},
   "outputs": [
    {
     "data": {
      "text/plain": [
       "['()()()', '()(())', '(())()', '(()())', '((()))']"
      ]
     },
     "execution_count": 9,
     "metadata": {},
     "output_type": "execute_result"
    }
   ],
   "source": [
    "def generate_parentheses(n):\n",
    "    res = [[] for _ in range(n+1)]\n",
    "    res[0] = [\"\"]\n",
    "\n",
    "    for k in range(n + 1):\n",
    "        for i in range(k):\n",
    "            for left in res[i]:\n",
    "                for right in res[k-i-1]:\n",
    "                    res[k].append(\"(\" + left + \")\" + right)\n",
    "\n",
    "    return res[-1]\n",
    "\n",
    "generate_parentheses(3)"
   ]
  },
  {
   "cell_type": "markdown",
   "id": "a8f8b5f6",
   "metadata": {},
   "source": [
    "## Time & Space Complexity\n",
    "\n",
    "- Time complexity $O(\\frac{4^n}{\\sqrt{n}})$\n",
    "\n",
    "- Space complexity $O(n)$"
   ]
  }
 ],
 "metadata": {
  "kernelspec": {
   "display_name": "Python 3",
   "language": "python",
   "name": "python3"
  },
  "language_info": {
   "codemirror_mode": {
    "name": "ipython",
    "version": 3
   },
   "file_extension": ".py",
   "mimetype": "text/x-python",
   "name": "python",
   "nbconvert_exporter": "python",
   "pygments_lexer": "ipython3",
   "version": "3.13.1"
  }
 },
 "nbformat": 4,
 "nbformat_minor": 5
}
