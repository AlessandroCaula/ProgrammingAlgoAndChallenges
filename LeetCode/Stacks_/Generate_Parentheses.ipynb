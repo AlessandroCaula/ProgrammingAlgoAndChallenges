{
 "cells": [
  {
   "cell_type": "markdown",
   "id": "0be350bc",
   "metadata": {},
   "source": [
    "# Generate Parentheses\n",
    "\n",
    "You are given an integer `n`. Return all well-formed parentheses strings that you can generate with `n` pairs of parentheses.\n",
    "\n",
    "### Example 1:\n",
    "\n",
    "```py\n",
    "Input: n = 1\n",
    "\n",
    "Output: [\"()\"]\n",
    "```\n",
    "\n",
    "### Example 2:\n",
    "\n",
    "```py\n",
    "Input: n = 3\n",
    "\n",
    "Output: [\"((()))\",\"(()())\",\"(())()\",\"()(())\",\"()()()\"]\n",
    "```"
   ]
  },
  {
   "cell_type": "markdown",
   "id": "b946bac3",
   "metadata": {},
   "source": [
    "### Solution with Brute Force"
   ]
  },
  {
   "cell_type": "code",
   "execution_count": null,
   "id": "abae4431",
   "metadata": {},
   "outputs": [
    {
     "name": "stdout",
     "output_type": "stream",
     "text": [
      "['(', '(', '(']\n"
     ]
    }
   ],
   "source": [
    "def generate_parentheses(n:int) -> list[str]:\n",
    "    res = []\n",
    "\n",
    "    def valid(s:str):\n",
    "        open = 0\n",
    "        for c in s:\n",
    "            open += 1 if c == '(' else -1\n",
    "            if open < 0:\n",
    "                return False\n",
    "        return not open \n",
    "\n",
    "    \n",
    "\n",
    "    p_stack = ['(' for i in range(n)]\n",
    "    print(p_stack)\n",
    "    \n",
    "    # for ch in range(n):\n",
    "        \n",
    "    return\n",
    "\n",
    "generate_parentheses(3)"
   ]
  },
  {
   "cell_type": "code",
   "execution_count": null,
   "id": "ba2eeb97",
   "metadata": {},
   "outputs": [],
   "source": []
  }
 ],
 "metadata": {
  "kernelspec": {
   "display_name": "Python 3",
   "language": "python",
   "name": "python3"
  },
  "language_info": {
   "codemirror_mode": {
    "name": "ipython",
    "version": 3
   },
   "file_extension": ".py",
   "mimetype": "text/x-python",
   "name": "python",
   "nbconvert_exporter": "python",
   "pygments_lexer": "ipython3",
   "version": "3.13.1"
  }
 },
 "nbformat": 4,
 "nbformat_minor": 5
}
