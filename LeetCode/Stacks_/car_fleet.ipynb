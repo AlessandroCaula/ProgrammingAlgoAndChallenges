{
 "cells": [
  {
   "cell_type": "markdown",
   "id": "bc4f542d",
   "metadata": {},
   "source": [
    "# Car Fleet\n",
    "\n",
    "There are `n` cars traveling to the same destination on a one-lane highway.\n",
    "\n",
    "You are given two arrays of integers `position` and `speed`, both of length `n`.\n",
    "\n",
    "- `position[i]` is the position of the `ith car` (in miles)\n",
    "\n",
    "- `speed[i]` is the speed of the `ith` car (in miles per hour)\n",
    "\n",
    "The __destination__ is at position `target` miles. \n",
    "\n",
    "A car can __not__ pass another car ahead of it. It can only catch up to another car and then drive at the same speed as the car ahead of it.\n",
    "\n",
    "A __car fleet__ is a non-empty set of cars driving at the same position and same speed. A single car is also considered a car fleet.\n",
    "\n",
    "If a car catches up to a car fleet the moment the fleet reaches the destination, then the car is considered to be part of the fleet. \n",
    "\n",
    "Return the number of __different car fleets__ that will arrive at the destination. \n",
    "\n",
    "### Example 1:\n",
    "\n",
    "```py\n",
    "Input: target = 10, position = [1,4], speed = [3,2]\n",
    "\n",
    "Output: 1\n",
    "```\n",
    "\n",
    "### Example 2:\n",
    "\n",
    "```py\n",
    "Input: target = 10, position = [4,1,0,7], speed = [2,2,1,1]\n",
    "\n",
    "Output: 3\n",
    "```\n",
    "\n",
    "_Explanation_: The cars starting at 4 and 7 become a fleet at position 10. The cars starting at 1 and 0 never catch up to the car ahead of them. Thus, there are 3 car fleets that will arrive at the destination. "
   ]
  },
  {
   "cell_type": "markdown",
   "id": "5ccceb7b",
   "metadata": {},
   "source": [
    "## Stack"
   ]
  },
  {
   "cell_type": "code",
   "execution_count": 4,
   "id": "bfe532e4",
   "metadata": {},
   "outputs": [
    {
     "data": {
      "text/plain": [
       "3"
      ]
     },
     "execution_count": 4,
     "metadata": {},
     "output_type": "execute_result"
    }
   ],
   "source": [
    "def car_fleet(target: int, position: list[int], speed: list[int]):\n",
    "    pair = [(p, s) for p, s in zip(position, speed)]\n",
    "    pair.sort(reverse=True)\n",
    "    stack = []\n",
    "    for p, s in pair:  # Reverse Sorted Order\n",
    "        stack.append((target - p) / s)\n",
    "        if len(stack) >= 2 and stack[-1] <= stack[-2]:\n",
    "            stack.pop()\n",
    "    return len(stack)\n",
    "\n",
    "target = 10\n",
    "position = [4,1,0,7]\n",
    "speed = [2,2,1,1]\n",
    "\n",
    "car_fleet(target, position, speed)"
   ]
  },
  {
   "cell_type": "markdown",
   "id": "1db6dab2",
   "metadata": {},
   "source": [
    "__Space & Space Complexity__\n",
    "\n",
    "- Time complexity: $O(n log n)$\n",
    "\n",
    "- Space complexity: $O(n)$"
   ]
  },
  {
   "cell_type": "markdown",
   "id": "0eb278bd",
   "metadata": {},
   "source": [
    "## Iteration"
   ]
  },
  {
   "cell_type": "code",
   "execution_count": 6,
   "id": "5be2fdec",
   "metadata": {},
   "outputs": [
    {
     "data": {
      "text/plain": [
       "3"
      ]
     },
     "execution_count": 6,
     "metadata": {},
     "output_type": "execute_result"
    }
   ],
   "source": [
    "def car_fleet(target: int, position: list[int], speed: list[int]) -> int:\n",
    "    pair = [(p, s) for p, s in zip(position, speed)]\n",
    "    pair.sort(reverse=True)\n",
    "\n",
    "    fleets = 1\n",
    "    prevTime = (target - pair[0][0]) / pair[0][1]\n",
    "    for i in range(1, len(pair)):\n",
    "        currCar = pair[i]\n",
    "        currTime = (target - currCar[0]) / currCar[1]\n",
    "        if currTime > prevTime:\n",
    "            fleets += 1\n",
    "            prevTime = currTime\n",
    "    return fleets\n",
    "\n",
    "target = 10\n",
    "position = [4,1,0,7]\n",
    "speed = [2,2,1,1]\n",
    "\n",
    "car_fleet(target, position, speed)"
   ]
  },
  {
   "cell_type": "markdown",
   "id": "766a9924",
   "metadata": {},
   "source": [
    "__Space & Space Complexity__\n",
    "\n",
    "- Time complexity: $O(n log n)$\n",
    "\n",
    "- Space complexity: $O(n)$"
   ]
  }
 ],
 "metadata": {
  "kernelspec": {
   "display_name": "Python 3",
   "language": "python",
   "name": "python3"
  },
  "language_info": {
   "codemirror_mode": {
    "name": "ipython",
    "version": 3
   },
   "file_extension": ".py",
   "mimetype": "text/x-python",
   "name": "python",
   "nbconvert_exporter": "python",
   "pygments_lexer": "ipython3",
   "version": "3.13.0"
  }
 },
 "nbformat": 4,
 "nbformat_minor": 5
}
