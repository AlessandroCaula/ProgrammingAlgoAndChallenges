{
 "cells": [
  {
   "cell_type": "markdown",
   "id": "4e446b1f",
   "metadata": {},
   "source": [
    "# Valid Parentheses\n",
    "\n",
    "You are given a string `s` consisting of the following characters `(`, `)`, `{`, `}`, `[` and `]`.\n",
    "\n",
    "The input string `s` is valid if and only if:\n",
    "\n",
    "1. Every open bracket is closed by the same type of close bracket.\n",
    "2. Open brackets are closed in the correct order.\n",
    "3. Every close bracket has a corresponding open bracket of the same type. \n",
    "\n",
    "Return `true` if `s` is a valid string, and `false` otherwise.\n",
    "\n",
    "### Example 1:\n",
    "\n",
    "```py\n",
    "Input: s = \"[]\"\n",
    "Output: true\n",
    "```\n",
    "\n",
    "### Example 2:\n",
    "\n",
    "```py\n",
    "Input: s = \"([{}])\"\n",
    "Output: true\n",
    "```\n",
    "\n",
    "### Example 3:\n",
    "\n",
    "```py\n",
    "Input: s = \"[(])\"\n",
    "Output: false\n",
    "```\n",
    "\n",
    "Explanation: The brackets are not closed in the correct order."
   ]
  },
  {
   "cell_type": "code",
   "execution_count": 4,
   "id": "6a112feb",
   "metadata": {},
   "outputs": [
    {
     "name": "stdout",
     "output_type": "stream",
     "text": [
      "True\n",
      "True\n",
      "False\n"
     ]
    }
   ],
   "source": [
    "def valid_parenthesis(par_sequence: str) -> bool:\n",
    "    par_dict = {\"(\": \")\", \"[\": \"]\", \"{\": \"}\"}\n",
    "    stack = []\n",
    "    for par in par_sequence:\n",
    "        # check if it is an open parenthesis\n",
    "        if par in par_dict.keys():\n",
    "            stack.append(par)\n",
    "        else:\n",
    "            # Take out the last inserted parenthesis\n",
    "            if len(stack) == 0:\n",
    "                return False\n",
    "            popped = stack.pop()\n",
    "            # Check if the popped one is the open parenthesis of the current closed one. If not, return False\n",
    "            if par_dict[popped] != par:\n",
    "                return False\n",
    "    if len(stack) > 0:\n",
    "        return False\n",
    "    return True\n",
    "\n",
    "print(valid_parenthesis(\"([{}])\"))\n",
    "print(valid_parenthesis(\"[]\"))\n",
    "print(valid_parenthesis(\"[(])\"))"
   ]
  }
 ],
 "metadata": {
  "kernelspec": {
   "display_name": "Python 3",
   "language": "python",
   "name": "python3"
  },
  "language_info": {
   "codemirror_mode": {
    "name": "ipython",
    "version": 3
   },
   "file_extension": ".py",
   "mimetype": "text/x-python",
   "name": "python",
   "nbconvert_exporter": "python",
   "pygments_lexer": "ipython3",
   "version": "3.13.0"
  }
 },
 "nbformat": 4,
 "nbformat_minor": 5
}
