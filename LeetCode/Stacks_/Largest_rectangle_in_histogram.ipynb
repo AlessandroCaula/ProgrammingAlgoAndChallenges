{
 "cells": [
  {
   "cell_type": "markdown",
   "id": "71172c45",
   "metadata": {},
   "source": [
    "# Largest Rectangle in Histogram\n",
    "\n",
    "You are given an array of integers `heights` where `heights[i]` represents the height of a bar. The width of each bar is `1`.\n",
    "\n",
    "Return the area of the largest rectangle that can be formed among the bars.\n",
    "\n",
    "Note: The chart is known as a __histogram__.\n",
    "\n",
    "### Example 1:\n",
    "\n",
    "```python\n",
    "Input: heights = [7,1,7,2,2,4]\n",
    "Output: 8\n",
    "```\n",
    "\n",
    "### Example 2:\n",
    "\n",
    "```python\n",
    "Input: heights = [1,3,7]\n",
    "Output: 7\n",
    "```"
   ]
  },
  {
   "cell_type": "code",
   "execution_count": 3,
   "id": "397f9ca0",
   "metadata": {},
   "outputs": [
    {
     "name": "stdout",
     "output_type": "stream",
     "text": [
      "8\n",
      "7\n"
     ]
    }
   ],
   "source": [
    "def largest_histogram(histograms):\n",
    "    # Find the highest element in the histogram list\n",
    "    highest = max(histograms)\n",
    "\n",
    "    # Largest rectangle\n",
    "    largest_rectangle = 0\n",
    "    # Loop trough all the possible values within the highest\n",
    "    for height in range(1, highest + 1):\n",
    "        current_rectangle = 0\n",
    "        # For each of the height, check all the histogram bars and see if they can be count (if they are at least as tall)\n",
    "        for bar in histograms:\n",
    "            if bar >= height:\n",
    "                # Sum the height to the total area of the square\n",
    "                current_rectangle += height\n",
    "            else:\n",
    "                # If it is not high enough, we have to interrupt the square. And check if this area is bigger than the largest one\n",
    "                if current_rectangle > largest_rectangle:\n",
    "                    largest_rectangle = current_rectangle\n",
    "                current_rectangle = 0\n",
    "        # Check if the rectangle found is larger\n",
    "        if current_rectangle > largest_rectangle:\n",
    "            largest_rectangle = current_rectangle\n",
    "\n",
    "    return largest_rectangle\n",
    "\n",
    "print(largest_histogram([7,1,7,2,2,4]))\n",
    "print(largest_histogram([1,3,7]))"
   ]
  },
  {
   "cell_type": "code",
   "execution_count": null,
   "id": "cdcc53e9",
   "metadata": {},
   "outputs": [],
   "source": []
  }
 ],
 "metadata": {
  "kernelspec": {
   "display_name": "3.13.1",
   "language": "python",
   "name": "python3"
  },
  "language_info": {
   "codemirror_mode": {
    "name": "ipython",
    "version": 3
   },
   "file_extension": ".py",
   "mimetype": "text/x-python",
   "name": "python",
   "nbconvert_exporter": "python",
   "pygments_lexer": "ipython3",
   "version": "3.13.1"
  }
 },
 "nbformat": 4,
 "nbformat_minor": 5
}
