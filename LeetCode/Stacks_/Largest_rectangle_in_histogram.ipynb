{
 "cells": [
  {
   "cell_type": "markdown",
   "id": "71172c45",
   "metadata": {},
   "source": [
    "# Largest Rectangle in Histogram\n",
    "\n",
    "You are given an array of integers `heights` where `heights[i]` represents the height of a bar. The width of each bar is `1`.\n",
    "\n",
    "Return the area of the largest rectangle that can be formed among the bars.\n",
    "\n",
    "Note: The chart is known as a __histogram__.\n",
    "\n",
    "### Example 1:\n",
    "\n",
    "```python\n",
    "Input: heights = [7,1,7,2,2,4]\n",
    "Output: 8\n",
    "```\n",
    "\n",
    "### Example 2:\n",
    "\n",
    "```python\n",
    "Input: heights = [1,3,7]\n",
    "Output: 7\n",
    "```"
   ]
  },
  {
   "cell_type": "code",
   "execution_count": null,
   "id": "397f9ca0",
   "metadata": {},
   "outputs": [],
   "source": [
    "def largest_histogram(histograms):\n",
    "    "
   ]
  }
 ],
 "metadata": {
  "language_info": {
   "name": "python"
  }
 },
 "nbformat": 4,
 "nbformat_minor": 5
}
