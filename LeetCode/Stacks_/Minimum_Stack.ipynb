{
 "cells": [
  {
   "cell_type": "markdown",
   "id": "6cc24676",
   "metadata": {},
   "source": [
    "# Minimum Stack \n",
    "\n",
    "Design an stack class that supports the `push`, `pop`, `top` and `getMin` operations.\n",
    "\n",
    "- `MinStack()` initializes the stack object.\n",
    "\n",
    "- `void push(int val)` pushes the element `val` onto the stack. \n",
    "\n",
    "- `void pop()` removes the element on the top of the stack.\n",
    "\n",
    "- `int top()` gets the top element of the stack.\n",
    "\n",
    "- `int getMin()` retrieve the minimum element in the stack.\n",
    "\n",
    "Each function should run in $O(1)$ time.\n",
    "\n",
    "### Example 1:\n",
    "\n",
    "```py\n",
    "Input: [\"MinStack\", \"push\", 1, \"push\", 2, \"push\", 0, \"getMin\", \"pop\", \"top\", \"getMin\"]\n",
    "\n",
    "Output: [null,null,null,null,0,null,2,1]\n",
    "\n",
    "#Explanation:\n",
    "MinStack minStack = new MinStack();\n",
    "minStack.push(1);\n",
    "minStack.push(2);\n",
    "minStack.push(0);\n",
    "minStack.getMin(); # return 0\n",
    "minStack.pop();\n",
    "minStack.top();    # return 2\n",
    "minStack.getMin(); # return 1\n",
    "```"
   ]
  },
  {
   "cell_type": "code",
   "execution_count": null,
   "id": "0e62cde7",
   "metadata": {},
   "outputs": [
    {
     "name": "stdout",
     "output_type": "stream",
     "text": [
      "None\n",
      "None\n",
      "None\n",
      "0\n",
      "0\n",
      "2\n",
      "1\n"
     ]
    }
   ],
   "source": [
    "class MinStack:\n",
    "    def __init__(self):\n",
    "        # Initialize an empty stack\n",
    "        self.stack = []\n",
    "\n",
    "    # Push a new element to the stack\n",
    "    def push(self, val=None):\n",
    "        if val != None:\n",
    "            self.stack.append(val)\n",
    "    \n",
    "    # Remove the element on the top of the stack \n",
    "    def pop(self):\n",
    "        if len(self.stack) > 0:\n",
    "            popped_val = self.stack[len(self.stack) - 1]\n",
    "            self.stack = self.stack[:len(self.stack) - 1]\n",
    "            return popped_val\n",
    "        else:\n",
    "            print('No element present in the stack')\n",
    "            return\n",
    "    \n",
    "    # Gets the top element of the stack \n",
    "    def top(self):\n",
    "        if len(self.stack) > 0:\n",
    "            return self.stack[len(self.stack) - 1]\n",
    "        else:\n",
    "            return None\n",
    "    \n",
    "    # Retrieves the minimum element in the stack \n",
    "    def getMin(self):\n",
    "        return min(self.stack)\n",
    "\n",
    "\n",
    "minStack = MinStack()\n",
    "print(minStack.push(1))\n",
    "print(minStack.push(2))\n",
    "print(minStack.push(0))\n",
    "print(minStack.getMin())\n",
    "print(minStack.pop())\n",
    "print(minStack.top())\n",
    "print(minStack.getMin())"
   ]
  },
  {
   "cell_type": "markdown",
   "id": "c334f2d3",
   "metadata": {},
   "source": []
  }
 ],
 "metadata": {
  "kernelspec": {
   "display_name": "Python 3",
   "language": "python",
   "name": "python3"
  },
  "language_info": {
   "codemirror_mode": {
    "name": "ipython",
    "version": 3
   },
   "file_extension": ".py",
   "mimetype": "text/x-python",
   "name": "python",
   "nbconvert_exporter": "python",
   "pygments_lexer": "ipython3",
   "version": "3.13.1"
  }
 },
 "nbformat": 4,
 "nbformat_minor": 5
}
