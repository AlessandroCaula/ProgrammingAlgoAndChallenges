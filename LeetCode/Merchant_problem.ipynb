{
 "cells": [
  {
   "cell_type": "markdown",
   "id": "16553000",
   "metadata": {},
   "source": [
    "# Merchant\n",
    "\n",
    "A merchant has a store of capacity M. He has M units of a product in his store. On each day, he can do one of the following:\n",
    "\n",
    "- If there is at least one item in the store, he can sell the item. The number of units reduces by 1. \n",
    "\n",
    "- Purchase an item from the wholesaler. The number of units Increases by 1. Of he already has M units in his store, buying an Item will not increase the current number of units in the store. This means buying any more items will lead to waste. \n",
    "\n",
    "The merchant wants to sell at least R units within D days. Check if it is possible. \n",
    "\n",
    "- M -> Represents the storage capacity\n",
    "- R -> Represents the number of units desired to be sold\n",
    "- D -> Represents the day limit\n",
    "\n",
    "#### Example\n",
    "```\n",
    "Input: merchant(10, 5, 3)\n",
    "Output: \"NO\"\n",
    "```\n",
    "\n",
    "__Explanation__:\n",
    "There is no possible way to sell 5 items in 3 days."
   ]
  },
  {
   "cell_type": "code",
   "execution_count": 3,
   "id": "80592c2e",
   "metadata": {},
   "outputs": [
    {
     "name": "stdout",
     "output_type": "stream",
     "text": [
      "NO\n"
     ]
    }
   ],
   "source": [
    "def merchant(M, R, D):\n",
    "    req = min(M, R)\n",
    "    R += M\n",
    "    if R >= 0:\n",
    "        req /= 2 * R\n",
    "    if req < D:\n",
    "        return \"NO\"\n",
    "    return \"YES\"\n",
    "\n",
    "print(merchant(10,5,5))"
   ]
  },
  {
   "cell_type": "markdown",
   "id": "b5c49070",
   "metadata": {},
   "source": [
    "## Solutions"
   ]
  },
  {
   "cell_type": "code",
   "execution_count": 20,
   "id": "fa7a738a",
   "metadata": {},
   "outputs": [
    {
     "name": "stdout",
     "output_type": "stream",
     "text": [
      "NO\n"
     ]
    }
   ],
   "source": [
    "def merchant(M, R, D):\n",
    "    buying_days = R - M\n",
    "    if M + (buying_days * 2) <= D:\n",
    "        return \"YES\"\n",
    "    else:\n",
    "        return \"NO\"\n",
    "print(merchant(1,10,15))"
   ]
  },
  {
   "cell_type": "markdown",
   "id": "ca6cb8e4",
   "metadata": {},
   "source": [
    "Simulating day by day"
   ]
  },
  {
   "cell_type": "code",
   "execution_count": 14,
   "id": "4377eef2",
   "metadata": {},
   "outputs": [
    {
     "name": "stdout",
     "output_type": "stream",
     "text": [
      "NO\n"
     ]
    }
   ],
   "source": [
    "def merchant(M, R, D):\n",
    "    # Simulate the process day by day\n",
    "    for i in range(D):\n",
    "        if R == 0:\n",
    "            return \"YES\"\n",
    "        elif M == 0:\n",
    "            M += 1\n",
    "        else:\n",
    "            M -= 1\n",
    "            R -= 1\n",
    "    return \"NO\"\n",
    "print(merchant(1,10,15))"
   ]
  },
  {
   "cell_type": "code",
   "execution_count": null,
   "id": "f26d993c",
   "metadata": {},
   "outputs": [],
   "source": []
  }
 ],
 "metadata": {
  "kernelspec": {
   "display_name": "Python 3",
   "language": "python",
   "name": "python3"
  },
  "language_info": {
   "codemirror_mode": {
    "name": "ipython",
    "version": 3
   },
   "file_extension": ".py",
   "mimetype": "text/x-python",
   "name": "python",
   "nbconvert_exporter": "python",
   "pygments_lexer": "ipython3",
   "version": "3.13.1"
  }
 },
 "nbformat": 4,
 "nbformat_minor": 5
}
