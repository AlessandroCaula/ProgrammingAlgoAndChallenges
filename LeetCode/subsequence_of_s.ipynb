{
 "cells": [
  {
   "cell_type": "markdown",
   "id": "2bb3d094",
   "metadata": {},
   "source": [
    "# Subsequence of s\n",
    "\n",
    "Given a string `s` and an array of strings `words`, return the number of `words[i]` that is a subsequence of `s`.\n",
    "\n",
    "A subsequence of a string is a new string generated from the original string with some characters (can be none) deleted without changing the relative order of the remaining characters. \n",
    "\n",
    "For example, `\"ace\"` is a subsequence of `\"abcde\"`\n",
    "\n",
    "### Example 1:\n",
    "\n",
    "```\n",
    "Input: s = \"abcde\", words = [\"a\", \"bb\", \"acd\", \"ace\"]\n",
    "\n",
    "Output: 3\n",
    "\n",
    "Explanation: There are three strings in words that are subsequence of s: \"a\", \"acd\", \"ace\".\n",
    "```\n"
   ]
  },
  {
   "cell_type": "code",
   "execution_count": null,
   "id": "3ed64d91",
   "metadata": {},
   "outputs": [
    {
     "name": "stdout",
     "output_type": "stream",
     "text": [
      "5\n"
     ]
    }
   ],
   "source": [
    "import copy\n",
    "\n",
    "def subsequence(s, words):\n",
    "    # Create an hash table with the letters and the index of the letters in s\n",
    "    hash_map = {}\n",
    "    for i, char in enumerate(s):\n",
    "        if char not in hash_map.keys():\n",
    "            hash_map[char] = [i]\n",
    "        else:\n",
    "            hash_map[char].append(i)\n",
    "    \n",
    "    subsequence_count = 0\n",
    "    # Now we loop through all the word in the words collection and check \n",
    "    for word in words:\n",
    "        # Create a deep copy of the hash_map cause we don't want to change it every time we pop an element from the index collection values\n",
    "        hash_map_copy = copy.deepcopy(hash_map)\n",
    "        prev_idx = -1\n",
    "        is_subsequence = True\n",
    "        # Loop through all the character of word\n",
    "        for char in word:\n",
    "            # extract the index, id if exist, and check if it is higher than the current one\n",
    "            char_idx_collection = hash_map_copy.get(char)\n",
    "            # Check if there is some index in the collection\n",
    "            if len(char_idx_collection) == 0:\n",
    "                is_subsequence = False\n",
    "                break\n",
    "            else:  \n",
    "                # Loop through all the indexes of the letters, and check the first that is higher than the current\n",
    "                is_letter_in_order = False\n",
    "                for i in char_idx_collection:\n",
    "                    if i > prev_idx:\n",
    "                        prev_idx = i\n",
    "                        is_letter_in_order = True\n",
    "                        break\n",
    "                if not is_letter_in_order:\n",
    "                    is_subsequence = False\n",
    "                    break\n",
    "\n",
    "        # If the word has been found as subsequence. Increase the number of subsequences\n",
    "        if is_subsequence:\n",
    "            subsequence_count += 1\n",
    "    \n",
    "    return subsequence_count\n",
    "\n",
    "s = \"abcade\"\n",
    "words = [\"a\", \"ba\", \"aa\", \"bb\", \"acd\", \"ace\"]\n",
    "\n",
    "print(subsequence(s, words))"
   ]
  }
 ],
 "metadata": {
  "kernelspec": {
   "display_name": "Python 3",
   "language": "python",
   "name": "python3"
  },
  "language_info": {
   "codemirror_mode": {
    "name": "ipython",
    "version": 3
   },
   "file_extension": ".py",
   "mimetype": "text/x-python",
   "name": "python",
   "nbconvert_exporter": "python",
   "pygments_lexer": "ipython3",
   "version": "3.13.0"
  }
 },
 "nbformat": 4,
 "nbformat_minor": 5
}
