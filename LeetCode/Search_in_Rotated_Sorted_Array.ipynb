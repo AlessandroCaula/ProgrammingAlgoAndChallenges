{
 "cells": [
  {
   "cell_type": "markdown",
   "id": "41d6db35",
   "metadata": {},
   "source": [
    "# Search in Rotated Sorted Array \n",
    "\n",
    "There is an integer array `nums` sorted in ascending order (with distinct values).\n",
    "\n",
    "Prior to being passed to your function, `nums` is possibly rotated at an unknown pivot index `k (1 <= k < nums.length)` such that the resulting array is `[num[k], nums[k+1], ..., nums[n-1], nums[0], nums[1], ..., nums[k-1]]` (__0-index__). For example, `[0,1,2,4,5,6,7]` might be rotated at pivot index 3 and become `[4,5,6,7,0,1,2]`.\n",
    "\n",
    "Given the array `nums` after the possible rotation and an integer `target`, return the index of `target` if it is `nums`, or -1 if it is not in `nums`.\n",
    "\n",
    "You must write an algorithm with `O(log n)` runtime complexity."
   ]
  },
  {
   "cell_type": "markdown",
   "id": "1e1e5d7e",
   "metadata": {},
   "source": [
    "#### Example 1:\n",
    "\n",
    "```\n",
    "Input: nums = [4,5,6,7,0,1,2], target = 0\n",
    "Output: 4\n",
    "```\n",
    "\n",
    "#### Example 2:\n",
    "\n",
    "```\n",
    "Input: nums = [4,5,6,7,0,1,2], target = 3\n",
    "Output: -1\n",
    "```\n",
    "\n",
    "#### Example 3:\n",
    "\n",
    "```\n",
    "Input: nums = [1], target = 0\n",
    "Output: -1\n",
    "```"
   ]
  },
  {
   "cell_type": "markdown",
   "id": "e4139656",
   "metadata": {},
   "source": [
    "## Solution\n",
    "\n",
    "To solve this problem, we can use a modified Binary Search algorithm. When we do Binary Search, we divide the array into two halves: left half and right half. \n",
    "\n",
    "In a rotated sorted array, at least one half (left or right) will always be sorted. First, we need to find which half of the array is sorted.\n",
    "\n",
    "Once we identify the sorted half, we can check if our target lies within its range. If it does, we search in that half. If it doesn't, we search in the other half. \n",
    "\n",
    "This process continues until we either find the target or determine it's not in the array. \n",
    "\n",
    "The time complexity of this solution is `O(log n)` as we are using Binary Search"
   ]
  },
  {
   "cell_type": "code",
   "execution_count": null,
   "id": "1bb7a422",
   "metadata": {},
   "outputs": [
    {
     "ename": "TypeError",
     "evalue": "'type' object is not iterable",
     "output_type": "error",
     "traceback": [
      "\u001b[1;31m---------------------------------------------------------------------------\u001b[0m",
      "\u001b[1;31mTypeError\u001b[0m                                 Traceback (most recent call last)",
      "Cell \u001b[1;32mIn[7], line 1\u001b[0m\n\u001b[1;32m----> 1\u001b[0m \u001b[38;5;28;01mdef\u001b[39;00m \u001b[38;5;21msearch\u001b[39m(nums: \u001b[38;5;28;43mlist\u001b[39;49m\u001b[43m(\u001b[49m\u001b[38;5;28;43mint\u001b[39;49m\u001b[43m)\u001b[49m, target: \u001b[38;5;28mint\u001b[39m) \u001b[38;5;241m-\u001b[39m\u001b[38;5;241m>\u001b[39m \u001b[38;5;28mint\u001b[39m:\n\u001b[0;32m      2\u001b[0m     \u001b[38;5;66;03m# Initialize two pointers\u001b[39;00m\n\u001b[0;32m      3\u001b[0m     left, right \u001b[38;5;241m=\u001b[39m \u001b[38;5;241m0\u001b[39m, \u001b[38;5;28mlen\u001b[39m(nums) \u001b[38;5;241m-\u001b[39m \u001b[38;5;241m1\u001b[39m\n\u001b[0;32m      5\u001b[0m     \u001b[38;5;28;01mwhile\u001b[39;00m left \u001b[38;5;241m<\u001b[39m\u001b[38;5;241m=\u001b[39m right:\n",
      "\u001b[1;31mTypeError\u001b[0m: 'type' object is not iterable"
     ]
    }
   ],
   "source": [
    "def search(nums: list[int], target: int) -> int:\n",
    "    # Initialize two pointers\n",
    "    left, right = 0, len(nums) - 1\n",
    "\n",
    "    while left <= right:\n",
    "        mid = (left + right) // 2\n",
    "\n",
    "        # If target is found\n",
    "        if nums[mid] == target:\n",
    "            return mid\n",
    "        \n",
    "        # Check if the left half is sorted:\n",
    "        if nums[left] <= nums[mid]:\n",
    "            # Check if target is in left half\n",
    "            if nums[left] <= target < nums[mid]:\n",
    "                right = mid - 1\n",
    "            else:\n",
    "                left = mid + 1\n",
    "        # Right half must be sorted\n",
    "        else:\n",
    "            # Check if target is in right half\n",
    "            if nums[mid] < target <= nums[right]:\n",
    "                left = mid + 1\n",
    "            else:\n",
    "                right = mid - 1\n",
    "    \n",
    "    # Target not found\n",
    "    return -1\n",
    "\n",
    "print(search([4,5,6,7,0,1,2], 0))"
   ]
  },
  {
   "cell_type": "code",
   "execution_count": null,
   "id": "d3e55e25",
   "metadata": {},
   "outputs": [],
   "source": []
  }
 ],
 "metadata": {
  "kernelspec": {
   "display_name": "Python 3",
   "language": "python",
   "name": "python3"
  },
  "language_info": {
   "codemirror_mode": {
    "name": "ipython",
    "version": 3
   },
   "file_extension": ".py",
   "mimetype": "text/x-python",
   "name": "python",
   "nbconvert_exporter": "python",
   "pygments_lexer": "ipython3",
   "version": "3.13.0"
  }
 },
 "nbformat": 4,
 "nbformat_minor": 5
}
