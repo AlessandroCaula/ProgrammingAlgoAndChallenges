{
 "cells": [
  {
   "cell_type": "markdown",
   "id": "9c8f37af",
   "metadata": {},
   "source": [
    "# Combination Sum\n",
    "\n",
    "Given an array of distinct integers `candidates` and a target integer `target`, return _a list of all __unique combinations__ of `candidates` where the chosen numbers sum to `target`_. You may return the combinations in any order. \n",
    "\n",
    "The __same__ number may be chosen from `candidates` an __unlimited number of times__. Two combinations are unique if the frequency of at least one of the chose numbers is different.\n",
    "\n",
    "The test cases are generated such that the number of unique combinations that sum up to target is less than 150 combinations for the given input.\n",
    "\n",
    "### Example 1:\n",
    "\n",
    "```\n",
    "Input: candidates = [2,3,6,7], target = 7\n",
    "Output: [[2,2,3], [7]]\n",
    "Explanation:\n",
    "2 and 3 are candidates, and 2 + 2 + 3 = 7. Note that 2 can be used multiple times. \n",
    "7 is a candidate, and 7 = 7.\n",
    "These are the only two combinations.\n",
    "```\n",
    "\n",
    "### Example 2:\n",
    "\n",
    "```\n",
    "Input: candidates = [2,3,5], target = 8\n",
    "Output: [[2,2,2,2], [2,3,3], [3,5]]\n",
    "```"
   ]
  },
  {
   "cell_type": "markdown",
   "id": "f544afef",
   "metadata": {},
   "source": [
    "## Solution"
   ]
  },
  {
   "cell_type": "markdown",
   "id": "baf004bd",
   "metadata": {},
   "source": [
    "To solve this problem, we'll use a backtracking approach. Backtracking is a technique that tries to build an answer step by step. If it realizes that the current path won't work, it goes back and tries a different path. \n",
    "\n",
    "In this case, we'll use a recursive function called `backtrack` that explores all possible combinations of candidates that sum up to the target. We'll start by sorting the candidates to help with avoiding duplicate combinations and to optimize the backtracking process.\n",
    "\n",
    "The key idea is to:\n",
    "\n",
    "1. Sort the candidates array\n",
    "\n",
    "2. Use a recursive function that tries including or excluding each candidate\n",
    "\n",
    "3. Keep track of the current combination and current sum\n",
    "\n",
    "4. Add a combination to the result when the sum equals the target\n",
    "\n",
    "Time complexity is $O(2^n)$, where `n` is the number of candidates. That's because we're essentially exploring all possible combinations and there are a total of $2^n$ such combinations."
   ]
  },
  {
   "cell_type": "code",
   "execution_count": 12,
   "id": "b3e8040a",
   "metadata": {},
   "outputs": [
    {
     "name": "stdout",
     "output_type": "stream",
     "text": [
      "[[2, 2, 2, 2], [2, 3, 3], [3, 5]]\n"
     ]
    }
   ],
   "source": [
    "def combination_sum(candidates: list[int], target: int) -> int:\n",
    "    # Sort the candidates to help with backtracking \n",
    "    candidates.sort()\n",
    "\n",
    "    # Result list to store valid combinations\n",
    "    result = []\n",
    "\n",
    "    def backtrack(start, target, current_combination):\n",
    "        # If target becomes 0, we found a valid combination\n",
    "        if target == 0:\n",
    "            result.append(list(current_combination))\n",
    "            return\n",
    "        \n",
    "        # Try each candidate starting from 'start' index\n",
    "        for i in range(start, len(candidates)):\n",
    "            # If current candidate is larger than remaining target, stop\n",
    "            if candidates[i] > target:\n",
    "                break\n",
    "\n",
    "            # Include current candidate in the combination\n",
    "            current_combination.append(candidates[i])\n",
    "\n",
    "            # Recursively explore with the same start index (allows reusing the same number)\n",
    "            backtrack(i, target - candidates[i], current_combination)\n",
    "\n",
    "            # Backtrack by removing the last added candidate\n",
    "            current_combination.pop()\n",
    "\n",
    "    # Start backtracking from index 0\n",
    "    backtrack(0, target, [])\n",
    "    return result\n",
    "\n",
    "print(combination_sum([2,3,5], 8))"
   ]
  },
  {
   "cell_type": "markdown",
   "id": "4c263d56",
   "metadata": {},
   "source": [
    "## ❌ Not Correct Solution"
   ]
  },
  {
   "cell_type": "code",
   "execution_count": 11,
   "id": "0648b0a6",
   "metadata": {},
   "outputs": [
    {
     "name": "stdout",
     "output_type": "stream",
     "text": [
      "[[3, 5]]\n"
     ]
    }
   ],
   "source": [
    "def combination_sum(candidates, target):\n",
    "    final_result = []\n",
    "\n",
    "    for i, n in enumerate(candidates):\n",
    "        remainder = target\n",
    "        j = i\n",
    "        current_result = []\n",
    "        while remainder > 0 and remainder >= min(candidates):\n",
    "            if remainder - candidates[j] >= 0:\n",
    "                current_result.append(candidates[j])\n",
    "                remainder -= candidates[j]\n",
    "                j = 0 if j == len(candidates) - 1 else j + 1\n",
    "            else:\n",
    "                j = 0 if j == len(candidates) - 1 else j + 1\n",
    "                \n",
    "        if remainder == 0:\n",
    "            current_result.sort()\n",
    "            if current_result not in final_result:\n",
    "                final_result.append(current_result)\n",
    "\n",
    "    return final_result\n",
    "\n",
    "# print(combination_sum([2,3,6,7], 7))\n",
    "print(combination_sum([2,3,5], 8))"
   ]
  }
 ],
 "metadata": {
  "kernelspec": {
   "display_name": "Python 3",
   "language": "python",
   "name": "python3"
  },
  "language_info": {
   "codemirror_mode": {
    "name": "ipython",
    "version": 3
   },
   "file_extension": ".py",
   "mimetype": "text/x-python",
   "name": "python",
   "nbconvert_exporter": "python",
   "pygments_lexer": "ipython3",
   "version": "3.13.0"
  }
 },
 "nbformat": 4,
 "nbformat_minor": 5
}
