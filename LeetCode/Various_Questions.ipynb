{
 "cells": [
  {
   "cell_type": "markdown",
   "metadata": {},
   "source": [
    "# Reverse a String"
   ]
  },
  {
   "cell_type": "code",
   "execution_count": 1,
   "metadata": {},
   "outputs": [
    {
     "name": "stdout",
     "output_type": "stream",
     "text": [
      "gnirts eht si sihT\n"
     ]
    }
   ],
   "source": [
    "def reverse_string(string: str) -> str:\n",
    "    return string[::-1]\n",
    "\n",
    "print(reverse_string(\"This is the string\"))"
   ]
  },
  {
   "cell_type": "markdown",
   "metadata": {},
   "source": [
    "# Check if a string is a Palindrome"
   ]
  },
  {
   "cell_type": "code",
   "execution_count": 3,
   "metadata": {},
   "outputs": [
    {
     "name": "stdout",
     "output_type": "stream",
     "text": [
      "True\n",
      "False\n"
     ]
    }
   ],
   "source": [
    "def palindrome(string: str) -> str:\n",
    "    return string == string[::-1]\n",
    "\n",
    "print(palindrome(\"anna\"))\n",
    "print(palindrome(\"test\"))"
   ]
  },
  {
   "cell_type": "markdown",
   "metadata": {},
   "source": [
    "# Remove duplicates from a String\n",
    "\n",
    "Write a function that takes a string as input and returns a new string with all duplicate characters removed while preserving the order of their first appearance. The function should be case-sensitive, meaning that uppercase and lowercase letters are treated as distinct characters.\n",
    "\n",
    "Input: `\"Programming\"`\n",
    "\n",
    "Output: `\"Progamin\"`"
   ]
  },
  {
   "cell_type": "code",
   "execution_count": 6,
   "metadata": {},
   "outputs": [
    {
     "name": "stdout",
     "output_type": "stream",
     "text": [
      "Progamin\n"
     ]
    }
   ],
   "source": [
    "def remove_duplicates(string: str) -> str:\n",
    "    single_letters = []\n",
    "    final_string = \"\"\n",
    "    for l in string:\n",
    "        if l not in single_letters:\n",
    "            final_string += l\n",
    "            single_letters.append(l)\n",
    "    return final_string\n",
    "\n",
    "print(remove_duplicates(\"Programming\"))"
   ]
  },
  {
   "cell_type": "markdown",
   "metadata": {},
   "source": [
    "# Find the first Non-repeating Character\n",
    "\n",
    "Write a function that takes a string as input and returns the first character that does not repeat anywhere in the string. If all characters repeat, return a special value (e.g., None or -1). The function should be case-sensitive, meaning uppercase and lowercase letters are treated as distinct characters.\n",
    "\n",
    "Input: `\"swiss\"`\n",
    "\n",
    "Output: `\"w\"`"
   ]
  },
  {
   "cell_type": "code",
   "execution_count": null,
   "metadata": {},
   "outputs": [
    {
     "name": "stdout",
     "output_type": "stream",
     "text": [
      "w\n"
     ]
    }
   ],
   "source": [
    "def non_repeating(string: str):\n",
    "    char_count = {}\n",
    "    # Counting the occurrences of each character\n",
    "    for ch in string:\n",
    "        if ch not in char_count:\n",
    "            char_count[ch] = 1\n",
    "        else:\n",
    "            char_count[ch] += 1\n",
    "    # Find the first character that \n",
    "    for ch in string:\n",
    "        if char_count[ch] == 1:\n",
    "            return ch\n",
    "    return None\n",
    "\n",
    "print(non_repeating(\"swiss\"))"
   ]
  },
  {
   "cell_type": "code",
   "execution_count": null,
   "metadata": {},
   "outputs": [],
   "source": []
  }
 ],
 "metadata": {
  "kernelspec": {
   "display_name": "Python 3",
   "language": "python",
   "name": "python3"
  },
  "language_info": {
   "codemirror_mode": {
    "name": "ipython",
    "version": 3
   },
   "file_extension": ".py",
   "mimetype": "text/x-python",
   "name": "python",
   "nbconvert_exporter": "python",
   "pygments_lexer": "ipython3",
   "version": "3.13.1"
  }
 },
 "nbformat": 4,
 "nbformat_minor": 2
}
