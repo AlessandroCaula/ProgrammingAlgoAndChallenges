{
 "cells": [
  {
   "cell_type": "markdown",
   "metadata": {},
   "source": [
    "# Number of 1 Bits"
   ]
  },
  {
   "cell_type": "markdown",
   "metadata": {},
   "source": [
    "Given a positive integer `n`, write a function that returns the number of set bits in its binary representation (also known as the Hamming weight).\n",
    "\n",
    "**Example 1**\n",
    "\n",
    "```\n",
    "Input: n = 1\n",
    "Output: 3\n",
    "Explanation:\n",
    "The input binary string 1011 has a total of three set bits\n",
    "```\n",
    "\n",
    "**Example 2**\n",
    "\n",
    "```\n",
    "Input: n = 2147483645\n",
    "Output: 30\n",
    "Explanation:\n",
    "The input binary string 1111111111111111111111111111101 has a total of thirty set bits.\n",
    "```"
   ]
  },
  {
   "cell_type": "markdown",
   "metadata": {},
   "source": [
    "## Solution\n",
    "\n",
    "To count the number of set bits (1s) in a binary number, we can use *Brian Kernighan's algorithm*. This algorithm uses a clever trick: n & (n - 1) always flips the rightmost set bit of `n` to `0`. By repeatedly doing this operation and counting how many times we need to do it until `n` becomes `0`, we get the number of set bits. \n",
    "\n",
    "The time complexity is `O(k)` where `k` is the number of set bits in the number. This is more efficient than checking each bit one by one which would take `O(32)` for a 32-bit integer."
   ]
  },
  {
   "cell_type": "code",
   "execution_count": 1,
   "metadata": {},
   "outputs": [
    {
     "name": "stdout",
     "output_type": "stream",
     "text": [
      "3\n",
      "30\n"
     ]
    }
   ],
   "source": [
    "def hammingWeight(n):\n",
    "    # Initialize count of set bits\n",
    "    count = 0\n",
    "    # Continue until n becomes 0\n",
    "    while n:\n",
    "        # Clear the least significant set bit\n",
    "        n &= (n - 1)\n",
    "        # Increment count\n",
    "        count += 1\n",
    "    return count\n",
    "\n",
    "n = 11\n",
    "print(hammingWeight(n))\n",
    "\n",
    "n = 2147483645\n",
    "print(hammingWeight(n))"
   ]
  }
 ],
 "metadata": {
  "kernelspec": {
   "display_name": "Python 3",
   "language": "python",
   "name": "python3"
  },
  "language_info": {
   "codemirror_mode": {
    "name": "ipython",
    "version": 3
   },
   "file_extension": ".py",
   "mimetype": "text/x-python",
   "name": "python",
   "nbconvert_exporter": "python",
   "pygments_lexer": "ipython3",
   "version": "3.13.0"
  }
 },
 "nbformat": 4,
 "nbformat_minor": 2
}
