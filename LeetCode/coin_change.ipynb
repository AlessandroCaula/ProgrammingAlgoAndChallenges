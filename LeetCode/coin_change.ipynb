{
 "cells": [
  {
   "cell_type": "markdown",
   "id": "c4e33bda",
   "metadata": {},
   "source": [
    "# Coin Change\n",
    "\n",
    "You are given an integer array `coins` representing coins of different denominations and an integer `amount` representing a total amount of money. \n",
    "\n",
    "Return the _fewest number of coins that you need to make up that amount_. If that amount of money cannot be made up by any combination of the coins, return -1. \n",
    "\n",
    "You may assume that you have an infinite number of each kind of coin.\n",
    "\n",
    "### Example 1:\n",
    "\n",
    "```\n",
    "Input: coins = [1,2,5], amount = 11\n",
    "Output: 3\n",
    "Explanation: 11 = 5 + 5 + 1\n",
    "```\n",
    "\n",
    "### Example 2:\n",
    "\n",
    "```\n",
    "Input: coins = [2], amount = 3\n",
    "Output: -1\n",
    "```"
   ]
  },
  {
   "cell_type": "code",
   "execution_count": 13,
   "id": "bbe18b1c",
   "metadata": {},
   "outputs": [
    {
     "name": "stdout",
     "output_type": "stream",
     "text": [
      "(4, [5, 5, 2, 1])\n"
     ]
    }
   ],
   "source": [
    "def coin_change(coins: list[int], amount: int):\n",
    "    final_change = []\n",
    "    # Sort the list descending order\n",
    "    coins.sort(reverse=True)\n",
    "    # Loop through all the coins (from the highest) and subtract it to the total amount\n",
    "    c_idx = 0\n",
    "    for c in coins:\n",
    "        while c <= amount:\n",
    "            amount -= c\n",
    "            final_change.append(c)\n",
    "\n",
    "    if amount == 0:\n",
    "        return len(final_change), final_change\n",
    "    else:\n",
    "        return -1 \n",
    "\n",
    "coins = [1,2,5]\n",
    "amount = 13\n",
    "\n",
    "# coins = [2]\n",
    "# amount = 3\n",
    "\n",
    "print(coin_change(coins, amount))\n"
   ]
  },
  {
   "cell_type": "markdown",
   "id": "082b200e",
   "metadata": {},
   "source": [
    "## Other solution\n",
    "\n",
    "To solve this problem, we'll use dynamic programming. We'll create a `dp` array where `dp[i]` represents the minimum number of coins needed to make up amount `i`.\n",
    "\n",
    "We'll initialize the `dp` array with a large value (`amount + 1`) to represent an impossible state. The base case is `dp[0] = 0`, as it take `0` coins to make an amount of `0`.\n",
    "\n",
    "For each amount from `1` to the target amount, we'll try using each coin denomination. If a coin's value is less than or equal to the current amount, we'll update the minimum number of coins needed. \n",
    "\n",
    "The recurrence relation is:\n",
    "\n",
    "`dp[i] = min(dp[i], dp[i - coin] + 1)` for each coins.\n",
    "\n",
    "If the final `dp[amount]` is still greater than amount, it means we couldn't make up the amount, so we return `-1`.\n",
    "\n",
    "The time complexity is `O(amount * len(coins))`, and the space complexity is `O(amount)`."
   ]
  },
  {
   "cell_type": "code",
   "execution_count": 14,
   "id": "7c53cafb",
   "metadata": {},
   "outputs": [
    {
     "name": "stdout",
     "output_type": "stream",
     "text": [
      "4\n"
     ]
    }
   ],
   "source": [
    "def coin_change(coin: list[int], amount=int) -> int:\n",
    "    # Initialize dp array with large value\n",
    "    dp = [amount + 1] * (amount + 1)\n",
    "\n",
    "    # Base case: 0 coins needed to make amount 0\n",
    "    dp[0] = 0\n",
    "\n",
    "    # Compute minimum coins for each amount\n",
    "    for i in range(1, amount + 1):\n",
    "        for coin in coins:\n",
    "            # If coin can be used for current amount\n",
    "            if coin <= i:\n",
    "                # Update minimum coins needed\n",
    "                dp[i] = min(dp[i], dp[i - coin] + 1)\n",
    "    \n",
    "    # Return result, -1 if amount cannot be made\n",
    "    return dp[amount] if dp[amount] <= amount else -1\n",
    "\n",
    "\n",
    "coins = [1,2,5]\n",
    "amount = 13\n",
    "\n",
    "# coins = [2]\n",
    "# amount = 3\n",
    "\n",
    "print(coin_change(coins, amount))"
   ]
  }
 ],
 "metadata": {
  "kernelspec": {
   "display_name": "Python 3",
   "language": "python",
   "name": "python3"
  },
  "language_info": {
   "codemirror_mode": {
    "name": "ipython",
    "version": 3
   },
   "file_extension": ".py",
   "mimetype": "text/x-python",
   "name": "python",
   "nbconvert_exporter": "python",
   "pygments_lexer": "ipython3",
   "version": "3.13.0"
  }
 },
 "nbformat": 4,
 "nbformat_minor": 5
}
