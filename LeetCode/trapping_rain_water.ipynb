{
 "cells": [
  {
   "attachments": {
    "image.png": {
     "image/png": "[encoded data removed]"
    }
   },
   "cell_type": "markdown",
   "id": "2a817a7a",
   "metadata": {},
   "source": [
    "# Trapping Rain Water\n",
    "\n",
    "Given non-negative integers representing an elevation map where the width of each bar is 1, compute how much water it can trap after raining. \n",
    "\n",
    "### Example 1:\n",
    "\n",
    "![image.png](attachment:image.png)\n",
    "\n",
    "```\n",
    "Input: height = [0,1,0,2,1,0,1,3,2,1,2,1]\n",
    "\n",
    "Output: 6\n",
    "\n",
    "Explanation: The above elevation map (black section) is represented by array [0,1,0,2,1,0,1,3,2,1,2,1]. In this case, 6 units of rain water (blue section) are being trapped.\n",
    "```\n",
    "\n",
    "### Example 2:\n",
    "\n",
    "```\n",
    "Input: height = [4,2,0,3,2,5]\n",
    "\n",
    "Output: 9 \n",
    "```"
   ]
  },
  {
   "cell_type": "code",
   "execution_count": 13,
   "id": "bcd308f4",
   "metadata": {},
   "outputs": [
    {
     "name": "stdout",
     "output_type": "stream",
     "text": [
      "6\n",
      "9\n",
      "1\n"
     ]
    }
   ],
   "source": [
    "def trapping_rain_water(elevation_map):\n",
    "    tot_rain = 0\n",
    "    prev_high_border = 0\n",
    "    # curr_rain = 0\n",
    "    i = 0\n",
    "    j = 0\n",
    "    while i < len(elevation_map) - 1:\n",
    "        if elevation_map[i] != 0:\n",
    "            curr_rain = 0\n",
    "            # Loop to find the next border equal or higher than the current\n",
    "            for j in range(i + 1, len(elevation_map)):\n",
    "                if elevation_map[j] >= elevation_map[i]:\n",
    "                    if curr_rain != 0:\n",
    "                        tot_rain += curr_rain\n",
    "                        curr_rain = 0\n",
    "                        i = j\n",
    "                        break\n",
    "                elif j == len(elevation_map) - 1:\n",
    "                    curr_rain = 0\n",
    "                    i += 1\n",
    "                    break\n",
    "                else:\n",
    "                    curr_rain += elevation_map[i] - elevation_map[j]       \n",
    "        else:\n",
    "            i += 1  \n",
    "    return tot_rain\n",
    "\n",
    "elevation_map = [0,1,0,2,1,0,1,3,2,1,2,1]\n",
    "print(trapping_rain_water(elevation_map)) \n",
    "elevation_map = [4,2,0,3,2,5]\n",
    "print(trapping_rain_water(elevation_map))\n",
    "elevation_map = [0,5,4,3,2,3]\n",
    "print(trapping_rain_water(elevation_map))"
   ]
  },
  {
   "cell_type": "markdown",
   "id": "a529cb74",
   "metadata": {},
   "source": [
    "## Solution\n",
    "\n",
    "For any position in the array, the amount of water that can be trapped above that bar depends on two things: the tallest bar somewhere to its left and the tallest bas somewhere to its right.\n",
    "\n",
    "If the tallest bar on the left is 5 units  and the tallest on the right is 7 units, the water at this position can only go up to 5 units high. If the water goes above this level, it would spill over the left side. Once we know this water level, we subtract the current bar's height to get the actual water trapped at that position. \n",
    "\n",
    "We'll maintain two pointers, one starting from the left end and one from the right end of the array. We'll also keep track of the maximum height seen so far from both sides. \n",
    "\n",
    "At each step, we move the pointer with the smaller maximum height. This works because when we know one side has smaller maximum, we can immediately calculate the water at that position. We don't need to check further because we've already found the limiting factor for the water level there. \n",
    "\n",
    "This way, we can calculate water trapped as we go, moving teh appropriate pointer inward after each calculation.\n",
    "\n",
    "The time complexity of this solution $O(n)$, where $n$ is the length of the height array."
   ]
  },
  {
   "cell_type": "code",
   "execution_count": 12,
   "id": "e67f883c",
   "metadata": {},
   "outputs": [
    {
     "name": "stdout",
     "output_type": "stream",
     "text": [
      "6\n",
      "9\n",
      "1\n"
     ]
    }
   ],
   "source": [
    "def trap(height):\n",
    "    # Initialize pointers and variables\n",
    "    left, right = 0, len(height) - 1\n",
    "    left_max = right_max = 0\n",
    "    water = 0\n",
    "\n",
    "    # Process while pointers don't meet\n",
    "    while left < right:\n",
    "        # Process the smaller height first\n",
    "        if height[left] < height[right]:\n",
    "            # Update left max height\n",
    "            if height[left] >= left_max:\n",
    "                left_max = height[left]\n",
    "            # Add trapped water\n",
    "            else:\n",
    "                water += left_max - height[left]\n",
    "            left += 1\n",
    "        else:\n",
    "            # Update right max height\n",
    "            if height[right] >= right_max:\n",
    "                right_max = height[right]\n",
    "            # Add trapped\n",
    "            else:\n",
    "                water += right_max - height[right]\n",
    "            right -= 1\n",
    "\n",
    "    return water\n",
    "\n",
    "elevation_map = [0,1,0,2,1,0,1,3,2,1,2,1]\n",
    "print(trap(elevation_map)) \n",
    "elevation_map = [4,2,0,3,2,5]\n",
    "print(trap(elevation_map))\n",
    "elevation_map = [0,5,4,3,2,3]\n",
    "print(trap(elevation_map))"
   ]
  }
 ],
 "metadata": {
  "kernelspec": {
   "display_name": "Python 3",
   "language": "python",
   "name": "python3"
  },
  "language_info": {
   "codemirror_mode": {
    "name": "ipython",
    "version": 3
   },
   "file_extension": ".py",
   "mimetype": "text/x-python",
   "name": "python",
   "nbconvert_exporter": "python",
   "pygments_lexer": "ipython3",
   "version": "3.13.0"
  }
 },
 "nbformat": 4,
 "nbformat_minor": 5
}
