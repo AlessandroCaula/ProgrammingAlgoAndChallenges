{
 "cells": [
  {
   "cell_type": "markdown",
   "id": "630d4246",
   "metadata": {},
   "source": [
    "# Longest Increasing Subsequence \n",
    "\n",
    "Given an integer array `nums`, return *the length of the longest __strictly increasing subsequence__*\n",
    "\n",
    "### Example 1:\n",
    "\n",
    "```\n",
    "Input: nums = [10,9,2,5,3,7,101,18]\n",
    "Output: 4\n",
    "Explanation: The longest increasing subsequence is [2,3,7,101], therefore the length is 4\n",
    "```\n",
    "\n",
    "### Example 2:\n",
    "```\n",
    "Input: nums = [0,1,0,3,2,3]\n",
    "Output: 4\n",
    "```"
   ]
  },
  {
   "cell_type": "markdown",
   "id": "7df0f437",
   "metadata": {},
   "source": [
    "## Solution\n",
    "\n",
    "To solve this problem efficiently we'll use _dynamic programming with binary search_.\n",
    "\n",
    "The algorithm works as follows:\n",
    "\n",
    "1. We start with an empty subsequence array\n",
    "\n",
    "2. We iterate input array from left to right. For each number, we either:\n",
    "\n",
    "    a. Append it to the subsequence if it's larger than all existing elements\n",
    "\n",
    "    b. Replace the smallest element that is greater than or equal to it using binary search\n",
    "\n",
    "3. The length of the subsequence array gives us the length of the longest increasing subsequence. \n",
    "\n",
    "\n",
    "Binary search allows us to efficiently find and replace elements, giving us the `O(n log n)` time complexity."
   ]
  },
  {
   "cell_type": "code",
   "execution_count": 2,
   "id": "5d09ad7a",
   "metadata": {},
   "outputs": [
    {
     "name": "stdout",
     "output_type": "stream",
     "text": [
      "4\n"
     ]
    }
   ],
   "source": [
    "def length_of_LIS(nums: list[int]) -> int:\n",
    "    # Subsequence to track smallest ending numbers\n",
    "    subsequence = []\n",
    "\n",
    "    for num in nums:\n",
    "        # If subsequence is empty or num is larger, than last element\n",
    "        if not subsequence or num > subsequence[-1]:\n",
    "            subsequence.append(num)\n",
    "        else:\n",
    "            # Find the right position to replace.\n",
    "            left, right = 0, len(subsequence) - 1\n",
    "            while left < right:\n",
    "                mid = (left + right) // 2\n",
    "                if subsequence[mid] < num:\n",
    "                    left = mid + 1\n",
    "                else:\n",
    "                    right = mid\n",
    "            # Replace the smallest number greater than or equal to num\n",
    "            subsequence[left] = num\n",
    "    \n",
    "    # Length of subsequence is the length of LIS\n",
    "    return len(subsequence)\n",
    "\n",
    "print(length_of_LIS([10,9,2,5,3,7,101,18]))"
   ]
  },
  {
   "cell_type": "code",
   "execution_count": null,
   "id": "ffad7aee",
   "metadata": {},
   "outputs": [],
   "source": [
    "def longest_increasing_subsequence(sequence: list[int]) -> int:\n",
    "    prev = sequence[0]\n",
    "    subsequent_length = 0\n",
    "    curr_sub_len = 0\n",
    "    for i, el in enumerate(sequence[1:]):\n",
    "        if el >= prev:\n",
    "            curr_sub_len += 1\n",
    "        else:\n",
    "            if curr_sub_len > subsequent_length:\n",
    "                subsequent_length = curr_sub_len\n",
    "                curr_sub_len = 0\n",
    "        prev = el\n",
    "\n",
    "    return subsequent_length + 1\n",
    "\n",
    "print(longest_increasing_subsequence([10,9,2,5,3,7,101,18]))"
   ]
  },
  {
   "cell_type": "code",
   "execution_count": null,
   "id": "2d15d16e",
   "metadata": {},
   "outputs": [],
   "source": []
  }
 ],
 "metadata": {
  "kernelspec": {
   "display_name": "3.13.1",
   "language": "python",
   "name": "python3"
  },
  "language_info": {
   "codemirror_mode": {
    "name": "ipython",
    "version": 3
   },
   "file_extension": ".py",
   "mimetype": "text/x-python",
   "name": "python",
   "nbconvert_exporter": "python",
   "pygments_lexer": "ipython3",
   "version": "3.13.1"
  }
 },
 "nbformat": 4,
 "nbformat_minor": 5
}
