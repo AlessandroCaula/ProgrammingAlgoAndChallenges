{
 "cells": [
  {
   "cell_type": "markdown",
   "metadata": {},
   "source": [
    "## Valid Parenthesis"
   ]
  },
  {
   "cell_type": "markdown",
   "metadata": {},
   "source": [
    "You are given a string `s` consisting of the following characters: `(`, `)`, `{`, `}`, `[` and `]`.  \n",
    "\n",
    "The input string `s` is valid if and only if:\n",
    "1. Every open bracket is closed by the same type of close bracket.\n",
    "2. Open brackets are closed in the correct order. \n",
    "3. Every close bracket has a corresponding open bracket of the same type.\n",
    "\n",
    "Return `true` if `s` is a valid string, and `false` otherwise.\n",
    "\n",
    "**Example 1**:\n",
    "```python\n",
    "Input: s = \"[]\"\n",
    "Output: True\n",
    "```\n",
    "\n",
    "**Example 2**:\n",
    "```python\n",
    "Input: s = \"([{}])\"\n",
    "Output: True\n",
    "```\n",
    "\n",
    "**Example 3**:\n",
    "```python\n",
    "Input: s = \"[(])\"\n",
    "OUtput: True\n",
    "```\n",
    "\n",
    "Explanation: The brackets are not closed in the correct order."
   ]
  },
  {
   "cell_type": "code",
   "execution_count": 13,
   "metadata": {},
   "outputs": [
    {
     "name": "stdout",
     "output_type": "stream",
     "text": [
      "True\n",
      "False\n",
      "False\n",
      "True\n"
     ]
    }
   ],
   "source": [
    "def isValid(s: str) -> bool:\n",
    "    # If the length of s is not an even number, then return false\n",
    "    if len(s) % 2 != 0:\n",
    "        return False\n",
    "    \n",
    "    # Define a stack structure\n",
    "    stack = []\n",
    "    for p in s:\n",
    "        if len(stack) != 0:\n",
    "            # retrieve the last added parenthesis in the stack \n",
    "            open_p = stack[len(stack) - 1]\n",
    "            # Check if the current p is the closing of the stack\n",
    "            if p == \")\":\n",
    "                if open_p == \"(\":\n",
    "                    stack.pop(len(stack) - 1)\n",
    "                else:\n",
    "                    stack.append(p)\n",
    "            elif p == \"]\":\n",
    "                if open_p == \"[\":\n",
    "                    stack.pop(len(stack) - 1)\n",
    "                else:\n",
    "                    stack.append(p)\n",
    "            elif p == \"}\":\n",
    "                if open_p == \"{\":\n",
    "                    stack.pop(len(stack) - 1)\n",
    "                else:\n",
    "                    stack.append(p)\n",
    "            else:\n",
    "                stack.append(p)\n",
    "        else:\n",
    "            stack.append(p)\n",
    "    return len(stack) == 0\n",
    "\n",
    "print(isValid(\"([{}])\"))\n",
    "print(isValid(\"(])(])\"))\n",
    "print(isValid(\"[(])\"))\n",
    "print(isValid(\"[]()\"))"
   ]
  },
  {
   "cell_type": "markdown",
   "metadata": {},
   "source": [
    "### Brute Force"
   ]
  },
  {
   "cell_type": "code",
   "execution_count": null,
   "metadata": {},
   "outputs": [],
   "source": [
    "def isValid(s: str) -> bool:\n",
    "    while \"()\" in s or \"{}\" in s or \"[]\" in s:\n",
    "        s = s.replace('()', '')\n",
    "        s = s.replace('{}', '')\n",
    "        s = s.replace('[]', '')\n",
    "    return s == \"\"\n",
    "\n",
    "print(isValid(\"([{}])\"))\n",
    "print(isValid(\"(])(])\"))"
   ]
  },
  {
   "cell_type": "markdown",
   "metadata": {},
   "source": [
    "### Stack"
   ]
  },
  {
   "cell_type": "code",
   "execution_count": null,
   "metadata": {},
   "outputs": [],
   "source": [
    "def isValid(s: str) -> bool:\n",
    "    stack = []\n",
    "    closeToOpen = {\")\" : \"(\", \"]\" : \"[\", \"}\" : \"{\"}\n",
    "\n",
    "    for c in s:\n",
    "        if c in closeToOpen:\n",
    "            if stack and stack[-1] == closeToOpen[c]:\n",
    "                stack.pop()\n",
    "            else:\n",
    "                return False\n",
    "        else:\n",
    "            stack.append(c)\n",
    "    \n",
    "    return True if not stack else False\n",
    "\n",
    "print(isValid(\"([{}])\"))\n",
    "print(isValid(\"(])(])\"))"
   ]
  }
 ],
 "metadata": {
  "kernelspec": {
   "display_name": "Python 3",
   "language": "python",
   "name": "python3"
  },
  "language_info": {
   "codemirror_mode": {
    "name": "ipython",
    "version": 3
   },
   "file_extension": ".py",
   "mimetype": "text/x-python",
   "name": "python",
   "nbconvert_exporter": "python",
   "pygments_lexer": "ipython3",
   "version": "3.13.0"
  }
 },
 "nbformat": 4,
 "nbformat_minor": 2
}
