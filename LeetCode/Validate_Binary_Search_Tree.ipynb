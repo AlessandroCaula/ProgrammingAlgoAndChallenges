{
 "cells": [
  {
   "cell_type": "markdown",
   "metadata": {},
   "source": [
    "# Validate Binary Search Tree"
   ]
  },
  {
   "cell_type": "markdown",
   "metadata": {},
   "source": [
    "Given the root of a binary tree, *determine if it is a valid binary search tree (BST)*\n",
    "\n",
    "A **valid BST** is defined as follows:\n",
    "- The left subtree of a node contains only nodes with keys less than the node's key.\n",
    "- The right subtree of a node contains only nodes with keys greater than the node's key.\n",
    "- Both the left and right subtrees must also be binary search trees."
   ]
  },
  {
   "cell_type": "code",
   "execution_count": 17,
   "metadata": {},
   "outputs": [],
   "source": [
    "# Tree Node\n",
    "class TreeNode:\n",
    "    def __init__(self, val=0, left=None, right=None):\n",
    "        self.val = val\n",
    "        self.left = left\n",
    "        self.right = right\n",
    "\n",
    "# Function to build the Tree from an array\n",
    "def build_tree_from_array(arr):\n",
    "    if not arr:\n",
    "        return None\n",
    "    \n",
    "    root = TreeNode(arr[0]) # Root is the first element\n",
    "    queue = [root] # Use the queue to track nodes for level-order insertion. \n",
    "    i = 1\n",
    "\n",
    "    # Loop through all the array\n",
    "    while i < len(arr):\n",
    "        current = queue.pop(0) # Get the current node\n",
    "\n",
    "        # Add the left child\n",
    "        if i < len(arr):\n",
    "            current.left = TreeNode(arr[i])\n",
    "            queue.append(current.left)\n",
    "            i += 1\n",
    "\n",
    "        # Add the right child\n",
    "        if i < len(arr):\n",
    "            current.right = TreeNode(arr[i])\n",
    "            queue.append(current.right)\n",
    "            i += 1\n",
    "    \n",
    "    return root"
   ]
  },
  {
   "cell_type": "code",
   "execution_count": 18,
   "metadata": {},
   "outputs": [
    {
     "name": "stdout",
     "output_type": "stream",
     "text": [
      "<__main__.TreeNode object at 0x000002406482BE00>\n"
     ]
    }
   ],
   "source": [
    "array = [5,3,8,2,4,6,10]\n",
    "tree_root = build_tree_from_array(arr=array)\n",
    "print(tree_root)"
   ]
  },
  {
   "cell_type": "markdown",
   "metadata": {},
   "source": [
    "## Solutions"
   ]
  },
  {
   "cell_type": "code",
   "execution_count": null,
   "metadata": {},
   "outputs": [],
   "source": [
    "def isValidBST(root: TreeNode, min_val=float('-inf'), max_val=float('inf')) -> bool:\n",
    "    if root is None:\n",
    "        return True\n",
    "\n",
    "    if not (min_val < root.val < max_val):\n",
    "        return False\n",
    "\n",
    "    return (isValidBST(root.left, min_val, root.val) and\n",
    "            isValidBST(root.right, root.val, max_val))"
   ]
  },
  {
   "cell_type": "code",
   "execution_count": null,
   "metadata": {},
   "outputs": [],
   "source": [
    "def isValidBST(root: TreeNode) -> bool:\n",
    "    def validate(node, min_val, max_val):\n",
    "        # Empty nodes are valid\n",
    "        if not node:\n",
    "            return True\n",
    "\n",
    "        # Check current node's value is within valid range\n",
    "        if node.val <= min_val or node.val >= max_val:\n",
    "            return False\n",
    "        \n",
    "        # Recursively validate left and right subtree\n",
    "        return validate(node.left, min_val, node.val) and validate(node.right, node.val, max_val)\n",
    "    \n",
    "    # Initial call with min and max possible values\n",
    "    return validate(root, float('-inf'), float('inf'))"
   ]
  },
  {
   "cell_type": "markdown",
   "metadata": {},
   "source": [
    "The next code is wrong, cause **it only checks immediate children** but does not ensure that all nodes in the **left subtree** are smaller and all nodes in the **right subtree** are larger.\n",
    "\n",
    "```\n",
    "    10\n",
    "   /  \\\n",
    "  5    15\n",
    "     /  \\\n",
    "    6    20\n",
    "\n",
    "```\n",
    "\n",
    "The node 6 is in the right subtree of 10, but it's smaller than 10, violating the BST property."
   ]
  },
  {
   "cell_type": "code",
   "execution_count": 22,
   "metadata": {},
   "outputs": [
    {
     "data": {
      "text/plain": [
       "True"
      ]
     },
     "execution_count": 22,
     "metadata": {},
     "output_type": "execute_result"
    }
   ],
   "source": [
    "## WRONG !!!!!!!!!!!!!!!!!!!\n",
    "\n",
    "def isValidBST(root: TreeNode):\n",
    "\n",
    "    if root.left == None or root.right == None:\n",
    "        return True\n",
    "    \n",
    "    # Check if the left child node is greater than the current or the right child node is lower than the current.\n",
    "    if root.left.val >= root.val or root.right.val <= root.val:\n",
    "        return False\n",
    "    \n",
    "    return (isValidBST(root.left) and isValidBST(root.right))\n",
    "\n",
    "isValidBST(tree_root)"
   ]
  }
 ],
 "metadata": {
  "kernelspec": {
   "display_name": "Python 3",
   "language": "python",
   "name": "python3"
  },
  "language_info": {
   "codemirror_mode": {
    "name": "ipython",
    "version": 3
   },
   "file_extension": ".py",
   "mimetype": "text/x-python",
   "name": "python",
   "nbconvert_exporter": "python",
   "pygments_lexer": "ipython3",
   "version": "3.13.0"
  }
 },
 "nbformat": 4,
 "nbformat_minor": 2
}
