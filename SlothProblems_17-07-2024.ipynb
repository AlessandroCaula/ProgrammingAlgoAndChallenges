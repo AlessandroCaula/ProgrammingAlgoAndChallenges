{
 "cells": [
  {
   "cell_type": "markdown",
   "metadata": {},
   "source": [
    "# Stacks and Queues"
   ]
  },
  {
   "cell_type": "markdown",
   "metadata": {},
   "source": [
    "**Stack**: Last-In-First-Out (LIFO) data structure. **The last element added is the first that goes out**. think of it like a stack of pancakes. Normal people start at the top of the stack and make their way to the bottom.\n",
    "\n",
    "**Queue**: First-In-First-Out (FIFO) data structure. **The first item that gets added is the first that goes out**. Think of it as a line/waiting queue, the first person there gets to leave. "
   ]
  },
  {
   "cell_type": "markdown",
   "metadata": {},
   "source": [
    "### Stack Operations and Time Complexity\n",
    "\n",
    "- push(item): Add item to top - O(1)\n",
    "\n",
    "- pop(): Remove and return top item - O(1)\n",
    "\n",
    "- peek(): View top item without removing it - O(1)\n",
    "\n",
    "- isEmpty(): Check if stack is empty - O(1)"
   ]
  },
  {
   "cell_type": "code",
   "execution_count": 16,
   "metadata": {},
   "outputs": [
    {
     "name": "stdout",
     "output_type": "stream",
     "text": [
      "Stack before pushing new items to the top:  [1, 2, 3, 4]\n",
      "Stack after pushing new item to the top:  [1, 2, 3, 4, 100]\n",
      "View top item (without removing it):  100\n",
      "Remove and return last added item:  100\n",
      "Stack after popping item:  [1, 2, 3, 4]\n",
      "Is stack empty:  False\n"
     ]
    }
   ],
   "source": [
    "# Stack implementation\n",
    "\n",
    "class Stack:\n",
    "    def __init__(self, stack_items):\n",
    "        self.items = stack_items\n",
    "    \n",
    "    # Add item to the top\n",
    "    def push(self, item):\n",
    "        self.items.append(item)\n",
    "\n",
    "    # Remove and return top item\n",
    "    def pop(self):\n",
    "        return self.items.pop()\n",
    "\n",
    "    # View top Item\n",
    "    def peek(self):\n",
    "        return self.items[-1]\n",
    "\n",
    "    # Check if the stack is empty\n",
    "    def isEmpty(self):\n",
    "        return len(self.items) == 0\n",
    "\n",
    "stack = Stack([1, 2, 3, 4])\n",
    "print(\"Stack before pushing new items to the top: \", stack.items)\n",
    "stack.push(100)\n",
    "print(\"Stack after pushing new item to the top: \", stack.items)\n",
    "print(\"View top item (without removing it): \", stack.peek())\n",
    "print(\"Remove and return last added item: \", stack.pop())\n",
    "print(\"Stack after popping item: \", stack.items)\n",
    "print(\"Is stack empty: \", stack.isEmpty())"
   ]
  },
  {
   "cell_type": "markdown",
   "metadata": {},
   "source": [
    "### Queue Operations and Time Complexity\n",
    "\n",
    "- enqueue(item): Add item to back - O(1)\n",
    "\n",
    "- dequeue(): Remove and return from item - O(1)\n",
    "\n",
    "- front(): View front item without removing it - O(1)\n",
    "\n",
    "- isEmpty(): Check if queue is empty - O(1)"
   ]
  },
  {
   "cell_type": "code",
   "execution_count": 30,
   "metadata": {},
   "outputs": [
    {
     "name": "stdout",
     "output_type": "stream",
     "text": [
      "Queue after enqueuing new item:  [1, 2, 3, 4]\n",
      "Queue after enqueuing new item: [1, 2, 3, 4, 100]\n",
      "View front item (without removing it): 1\n",
      "Remove and return first item added to the queue:  1\n"
     ]
    }
   ],
   "source": [
    "import queue\n",
    "# Queue implementation\n",
    "\n",
    "class Queue:\n",
    "    def __init__(self, queue_items):\n",
    "        self.items = queue_items\n",
    "\n",
    "    # Add item to the end of the queue.\n",
    "    def enqueue(self, item):\n",
    "        self.items.append(item)\n",
    "\n",
    "    # Remove and return first item from the queue.\n",
    "    def dequeue(self):\n",
    "        #if using the deque library you could do:\n",
    "        #return self.items.popleft()\n",
    "        return self.items.pop(0)\n",
    "    \n",
    "    # View front item without removing it.\n",
    "    def front(self):\n",
    "        return self.items[0]\n",
    "    \n",
    "    # Check if teh queue is empty.\n",
    "    def isEmpty(self):\n",
    "        return len(self.items) == 0\n",
    "    \n",
    "queue = Queue([1, 2, 3, 4])\n",
    "print(\"Queue after enqueuing new item: \", queue.items)\n",
    "queue.enqueue(100)\n",
    "print(\"Queue after enqueuing new item:\" , queue.items)\n",
    "print(\"View front item (without removing it):\", queue.front())\n",
    "print(\"Remove and return first item added to the queue: \", queue.dequeue())"
   ]
  },
  {
   "cell_type": "markdown",
   "metadata": {},
   "source": [
    "# Challenge\n",
    "\n",
    "## <u>Implement a Stack using Queues</u>\n",
    "\n",
    "Implement a Stack using **only two queues**. The implemented stack should support all the functions of a normal stack (push, top, pop, and empty)\n",
    "\n",
    "Implement the **MyStack** class:\n",
    "- **void push(int x)**: Pushes the element x to the top of he stack\n",
    "- **int pop()**: Removes the elemtn on the top of the stack and returns it. \n",
    "- **int top()**: Returns the element on the top of the stack.\n",
    "- **boolean empty()**: Returns true if the stack is empty, false otherwise.\n",
    "\n",
    "**Example:**\n",
    "\n",
    "```\n",
    "Input\n",
    "[\"MyStack\", \"push\", \"push\", \"top\", \"pop\", \"empty\"]\n",
    "[[], [1], [2], [], [], []]\n",
    "Output\n",
    "[null, null, null, 2, 2, false]\n",
    "\n",
    "Explanation\n",
    "MyStack myStack = new MyStack();\n",
    "myStack.push(1);\n",
    "myStack.push(2);\n",
    "myStack.top(); // return 2\n",
    "myStack.pop(); // return 2\n",
    "myStack.empty(); // return False\n",
    "```"
   ]
  },
  {
   "cell_type": "code",
   "execution_count": 48,
   "metadata": {},
   "outputs": [
    {
     "name": "stdout",
     "output_type": "stream",
     "text": [
      "Push to Stack =  [1]\n",
      "push to Stack =  [1, 2]\n",
      "push to Stack =  [1, 2, 3]\n",
      "push to Stack =  [1, 2, 3, 4]\n",
      "Pop the last added element:  4\n",
      "push to Stack =  [1, 2, 3, 100]\n",
      "The last added element is:  100\n",
      "Pop 100\n",
      "Pop 3\n",
      "Pop 2\n",
      "Pop 1\n",
      "Is the Stack empty:  True\n"
     ]
    }
   ],
   "source": [
    "# Queue Data Structure implementation\n",
    "class Queue:\n",
    "    def __init__(self):\n",
    "        self.items = []\n",
    "\n",
    "    # Add item to the end of the queue.\n",
    "    def enqueue(self, item):\n",
    "        self.items.append(item)\n",
    "\n",
    "    # Remove and return first item from the queue.\n",
    "    def dequeue(self):\n",
    "        #if using the deque library you could do:\n",
    "        #return self.items.popleft()\n",
    "        return self.items.pop(0)\n",
    "    \n",
    "    # View front item without removing it.\n",
    "    def front(self):\n",
    "        return self.items[0]\n",
    "    \n",
    "    # Check if teh queue is empty.\n",
    "    def isEmpty(self):\n",
    "        return len(self.items) == 0\n",
    "\n",
    "\n",
    "# Stack from two Queues implementation.\n",
    "class MyStack:\n",
    "    def __init__(self):\n",
    "        self.queue1 = Queue()\n",
    "\n",
    "    def push(self, item):\n",
    "        self.queue1.enqueue(item)\n",
    "    \n",
    "    def pop(self):\n",
    "        # Initialize second queue.\n",
    "        queue2 = Queue()\n",
    "        # Dequeue all the elements from the queue1 until this queue is empty and add them to the queue2.\n",
    "        while (self.queue1.isEmpty() == False):\n",
    "            dequeued_element = self.queue1.dequeue()\n",
    "            # if it is the last element, remove it from the queues.\n",
    "            if (self.queue1.isEmpty() == False):\n",
    "                queue2.enqueue(dequeued_element)\n",
    "        \n",
    "        # Once the queue1 is empty, means that we can return the last dequeue element, which would be the element that would be returned from a stack when performed the pop() action.\n",
    "        # Before returning it, restore all the elements in the queue1, for future operations.\n",
    "        while (queue2.isEmpty() == False):\n",
    "            self.queue1.enqueue(queue2.dequeue())\n",
    "        # Return the dequeued_element.\n",
    "        return dequeued_element\n",
    "    \n",
    "    def top(self):\n",
    "        # Initialize secon queue.\n",
    "        queue2 = Queue()\n",
    "        while (self.queue1.isEmpty() == False):\n",
    "            dequeued_element = self.queue1.dequeue()\n",
    "            queue2.enqueue(dequeued_element)\n",
    "        # Once the queue1 is empty, means that we can return the last dequeue element, which would be the element that would be returned from a stack when performed the pop() action.\n",
    "        # Before returning it, restore all the elements in the queue1, for future operations.\n",
    "        while (queue2.isEmpty() == False):\n",
    "            self.queue1.enqueue(queue2.dequeue())\n",
    "        # Return the dequeued_element.\n",
    "        return dequeued_element\n",
    "    \n",
    "    def isEmpty(self):\n",
    "        return self.queue1.isEmpty()\n",
    "       \n",
    "                \n",
    "\n",
    "my_stack = MyStack()\n",
    "my_stack.push(1)\n",
    "print(\"Push to Stack = \", my_stack.queue1.items)\n",
    "my_stack.push(2)\n",
    "print(\"push to Stack = \", my_stack.queue1.items)\n",
    "my_stack.push(3)\n",
    "print(\"push to Stack = \", my_stack.queue1.items)\n",
    "my_stack.push(4)\n",
    "print(\"push to Stack = \", my_stack.queue1.items)\n",
    "print(\"Pop the last added element: \", my_stack.pop())\n",
    "my_stack.push(100)\n",
    "print(\"push to Stack = \", my_stack.queue1.items)\n",
    "print(\"The last added element is: \", my_stack.top())\n",
    "print(\"Pop\", my_stack.pop())\n",
    "print(\"Pop\", my_stack.pop())\n",
    "print(\"Pop\", my_stack.pop())\n",
    "print(\"Pop\", my_stack.pop())\n",
    "print(\"Is the Stack empty: \", my_stack.isEmpty())"
   ]
  },
  {
   "cell_type": "code",
   "execution_count": null,
   "metadata": {},
   "outputs": [],
   "source": []
  }
 ],
 "metadata": {
  "kernelspec": {
   "display_name": "Python 3",
   "language": "python",
   "name": "python3"
  },
  "language_info": {
   "codemirror_mode": {
    "name": "ipython",
    "version": 3
   },
   "file_extension": ".py",
   "mimetype": "text/x-python",
   "name": "python",
   "nbconvert_exporter": "python",
   "pygments_lexer": "ipython3",
   "version": "3.9.13"
  }
 },
 "nbformat": 4,
 "nbformat_minor": 2
}
