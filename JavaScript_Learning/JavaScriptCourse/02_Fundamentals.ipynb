{
 "cells": [
  {
   "cell_type": "markdown",
   "metadata": {},
   "source": [
    "# 1. JavaScript Fundamentals"
   ]
  },
  {
   "cell_type": "markdown",
   "metadata": {
    "dotnet_interactive": {
     "language": "javascript"
    },
    "polyglot_notebook": {
     "kernelName": "javascript"
    }
   },
   "source": [
    "### - **Arrow Functions and Template Literals:**\n",
    "\n",
    "**Concept**: Arrow functions offer a concise way to write funcions, while teplate literals make it easy to work with string, embedding expression within backticks."
   ]
  },
  {
   "cell_type": "code",
   "execution_count": 1,
   "metadata": {
    "dotnet_interactive": {
     "language": "javascript"
    },
    "polyglot_notebook": {
     "kernelName": "javascript"
    },
    "vscode": {
     "languageId": "polyglot-notebook"
    }
   },
   "outputs": [
    {
     "data": {
      "text/plain": [
       "Hello, Alice"
      ]
     },
     "metadata": {},
     "output_type": "display_data"
    }
   ],
   "source": [
    "const greet = (name) => `Hello, ${name}`; // Arrow function and template literal\n",
    "console.log(greet(\"Alice\"));"
   ]
  },
  {
   "cell_type": "markdown",
   "metadata": {},
   "source": [
    "### - **Deconstructuring and Spread/Rest Operator:**\n",
    "\n",
    "**Concept**: Deconstructoring lets you extract values from objects or arrays easily. The spread operator (`...`) is used to expand elements, while the rest operator collects arguments into array. "
   ]
  },
  {
   "cell_type": "code",
   "execution_count": 19,
   "metadata": {
    "dotnet_interactive": {
     "language": "javascript"
    },
    "polyglot_notebook": {
     "kernelName": "javascript"
    },
    "vscode": {
     "languageId": "polyglot-notebook"
    }
   },
   "outputs": [
    {
     "data": {
      "application/json": {
       "age": 25,
       "name": "John"
      }
     },
     "metadata": {},
     "output_type": "display_data"
    },
    {
     "data": {
      "text/plain": [
       "Name: John - Age: 25"
      ]
     },
     "metadata": {},
     "output_type": "display_data"
    },
    {
     "data": {
      "application/json": {
       "age": 25,
       "city": "New York",
       "name": "John"
      }
     },
     "metadata": {},
     "output_type": "display_data"
    },
    {
     "data": {
      "text/plain": [
       "Apple"
      ]
     },
     "metadata": {},
     "output_type": "display_data"
    },
    {
     "data": {
      "text/plain": [
       "Banana"
      ]
     },
     "metadata": {},
     "output_type": "display_data"
    }
   ],
   "source": [
    "const person = { name: 'John', age: 25 }; // Object/dict\n",
    "console.log(person);\n",
    "const { name, age } = person; // Deconstructuring Object\n",
    "const newPerson = { ...person, city: 'New York' }; // Spread operaor\n",
    "console.log(\"Name: \" + name + \" - Age: \" + age , newPerson)\n",
    "\n",
    "// Deconstructuring\n",
    "const fruits = ['Apple', 'Banana', 'Cherry'];\n",
    "const [first, second] = fruits; // Destructuring array elements\n",
    "console.log(first); // \"Apple\"\n",
    "console.log(second); // \"Banana\""
   ]
  },
  {
   "cell_type": "markdown",
   "metadata": {},
   "source": [
    "#### Spread/Rest Operator\n",
    "\n",
    "The **spread operator** (`...`) is used to expand elements of an iterable (like an array or object) into individual elements. On the other hand, the **rest operator** (also `...`) collects multiple elements into a single array or object.\n",
    "1. **Spread**: Used when expanding elements or copying arrays/objects.   \n",
    "\n",
    "2. **Rest**: USed when collecting multiple elements into a single structure. \n"
   ]
  },
  {
   "cell_type": "code",
   "execution_count": 27,
   "metadata": {
    "dotnet_interactive": {
     "language": "javascript"
    },
    "polyglot_notebook": {
     "kernelName": "javascript"
    },
    "vscode": {
     "languageId": "polyglot-notebook"
    }
   },
   "outputs": [
    {
     "data": {
      "application/json": [
       1,
       2,
       3,
       4,
       5
      ]
     },
     "metadata": {},
     "output_type": "display_data"
    }
   ],
   "source": [
    "// Spread example\n",
    "\n",
    "const numbers = [1, 2, 3];\n",
    "const newNumbers = [...numbers, 4, 5];\n",
    "\n",
    "console.log(newNumbers);"
   ]
  },
  {
   "cell_type": "markdown",
   "metadata": {},
   "source": [
    "Here, the `...numbers` spreads the elements of the `numbers` array into a new array, and then we add `4` and `5` to it.   \n",
    "This is especially useful for cloning arrays or objects."
   ]
  },
  {
   "cell_type": "code",
   "execution_count": 28,
   "metadata": {
    "dotnet_interactive": {
     "language": "javascript"
    },
    "polyglot_notebook": {
     "kernelName": "javascript"
    },
    "vscode": {
     "languageId": "polyglot-notebook"
    }
   },
   "outputs": [
    {
     "data": {
      "application/json": [
       3,
       4,
       5
      ]
     },
     "metadata": {},
     "output_type": "display_data"
    },
    {
     "data": {
      "text/plain": [
       "15"
      ]
     },
     "metadata": {},
     "output_type": "display_data"
    }
   ],
   "source": [
    "// Rest example\n",
    "const sum = (a, b, ...rest) => {\n",
    "    console.log(rest); // Collects remaining arguments into an array\n",
    "    return a + b + rest.reduce((acc, val) => acc + val, 0);\n",
    "};\n",
    "  \n",
    "console.log(sum(1, 2, 3, 4, 5));"
   ]
  },
  {
   "cell_type": "markdown",
   "metadata": {},
   "source": [
    "In this case, the `rest` operators collects all additional arguments passed into the function (after `a` and `b`) and stores them in an array, which is the used to calculate the sum.    "
   ]
  },
  {
   "cell_type": "markdown",
   "metadata": {},
   "source": [
    "##### `Reduce()`\n",
    "\n",
    "The `reduce()` is a higher-order array method that iterates over an array and accumulates a result based on a function you provide. "
   ]
  },
  {
   "cell_type": "markdown",
   "metadata": {},
   "source": [
    "The syntax is:    \n",
    "\n",
    "`array.reduce((accumulator, currentValue) => { /* operation */ }, initialValue);`   \n",
    "\n",
    "- `accumulator`: This is the running total (or any other accumulated result, the total of the following operation)\n",
    "- `currentValue`: The current element in the iteration. \n",
    "- `initialValue`: The value from which the acucmulation starts (in this case, it's `0`)"
   ]
  },
  {
   "cell_type": "code",
   "execution_count": 29,
   "metadata": {
    "dotnet_interactive": {
     "language": "javascript"
    },
    "polyglot_notebook": {
     "kernelName": "javascript"
    },
    "vscode": {
     "languageId": "polyglot-notebook"
    }
   },
   "outputs": [
    {
     "data": {
      "application/json": [
       3,
       4,
       5
      ]
     },
     "metadata": {},
     "output_type": "display_data"
    },
    {
     "data": {
      "text/plain": [
       "15"
      ]
     },
     "metadata": {},
     "output_type": "display_data"
    }
   ],
   "source": [
    "// Rest example\n",
    "\n",
    "const sum1 = (a, b, ...rest) => {\n",
    "    console.log(rest); // collects remaining arguments into an array.\n",
    "    return a + b +rest.reduce((acc, val) => acc + val, 0);\n",
    "};\n",
    "\n",
    "console.log(sum1(1, 2, 3, 4, 5));"
   ]
  },
  {
   "cell_type": "markdown",
   "metadata": {},
   "source": [
    "Here’s what happens step-by-step:  \n",
    "1. Function call: `sum(1, 2, 3, 4, 5)` passes `1` and `2` as `a` and `b`, and the rest `(3, 4, 5)` goes into the `rest` array.\n",
    "\n",
    "2. Logging rest: `console.log(rest)` logs `[3, 4, 5]`.\n",
    "\n",
    "3. Reduce operation:\n",
    "    - The `reduce` function processes the `rest` array `[3, 4, 5]`:\n",
    "        - First iteration: `acc = 0` (initial value) and `val = 3`. The new `acc` becomes `0 + 3 = 3`.\n",
    "        - Second iteration: `acc = 3` and `val = 4`. The new `acc` becomes `3 + 4 = 7`.\n",
    "        - Third iteration: `acc = 7` and `val = 5`. The new `acc` becomes `7 + 5 = 12`.\n",
    "    - After all iterations, `reduce` returns `12`.\n",
    "\n",
    "4. Final return: The function returns `a + b + reduce result = 1 + 2 + 12 = 15`."
   ]
  },
  {
   "cell_type": "markdown",
   "metadata": {},
   "source": [
    "#### Combined Example"
   ]
  },
  {
   "cell_type": "markdown",
   "metadata": {},
   "source": [
    "Combine **deconstructuring** with the **spread/rest operator**."
   ]
  },
  {
   "cell_type": "code",
   "execution_count": 3,
   "metadata": {
    "dotnet_interactive": {
     "language": "javascript"
    },
    "polyglot_notebook": {
     "kernelName": "javascript"
    },
    "vscode": {
     "languageId": "polyglot-notebook"
    }
   },
   "outputs": [
    {
     "data": {
      "text/plain": [
       "Sara"
      ]
     },
     "metadata": {},
     "output_type": "display_data"
    },
    {
     "data": {
      "application/json": {
       "age": 30,
       "country": "Italy",
       "profession": "Designer"
      }
     },
     "metadata": {},
     "output_type": "display_data"
    },
    {
     "data": {
      "text/plain": [
       "1"
      ]
     },
     "metadata": {},
     "output_type": "display_data"
    },
    {
     "data": {
      "text/plain": [
       "2"
      ]
     },
     "metadata": {},
     "output_type": "display_data"
    },
    {
     "data": {
      "application/json": [
       3,
       4,
       5
      ]
     },
     "metadata": {},
     "output_type": "display_data"
    }
   ],
   "source": [
    "const user = { name: 'Sara', age: 30, country: 'Italy', profession: 'Designer' };\n",
    "\n",
    "// Decostructuring with rest operator in an object\n",
    "const { name, ...details } = user;\n",
    "\n",
    "console.log(name);\n",
    "console.log(details);\n",
    "\n",
    "const numbers = [1, 2, 3, 4, 5];\n",
    "// Decostructuring array with rest operator\n",
    "const [first, second, ...remaining] = numbers;\n",
    "\n",
    "console.log(first); // 1\n",
    "console.log(second); // 2\n",
    "console.log(remaining); // [3, 4, 5]"
   ]
  },
  {
   "cell_type": "markdown",
   "metadata": {},
   "source": [
    "### - **Promises and Modules:**\n",
    "\n",
    "**Concept**: Promises handle asynchronous operations. ES6 modules (`import`/`export`) help you organize and reuse code across files. "
   ]
  },
  {
   "cell_type": "code",
   "execution_count": null,
   "metadata": {
    "dotnet_interactive": {
     "language": "javascript"
    },
    "polyglot_notebook": {
     "kernelName": "javascript"
    },
    "vscode": {
     "languageId": "polyglot-notebook"
    }
   },
   "outputs": [],
   "source": [
    "// module.js\n",
    "export const fetchData = () => new Promise(resolve => setTimeout(() => resolve('Data fetched'), 1000));\n",
    "\n",
    "// main.js\n",
    "import { fetchData } from './module';\n",
    "fetchData().then(data => console.log(data)); // \"Data fetched\""
   ]
  },
  {
   "cell_type": "markdown",
   "metadata": {},
   "source": [
    "# 2. Asynchronous Programming"
   ]
  },
  {
   "cell_type": "markdown",
   "metadata": {},
   "source": [
    "#### - **Callbacks, Promises, and Async/Await:**\n",
    "**Concept**: Callbacks are functions passed as arguments to handle async tasks. Promises simplify this flow.    \n",
    "`async/await` allows you to write async code that looks synchronous. "
   ]
  },
  {
   "cell_type": "code",
   "execution_count": 8,
   "metadata": {
    "dotnet_interactive": {
     "language": "javascript"
    },
    "polyglot_notebook": {
     "kernelName": "javascript"
    },
    "vscode": {
     "languageId": "polyglot-notebook"
    }
   },
   "outputs": [],
   "source": [
    "const fetchData = async () => {\n",
    "    const data = await new Promise(resolve => setTimeout(() => resolve('Data loaded'), 1000)); // Promise and async/await\n",
    "    console.log(data); // \"Data loaded\"\n",
    "  };\n",
    "fetchData();"
   ]
  },
  {
   "cell_type": "markdown",
   "metadata": {},
   "source": [
    "# 3. JavaScript Classes and Objects"
   ]
  },
  {
   "cell_type": "markdown",
   "metadata": {},
   "source": [
    "#### - **Classes, Inheritance and `this` keyword**\n",
    "**Concept**: JavaScript uses classes for object-oriented programming. `this` refers to the current instance of the class. Classes can also inherit from other classes. "
   ]
  },
  {
   "cell_type": "code",
   "execution_count": 10,
   "metadata": {
    "dotnet_interactive": {
     "language": "javascript"
    },
    "polyglot_notebook": {
     "kernelName": "javascript"
    },
    "vscode": {
     "languageId": "polyglot-notebook"
    }
   },
   "outputs": [
    {
     "data": {
      "text/plain": [
       "Dog makes a noise."
      ]
     },
     "metadata": {},
     "output_type": "display_data"
    },
    {
     "data": {
      "text/plain": [
       "Rex barks."
      ]
     },
     "metadata": {},
     "output_type": "display_data"
    }
   ],
   "source": [
    "class Animal {\n",
    "    constructor(name) {\n",
    "        this.name = name;\n",
    "    }\n",
    "    speak() {\n",
    "        console.log(`${this.name} makes a noise.`); // 'this' refers to the intance\n",
    "    }\n",
    "}\n",
    "\n",
    "class Dog extends Animal{\n",
    "    speak() {\n",
    "        console.log(`${this.name} barks.`) // inherited/overridden method.\n",
    "    }\n",
    "}\n",
    "\n",
    "const genericAnimal = new Animal('Dog');\n",
    "genericAnimal.speak();\n",
    "const dog = new Dog('Rex');\n",
    "dog.speak();"
   ]
  },
  {
   "cell_type": "markdown",
   "metadata": {
    "vscode": {
     "languageId": "polyglot-notebook"
    }
   },
   "source": [
    "# 4. Functional Programming Concepts   "
   ]
  },
  {
   "cell_type": "markdown",
   "metadata": {},
   "source": [
    "#### - **Higher-order Functions and Immutaiblity**\n",
    "**Concept**: *Higher-order functions* like `map` take other functions as arguments.  \n",
    "*Immutability* refers to not modifying the original data but returing a new one instead. "
   ]
  },
  {
   "cell_type": "code",
   "execution_count": 14,
   "metadata": {
    "dotnet_interactive": {
     "language": "javascript"
    },
    "polyglot_notebook": {
     "kernelName": "javascript"
    },
    "vscode": {
     "languageId": "polyglot-notebook"
    }
   },
   "outputs": [
    {
     "data": {
      "application/json": [
       2,
       4,
       6
      ]
     },
     "metadata": {},
     "output_type": "display_data"
    },
    {
     "data": {
      "application/json": [
       1,
       2,
       3,
       4
      ]
     },
     "metadata": {},
     "output_type": "display_data"
    }
   ],
   "source": [
    "const numbers = [1, 2, 3];\n",
    "const doubled = numbers.map(n => n * 2); // Higher-order function (map)\n",
    "console.log(doubled);\n",
    "const newNumbers = [...numbers, 4]; // Immutability using spread operator\n",
    "console.log(newNumbers)"
   ]
  },
  {
   "cell_type": "markdown",
   "metadata": {},
   "source": [
    "# 5. Event Handling"
   ]
  },
  {
   "cell_type": "markdown",
   "metadata": {},
   "source": [
    "#### - **Dom Event Handling**\n",
    "**Concept**: In the browser, event listeners handle user actions like clicks. While React Native doesn't use the DOM, this concept translates to its own event system. "
   ]
  },
  {
   "cell_type": "code",
   "execution_count": 18,
   "metadata": {
    "dotnet_interactive": {
     "language": "html"
    },
    "polyglot_notebook": {
     "kernelName": "html"
    },
    "vscode": {
     "languageId": "polyglot-notebook"
    }
   },
   "outputs": [
    {
     "data": {
      "text/html": [
       "<button id=\"myButton\">Click me</button>\r\n",
       "<script>\r\n",
       "  document.getElementById('myButton').addEventListener('click', () => {\r\n",
       "    console.log('Button clicked!'); // Event handling\r\n",
       "  });\r\n",
       "</script>"
      ]
     },
     "metadata": {},
     "output_type": "display_data"
    }
   ],
   "source": [
    "<button id=\"myButton\">Click me</button>\n",
    "<script>\n",
    "  document.getElementById('myButton').addEventListener('click', () => {\n",
    "    console.log('Button clicked!'); // Event handling\n",
    "  });\n",
    "</script>"
   ]
  },
  {
   "cell_type": "markdown",
   "metadata": {
    "vscode": {
     "languageId": "polyglot-notebook"
    }
   },
   "source": [
    "# 6. Error Handling"
   ]
  },
  {
   "cell_type": "markdown",
   "metadata": {},
   "source": [
    "#### - **Try/Catch and Custom Errors**\n",
    "**Concept**: `try/catch` handles errors in your code. You can also define custom errors by extending the built-in `Error`class."
   ]
  },
  {
   "cell_type": "code",
   "execution_count": 22,
   "metadata": {
    "dotnet_interactive": {
     "language": "javascript"
    },
    "polyglot_notebook": {
     "kernelName": "javascript"
    },
    "vscode": {
     "languageId": "polyglot-notebook"
    }
   },
   "outputs": [
    {
     "data": {
      "text/plain": [
       "CustomError"
      ]
     },
     "metadata": {},
     "output_type": "display_data"
    },
    {
     "data": {
      "text/plain": [
       "Something went wrong"
      ]
     },
     "metadata": {},
     "output_type": "display_data"
    }
   ],
   "source": [
    "class CustomError extends Error {\n",
    "    constructor(message) {\n",
    "        super(message);\n",
    "        this.name = 'CustomError';\n",
    "    }\n",
    "}\n",
    "\n",
    "try {\n",
    "    throw new CustomError('Something went wrong');\n",
    "} catch (error) {\n",
    "    console.log(error.name, error.message);\n",
    "}"
   ]
  },
  {
   "cell_type": "markdown",
   "metadata": {},
   "source": [
    "# 7. Modern JavaScript Practices"
   ]
  },
  {
   "cell_type": "markdown",
   "metadata": {},
   "source": [
    "#### - **Closures and Currying**\n",
    "**Concept**: A closure is a function that retains access to its lexical environment. Currying transform a multi-argument function into a sequence of single-argument functinos. "
   ]
  },
  {
   "cell_type": "code",
   "execution_count": 26,
   "metadata": {
    "dotnet_interactive": {
     "language": "javascript"
    },
    "polyglot_notebook": {
     "kernelName": "javascript"
    },
    "vscode": {
     "languageId": "polyglot-notebook"
    }
   },
   "outputs": [
    {
     "data": {
      "text/plain": [
       "10"
      ]
     },
     "metadata": {},
     "output_type": "display_data"
    }
   ],
   "source": [
    "const outer = (a) => (b) => a * b; // Curried function\n",
    "const multiplyByTwo = outer(2); // Closure that remembers 'a = 2'\n",
    "console.log(multiplyByTwo(5)); "
   ]
  },
  {
   "cell_type": "markdown",
   "metadata": {},
   "source": [
    "#### Closures"
   ]
  },
  {
   "cell_type": "markdown",
   "metadata": {},
   "source": [
    "A **closure** is a function that \"remember\" tha variables from its outer scope even after that scope has finished executing. This allows the inner function to access and manioulate the variables of the outer function even after the outer function has returned. "
   ]
  },
  {
   "cell_type": "code",
   "execution_count": 32,
   "metadata": {
    "dotnet_interactive": {
     "language": "javascript"
    },
    "polyglot_notebook": {
     "kernelName": "javascript"
    },
    "vscode": {
     "languageId": "polyglot-notebook"
    }
   },
   "outputs": [
    {
     "data": {
      "text/plain": [
       "Counter: 1"
      ]
     },
     "metadata": {},
     "output_type": "display_data"
    },
    {
     "data": {
      "text/plain": [
       "Counter: 2"
      ]
     },
     "metadata": {},
     "output_type": "display_data"
    },
    {
     "data": {
      "text/plain": [
       "Counter: 3"
      ]
     },
     "metadata": {},
     "output_type": "display_data"
    }
   ],
   "source": [
    "function outerFuction() {\n",
    "    let counter = 0; // Variable in outer function scope. \n",
    "\n",
    "    return function innerFunction() {\n",
    "        counter++; // Accessing outer function variable\n",
    "        console.log(`Counter: ${counter}`)\n",
    "    };\n",
    "}\n",
    "\n",
    "const increment = outerFuction(); // outerFunction returns innerFunction\n",
    "increment();\n",
    "increment();\n",
    "increment();"
   ]
  },
  {
   "cell_type": "markdown",
   "metadata": {},
   "source": [
    "- `innerFunction` forms a closure over `outerFunction` because it retains access to the `counter` variable even after `outerFunction` has completed.\n",
    "- Each time `increment()` is called, it increases the value of `counter` and prints it."
   ]
  },
  {
   "cell_type": "code",
   "execution_count": 33,
   "metadata": {
    "dotnet_interactive": {
     "language": "javascript"
    },
    "polyglot_notebook": {
     "kernelName": "javascript"
    },
    "vscode": {
     "languageId": "polyglot-notebook"
    }
   },
   "outputs": [
    {
     "data": {
      "text/plain": [
       "Hello, Alice!"
      ]
     },
     "metadata": {},
     "output_type": "display_data"
    },
    {
     "data": {
      "text/plain": [
       "Hi, Bob!"
      ]
     },
     "metadata": {},
     "output_type": "display_data"
    }
   ],
   "source": [
    "function greetUser(greeting) {\n",
    "    return function (name) {\n",
    "        console.log(`${greeting}, ${name}!`)\n",
    "    };\n",
    "}\n",
    "\n",
    "const greetHello = greetUser(\"Hello\");\n",
    "const greetHi = greetUser(\"Hi\");\n",
    "\n",
    "greetHello(\"Alice\");\n",
    "greetHi(\"Bob\");"
   ]
  },
  {
   "cell_type": "markdown",
   "metadata": {},
   "source": [
    "#### Currying"
   ]
  },
  {
   "cell_type": "markdown",
   "metadata": {},
   "source": [
    "**Currying** is a technique of transforming a function that takes multiple arguments into a series of functions that take one argument at a time. It helps break down a function so that it can be partially applied."
   ]
  },
  {
   "cell_type": "code",
   "execution_count": 35,
   "metadata": {
    "dotnet_interactive": {
     "language": "javascript"
    },
    "polyglot_notebook": {
     "kernelName": "javascript"
    },
    "vscode": {
     "languageId": "polyglot-notebook"
    }
   },
   "outputs": [
    {
     "data": {
      "text/plain": [
       "24"
      ]
     },
     "metadata": {},
     "output_type": "display_data"
    }
   ],
   "source": [
    "function multiply(a) {\n",
    "    return function (b) {\n",
    "        return function (c) {\n",
    "            return a * b *c;\n",
    "        };\n",
    "    };\n",
    "}\n",
    "\n",
    "const result = multiply(2)(3)(4); // Returns 24\n",
    "console.log(result);"
   ]
  },
  {
   "cell_type": "markdown",
   "metadata": {},
   "source": [
    "Currying allows you to reuse part of a function by \"presetting\" some arguments. "
   ]
  },
  {
   "cell_type": "code",
   "execution_count": 36,
   "metadata": {
    "dotnet_interactive": {
     "language": "javascript"
    },
    "polyglot_notebook": {
     "kernelName": "javascript"
    },
    "vscode": {
     "languageId": "polyglot-notebook"
    }
   },
   "outputs": [
    {
     "data": {
      "text/plain": [
       "15"
      ]
     },
     "metadata": {},
     "output_type": "display_data"
    },
    {
     "data": {
      "text/plain": [
       "8"
      ]
     },
     "metadata": {},
     "output_type": "display_data"
    }
   ],
   "source": [
    "function add(a) {\n",
    "    return function (b) {\n",
    "        return a + b;\n",
    "    };\n",
    "}\n",
    "\n",
    "const addFive = add(5); // pre-set 'a' to 5\n",
    "console.log(addFive(10));\n",
    "console.log(addFive(3));"
   ]
  },
  {
   "cell_type": "markdown",
   "metadata": {},
   "source": [
    "Differences Between Closures and Currying:\n",
    "- **Closures**: Allow a function to \"remember\" the variables from its outer scope, even after the outer function has returned.\n",
    "- **Currying**: Breaks down a function with multiple arguments into smaller functions that take one argument at a time, making it easier to partially apply and reuse functions."
   ]
  },
  {
   "cell_type": "markdown",
   "metadata": {},
   "source": [
    "# 8. JavaScript in the Browser"
   ]
  },
  {
   "cell_type": "markdown",
   "metadata": {},
   "source": [
    "#### - **DOM Manipulation and Event Loop**\n",
    "**Concept**: JavaScript interacts with HTML elements (DOM). The event loop explains how JavaScript handles asynchronous tasks, like `setTimeout`."
   ]
  },
  {
   "cell_type": "code",
   "execution_count": 37,
   "metadata": {
    "dotnet_interactive": {
     "language": "html"
    },
    "polyglot_notebook": {
     "kernelName": "html"
    },
    "vscode": {
     "languageId": "polyglot-notebook"
    }
   },
   "outputs": [
    {
     "data": {
      "text/html": [
       "<div id=\"app\"></div>\r\n",
       "<script>\r\n",
       "document.getElementById('app').textContent = 'Hello, DOM!'; // DOM manipulation\r\n",
       "\r\n",
       "console.log('Start');\r\n",
       "setTimeout(() => console.log('Timeout'), 0); // Event loop (asynchronous)\r\n",
       "console.log('End');\r\n",
       "// Output: Start, End, Timeout\r\n",
       "</script>"
      ]
     },
     "metadata": {},
     "output_type": "display_data"
    }
   ],
   "source": [
    "<div id=\"app\"></div>\n",
    "<script>\n",
    "document.getElementById('app').textContent = 'Hello, DOM!'; // DOM manipulation\n",
    "\n",
    "console.log('Start');\n",
    "setTimeout(() => console.log('Timeout'), 0); // Event loop (asynchronous)\n",
    "console.log('End');\n",
    "// Output: Start, End, Timeout\n",
    "</script>"
   ]
  }
 ],
 "metadata": {
  "kernelspec": {
   "display_name": ".NET (C#)",
   "language": "C#",
   "name": ".net-csharp"
  },
  "language_info": {
   "name": "python"
  },
  "polyglot_notebook": {
   "kernelInfo": {
    "defaultKernelName": "javascript",
    "items": [
     {
      "aliases": [],
      "name": "csharp"
     }
    ]
   }
  }
 },
 "nbformat": 4,
 "nbformat_minor": 2
}
