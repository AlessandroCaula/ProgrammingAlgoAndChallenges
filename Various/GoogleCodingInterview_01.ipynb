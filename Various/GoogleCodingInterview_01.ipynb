{
 "cells": [
  {
   "cell_type": "markdown",
   "metadata": {},
   "source": [
    "## Google Coding Interviwe\n",
    "\n",
    "#### Mock Google Coding Interview with a Meta Intern - https://www.youtube.com/watch?v=46dZH7LDbf8"
   ]
  },
  {
   "cell_type": "markdown",
   "metadata": {},
   "source": [
    "Design a Class which support these operations:\n",
    "\n",
    "1. Inserting a value (no duplicates are allowed) (you can give a duplicate, but you don't want to store it).\n",
    "2. Removing a value. \n",
    "3. GetRandom a value that is already inserted (with equal probability).  "
   ]
  },
  {
   "cell_type": "code",
   "execution_count": 19,
   "metadata": {},
   "outputs": [
    {
     "name": "stdout",
     "output_type": "stream",
     "text": [
      "Values inserted.\n",
      "Values inserted.\n",
      "Value already present in the collection.\n",
      "Values inserted.\n",
      "Values inserted.\n",
      "[1, 2, 3, 6]\n",
      "Value removed.\n",
      "[1, 2, 3]\n",
      "Random Value 2\n"
     ]
    }
   ],
   "source": [
    "import random as rd\n",
    "\n",
    "class InterviewClassList:\n",
    "    \n",
    "    values_collection = []\n",
    "\n",
    "    def __init__(self):\n",
    "        self.values_collection = [] # I could have used a set() ===> Teg add and remove action would take O(1) !!!!!!!!!!! \n",
    "\n",
    "    #Insert value in the colleciton only if the values is not present. O(n)\n",
    "    def insert_value(self, value):\n",
    "        if value not in self.values_collection:\n",
    "            self.values_collection.append(value)\n",
    "            print(\"Values inserted.\")\n",
    "        else:\n",
    "            print(\"Value already present in the collection.\")\n",
    "    \n",
    "    #Remove value. O(n)\n",
    "    def remove_value(self, value):\n",
    "        if len(self.values_collection) == 0:\n",
    "            print(\"Empty collection\")\n",
    "            return\n",
    "        if value in self.values_collection:\n",
    "            self.values_collection.remove(value)\n",
    "            print(\"Value removed.\")\n",
    "        else:\n",
    "            print(\"No value removed, not in the collection.\")\n",
    "\n",
    "    #Get random value. All the values needs to have the same probability to be returned. O(1)\n",
    "    def get_random_value(self):\n",
    "        random_idx = rd.randint(0, len(self.values_collection) - 1)\n",
    "        return self.values_collection[random_idx]\n",
    "\n",
    "class_test = InterviewClassList()\n",
    "class_test.insert_value(1)\n",
    "class_test.insert_value(2)\n",
    "class_test.insert_value(1)\n",
    "class_test.insert_value(3)\n",
    "class_test.insert_value(6)\n",
    "print(class_test.values_collection)\n",
    "class_test.remove_value(6)\n",
    "print(class_test.values_collection)\n",
    "print(\"Random Value\", class_test.get_random_value())\n"
   ]
  }
 ],
 "metadata": {
  "kernelspec": {
   "display_name": "Python 3",
   "language": "python",
   "name": "python3"
  },
  "language_info": {
   "codemirror_mode": {
    "name": "ipython",
    "version": 3
   },
   "file_extension": ".py",
   "mimetype": "text/x-python",
   "name": "python",
   "nbconvert_exporter": "python",
   "pygments_lexer": "ipython3",
   "version": "3.9.13"
  }
 },
 "nbformat": 4,
 "nbformat_minor": 2
}
