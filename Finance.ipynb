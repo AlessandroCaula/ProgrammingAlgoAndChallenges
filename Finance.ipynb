{
 "cells": [
  {
   "cell_type": "markdown",
   "metadata": {},
   "source": [
    "# Finance"
   ]
  },
  {
   "cell_type": "markdown",
   "metadata": {},
   "source": [
    "### Costi Polizza Assicurativa"
   ]
  },
  {
   "cell_type": "code",
   "execution_count": 4,
   "metadata": {},
   "outputs": [
    {
     "name": "stdout",
     "output_type": "stream",
     "text": [
      "\n",
      "Versamento annuo:  7200\n",
      "\n",
      "Costo annuo:  7200 * 0.015  ==>  108.0\n",
      "Costo al mese:  9.0  ==> Costo annuo: 108.0\n",
      "\n"
     ]
    }
   ],
   "source": [
    "monthly_payment = 600\n",
    "costs = 0.015\n",
    "year_payment = 600 * 12\n",
    "print()\n",
    "print(\"Versamento annuo: \", year_payment)\n",
    "print()\n",
    "costs_per_year = year_payment * costs\n",
    "print(\"Costo annuo: \", year_payment, \"*\", costs, \" ==> \", costs_per_year)\n",
    "monthly_costs = monthly_payment * costs\n",
    "print(\"Costo al mese: \", monthly_costs, \" ==> Costo annuo:\", 12 * monthly_costs)\n",
    "print()"
   ]
  },
  {
   "cell_type": "markdown",
   "metadata": {},
   "source": []
  }
 ],
 "metadata": {
  "kernelspec": {
   "display_name": "Python 3",
   "language": "python",
   "name": "python3"
  },
  "language_info": {
   "codemirror_mode": {
    "name": "ipython",
    "version": 3
   },
   "file_extension": ".py",
   "mimetype": "text/x-python",
   "name": "python",
   "nbconvert_exporter": "python",
   "pygments_lexer": "ipython3",
   "version": "3.9.13"
  }
 },
 "nbformat": 4,
 "nbformat_minor": 2
}
