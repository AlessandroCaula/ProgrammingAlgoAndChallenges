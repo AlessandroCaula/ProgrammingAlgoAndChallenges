{
 "cells": [
  {
   "cell_type": "markdown",
   "metadata": {},
   "source": [
    "## Google Coding Interviwe\n",
    "\n",
    "#### Google Coding Interview With A Normal Software Engineer - https://www.youtube.com/watch?v=rw4s4M3hFfs\n"
   ]
  },
  {
   "cell_type": "markdown",
   "metadata": {},
   "source": [
    "## Question 1\n",
    "\n",
    "You have a list of Block. For each block there is a house and a list of facilities belonging to the blocks. You want to buy the house which is the closest to all the facilities that you are interested in. \n",
    "\n",
    "Example\n",
    "\n",
    "Blocks = [   \n",
    "    {\n",
    "        \"gym\": false,\n",
    "        \"school\": true,\n",
    "        \"store\": false\n",
    "    },   \n",
    "    {\n",
    "        \"gym\": true,\n",
    "        \"school\": false,\n",
    "        \"store\": false\n",
    "    },    \n",
    "    {\n",
    "        \"gym\": true,\n",
    "        \"school\": true,\n",
    "        \"store\": false\n",
    "    },    \n",
    "    {\n",
    "        \"gym\": false,\n",
    "        \"school\": true,\n",
    "        \"store\": false\n",
    "    },     \n",
    "    {\n",
    "        \"gym\": false,\n",
    "        \"school\": true,\n",
    "        \"store\": true\n",
    "    }   \n",
    "]\n",
    "\n",
    "The facilities that needs to be the closest to you are: [ \"gym\", \"school\", \"store\" ]  (They can vary i.e. only [ \"gym\", \"school\" ] or [ \"school\" ]). \n",
    "\n",
    "In this case you would choose to live in the block at index 3. { \"gym\": false, \"school\": true, \"store\": false }, cause for this block the farthest that you should walk to reach the blocks in which there are all your required buildings the \"gym\", the \"school\" and the \"store\" is a distance of 1.  \n",
    "The \"school\" is already in the block.   \n",
    "The \"gym\" is in the block at index 2 (one block above).   \n",
    "The \"store\" is in the block at index 4 (one block below)."
   ]
  },
  {
   "cell_type": "code",
   "execution_count": null,
   "metadata": {},
   "outputs": [],
   "source": [
    "blocks = [   \n",
    "    {\n",
    "        \"gym\": False,\n",
    "        \"school\": True,\n",
    "        \"store\": False\n",
    "    },   \n",
    "    {\n",
    "        \"gym\": True,\n",
    "        \"school\": False,\n",
    "        \"store\": False\n",
    "    },    \n",
    "    {\n",
    "        \"gym\": True,\n",
    "        \"school\": True,\n",
    "        \"store\": False\n",
    "    },    \n",
    "    {\n",
    "        \"gym\": False,\n",
    "        \"school\": True,\n",
    "        \"store\": False\n",
    "    },     \n",
    "    {\n",
    "        \"gym\": False,\n",
    "        \"school\": True,\n",
    "        \"store\": True\n",
    "    }   \n",
    "]\n",
    "\n",
    "building_of_interest = {\"store\"} #{ \"gym\", \"school\", \"store\" }"
   ]
  },
  {
   "cell_type": "code",
   "execution_count": 18,
   "metadata": {},
   "outputs": [
    {
     "name": "stdout",
     "output_type": "stream",
     "text": [
      "Distances of current blocks from each builing in near blocks \n",
      " [{'gym': 1, 'school': 0, 'store': 4}, {'gym': 0, 'school': 1, 'store': 3}, {'gym': 0, 'school': 0, 'store': 2}, {'gym': 1, 'school': 0, 'store': 1}, {'gym': 2, 'school': 0, 'store': 0}]\n",
      "\n",
      "\n",
      "The best block in which buy the house is the one in the position 4: \n",
      " {'gym': False, 'school': True, 'store': True}\n"
     ]
    }
   ],
   "source": [
    "def Solution_Question_1(blocks, building_of_interest):\n",
    "    # loop through all the blocks and for each of the building of interest count and store the number of block you have to walk until reaching a block that has that block.\n",
    "    distances_blocks = []\n",
    "    for i, block in enumerate(blocks):\n",
    "        dist_block = {}\n",
    "        for building in block:\n",
    "            # if the building is in the current block, add 0 as a distance.\n",
    "            if blocks[i][building] == True:\n",
    "                dist_block[building] = 0\n",
    "            # if the builing is not present in the block, look to the blocks around it and find the closest block which as that building.\n",
    "            else:\n",
    "                j = 1\n",
    "                while i - j >= 0 or i + j < len(blocks):\n",
    "                    # check whether a building with distance z is present in the list of blocks.\n",
    "                    if (i + j < len(blocks) and blocks[i + j][building] == True) or (i - j >= 0 and blocks[i - j][building] == True):\n",
    "                        dist_block[building] = j\n",
    "                        break\n",
    "                    j += 1\n",
    "        distances_blocks.append(dist_block)\n",
    "\n",
    "    print(\"Distances of current blocks from each builing in near blocks \\n\", distances_blocks)\n",
    "    print()\n",
    "    print()\n",
    "\n",
    "    # now loop through all the distances computed and return the block which has the global shortest (comparing the local maximum) distance from all the other blocks of the building of interests. \n",
    "    global_max_distances = []\n",
    "    for i, block in enumerate(distances_blocks):\n",
    "        #local maximum distance\n",
    "        local_max_distance = 0\n",
    "        for int_building in building_of_interest:\n",
    "            if block[int_building] >= local_max_distance:\n",
    "                local_max_distance = block[int_building]\n",
    "        global_max_distances.append(local_max_distance)\n",
    "    \n",
    "    index_best_block = global_max_distances.index(min(global_max_distances))\n",
    "\n",
    "    print(f\"The best block in which buy the house is the one in the position {index_best_block}: \\n\", blocks[index_best_block])\n",
    "\n",
    "Solution_Question_1(blocks, building_of_interest)"
   ]
  },
  {
   "cell_type": "markdown",
   "metadata": {},
   "source": [
    "## Question 2\n",
    "\n",
    "Given a list of lists (runs) with True and False, find the greatest number of consecutive lists (runs) that have strictly decreasing True values (sub-set of lists (runs) in which the the percentage of True values strictly decrease)."
   ]
  },
  {
   "cell_type": "code",
   "execution_count": 19,
   "metadata": {},
   "outputs": [],
   "source": [
    "list_of_runs = [\n",
    "    [True, True, True, False, False],\n",
    "    [True, True, True, True, False], \n",
    "    [True, True, True, True, True, True, False, False, False],\n",
    "    [True, False, False, False, False, False],\n",
    "    [True, True, True, True, True, True, True, True, True, True, True, True, False],\n",
    "    [True, False],\n",
    "    [True, True, True, True, False, False]\n",
    "]"
   ]
  },
  {
   "cell_type": "code",
   "execution_count": 21,
   "metadata": {},
   "outputs": [],
   "source": [
    "def Solution_Question_2(list_of_runs):\n",
    "    # for each run compute the percentage of True values\n",
    "    percentage_of_true_runs = []\n",
    "    for run in list_of_runs:\n",
    "        true_percentage = run.count(True) / len(run)\n",
    "        percentage_of_true_runs.append(true_percentage)\n",
    "    \n",
    "    # loop through the percentage_of_true_runs and look for the longest subarray in which there are consecutive runs with strictly decrease of percentage of True values.\n",
    "    global_longest_subarray = 1\n",
    "    current_longest_subarray = 1\n",
    "    for i in range(len(percentage_of_true_runs)):\n",
    "        if i == 0:\n",
    "            continue\n",
    "        \n",
    "        # compare the current percentage with the previous one, if it is smaller, increase the length of the subarray. \n",
    "        if percentage_of_true_runs[i] > percentage_of_true_runs[i - 1]:\n",
    "            \n",
    "\n",
    "\n",
    "    return\n",
    "\n",
    "Solution_Question_2(list_of_runs)"
   ]
  }
 ],
 "metadata": {
  "kernelspec": {
   "display_name": "Python 3",
   "language": "python",
   "name": "python3"
  },
  "language_info": {
   "codemirror_mode": {
    "name": "ipython",
    "version": 3
   },
   "file_extension": ".py",
   "mimetype": "text/x-python",
   "name": "python",
   "nbconvert_exporter": "python",
   "pygments_lexer": "ipython3",
   "version": "3.9.13"
  }
 },
 "nbformat": 4,
 "nbformat_minor": 2
}
